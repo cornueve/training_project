{
 "cells": [
  {
   "cell_type": "markdown",
   "metadata": {},
   "source": [
    "# Мобильные приложения — Выделение групп пользователей на основе поведения\n"
   ]
  },
  {
   "cell_type": "markdown",
   "metadata": {},
   "source": [
    "## Материалы\n",
    " * [Дашборд](https://public.tableau.com/app/profile/anastasia.potekhina/viz/Mobile_apps_01/Dashboard1?publish=yes)\n",
    " * [Презентация](https://drive.google.com/file/d/1EDcMEbr7IXhkQvBag5EVxz2fILVVxhjO/view?usp=sharing)"
   ]
  },
  {
   "cell_type": "markdown",
   "metadata": {},
   "source": [
    "# Оглавление\n",
    "1. [Описание исследования](#title)\n",
    "2. [Предобработка данных](#preprocessing)\n",
    "  * [Подключение библиотек](#import)\n",
    "  * [Загрузка данных и получение общей информации](#info)\n",
    "  * [Проверка корректности наименований колонок и переименование](#column_names)\n",
    "  * [Исследование пропущенных значений и замена](#missed_items)\n",
    "  * [Исследование соответствия типов и преведение в соотвествие](#types)\n",
    "  * [Исследование наличия дубликатов и удаление](#duplicates)\n",
    "\n",
    " \n",
    "3. [Исследовательский анализ данных](#eda)\n",
    " * [Изучение общих характеристик](#general)\n",
    " * [Определение длительности сессии](#duration)\n",
    " * [Выделение сессий](#session)\n",
    " * [Расчет DAU (количество уникальных пользователей в день) и WAU (количество уникальных пользователей в неделю)](#dau_mau)\n",
    "\n",
    "4. [Сегментация пользователей на основе действий](#segmentation)\n",
    " * [Формирование исходных данных для кластеризации](#table)\n",
    " * [Cтандартизация данных](#std)\n",
    " * [Матрица состояний и определяем количество кластеров](#dendrogram)\n",
    " * [Обучение модели кластеризации на основании алгоритма K-Means и прогнозирование кластеров клиентов](#KMeans)\n",
    " * [Сравнение мерик (retention rate, время проведенное в приложении, частота действий, конверсия в целевое действие) по каждому из полученных кластеров](#metrics)\n",
    "\n",
    "5. [Проверка гипотез](#hypothesis)\n",
    " * [1. Две группы пользователей (одни - установили приложение по ссылке из yandex ,другие — из google) демонстрируют разную конверсию в просмотры контактов](#1hypothesis)\n",
    " * [1. Две группы пользователей (одни - совершают в приложении ,больше действий(к примеру больше 15 ,другие — меньше) демонстрируют разную конверсию в просмотры контактов](#2hypothesis)\n",
    "6. [Общий вывод](#conclusion)"
   ]
  },
  {
   "cell_type": "markdown",
   "metadata": {},
   "source": [
    "<a id=\"title\"></a> \n",
    "## Описание исследования"
   ]
  },
  {
   "cell_type": "markdown",
   "metadata": {},
   "source": [
    "**Цели исследования:**\n",
    " * Понять пользователей\n",
    " * Оценить ключевые характеристики аудитории\n",
    " * Работать с аудиторией"
   ]
  },
  {
   "cell_type": "markdown",
   "metadata": {},
   "source": [
    "**Задачи исследования:**\n",
    " - какие пользователи какие пользователи склонны часто возвращаться в мобильное приложение?\n",
    " - какие пользователи часто делают целевое событие? \n",
    " - как различается время между распространенными событиями пользователей (например, различаются ли пользователи по группам на основе времени, которое проходит с момента первого использования мобильного приложения и до использования функции поиска)?"
   ]
  },
  {
   "cell_type": "markdown",
   "metadata": {},
   "source": [
    "**Описание данных:**\n",
    "Датасет содержит данные о событиях, совершенных в мобильном приложении\n",
    "\"Ненужные вещи\". В нем пользователи продают свои ненужные вещи, размещая\n",
    "Мобильные приложения — Выделение групп пользователей на основе поведения\n",
    "их на доске объявлений.\n",
    "В датасете содержатся данные пользователей, впервые совершивших действия в\n",
    "приложении после 7 октября 2019 года.\n",
    "\n",
    "Датасет mobile_dataset.csv содержит колонки:\n",
    "- event.time  — время совершения\n",
    "- event.name  — название события\n",
    "- user.id  — идентификатор пользователя\n",
    "\n",
    "Датасет mobile_sources.csv содержит колонки:\n",
    "- userId  — идентификатор пользователя\n",
    "- source  — источник, с которого пользователь установил приложение\n",
    "\n",
    "*Расшифровки событий:*\n",
    "- advert_open  — открытие карточки объявления\n",
    "- photos_show  — просмотр фотографий в объявлении\n",
    "- tips_show  — пользователь увидел рекомендованные объявления\n",
    "- tips_click  — пользователь кликнул по рекомендованному объявлению\n",
    "- contacts_show  и  show_contacts  — пользователь нажал на кнопку \"посмотреть номер телефона\" на карточке объявления\n",
    "- contacts_call  — пользователь позвонил по номеру телефона на карточке объявления\n",
    "- map  — пользователь открыл карту размещенных объявлений\n",
    "- search_1  —  search_7  — разные события, связанные с поиском по сайту\n",
    "- favorites_add  — добавление объявления в избранное"
   ]
  },
  {
   "cell_type": "markdown",
   "metadata": {},
   "source": [
    "<a id=\"load\"></a> \n",
    "## Загрузка данных и подготовка их к анализу"
   ]
  },
  {
   "cell_type": "markdown",
   "metadata": {},
   "source": [
    "<a id=\"import\"></a> \n",
    "### Подключение библиотек"
   ]
  },
  {
   "cell_type": "code",
   "execution_count": 1,
   "metadata": {},
   "outputs": [],
   "source": [
    "import pandas as pd\n",
    "import numpy as np\n",
    "import seaborn as sns\n",
    "import math as mth\n",
    "import matplotlib.pyplot as plt\n",
    "import warnings\n",
    "warnings.filterwarnings('ignore')\n",
    "from datetime import datetime\n",
    "from sklearn.preprocessing import StandardScaler\n",
    "from sklearn.cluster import KMeans\n",
    "from scipy.cluster.hierarchy import dendrogram, linkage \n",
    "from datetime import datetime, timedelta\n",
    "from scipy import stats as st"
   ]
  },
  {
   "cell_type": "markdown",
   "metadata": {},
   "source": [
    "<a id=\"info\"></a> \n",
    "### Загрузка данных и получение общей информации"
   ]
  },
  {
   "cell_type": "code",
   "execution_count": 4,
   "metadata": {},
   "outputs": [],
   "source": [
    "data = pd.read_csv('/datasets/mobile_dataset.csv')\n",
    "sources = pd.read_csv('/datasets/mobile_soures.csv')"
   ]
  },
  {
   "cell_type": "code",
   "execution_count": 5,
   "metadata": {},
   "outputs": [],
   "source": [
    "pd.set_option('display.max_columns', None)\n",
    "pd.options.display.float_format = '{:,.2f}'.format\n",
    "\n",
    "def inspect (df):\n",
    "    display(df.sample(n = 5, random_state = 0)) #посмотрим случайные строки\n",
    "    df.info() \n",
    "    print ('Количество полных дубликатов - ' + str(df.duplicated().sum()))"
   ]
  },
  {
   "cell_type": "code",
   "execution_count": 6,
   "metadata": {},
   "outputs": [
    {
     "data": {
      "text/html": [
       "<div>\n",
       "<style scoped>\n",
       "    .dataframe tbody tr th:only-of-type {\n",
       "        vertical-align: middle;\n",
       "    }\n",
       "\n",
       "    .dataframe tbody tr th {\n",
       "        vertical-align: top;\n",
       "    }\n",
       "\n",
       "    .dataframe thead th {\n",
       "        text-align: right;\n",
       "    }\n",
       "</style>\n",
       "<table border=\"1\" class=\"dataframe\">\n",
       "  <thead>\n",
       "    <tr style=\"text-align: right;\">\n",
       "      <th></th>\n",
       "      <th>event.time</th>\n",
       "      <th>event.name</th>\n",
       "      <th>user.id</th>\n",
       "    </tr>\n",
       "  </thead>\n",
       "  <tbody>\n",
       "    <tr>\n",
       "      <th>23099</th>\n",
       "      <td>2019-10-16 15:57:14.717500</td>\n",
       "      <td>contacts_show</td>\n",
       "      <td>0a59892f-3578-484b-af84-eb3b2298fb8c</td>\n",
       "    </tr>\n",
       "    <tr>\n",
       "      <th>29988</th>\n",
       "      <td>2019-10-19 09:44:20.299958</td>\n",
       "      <td>photos_show</td>\n",
       "      <td>075c46bd-2c02-49a1-bada-a1ae9c47735e</td>\n",
       "    </tr>\n",
       "    <tr>\n",
       "      <th>15638</th>\n",
       "      <td>2019-10-13 22:54:29.234076</td>\n",
       "      <td>tips_show</td>\n",
       "      <td>4f6da7c2-11a2-450b-8a01-d43f675118f4</td>\n",
       "    </tr>\n",
       "    <tr>\n",
       "      <th>55987</th>\n",
       "      <td>2019-10-28 13:54:09.746144</td>\n",
       "      <td>tips_show</td>\n",
       "      <td>8967dc88-67cd-4de4-95b7-c00b0ab904d3</td>\n",
       "    </tr>\n",
       "    <tr>\n",
       "      <th>23240</th>\n",
       "      <td>2019-10-16 16:44:16.640982</td>\n",
       "      <td>tips_show</td>\n",
       "      <td>5a33b4aa-c5b9-4532-8ead-1890198ed219</td>\n",
       "    </tr>\n",
       "  </tbody>\n",
       "</table>\n",
       "</div>"
      ],
      "text/plain": [
       "                       event.time     event.name  \\\n",
       "23099  2019-10-16 15:57:14.717500  contacts_show   \n",
       "29988  2019-10-19 09:44:20.299958    photos_show   \n",
       "15638  2019-10-13 22:54:29.234076      tips_show   \n",
       "55987  2019-10-28 13:54:09.746144      tips_show   \n",
       "23240  2019-10-16 16:44:16.640982      tips_show   \n",
       "\n",
       "                                    user.id  \n",
       "23099  0a59892f-3578-484b-af84-eb3b2298fb8c  \n",
       "29988  075c46bd-2c02-49a1-bada-a1ae9c47735e  \n",
       "15638  4f6da7c2-11a2-450b-8a01-d43f675118f4  \n",
       "55987  8967dc88-67cd-4de4-95b7-c00b0ab904d3  \n",
       "23240  5a33b4aa-c5b9-4532-8ead-1890198ed219  "
      ]
     },
     "metadata": {},
     "output_type": "display_data"
    },
    {
     "name": "stdout",
     "output_type": "stream",
     "text": [
      "<class 'pandas.core.frame.DataFrame'>\n",
      "RangeIndex: 74197 entries, 0 to 74196\n",
      "Data columns (total 3 columns):\n",
      " #   Column      Non-Null Count  Dtype \n",
      "---  ------      --------------  ----- \n",
      " 0   event.time  74197 non-null  object\n",
      " 1   event.name  74197 non-null  object\n",
      " 2   user.id     74197 non-null  object\n",
      "dtypes: object(3)\n",
      "memory usage: 1.7+ MB\n",
      "Количество полных дубликатов - 0\n"
     ]
    }
   ],
   "source": [
    "inspect(data)"
   ]
  },
  {
   "cell_type": "code",
   "execution_count": 7,
   "metadata": {
    "scrolled": false
   },
   "outputs": [
    {
     "data": {
      "text/html": [
       "<div>\n",
       "<style scoped>\n",
       "    .dataframe tbody tr th:only-of-type {\n",
       "        vertical-align: middle;\n",
       "    }\n",
       "\n",
       "    .dataframe tbody tr th {\n",
       "        vertical-align: top;\n",
       "    }\n",
       "\n",
       "    .dataframe thead th {\n",
       "        text-align: right;\n",
       "    }\n",
       "</style>\n",
       "<table border=\"1\" class=\"dataframe\">\n",
       "  <thead>\n",
       "    <tr style=\"text-align: right;\">\n",
       "      <th></th>\n",
       "      <th>userId</th>\n",
       "      <th>source</th>\n",
       "    </tr>\n",
       "  </thead>\n",
       "  <tbody>\n",
       "    <tr>\n",
       "      <th>1764</th>\n",
       "      <td>36d9a517-459d-4ec0-84ad-bbbf38fa123a</td>\n",
       "      <td>google</td>\n",
       "    </tr>\n",
       "    <tr>\n",
       "      <th>2535</th>\n",
       "      <td>66d5f5a3-018f-4c62-a4e0-9e0a5ebc00a3</td>\n",
       "      <td>other</td>\n",
       "    </tr>\n",
       "    <tr>\n",
       "      <th>217</th>\n",
       "      <td>5c746968-9296-4b27-9ffd-ffa11be3adde</td>\n",
       "      <td>yandex</td>\n",
       "    </tr>\n",
       "    <tr>\n",
       "      <th>1965</th>\n",
       "      <td>8020838f-890a-401d-a4a6-fddd8be1e05b</td>\n",
       "      <td>yandex</td>\n",
       "    </tr>\n",
       "    <tr>\n",
       "      <th>302</th>\n",
       "      <td>3e23c9ff-df01-478f-ad0a-d2faf7ba4e51</td>\n",
       "      <td>other</td>\n",
       "    </tr>\n",
       "  </tbody>\n",
       "</table>\n",
       "</div>"
      ],
      "text/plain": [
       "                                    userId  source\n",
       "1764  36d9a517-459d-4ec0-84ad-bbbf38fa123a  google\n",
       "2535  66d5f5a3-018f-4c62-a4e0-9e0a5ebc00a3   other\n",
       "217   5c746968-9296-4b27-9ffd-ffa11be3adde  yandex\n",
       "1965  8020838f-890a-401d-a4a6-fddd8be1e05b  yandex\n",
       "302   3e23c9ff-df01-478f-ad0a-d2faf7ba4e51   other"
      ]
     },
     "metadata": {},
     "output_type": "display_data"
    },
    {
     "name": "stdout",
     "output_type": "stream",
     "text": [
      "<class 'pandas.core.frame.DataFrame'>\n",
      "RangeIndex: 4293 entries, 0 to 4292\n",
      "Data columns (total 2 columns):\n",
      " #   Column  Non-Null Count  Dtype \n",
      "---  ------  --------------  ----- \n",
      " 0   userId  4293 non-null   object\n",
      " 1   source  4293 non-null   object\n",
      "dtypes: object(2)\n",
      "memory usage: 67.2+ KB\n",
      "Количество полных дубликатов - 0\n"
     ]
    }
   ],
   "source": [
    "inspect(sources)"
   ]
  },
  {
   "cell_type": "markdown",
   "metadata": {},
   "source": [
    "Вывод: \n",
    "- пропуски в данных отсутствуют\n",
    "- полные дубликаты отсутствуют\n",
    "- названия колонок необходимо привести в соотвествие со snake case\n",
    "- необходимо изменить формат колонки event.time"
   ]
  },
  {
   "cell_type": "markdown",
   "metadata": {},
   "source": [
    "<a id=\"column_names\"></a> \n",
    "### Проверка корректности наименований колонок и переименование"
   ]
  },
  {
   "cell_type": "code",
   "execution_count": 8,
   "metadata": {},
   "outputs": [],
   "source": [
    "# убираем прописные буквы в названиях, заменяем \".\" на \"_\"\n",
    "data = data.rename(columns=lambda x: x.replace('.', '_'))\n",
    "data.columns = [x.lower() for x in data.columns.values] \n",
    "sources.columns = ['user_id', 'sourse']"
   ]
  },
  {
   "cell_type": "markdown",
   "metadata": {},
   "source": [
    "Вывод: названия колонок приведены в соотвествие со snake case"
   ]
  },
  {
   "cell_type": "markdown",
   "metadata": {},
   "source": [
    "<a id=\"missed_items\"></a> \n",
    "### Исследование пропущенных значений и замена"
   ]
  },
  {
   "cell_type": "markdown",
   "metadata": {},
   "source": [
    "Вывод: после получения общей информации о датасетах известно что пропущенные значения отсутствуют"
   ]
  },
  {
   "cell_type": "markdown",
   "metadata": {},
   "source": [
    "<a id=\"types\"></a> \n",
    "### Исследование соответствия типов и преведение в соотвествие"
   ]
  },
  {
   "cell_type": "code",
   "execution_count": 9,
   "metadata": {},
   "outputs": [],
   "source": [
    "data['event_date'] = pd.to_datetime(data['event_time']).dt.floor(\"S\")"
   ]
  },
  {
   "cell_type": "code",
   "execution_count": 10,
   "metadata": {},
   "outputs": [
    {
     "name": "stdout",
     "output_type": "stream",
     "text": [
      "<class 'pandas.core.frame.DataFrame'>\n",
      "RangeIndex: 74197 entries, 0 to 74196\n",
      "Data columns (total 4 columns):\n",
      " #   Column      Non-Null Count  Dtype         \n",
      "---  ------      --------------  -----         \n",
      " 0   event_time  74197 non-null  object        \n",
      " 1   event_name  74197 non-null  object        \n",
      " 2   user_id     74197 non-null  object        \n",
      " 3   event_date  74197 non-null  datetime64[ns]\n",
      "dtypes: datetime64[ns](1), object(3)\n",
      "memory usage: 2.3+ MB\n"
     ]
    }
   ],
   "source": [
    "data.info()"
   ]
  },
  {
   "cell_type": "markdown",
   "metadata": {},
   "source": [
    "Вывод: формат столбца event_date изменен на datetime, убраны милисекунды"
   ]
  },
  {
   "cell_type": "markdown",
   "metadata": {},
   "source": [
    "<a id=\"duplicates\"></a> \n",
    "### Исследование наличия дубликатов и удаление"
   ]
  },
  {
   "cell_type": "markdown",
   "metadata": {},
   "source": [
    "Из этапа \"Загрузка данных и получение общей информации\" известно что полные дубликаты отсутствуют"
   ]
  },
  {
   "cell_type": "code",
   "execution_count": 11,
   "metadata": {},
   "outputs": [
    {
     "data": {
      "text/plain": [
       "Index(['event_time', 'event_name', 'user_id', 'event_date'], dtype='object')"
      ]
     },
     "execution_count": 11,
     "metadata": {},
     "output_type": "execute_result"
    }
   ],
   "source": [
    "data.columns"
   ]
  },
  {
   "cell_type": "code",
   "execution_count": 12,
   "metadata": {},
   "outputs": [
    {
     "data": {
      "text/plain": [
       "0"
      ]
     },
     "execution_count": 12,
     "metadata": {},
     "output_type": "execute_result"
    }
   ],
   "source": [
    "# проверим на дубликаты без учета колонки id\n",
    "data.duplicated(subset = ['event_time', 'event_name', 'user_id', 'event_date']).sum()"
   ]
  },
  {
   "cell_type": "code",
   "execution_count": 13,
   "metadata": {},
   "outputs": [
    {
     "data": {
      "text/plain": [
       "0"
      ]
     },
     "execution_count": 13,
     "metadata": {},
     "output_type": "execute_result"
    }
   ],
   "source": [
    "sources.duplicated(subset = ['user_id', 'sourse']).sum()"
   ]
  },
  {
   "cell_type": "markdown",
   "metadata": {},
   "source": [
    "Вывод: дубликаты отсутствуют"
   ]
  },
  {
   "cell_type": "markdown",
   "metadata": {},
   "source": [
    "<a id=\"eda\"></a> \n",
    "## Исследовательский анализ данных"
   ]
  },
  {
   "cell_type": "markdown",
   "metadata": {},
   "source": [
    "<a id=\"general\"></a> \n",
    "### Изучение общих характеристик"
   ]
  },
  {
   "cell_type": "markdown",
   "metadata": {},
   "source": [
    "Поскольку события contacts_show и show_contacts идентичны, проведем замену"
   ]
  },
  {
   "cell_type": "code",
   "execution_count": 14,
   "metadata": {
    "scrolled": true
   },
   "outputs": [],
   "source": [
    "data['event_name'] = data['event_name'].replace('contacts_show', 'show_contacts')"
   ]
  },
  {
   "cell_type": "code",
   "execution_count": 15,
   "metadata": {
    "scrolled": true
   },
   "outputs": [
    {
     "data": {
      "text/plain": [
       "min   2019-10-07 00:00:00\n",
       "max   2019-11-03 23:58:12\n",
       "Name: event_date, dtype: datetime64[ns]"
      ]
     },
     "execution_count": 15,
     "metadata": {},
     "output_type": "execute_result"
    }
   ],
   "source": [
    "# за какой период у нас имеются данные\n",
    "data['event_date'].agg(['min','max'])"
   ]
  },
  {
   "cell_type": "code",
   "execution_count": 16,
   "metadata": {
    "scrolled": true
   },
   "outputs": [
    {
     "data": {
      "text/html": [
       "<div>\n",
       "<style scoped>\n",
       "    .dataframe tbody tr th:only-of-type {\n",
       "        vertical-align: middle;\n",
       "    }\n",
       "\n",
       "    .dataframe tbody tr th {\n",
       "        vertical-align: top;\n",
       "    }\n",
       "\n",
       "    .dataframe thead th {\n",
       "        text-align: right;\n",
       "    }\n",
       "</style>\n",
       "<table border=\"1\" class=\"dataframe\">\n",
       "  <thead>\n",
       "    <tr style=\"text-align: right;\">\n",
       "      <th></th>\n",
       "      <th>event_name</th>\n",
       "    </tr>\n",
       "  </thead>\n",
       "  <tbody>\n",
       "    <tr>\n",
       "      <th>tips_show</th>\n",
       "      <td>40055</td>\n",
       "    </tr>\n",
       "    <tr>\n",
       "      <th>photos_show</th>\n",
       "      <td>10012</td>\n",
       "    </tr>\n",
       "    <tr>\n",
       "      <th>advert_open</th>\n",
       "      <td>6164</td>\n",
       "    </tr>\n",
       "    <tr>\n",
       "      <th>show_contacts</th>\n",
       "      <td>4529</td>\n",
       "    </tr>\n",
       "    <tr>\n",
       "      <th>map</th>\n",
       "      <td>3881</td>\n",
       "    </tr>\n",
       "    <tr>\n",
       "      <th>search_1</th>\n",
       "      <td>3506</td>\n",
       "    </tr>\n",
       "    <tr>\n",
       "      <th>favorites_add</th>\n",
       "      <td>1417</td>\n",
       "    </tr>\n",
       "    <tr>\n",
       "      <th>search_5</th>\n",
       "      <td>1049</td>\n",
       "    </tr>\n",
       "    <tr>\n",
       "      <th>tips_click</th>\n",
       "      <td>814</td>\n",
       "    </tr>\n",
       "    <tr>\n",
       "      <th>search_4</th>\n",
       "      <td>701</td>\n",
       "    </tr>\n",
       "    <tr>\n",
       "      <th>contacts_call</th>\n",
       "      <td>541</td>\n",
       "    </tr>\n",
       "    <tr>\n",
       "      <th>search_3</th>\n",
       "      <td>522</td>\n",
       "    </tr>\n",
       "    <tr>\n",
       "      <th>search_6</th>\n",
       "      <td>460</td>\n",
       "    </tr>\n",
       "    <tr>\n",
       "      <th>search_2</th>\n",
       "      <td>324</td>\n",
       "    </tr>\n",
       "    <tr>\n",
       "      <th>search_7</th>\n",
       "      <td>222</td>\n",
       "    </tr>\n",
       "  </tbody>\n",
       "</table>\n",
       "</div>"
      ],
      "text/plain": [
       "               event_name\n",
       "tips_show           40055\n",
       "photos_show         10012\n",
       "advert_open          6164\n",
       "show_contacts        4529\n",
       "map                  3881\n",
       "search_1             3506\n",
       "favorites_add        1417\n",
       "search_5             1049\n",
       "tips_click            814\n",
       "search_4              701\n",
       "contacts_call         541\n",
       "search_3              522\n",
       "search_6              460\n",
       "search_2              324\n",
       "search_7              222"
      ]
     },
     "execution_count": 16,
     "metadata": {},
     "output_type": "execute_result"
    }
   ],
   "source": [
    "#Посмотрим на количество событий за период\n",
    "data['event_name'].value_counts().to_frame()"
   ]
  },
  {
   "cell_type": "markdown",
   "metadata": {},
   "source": [
    "Самое частое событие \"пользователь увидел рекомендованные объявления\", однако событие которое логично за ним бы следовало \"пользователь кликнул по рекомендованному объявлению\" только на 5 месте, возможно систему рекомендаций можно настроить лучше"
   ]
  },
  {
   "cell_type": "code",
   "execution_count": 17,
   "metadata": {},
   "outputs": [
    {
     "data": {
      "text/plain": [
       "4293"
      ]
     },
     "execution_count": 17,
     "metadata": {},
     "output_type": "execute_result"
    }
   ],
   "source": [
    "#количество уникальных пользователей\n",
    "data['user_id'].nunique()"
   ]
  },
  {
   "cell_type": "code",
   "execution_count": 18,
   "metadata": {},
   "outputs": [
    {
     "data": {
      "text/plain": [
       "981"
      ]
     },
     "execution_count": 18,
     "metadata": {},
     "output_type": "execute_result"
    }
   ],
   "source": [
    "#создадимм список пользователей совершивших целевое действие\n",
    "filtered_users = data.query('event_name ==\"show_contacts\"')['user_id'].unique()\n",
    "filtered_users_list = list(filtered_users)\n",
    "len(filtered_users_list)\n"
   ]
  },
  {
   "cell_type": "markdown",
   "metadata": {},
   "source": [
    "Таковых 981 из 4293, это 22,8%"
   ]
  },
  {
   "cell_type": "markdown",
   "metadata": {},
   "source": [
    "Посмотрим предварительно стоит ли проверки гипотеза о взаимосвязи активности пользователей и целевого действия"
   ]
  },
  {
   "cell_type": "code",
   "execution_count": 19,
   "metadata": {},
   "outputs": [
    {
     "data": {
      "text/plain": [
       "count   981.00\n",
       "mean     27.72\n",
       "std      47.55\n",
       "min       1.00\n",
       "25%       7.00\n",
       "50%      13.00\n",
       "75%      27.00\n",
       "max     478.00\n",
       "Name: event_name, dtype: float64"
      ]
     },
     "execution_count": 19,
     "metadata": {},
     "output_type": "execute_result"
    }
   ],
   "source": [
    "data.query('user_id == @filtered_users_list').groupby('user_id')['event_name'].count().describe()"
   ]
  },
  {
   "cell_type": "code",
   "execution_count": 20,
   "metadata": {},
   "outputs": [
    {
     "data": {
      "text/plain": [
       "count   3,312.00\n",
       "mean       14.19\n",
       "std        19.72\n",
       "min         1.00\n",
       "25%         5.00\n",
       "50%         8.00\n",
       "75%        15.00\n",
       "max       407.00\n",
       "Name: event_name, dtype: float64"
      ]
     },
     "execution_count": 20,
     "metadata": {},
     "output_type": "execute_result"
    }
   ],
   "source": [
    "data.query('user_id != @filtered_users_list').groupby('user_id')['event_name'].count().describe()"
   ]
  },
  {
   "cell_type": "markdown",
   "metadata": {},
   "source": [
    "Предварительно видим что показатели количества действий на сайте у пользоватлей совершивших целевое действие выше, далее будем проверять данную гипотезу"
   ]
  },
  {
   "cell_type": "markdown",
   "metadata": {},
   "source": [
    "\n",
    "Посмотрим на распределение количества событий и пользователей по времени"
   ]
  },
  {
   "cell_type": "code",
   "execution_count": 21,
   "metadata": {},
   "outputs": [],
   "source": [
    "data['event_dt'] = data['event_date'].dt.date\n",
    "data_grouped = data.pivot_table(index =['event_dt'],values = ['user_id', 'event_name'], \n",
    "               aggfunc = {'user_id':'nunique', 'event_name': 'count'}).reset_index()\n",
    "data_grouped['event_per_user']=data_grouped['event_name']/data_grouped['user_id']\n"
   ]
  },
  {
   "cell_type": "code",
   "execution_count": 22,
   "metadata": {
    "scrolled": true
   },
   "outputs": [
    {
     "data": {
      "image/png": "[encoded data removed]",
      "text/plain": [
       "<Figure size 1152x720 with 3 Axes>"
      ]
     },
     "metadata": {
      "needs_background": "light"
     },
     "output_type": "display_data"
    }
   ],
   "source": [
    "plt.figure(figsize=(16,10))\n",
    "plt.subplot(3, 1, 1)\n",
    "\n",
    "sns.barplot(x='event_dt', y='event_name', data=data_grouped) \n",
    "plt.title('Распределение количества событий по дням', loc = 'left') \n",
    "plt.xlabel('Дата')\n",
    "plt.xticks(rotation= 65)\n",
    "\n",
    "plt.subplot(3, 1, 2)\n",
    "sns.barplot(x='event_dt', y='event_per_user', data=data_grouped) \n",
    "plt.title('Распределение количества событий на пользователя по дням', loc = 'left') \n",
    "plt.xlabel('Дата')\n",
    "plt.xticks(rotation= 65)\n",
    "\n",
    "plt.subplot(3, 1,3)\n",
    "sns.barplot(x='event_dt', y='user_id', data=data_grouped) \n",
    "plt.title('Распределение количества пользователей по дням', loc = 'left') \n",
    "plt.xlabel('Дата')\n",
    "plt.xticks(rotation= 65)\n",
    "plt.subplots_adjust(wspace=2, hspace=2)\n",
    "plt.show()"
   ]
  },
  {
   "cell_type": "markdown",
   "metadata": {},
   "source": [
    "Распределние пользователей и событий по дням достаточно равномерное"
   ]
  },
  {
   "cell_type": "markdown",
   "metadata": {},
   "source": [
    "<a id=\"duration\"></a> \n",
    "### Определение длительности сессии"
   ]
  },
  {
   "cell_type": "code",
   "execution_count": 23,
   "metadata": {},
   "outputs": [],
   "source": [
    "data = data.sort_values(['user_id', 'event_date'])\n",
    "data['diff'] = data.groupby('user_id')['event_date'].diff(1)\n",
    "data['diff_sec'] = data['diff'].dt.total_seconds()"
   ]
  },
  {
   "cell_type": "code",
   "execution_count": 24,
   "metadata": {},
   "outputs": [
    {
     "data": {
      "text/plain": [
       "count      69,904.00\n",
       "mean       13,981.17\n",
       "std        91,977.26\n",
       "min             0.00\n",
       "50%            71.00\n",
       "75%           180.00\n",
       "85%           375.00\n",
       "90%         1,021.00\n",
       "95%        37,476.05\n",
       "max     2,296,194.00\n",
       "Name: diff_sec, dtype: float64"
      ]
     },
     "execution_count": 24,
     "metadata": {},
     "output_type": "execute_result"
    }
   ],
   "source": [
    "data['diff_sec'].describe(percentiles = [ 0.75, 0.85, 0.90, 0.95 ])"
   ]
  },
  {
   "cell_type": "markdown",
   "metadata": {},
   "source": [
    "Предположим что если между событиями у пользователя проходит более 20 минут (округлим 1021 /60), то сессия завершается"
   ]
  },
  {
   "cell_type": "markdown",
   "metadata": {},
   "source": [
    "<a id=\"session\"></a> \n",
    "### Выделение сессий"
   ]
  },
  {
   "cell_type": "code",
   "execution_count": 26,
   "metadata": {},
   "outputs": [],
   "source": [
    "g = (data.groupby('user_id')['event_date'].diff() > pd.Timedelta('20Min')).cumsum()\n",
    "data['session_id'] = data.groupby(['user_id', g], sort=False).ngroup() + 1"
   ]
  },
  {
   "cell_type": "code",
   "execution_count": 27,
   "metadata": {},
   "outputs": [
    {
     "data": {
      "text/html": [
       "<div>\n",
       "<style scoped>\n",
       "    .dataframe tbody tr th:only-of-type {\n",
       "        vertical-align: middle;\n",
       "    }\n",
       "\n",
       "    .dataframe tbody tr th {\n",
       "        vertical-align: top;\n",
       "    }\n",
       "\n",
       "    .dataframe thead th {\n",
       "        text-align: right;\n",
       "    }\n",
       "</style>\n",
       "<table border=\"1\" class=\"dataframe\">\n",
       "  <thead>\n",
       "    <tr style=\"text-align: right;\">\n",
       "      <th></th>\n",
       "      <th>event_time</th>\n",
       "      <th>event_name</th>\n",
       "      <th>user_id</th>\n",
       "      <th>event_date</th>\n",
       "      <th>event_dt</th>\n",
       "      <th>diff</th>\n",
       "      <th>diff_sec</th>\n",
       "      <th>session_id</th>\n",
       "    </tr>\n",
       "  </thead>\n",
       "  <tbody>\n",
       "    <tr>\n",
       "      <th>805</th>\n",
       "      <td>2019-10-07 13:39:45.989359</td>\n",
       "      <td>tips_show</td>\n",
       "      <td>0001b1d5-b74a-4cbf-aeb0-7df5947bf349</td>\n",
       "      <td>2019-10-07 13:39:45</td>\n",
       "      <td>2019-10-07</td>\n",
       "      <td>NaT</td>\n",
       "      <td>NaN</td>\n",
       "      <td>1</td>\n",
       "    </tr>\n",
       "    <tr>\n",
       "      <th>806</th>\n",
       "      <td>2019-10-07 13:40:31.052909</td>\n",
       "      <td>tips_show</td>\n",
       "      <td>0001b1d5-b74a-4cbf-aeb0-7df5947bf349</td>\n",
       "      <td>2019-10-07 13:40:31</td>\n",
       "      <td>2019-10-07</td>\n",
       "      <td>0 days 00:00:46</td>\n",
       "      <td>46.00</td>\n",
       "      <td>1</td>\n",
       "    </tr>\n",
       "    <tr>\n",
       "      <th>809</th>\n",
       "      <td>2019-10-07 13:41:05.722489</td>\n",
       "      <td>tips_show</td>\n",
       "      <td>0001b1d5-b74a-4cbf-aeb0-7df5947bf349</td>\n",
       "      <td>2019-10-07 13:41:05</td>\n",
       "      <td>2019-10-07</td>\n",
       "      <td>0 days 00:00:34</td>\n",
       "      <td>34.00</td>\n",
       "      <td>1</td>\n",
       "    </tr>\n",
       "    <tr>\n",
       "      <th>820</th>\n",
       "      <td>2019-10-07 13:43:20.735461</td>\n",
       "      <td>tips_show</td>\n",
       "      <td>0001b1d5-b74a-4cbf-aeb0-7df5947bf349</td>\n",
       "      <td>2019-10-07 13:43:20</td>\n",
       "      <td>2019-10-07</td>\n",
       "      <td>0 days 00:02:15</td>\n",
       "      <td>135.00</td>\n",
       "      <td>1</td>\n",
       "    </tr>\n",
       "    <tr>\n",
       "      <th>830</th>\n",
       "      <td>2019-10-07 13:45:30.917502</td>\n",
       "      <td>tips_show</td>\n",
       "      <td>0001b1d5-b74a-4cbf-aeb0-7df5947bf349</td>\n",
       "      <td>2019-10-07 13:45:30</td>\n",
       "      <td>2019-10-07</td>\n",
       "      <td>0 days 00:02:10</td>\n",
       "      <td>130.00</td>\n",
       "      <td>1</td>\n",
       "    </tr>\n",
       "    <tr>\n",
       "      <th>831</th>\n",
       "      <td>2019-10-07 13:45:43.212340</td>\n",
       "      <td>tips_show</td>\n",
       "      <td>0001b1d5-b74a-4cbf-aeb0-7df5947bf349</td>\n",
       "      <td>2019-10-07 13:45:43</td>\n",
       "      <td>2019-10-07</td>\n",
       "      <td>0 days 00:00:13</td>\n",
       "      <td>13.00</td>\n",
       "      <td>1</td>\n",
       "    </tr>\n",
       "    <tr>\n",
       "      <th>832</th>\n",
       "      <td>2019-10-07 13:46:31.033718</td>\n",
       "      <td>tips_show</td>\n",
       "      <td>0001b1d5-b74a-4cbf-aeb0-7df5947bf349</td>\n",
       "      <td>2019-10-07 13:46:31</td>\n",
       "      <td>2019-10-07</td>\n",
       "      <td>0 days 00:00:48</td>\n",
       "      <td>48.00</td>\n",
       "      <td>1</td>\n",
       "    </tr>\n",
       "    <tr>\n",
       "      <th>836</th>\n",
       "      <td>2019-10-07 13:47:32.860234</td>\n",
       "      <td>tips_show</td>\n",
       "      <td>0001b1d5-b74a-4cbf-aeb0-7df5947bf349</td>\n",
       "      <td>2019-10-07 13:47:32</td>\n",
       "      <td>2019-10-07</td>\n",
       "      <td>0 days 00:01:01</td>\n",
       "      <td>61.00</td>\n",
       "      <td>1</td>\n",
       "    </tr>\n",
       "    <tr>\n",
       "      <th>839</th>\n",
       "      <td>2019-10-07 13:49:41.716617</td>\n",
       "      <td>tips_show</td>\n",
       "      <td>0001b1d5-b74a-4cbf-aeb0-7df5947bf349</td>\n",
       "      <td>2019-10-07 13:49:41</td>\n",
       "      <td>2019-10-07</td>\n",
       "      <td>0 days 00:02:09</td>\n",
       "      <td>129.00</td>\n",
       "      <td>1</td>\n",
       "    </tr>\n",
       "    <tr>\n",
       "      <th>6541</th>\n",
       "      <td>2019-10-09 18:33:55.577963</td>\n",
       "      <td>map</td>\n",
       "      <td>0001b1d5-b74a-4cbf-aeb0-7df5947bf349</td>\n",
       "      <td>2019-10-09 18:33:55</td>\n",
       "      <td>2019-10-09</td>\n",
       "      <td>2 days 04:44:14</td>\n",
       "      <td>189,854.00</td>\n",
       "      <td>2</td>\n",
       "    </tr>\n",
       "    <tr>\n",
       "      <th>6546</th>\n",
       "      <td>2019-10-09 18:35:28.260975</td>\n",
       "      <td>map</td>\n",
       "      <td>0001b1d5-b74a-4cbf-aeb0-7df5947bf349</td>\n",
       "      <td>2019-10-09 18:35:28</td>\n",
       "      <td>2019-10-09</td>\n",
       "      <td>0 days 00:01:33</td>\n",
       "      <td>93.00</td>\n",
       "      <td>2</td>\n",
       "    </tr>\n",
       "    <tr>\n",
       "      <th>6565</th>\n",
       "      <td>2019-10-09 18:40:28.738785</td>\n",
       "      <td>tips_show</td>\n",
       "      <td>0001b1d5-b74a-4cbf-aeb0-7df5947bf349</td>\n",
       "      <td>2019-10-09 18:40:28</td>\n",
       "      <td>2019-10-09</td>\n",
       "      <td>0 days 00:05:00</td>\n",
       "      <td>300.00</td>\n",
       "      <td>2</td>\n",
       "    </tr>\n",
       "    <tr>\n",
       "      <th>6566</th>\n",
       "      <td>2019-10-09 18:42:22.963948</td>\n",
       "      <td>tips_show</td>\n",
       "      <td>0001b1d5-b74a-4cbf-aeb0-7df5947bf349</td>\n",
       "      <td>2019-10-09 18:42:22</td>\n",
       "      <td>2019-10-09</td>\n",
       "      <td>0 days 00:01:54</td>\n",
       "      <td>114.00</td>\n",
       "      <td>2</td>\n",
       "    </tr>\n",
       "    <tr>\n",
       "      <th>36412</th>\n",
       "      <td>2019-10-21 19:52:30.778932</td>\n",
       "      <td>tips_show</td>\n",
       "      <td>0001b1d5-b74a-4cbf-aeb0-7df5947bf349</td>\n",
       "      <td>2019-10-21 19:52:30</td>\n",
       "      <td>2019-10-21</td>\n",
       "      <td>12 days 01:10:08</td>\n",
       "      <td>1,041,008.00</td>\n",
       "      <td>3</td>\n",
       "    </tr>\n",
       "    <tr>\n",
       "      <th>36416</th>\n",
       "      <td>2019-10-21 19:53:17.165009</td>\n",
       "      <td>tips_show</td>\n",
       "      <td>0001b1d5-b74a-4cbf-aeb0-7df5947bf349</td>\n",
       "      <td>2019-10-21 19:53:17</td>\n",
       "      <td>2019-10-21</td>\n",
       "      <td>0 days 00:00:47</td>\n",
       "      <td>47.00</td>\n",
       "      <td>3</td>\n",
       "    </tr>\n",
       "    <tr>\n",
       "      <th>36419</th>\n",
       "      <td>2019-10-21 19:53:38.767230</td>\n",
       "      <td>map</td>\n",
       "      <td>0001b1d5-b74a-4cbf-aeb0-7df5947bf349</td>\n",
       "      <td>2019-10-21 19:53:38</td>\n",
       "      <td>2019-10-21</td>\n",
       "      <td>0 days 00:00:21</td>\n",
       "      <td>21.00</td>\n",
       "      <td>3</td>\n",
       "    </tr>\n",
       "    <tr>\n",
       "      <th>36421</th>\n",
       "      <td>2019-10-21 19:54:45.009859</td>\n",
       "      <td>tips_show</td>\n",
       "      <td>0001b1d5-b74a-4cbf-aeb0-7df5947bf349</td>\n",
       "      <td>2019-10-21 19:54:45</td>\n",
       "      <td>2019-10-21</td>\n",
       "      <td>0 days 00:01:07</td>\n",
       "      <td>67.00</td>\n",
       "      <td>3</td>\n",
       "    </tr>\n",
       "    <tr>\n",
       "      <th>36423</th>\n",
       "      <td>2019-10-21 19:54:56.854811</td>\n",
       "      <td>tips_show</td>\n",
       "      <td>0001b1d5-b74a-4cbf-aeb0-7df5947bf349</td>\n",
       "      <td>2019-10-21 19:54:56</td>\n",
       "      <td>2019-10-21</td>\n",
       "      <td>0 days 00:00:11</td>\n",
       "      <td>11.00</td>\n",
       "      <td>3</td>\n",
       "    </tr>\n",
       "    <tr>\n",
       "      <th>36430</th>\n",
       "      <td>2019-10-21 19:56:49.417415</td>\n",
       "      <td>map</td>\n",
       "      <td>0001b1d5-b74a-4cbf-aeb0-7df5947bf349</td>\n",
       "      <td>2019-10-21 19:56:49</td>\n",
       "      <td>2019-10-21</td>\n",
       "      <td>0 days 00:01:53</td>\n",
       "      <td>113.00</td>\n",
       "      <td>3</td>\n",
       "    </tr>\n",
       "    <tr>\n",
       "      <th>36435</th>\n",
       "      <td>2019-10-21 19:57:21.124551</td>\n",
       "      <td>tips_show</td>\n",
       "      <td>0001b1d5-b74a-4cbf-aeb0-7df5947bf349</td>\n",
       "      <td>2019-10-21 19:57:21</td>\n",
       "      <td>2019-10-21</td>\n",
       "      <td>0 days 00:00:32</td>\n",
       "      <td>32.00</td>\n",
       "      <td>3</td>\n",
       "    </tr>\n",
       "    <tr>\n",
       "      <th>36437</th>\n",
       "      <td>2019-10-21 19:57:49.029206</td>\n",
       "      <td>tips_show</td>\n",
       "      <td>0001b1d5-b74a-4cbf-aeb0-7df5947bf349</td>\n",
       "      <td>2019-10-21 19:57:49</td>\n",
       "      <td>2019-10-21</td>\n",
       "      <td>0 days 00:00:28</td>\n",
       "      <td>28.00</td>\n",
       "      <td>3</td>\n",
       "    </tr>\n",
       "    <tr>\n",
       "      <th>36447</th>\n",
       "      <td>2019-10-21 20:00:00.438922</td>\n",
       "      <td>tips_show</td>\n",
       "      <td>0001b1d5-b74a-4cbf-aeb0-7df5947bf349</td>\n",
       "      <td>2019-10-21 20:00:00</td>\n",
       "      <td>2019-10-21</td>\n",
       "      <td>0 days 00:02:11</td>\n",
       "      <td>131.00</td>\n",
       "      <td>3</td>\n",
       "    </tr>\n",
       "    <tr>\n",
       "      <th>36454</th>\n",
       "      <td>2019-10-21 20:01:16.839387</td>\n",
       "      <td>tips_show</td>\n",
       "      <td>0001b1d5-b74a-4cbf-aeb0-7df5947bf349</td>\n",
       "      <td>2019-10-21 20:01:16</td>\n",
       "      <td>2019-10-21</td>\n",
       "      <td>0 days 00:01:16</td>\n",
       "      <td>76.00</td>\n",
       "      <td>3</td>\n",
       "    </tr>\n",
       "    <tr>\n",
       "      <th>36459</th>\n",
       "      <td>2019-10-21 20:01:52.099777</td>\n",
       "      <td>tips_show</td>\n",
       "      <td>0001b1d5-b74a-4cbf-aeb0-7df5947bf349</td>\n",
       "      <td>2019-10-21 20:01:52</td>\n",
       "      <td>2019-10-21</td>\n",
       "      <td>0 days 00:00:36</td>\n",
       "      <td>36.00</td>\n",
       "      <td>3</td>\n",
       "    </tr>\n",
       "    <tr>\n",
       "      <th>36473</th>\n",
       "      <td>2019-10-21 20:05:04.173348</td>\n",
       "      <td>tips_show</td>\n",
       "      <td>0001b1d5-b74a-4cbf-aeb0-7df5947bf349</td>\n",
       "      <td>2019-10-21 20:05:04</td>\n",
       "      <td>2019-10-21</td>\n",
       "      <td>0 days 00:03:12</td>\n",
       "      <td>192.00</td>\n",
       "      <td>3</td>\n",
       "    </tr>\n",
       "    <tr>\n",
       "      <th>36481</th>\n",
       "      <td>2019-10-21 20:06:47.035115</td>\n",
       "      <td>tips_show</td>\n",
       "      <td>0001b1d5-b74a-4cbf-aeb0-7df5947bf349</td>\n",
       "      <td>2019-10-21 20:06:47</td>\n",
       "      <td>2019-10-21</td>\n",
       "      <td>0 days 00:01:43</td>\n",
       "      <td>103.00</td>\n",
       "      <td>3</td>\n",
       "    </tr>\n",
       "    <tr>\n",
       "      <th>36486</th>\n",
       "      <td>2019-10-21 20:07:30.051028</td>\n",
       "      <td>tips_show</td>\n",
       "      <td>0001b1d5-b74a-4cbf-aeb0-7df5947bf349</td>\n",
       "      <td>2019-10-21 20:07:30</td>\n",
       "      <td>2019-10-21</td>\n",
       "      <td>0 days 00:00:43</td>\n",
       "      <td>43.00</td>\n",
       "      <td>3</td>\n",
       "    </tr>\n",
       "    <tr>\n",
       "      <th>37556</th>\n",
       "      <td>2019-10-22 11:18:14.635436</td>\n",
       "      <td>map</td>\n",
       "      <td>0001b1d5-b74a-4cbf-aeb0-7df5947bf349</td>\n",
       "      <td>2019-10-22 11:18:14</td>\n",
       "      <td>2019-10-22</td>\n",
       "      <td>0 days 15:10:44</td>\n",
       "      <td>54,644.00</td>\n",
       "      <td>4</td>\n",
       "    </tr>\n",
       "    <tr>\n",
       "      <th>37559</th>\n",
       "      <td>2019-10-22 11:19:10.529462</td>\n",
       "      <td>tips_show</td>\n",
       "      <td>0001b1d5-b74a-4cbf-aeb0-7df5947bf349</td>\n",
       "      <td>2019-10-22 11:19:10</td>\n",
       "      <td>2019-10-22</td>\n",
       "      <td>0 days 00:00:56</td>\n",
       "      <td>56.00</td>\n",
       "      <td>4</td>\n",
       "    </tr>\n",
       "    <tr>\n",
       "      <th>37566</th>\n",
       "      <td>2019-10-22 11:20:12.571696</td>\n",
       "      <td>tips_show</td>\n",
       "      <td>0001b1d5-b74a-4cbf-aeb0-7df5947bf349</td>\n",
       "      <td>2019-10-22 11:20:12</td>\n",
       "      <td>2019-10-22</td>\n",
       "      <td>0 days 00:01:02</td>\n",
       "      <td>62.00</td>\n",
       "      <td>4</td>\n",
       "    </tr>\n",
       "    <tr>\n",
       "      <th>37571</th>\n",
       "      <td>2019-10-22 11:21:30.964099</td>\n",
       "      <td>tips_show</td>\n",
       "      <td>0001b1d5-b74a-4cbf-aeb0-7df5947bf349</td>\n",
       "      <td>2019-10-22 11:21:30</td>\n",
       "      <td>2019-10-22</td>\n",
       "      <td>0 days 00:01:18</td>\n",
       "      <td>78.00</td>\n",
       "      <td>4</td>\n",
       "    </tr>\n",
       "    <tr>\n",
       "      <th>37581</th>\n",
       "      <td>2019-10-22 11:25:33.508919</td>\n",
       "      <td>map</td>\n",
       "      <td>0001b1d5-b74a-4cbf-aeb0-7df5947bf349</td>\n",
       "      <td>2019-10-22 11:25:33</td>\n",
       "      <td>2019-10-22</td>\n",
       "      <td>0 days 00:04:03</td>\n",
       "      <td>243.00</td>\n",
       "      <td>4</td>\n",
       "    </tr>\n",
       "    <tr>\n",
       "      <th>37591</th>\n",
       "      <td>2019-10-22 11:28:05.165918</td>\n",
       "      <td>tips_show</td>\n",
       "      <td>0001b1d5-b74a-4cbf-aeb0-7df5947bf349</td>\n",
       "      <td>2019-10-22 11:28:05</td>\n",
       "      <td>2019-10-22</td>\n",
       "      <td>0 days 00:02:32</td>\n",
       "      <td>152.00</td>\n",
       "      <td>4</td>\n",
       "    </tr>\n",
       "    <tr>\n",
       "      <th>37601</th>\n",
       "      <td>2019-10-22 11:30:05.522265</td>\n",
       "      <td>tips_show</td>\n",
       "      <td>0001b1d5-b74a-4cbf-aeb0-7df5947bf349</td>\n",
       "      <td>2019-10-22 11:30:05</td>\n",
       "      <td>2019-10-22</td>\n",
       "      <td>0 days 00:02:00</td>\n",
       "      <td>120.00</td>\n",
       "      <td>4</td>\n",
       "    </tr>\n",
       "    <tr>\n",
       "      <th>37607</th>\n",
       "      <td>2019-10-22 11:30:52.807203</td>\n",
       "      <td>tips_show</td>\n",
       "      <td>0001b1d5-b74a-4cbf-aeb0-7df5947bf349</td>\n",
       "      <td>2019-10-22 11:30:52</td>\n",
       "      <td>2019-10-22</td>\n",
       "      <td>0 days 00:00:47</td>\n",
       "      <td>47.00</td>\n",
       "      <td>4</td>\n",
       "    </tr>\n",
       "  </tbody>\n",
       "</table>\n",
       "</div>"
      ],
      "text/plain": [
       "                       event_time event_name  \\\n",
       "805    2019-10-07 13:39:45.989359  tips_show   \n",
       "806    2019-10-07 13:40:31.052909  tips_show   \n",
       "809    2019-10-07 13:41:05.722489  tips_show   \n",
       "820    2019-10-07 13:43:20.735461  tips_show   \n",
       "830    2019-10-07 13:45:30.917502  tips_show   \n",
       "831    2019-10-07 13:45:43.212340  tips_show   \n",
       "832    2019-10-07 13:46:31.033718  tips_show   \n",
       "836    2019-10-07 13:47:32.860234  tips_show   \n",
       "839    2019-10-07 13:49:41.716617  tips_show   \n",
       "6541   2019-10-09 18:33:55.577963        map   \n",
       "6546   2019-10-09 18:35:28.260975        map   \n",
       "6565   2019-10-09 18:40:28.738785  tips_show   \n",
       "6566   2019-10-09 18:42:22.963948  tips_show   \n",
       "36412  2019-10-21 19:52:30.778932  tips_show   \n",
       "36416  2019-10-21 19:53:17.165009  tips_show   \n",
       "36419  2019-10-21 19:53:38.767230        map   \n",
       "36421  2019-10-21 19:54:45.009859  tips_show   \n",
       "36423  2019-10-21 19:54:56.854811  tips_show   \n",
       "36430  2019-10-21 19:56:49.417415        map   \n",
       "36435  2019-10-21 19:57:21.124551  tips_show   \n",
       "36437  2019-10-21 19:57:49.029206  tips_show   \n",
       "36447  2019-10-21 20:00:00.438922  tips_show   \n",
       "36454  2019-10-21 20:01:16.839387  tips_show   \n",
       "36459  2019-10-21 20:01:52.099777  tips_show   \n",
       "36473  2019-10-21 20:05:04.173348  tips_show   \n",
       "36481  2019-10-21 20:06:47.035115  tips_show   \n",
       "36486  2019-10-21 20:07:30.051028  tips_show   \n",
       "37556  2019-10-22 11:18:14.635436        map   \n",
       "37559  2019-10-22 11:19:10.529462  tips_show   \n",
       "37566  2019-10-22 11:20:12.571696  tips_show   \n",
       "37571  2019-10-22 11:21:30.964099  tips_show   \n",
       "37581  2019-10-22 11:25:33.508919        map   \n",
       "37591  2019-10-22 11:28:05.165918  tips_show   \n",
       "37601  2019-10-22 11:30:05.522265  tips_show   \n",
       "37607  2019-10-22 11:30:52.807203  tips_show   \n",
       "\n",
       "                                    user_id          event_date    event_dt  \\\n",
       "805    0001b1d5-b74a-4cbf-aeb0-7df5947bf349 2019-10-07 13:39:45  2019-10-07   \n",
       "806    0001b1d5-b74a-4cbf-aeb0-7df5947bf349 2019-10-07 13:40:31  2019-10-07   \n",
       "809    0001b1d5-b74a-4cbf-aeb0-7df5947bf349 2019-10-07 13:41:05  2019-10-07   \n",
       "820    0001b1d5-b74a-4cbf-aeb0-7df5947bf349 2019-10-07 13:43:20  2019-10-07   \n",
       "830    0001b1d5-b74a-4cbf-aeb0-7df5947bf349 2019-10-07 13:45:30  2019-10-07   \n",
       "831    0001b1d5-b74a-4cbf-aeb0-7df5947bf349 2019-10-07 13:45:43  2019-10-07   \n",
       "832    0001b1d5-b74a-4cbf-aeb0-7df5947bf349 2019-10-07 13:46:31  2019-10-07   \n",
       "836    0001b1d5-b74a-4cbf-aeb0-7df5947bf349 2019-10-07 13:47:32  2019-10-07   \n",
       "839    0001b1d5-b74a-4cbf-aeb0-7df5947bf349 2019-10-07 13:49:41  2019-10-07   \n",
       "6541   0001b1d5-b74a-4cbf-aeb0-7df5947bf349 2019-10-09 18:33:55  2019-10-09   \n",
       "6546   0001b1d5-b74a-4cbf-aeb0-7df5947bf349 2019-10-09 18:35:28  2019-10-09   \n",
       "6565   0001b1d5-b74a-4cbf-aeb0-7df5947bf349 2019-10-09 18:40:28  2019-10-09   \n",
       "6566   0001b1d5-b74a-4cbf-aeb0-7df5947bf349 2019-10-09 18:42:22  2019-10-09   \n",
       "36412  0001b1d5-b74a-4cbf-aeb0-7df5947bf349 2019-10-21 19:52:30  2019-10-21   \n",
       "36416  0001b1d5-b74a-4cbf-aeb0-7df5947bf349 2019-10-21 19:53:17  2019-10-21   \n",
       "36419  0001b1d5-b74a-4cbf-aeb0-7df5947bf349 2019-10-21 19:53:38  2019-10-21   \n",
       "36421  0001b1d5-b74a-4cbf-aeb0-7df5947bf349 2019-10-21 19:54:45  2019-10-21   \n",
       "36423  0001b1d5-b74a-4cbf-aeb0-7df5947bf349 2019-10-21 19:54:56  2019-10-21   \n",
       "36430  0001b1d5-b74a-4cbf-aeb0-7df5947bf349 2019-10-21 19:56:49  2019-10-21   \n",
       "36435  0001b1d5-b74a-4cbf-aeb0-7df5947bf349 2019-10-21 19:57:21  2019-10-21   \n",
       "36437  0001b1d5-b74a-4cbf-aeb0-7df5947bf349 2019-10-21 19:57:49  2019-10-21   \n",
       "36447  0001b1d5-b74a-4cbf-aeb0-7df5947bf349 2019-10-21 20:00:00  2019-10-21   \n",
       "36454  0001b1d5-b74a-4cbf-aeb0-7df5947bf349 2019-10-21 20:01:16  2019-10-21   \n",
       "36459  0001b1d5-b74a-4cbf-aeb0-7df5947bf349 2019-10-21 20:01:52  2019-10-21   \n",
       "36473  0001b1d5-b74a-4cbf-aeb0-7df5947bf349 2019-10-21 20:05:04  2019-10-21   \n",
       "36481  0001b1d5-b74a-4cbf-aeb0-7df5947bf349 2019-10-21 20:06:47  2019-10-21   \n",
       "36486  0001b1d5-b74a-4cbf-aeb0-7df5947bf349 2019-10-21 20:07:30  2019-10-21   \n",
       "37556  0001b1d5-b74a-4cbf-aeb0-7df5947bf349 2019-10-22 11:18:14  2019-10-22   \n",
       "37559  0001b1d5-b74a-4cbf-aeb0-7df5947bf349 2019-10-22 11:19:10  2019-10-22   \n",
       "37566  0001b1d5-b74a-4cbf-aeb0-7df5947bf349 2019-10-22 11:20:12  2019-10-22   \n",
       "37571  0001b1d5-b74a-4cbf-aeb0-7df5947bf349 2019-10-22 11:21:30  2019-10-22   \n",
       "37581  0001b1d5-b74a-4cbf-aeb0-7df5947bf349 2019-10-22 11:25:33  2019-10-22   \n",
       "37591  0001b1d5-b74a-4cbf-aeb0-7df5947bf349 2019-10-22 11:28:05  2019-10-22   \n",
       "37601  0001b1d5-b74a-4cbf-aeb0-7df5947bf349 2019-10-22 11:30:05  2019-10-22   \n",
       "37607  0001b1d5-b74a-4cbf-aeb0-7df5947bf349 2019-10-22 11:30:52  2019-10-22   \n",
       "\n",
       "                  diff     diff_sec  session_id  \n",
       "805                NaT          NaN           1  \n",
       "806    0 days 00:00:46        46.00           1  \n",
       "809    0 days 00:00:34        34.00           1  \n",
       "820    0 days 00:02:15       135.00           1  \n",
       "830    0 days 00:02:10       130.00           1  \n",
       "831    0 days 00:00:13        13.00           1  \n",
       "832    0 days 00:00:48        48.00           1  \n",
       "836    0 days 00:01:01        61.00           1  \n",
       "839    0 days 00:02:09       129.00           1  \n",
       "6541   2 days 04:44:14   189,854.00           2  \n",
       "6546   0 days 00:01:33        93.00           2  \n",
       "6565   0 days 00:05:00       300.00           2  \n",
       "6566   0 days 00:01:54       114.00           2  \n",
       "36412 12 days 01:10:08 1,041,008.00           3  \n",
       "36416  0 days 00:00:47        47.00           3  \n",
       "36419  0 days 00:00:21        21.00           3  \n",
       "36421  0 days 00:01:07        67.00           3  \n",
       "36423  0 days 00:00:11        11.00           3  \n",
       "36430  0 days 00:01:53       113.00           3  \n",
       "36435  0 days 00:00:32        32.00           3  \n",
       "36437  0 days 00:00:28        28.00           3  \n",
       "36447  0 days 00:02:11       131.00           3  \n",
       "36454  0 days 00:01:16        76.00           3  \n",
       "36459  0 days 00:00:36        36.00           3  \n",
       "36473  0 days 00:03:12       192.00           3  \n",
       "36481  0 days 00:01:43       103.00           3  \n",
       "36486  0 days 00:00:43        43.00           3  \n",
       "37556  0 days 15:10:44    54,644.00           4  \n",
       "37559  0 days 00:00:56        56.00           4  \n",
       "37566  0 days 00:01:02        62.00           4  \n",
       "37571  0 days 00:01:18        78.00           4  \n",
       "37581  0 days 00:04:03       243.00           4  \n",
       "37591  0 days 00:02:32       152.00           4  \n",
       "37601  0 days 00:02:00       120.00           4  \n",
       "37607  0 days 00:00:47        47.00           4  "
      ]
     },
     "execution_count": 27,
     "metadata": {},
     "output_type": "execute_result"
    }
   ],
   "source": [
    "#проверим на одном из пользователей\n",
    "data.query('user_id==\"0001b1d5-b74a-4cbf-aeb0-7df5947bf349\"')"
   ]
  },
  {
   "cell_type": "markdown",
   "metadata": {},
   "source": [
    "Похоже сессии разделены корректно"
   ]
  },
  {
   "cell_type": "markdown",
   "metadata": {},
   "source": [
    "Определим какие события у нас чаще всего становятся первыми для сессий"
   ]
  },
  {
   "cell_type": "code",
   "execution_count": 28,
   "metadata": {
    "scrolled": true
   },
   "outputs": [
    {
     "data": {
      "text/html": [
       "<div>\n",
       "<style scoped>\n",
       "    .dataframe tbody tr th:only-of-type {\n",
       "        vertical-align: middle;\n",
       "    }\n",
       "\n",
       "    .dataframe tbody tr th {\n",
       "        vertical-align: top;\n",
       "    }\n",
       "\n",
       "    .dataframe thead th {\n",
       "        text-align: right;\n",
       "    }\n",
       "</style>\n",
       "<table border=\"1\" class=\"dataframe\">\n",
       "  <thead>\n",
       "    <tr style=\"text-align: right;\">\n",
       "      <th></th>\n",
       "      <th>event_name</th>\n",
       "    </tr>\n",
       "  </thead>\n",
       "  <tbody>\n",
       "    <tr>\n",
       "      <th>tips_show</th>\n",
       "      <td>4092</td>\n",
       "    </tr>\n",
       "    <tr>\n",
       "      <th>photos_show</th>\n",
       "      <td>1775</td>\n",
       "    </tr>\n",
       "    <tr>\n",
       "      <th>search_1</th>\n",
       "      <td>1472</td>\n",
       "    </tr>\n",
       "    <tr>\n",
       "      <th>map</th>\n",
       "      <td>1325</td>\n",
       "    </tr>\n",
       "    <tr>\n",
       "      <th>show_contacts</th>\n",
       "      <td>609</td>\n",
       "    </tr>\n",
       "    <tr>\n",
       "      <th>search_4</th>\n",
       "      <td>529</td>\n",
       "    </tr>\n",
       "    <tr>\n",
       "      <th>advert_open</th>\n",
       "      <td>449</td>\n",
       "    </tr>\n",
       "    <tr>\n",
       "      <th>search_7</th>\n",
       "      <td>169</td>\n",
       "    </tr>\n",
       "    <tr>\n",
       "      <th>search_6</th>\n",
       "      <td>143</td>\n",
       "    </tr>\n",
       "    <tr>\n",
       "      <th>favorites_add</th>\n",
       "      <td>119</td>\n",
       "    </tr>\n",
       "    <tr>\n",
       "      <th>search_5</th>\n",
       "      <td>117</td>\n",
       "    </tr>\n",
       "    <tr>\n",
       "      <th>search_3</th>\n",
       "      <td>69</td>\n",
       "    </tr>\n",
       "    <tr>\n",
       "      <th>tips_click</th>\n",
       "      <td>56</td>\n",
       "    </tr>\n",
       "    <tr>\n",
       "      <th>search_2</th>\n",
       "      <td>51</td>\n",
       "    </tr>\n",
       "  </tbody>\n",
       "</table>\n",
       "</div>"
      ],
      "text/plain": [
       "               event_name\n",
       "tips_show            4092\n",
       "photos_show          1775\n",
       "search_1             1472\n",
       "map                  1325\n",
       "show_contacts         609\n",
       "search_4              529\n",
       "advert_open           449\n",
       "search_7              169\n",
       "search_6              143\n",
       "favorites_add         119\n",
       "search_5              117\n",
       "search_3               69\n",
       "tips_click             56\n",
       "search_2               51"
      ]
     },
     "execution_count": 28,
     "metadata": {},
     "output_type": "execute_result"
    }
   ],
   "source": [
    "data.groupby('session_id').agg({'event_name': 'first'})['event_name'].value_counts().to_frame()"
   ]
  },
  {
   "cell_type": "markdown",
   "metadata": {},
   "source": [
    "Чаще всего это \"пользователь увидел рекомендованные объявления\", \"просмотр фотографий в объявлении\", \"разные события, связанные с поиском по сайту\" и \"пользователь открыл карту размещенных объявлений\""
   ]
  },
  {
   "cell_type": "markdown",
   "metadata": {},
   "source": [
    "<a id=\"dau_mau\"></a> \n",
    "### Расчет DAU (количество уникальных пользователей в день) и WAU (количество уникальных пользователей в неделю)"
   ]
  },
  {
   "cell_type": "code",
   "execution_count": 29,
   "metadata": {},
   "outputs": [],
   "source": [
    "table = data.groupby(['user_id', 'session_id']).agg({'event_date': ['min', 'max']}).reset_index()\n",
    "table.columns = table.columns.map(''.join)"
   ]
  },
  {
   "cell_type": "code",
   "execution_count": 30,
   "metadata": {},
   "outputs": [],
   "source": [
    "table.columns = ['user_id', 'session_id', 'session_start', 'session_end']"
   ]
  },
  {
   "cell_type": "code",
   "execution_count": 31,
   "metadata": {},
   "outputs": [],
   "source": [
    "table['session_year'] = table['session_start'].dt.year\n",
    "table['session_week'] = table['session_start'].dt.week\n",
    "table['session_date'] = table['session_start'].dt.date\n",
    "\n",
    "dau_total = (\n",
    "    table.groupby(['session_date'])\n",
    "    .agg({'user_id': 'nunique'})\n",
    "    .mean()\n",
    ") \n",
    "wau_total = (\n",
    "    table.groupby(['session_year', 'session_week'])\n",
    "    .agg({'user_id': 'nunique'})\n",
    "    .mean()\n",
    ")"
   ]
  },
  {
   "cell_type": "code",
   "execution_count": 32,
   "metadata": {
    "scrolled": true
   },
   "outputs": [
    {
     "data": {
      "text/plain": [
       "'Количество уникальных пользователей в день 277, количество уникальных пользователей в неделю 1381'"
      ]
     },
     "execution_count": 32,
     "metadata": {},
     "output_type": "execute_result"
    }
   ],
   "source": [
    "f'Количество уникальных пользователей в день {int(dau_total)}, количество уникальных пользователей в неделю {int(wau_total)}'"
   ]
  },
  {
   "cell_type": "code",
   "execution_count": 33,
   "metadata": {
    "scrolled": true
   },
   "outputs": [
    {
     "data": {
      "image/png": "[encoded data removed]",
      "text/plain": [
       "<Figure size 432x288 with 1 Axes>"
      ]
     },
     "metadata": {
      "needs_background": "light"
     },
     "output_type": "display_data"
    }
   ],
   "source": [
    "sns.barplot(x= 'session_date', y='user_id', data=table.groupby(['session_date']).agg({'user_id': 'nunique'}).reset_index()) \n",
    "plt.title('Распределение количества уникальных пользователей по дням', loc = 'left') \n",
    "plt.xlabel('Дата')\n",
    "plt.ylabel('Кол-во уникальных пользователей')\n",
    "plt.xticks(rotation= 65)\n",
    "plt.show()"
   ]
  },
  {
   "cell_type": "code",
   "execution_count": 34,
   "metadata": {},
   "outputs": [
    {
     "data": {
      "image/png": "[encoded data removed]",
      "text/plain": [
       "<Figure size 432x288 with 1 Axes>"
      ]
     },
     "metadata": {
      "needs_background": "light"
     },
     "output_type": "display_data"
    }
   ],
   "source": [
    "sns.barplot(x= 'session_week', y='user_id', data=table.groupby(['session_year', 'session_week'])\n",
    "    .agg({'user_id': 'nunique'}).reset_index()) \n",
    "plt.title('Распределение количества уникальных пользователей по неделям', loc = 'left') \n",
    "plt.xlabel('Дата')\n",
    "plt.ylabel('Кол-во уникальных пользователей')\n",
    "plt.xticks(rotation= 65)\n",
    "plt.show()"
   ]
  },
  {
   "cell_type": "markdown",
   "metadata": {},
   "source": [
    "Видно что после 12-10-2019, т.е. начиная с 42 недели количество уникальных пользовалей увеличилось"
   ]
  },
  {
   "cell_type": "markdown",
   "metadata": {},
   "source": [
    "<a id=\"segmentation\"></a>\n",
    "## Сегментация пользователей на основе действий"
   ]
  },
  {
   "cell_type": "code",
   "execution_count": 35,
   "metadata": {},
   "outputs": [],
   "source": [
    "segmentation = (data.pivot_table(index = 'user_id', columns = 'event_name', \n",
    "                                values = 'session_id', aggfunc = 'count')\n",
    "                .reset_index().drop(columns = 'tips_show').fillna(0))"
   ]
  },
  {
   "cell_type": "code",
   "execution_count": 36,
   "metadata": {
    "scrolled": true
   },
   "outputs": [
    {
     "data": {
      "text/html": [
       "<div>\n",
       "<style scoped>\n",
       "    .dataframe tbody tr th:only-of-type {\n",
       "        vertical-align: middle;\n",
       "    }\n",
       "\n",
       "    .dataframe tbody tr th {\n",
       "        vertical-align: top;\n",
       "    }\n",
       "\n",
       "    .dataframe thead th {\n",
       "        text-align: right;\n",
       "    }\n",
       "</style>\n",
       "<table border=\"1\" class=\"dataframe\">\n",
       "  <thead>\n",
       "    <tr style=\"text-align: right;\">\n",
       "      <th>event_name</th>\n",
       "      <th>user_id</th>\n",
       "      <th>advert_open</th>\n",
       "      <th>contacts_call</th>\n",
       "      <th>favorites_add</th>\n",
       "      <th>map</th>\n",
       "      <th>photos_show</th>\n",
       "      <th>search_1</th>\n",
       "      <th>search_2</th>\n",
       "      <th>search_3</th>\n",
       "      <th>search_4</th>\n",
       "      <th>search_5</th>\n",
       "      <th>search_6</th>\n",
       "      <th>search_7</th>\n",
       "      <th>show_contacts</th>\n",
       "      <th>tips_click</th>\n",
       "    </tr>\n",
       "  </thead>\n",
       "  <tbody>\n",
       "    <tr>\n",
       "      <th>0</th>\n",
       "      <td>0001b1d5-b74a-4cbf-aeb0-7df5947bf349</td>\n",
       "      <td>0.00</td>\n",
       "      <td>0.00</td>\n",
       "      <td>0.00</td>\n",
       "      <td>6.00</td>\n",
       "      <td>0.00</td>\n",
       "      <td>0.00</td>\n",
       "      <td>0.00</td>\n",
       "      <td>0.00</td>\n",
       "      <td>0.00</td>\n",
       "      <td>0.00</td>\n",
       "      <td>0.00</td>\n",
       "      <td>0.00</td>\n",
       "      <td>0.00</td>\n",
       "      <td>0.00</td>\n",
       "    </tr>\n",
       "    <tr>\n",
       "      <th>1</th>\n",
       "      <td>00157779-810c-4498-9e05-a1e9e3cedf93</td>\n",
       "      <td>2.00</td>\n",
       "      <td>5.00</td>\n",
       "      <td>2.00</td>\n",
       "      <td>0.00</td>\n",
       "      <td>33.00</td>\n",
       "      <td>18.00</td>\n",
       "      <td>0.00</td>\n",
       "      <td>0.00</td>\n",
       "      <td>0.00</td>\n",
       "      <td>0.00</td>\n",
       "      <td>0.00</td>\n",
       "      <td>0.00</td>\n",
       "      <td>11.00</td>\n",
       "      <td>0.00</td>\n",
       "    </tr>\n",
       "    <tr>\n",
       "      <th>2</th>\n",
       "      <td>00463033-5717-4bf1-91b4-09183923b9df</td>\n",
       "      <td>0.00</td>\n",
       "      <td>0.00</td>\n",
       "      <td>0.00</td>\n",
       "      <td>0.00</td>\n",
       "      <td>10.00</td>\n",
       "      <td>0.00</td>\n",
       "      <td>0.00</td>\n",
       "      <td>0.00</td>\n",
       "      <td>0.00</td>\n",
       "      <td>0.00</td>\n",
       "      <td>0.00</td>\n",
       "      <td>0.00</td>\n",
       "      <td>0.00</td>\n",
       "      <td>0.00</td>\n",
       "    </tr>\n",
       "    <tr>\n",
       "      <th>3</th>\n",
       "      <td>004690c3-5a84-4bb7-a8af-e0c8f8fca64e</td>\n",
       "      <td>5.00</td>\n",
       "      <td>0.00</td>\n",
       "      <td>0.00</td>\n",
       "      <td>6.00</td>\n",
       "      <td>0.00</td>\n",
       "      <td>0.00</td>\n",
       "      <td>0.00</td>\n",
       "      <td>1.00</td>\n",
       "      <td>2.00</td>\n",
       "      <td>6.00</td>\n",
       "      <td>2.00</td>\n",
       "      <td>6.00</td>\n",
       "      <td>0.00</td>\n",
       "      <td>0.00</td>\n",
       "    </tr>\n",
       "    <tr>\n",
       "      <th>4</th>\n",
       "      <td>00551e79-152e-4441-9cf7-565d7eb04090</td>\n",
       "      <td>0.00</td>\n",
       "      <td>3.00</td>\n",
       "      <td>0.00</td>\n",
       "      <td>0.00</td>\n",
       "      <td>1.00</td>\n",
       "      <td>1.00</td>\n",
       "      <td>0.00</td>\n",
       "      <td>0.00</td>\n",
       "      <td>0.00</td>\n",
       "      <td>0.00</td>\n",
       "      <td>0.00</td>\n",
       "      <td>0.00</td>\n",
       "      <td>3.00</td>\n",
       "      <td>0.00</td>\n",
       "    </tr>\n",
       "    <tr>\n",
       "      <th>...</th>\n",
       "      <td>...</td>\n",
       "      <td>...</td>\n",
       "      <td>...</td>\n",
       "      <td>...</td>\n",
       "      <td>...</td>\n",
       "      <td>...</td>\n",
       "      <td>...</td>\n",
       "      <td>...</td>\n",
       "      <td>...</td>\n",
       "      <td>...</td>\n",
       "      <td>...</td>\n",
       "      <td>...</td>\n",
       "      <td>...</td>\n",
       "      <td>...</td>\n",
       "      <td>...</td>\n",
       "    </tr>\n",
       "    <tr>\n",
       "      <th>4288</th>\n",
       "      <td>ffab8d8a-30bb-424a-a3ab-0b63ebbf7b07</td>\n",
       "      <td>0.00</td>\n",
       "      <td>0.00</td>\n",
       "      <td>0.00</td>\n",
       "      <td>2.00</td>\n",
       "      <td>0.00</td>\n",
       "      <td>0.00</td>\n",
       "      <td>0.00</td>\n",
       "      <td>0.00</td>\n",
       "      <td>0.00</td>\n",
       "      <td>0.00</td>\n",
       "      <td>0.00</td>\n",
       "      <td>0.00</td>\n",
       "      <td>0.00</td>\n",
       "      <td>0.00</td>\n",
       "    </tr>\n",
       "    <tr>\n",
       "      <th>4289</th>\n",
       "      <td>ffc01466-fdb1-4460-ae94-e800f52eb136</td>\n",
       "      <td>0.00</td>\n",
       "      <td>0.00</td>\n",
       "      <td>0.00</td>\n",
       "      <td>0.00</td>\n",
       "      <td>6.00</td>\n",
       "      <td>0.00</td>\n",
       "      <td>0.00</td>\n",
       "      <td>0.00</td>\n",
       "      <td>0.00</td>\n",
       "      <td>0.00</td>\n",
       "      <td>0.00</td>\n",
       "      <td>0.00</td>\n",
       "      <td>1.00</td>\n",
       "      <td>0.00</td>\n",
       "    </tr>\n",
       "    <tr>\n",
       "      <th>4290</th>\n",
       "      <td>ffcf50d9-293c-4254-8243-4890b030b238</td>\n",
       "      <td>0.00</td>\n",
       "      <td>0.00</td>\n",
       "      <td>0.00</td>\n",
       "      <td>1.00</td>\n",
       "      <td>0.00</td>\n",
       "      <td>0.00</td>\n",
       "      <td>0.00</td>\n",
       "      <td>0.00</td>\n",
       "      <td>0.00</td>\n",
       "      <td>0.00</td>\n",
       "      <td>0.00</td>\n",
       "      <td>0.00</td>\n",
       "      <td>0.00</td>\n",
       "      <td>0.00</td>\n",
       "    </tr>\n",
       "    <tr>\n",
       "      <th>4291</th>\n",
       "      <td>ffe68f10-e48e-470e-be9b-eeb93128ff1a</td>\n",
       "      <td>0.00</td>\n",
       "      <td>0.00</td>\n",
       "      <td>0.00</td>\n",
       "      <td>0.00</td>\n",
       "      <td>7.00</td>\n",
       "      <td>5.00</td>\n",
       "      <td>0.00</td>\n",
       "      <td>0.00</td>\n",
       "      <td>0.00</td>\n",
       "      <td>0.00</td>\n",
       "      <td>0.00</td>\n",
       "      <td>0.00</td>\n",
       "      <td>1.00</td>\n",
       "      <td>0.00</td>\n",
       "    </tr>\n",
       "    <tr>\n",
       "      <th>4292</th>\n",
       "      <td>fffb9e79-b927-4dbb-9b48-7fd09b23a62b</td>\n",
       "      <td>0.00</td>\n",
       "      <td>0.00</td>\n",
       "      <td>0.00</td>\n",
       "      <td>2.00</td>\n",
       "      <td>0.00</td>\n",
       "      <td>0.00</td>\n",
       "      <td>0.00</td>\n",
       "      <td>0.00</td>\n",
       "      <td>0.00</td>\n",
       "      <td>0.00</td>\n",
       "      <td>0.00</td>\n",
       "      <td>0.00</td>\n",
       "      <td>68.00</td>\n",
       "      <td>0.00</td>\n",
       "    </tr>\n",
       "  </tbody>\n",
       "</table>\n",
       "<p>4293 rows × 15 columns</p>\n",
       "</div>"
      ],
      "text/plain": [
       "event_name                               user_id  advert_open  contacts_call  \\\n",
       "0           0001b1d5-b74a-4cbf-aeb0-7df5947bf349         0.00           0.00   \n",
       "1           00157779-810c-4498-9e05-a1e9e3cedf93         2.00           5.00   \n",
       "2           00463033-5717-4bf1-91b4-09183923b9df         0.00           0.00   \n",
       "3           004690c3-5a84-4bb7-a8af-e0c8f8fca64e         5.00           0.00   \n",
       "4           00551e79-152e-4441-9cf7-565d7eb04090         0.00           3.00   \n",
       "...                                          ...          ...            ...   \n",
       "4288        ffab8d8a-30bb-424a-a3ab-0b63ebbf7b07         0.00           0.00   \n",
       "4289        ffc01466-fdb1-4460-ae94-e800f52eb136         0.00           0.00   \n",
       "4290        ffcf50d9-293c-4254-8243-4890b030b238         0.00           0.00   \n",
       "4291        ffe68f10-e48e-470e-be9b-eeb93128ff1a         0.00           0.00   \n",
       "4292        fffb9e79-b927-4dbb-9b48-7fd09b23a62b         0.00           0.00   \n",
       "\n",
       "event_name  favorites_add  map  photos_show  search_1  search_2  search_3  \\\n",
       "0                    0.00 6.00         0.00      0.00      0.00      0.00   \n",
       "1                    2.00 0.00        33.00     18.00      0.00      0.00   \n",
       "2                    0.00 0.00        10.00      0.00      0.00      0.00   \n",
       "3                    0.00 6.00         0.00      0.00      0.00      1.00   \n",
       "4                    0.00 0.00         1.00      1.00      0.00      0.00   \n",
       "...                   ...  ...          ...       ...       ...       ...   \n",
       "4288                 0.00 2.00         0.00      0.00      0.00      0.00   \n",
       "4289                 0.00 0.00         6.00      0.00      0.00      0.00   \n",
       "4290                 0.00 1.00         0.00      0.00      0.00      0.00   \n",
       "4291                 0.00 0.00         7.00      5.00      0.00      0.00   \n",
       "4292                 0.00 2.00         0.00      0.00      0.00      0.00   \n",
       "\n",
       "event_name  search_4  search_5  search_6  search_7  show_contacts  tips_click  \n",
       "0               0.00      0.00      0.00      0.00           0.00        0.00  \n",
       "1               0.00      0.00      0.00      0.00          11.00        0.00  \n",
       "2               0.00      0.00      0.00      0.00           0.00        0.00  \n",
       "3               2.00      6.00      2.00      6.00           0.00        0.00  \n",
       "4               0.00      0.00      0.00      0.00           3.00        0.00  \n",
       "...              ...       ...       ...       ...            ...         ...  \n",
       "4288            0.00      0.00      0.00      0.00           0.00        0.00  \n",
       "4289            0.00      0.00      0.00      0.00           1.00        0.00  \n",
       "4290            0.00      0.00      0.00      0.00           0.00        0.00  \n",
       "4291            0.00      0.00      0.00      0.00           1.00        0.00  \n",
       "4292            0.00      0.00      0.00      0.00          68.00        0.00  \n",
       "\n",
       "[4293 rows x 15 columns]"
      ]
     },
     "execution_count": 36,
     "metadata": {},
     "output_type": "execute_result"
    }
   ],
   "source": [
    "segmentation "
   ]
  },
  {
   "cell_type": "markdown",
   "metadata": {},
   "source": [
    "<a id=\"std\"></a>\n",
    "### Стандартизируем данные"
   ]
  },
  {
   "cell_type": "code",
   "execution_count": 37,
   "metadata": {},
   "outputs": [],
   "source": [
    "scaler = StandardScaler() \n",
    "# уберем целевое действие show_contacts и то что за ним должно обычно следовать contacts_call\n",
    "x_sc = scaler.fit_transform(segmentation.drop(columns = ['user_id', 'show_contacts', 'contacts_call']))"
   ]
  },
  {
   "cell_type": "markdown",
   "metadata": {},
   "source": [
    "<a id=\"dendrogram\"></a>\n",
    "### Матрица расстояний"
   ]
  },
  {
   "cell_type": "code",
   "execution_count": 38,
   "metadata": {},
   "outputs": [
    {
     "data": {
      "image/png": "[encoded data removed]",
      "text/plain": [
       "<Figure size 1440x720 with 1 Axes>"
      ]
     },
     "metadata": {
      "needs_background": "light"
     },
     "output_type": "display_data"
    }
   ],
   "source": [
    "linked = linkage(x_sc, method = 'ward') \n",
    "plt.figure(figsize=(20, 10))  \n",
    "dendrogram(linked, orientation='top')\n",
    "plt.title('Кластеризация клиентов')\n",
    "plt.show() "
   ]
  },
  {
   "cell_type": "markdown",
   "metadata": {},
   "source": [
    "Предварительно можно выделить 2 группы, остальные слишком малы"
   ]
  },
  {
   "cell_type": "markdown",
   "metadata": {},
   "source": [
    "<a id=\"KMeans\"></a>\n",
    "### Обучение модели кластеризации на основании алгоритма K-Means и прогнозирование кластеров пользователей"
   ]
  },
  {
   "cell_type": "code",
   "execution_count": 40,
   "metadata": {},
   "outputs": [],
   "source": [
    "km_1 = KMeans(n_clusters=2, random_state=0) # задаём число кластеров, равное 7, и фиксируем значение random_state для воспроизводимости результата\n",
    "labels_1 = km_1.fit_predict(x_sc) \n",
    "# сохраняем метки кластера в поле нашего датасета\n",
    "segmentation['cluster_1'] = labels_1"
   ]
  },
  {
   "cell_type": "code",
   "execution_count": 41,
   "metadata": {
    "scrolled": true
   },
   "outputs": [
    {
     "data": {
      "text/plain": [
       "0    4169\n",
       "1     124\n",
       "Name: cluster_1, dtype: int64"
      ]
     },
     "execution_count": 41,
     "metadata": {},
     "output_type": "execute_result"
    }
   ],
   "source": [
    "segmentation['cluster_1'].value_counts()"
   ]
  },
  {
   "cell_type": "markdown",
   "metadata": {},
   "source": [
    "<a id=\"metrix\"></a>\n",
    "### Сравнение мерик (retention rate, время проведенное в приложении, частота действий, конверсия в целевое действие) по каждому из полученных кластеров"
   ]
  },
  {
   "cell_type": "code",
   "execution_count": 42,
   "metadata": {
    "scrolled": false
   },
   "outputs": [
    {
     "data": {
      "text/html": [
       "<div>\n",
       "<style scoped>\n",
       "    .dataframe tbody tr th:only-of-type {\n",
       "        vertical-align: middle;\n",
       "    }\n",
       "\n",
       "    .dataframe tbody tr th {\n",
       "        vertical-align: top;\n",
       "    }\n",
       "\n",
       "    .dataframe thead th {\n",
       "        text-align: right;\n",
       "    }\n",
       "</style>\n",
       "<table border=\"1\" class=\"dataframe\">\n",
       "  <thead>\n",
       "    <tr style=\"text-align: right;\">\n",
       "      <th>cluster_1</th>\n",
       "      <th>0</th>\n",
       "      <th>1</th>\n",
       "    </tr>\n",
       "    <tr>\n",
       "      <th>event_name</th>\n",
       "      <th></th>\n",
       "      <th></th>\n",
       "    </tr>\n",
       "  </thead>\n",
       "  <tbody>\n",
       "    <tr>\n",
       "      <th>advert_open</th>\n",
       "      <td>1.05</td>\n",
       "      <td>14.49</td>\n",
       "    </tr>\n",
       "    <tr>\n",
       "      <th>contacts_call</th>\n",
       "      <td>0.13</td>\n",
       "      <td>0.00</td>\n",
       "    </tr>\n",
       "    <tr>\n",
       "      <th>favorites_add</th>\n",
       "      <td>0.30</td>\n",
       "      <td>1.23</td>\n",
       "    </tr>\n",
       "    <tr>\n",
       "      <th>map</th>\n",
       "      <td>0.72</td>\n",
       "      <td>6.96</td>\n",
       "    </tr>\n",
       "    <tr>\n",
       "      <th>photos_show</th>\n",
       "      <td>2.36</td>\n",
       "      <td>1.43</td>\n",
       "    </tr>\n",
       "    <tr>\n",
       "      <th>search_1</th>\n",
       "      <td>0.83</td>\n",
       "      <td>0.25</td>\n",
       "    </tr>\n",
       "    <tr>\n",
       "      <th>search_2</th>\n",
       "      <td>0.05</td>\n",
       "      <td>1.03</td>\n",
       "    </tr>\n",
       "    <tr>\n",
       "      <th>search_3</th>\n",
       "      <td>0.08</td>\n",
       "      <td>1.47</td>\n",
       "    </tr>\n",
       "    <tr>\n",
       "      <th>search_4</th>\n",
       "      <td>0.10</td>\n",
       "      <td>2.28</td>\n",
       "    </tr>\n",
       "    <tr>\n",
       "      <th>search_5</th>\n",
       "      <td>0.16</td>\n",
       "      <td>3.06</td>\n",
       "    </tr>\n",
       "    <tr>\n",
       "      <th>search_6</th>\n",
       "      <td>0.07</td>\n",
       "      <td>1.52</td>\n",
       "    </tr>\n",
       "    <tr>\n",
       "      <th>search_7</th>\n",
       "      <td>0.03</td>\n",
       "      <td>0.69</td>\n",
       "    </tr>\n",
       "    <tr>\n",
       "      <th>show_contacts</th>\n",
       "      <td>0.90</td>\n",
       "      <td>6.14</td>\n",
       "    </tr>\n",
       "    <tr>\n",
       "      <th>tips_click</th>\n",
       "      <td>0.18</td>\n",
       "      <td>0.67</td>\n",
       "    </tr>\n",
       "  </tbody>\n",
       "</table>\n",
       "</div>"
      ],
      "text/plain": [
       "cluster_1        0     1\n",
       "event_name              \n",
       "advert_open   1.05 14.49\n",
       "contacts_call 0.13  0.00\n",
       "favorites_add 0.30  1.23\n",
       "map           0.72  6.96\n",
       "photos_show   2.36  1.43\n",
       "search_1      0.83  0.25\n",
       "search_2      0.05  1.03\n",
       "search_3      0.08  1.47\n",
       "search_4      0.10  2.28\n",
       "search_5      0.16  3.06\n",
       "search_6      0.07  1.52\n",
       "search_7      0.03  0.69\n",
       "show_contacts 0.90  6.14\n",
       "tips_click    0.18  0.67"
      ]
     },
     "execution_count": 42,
     "metadata": {},
     "output_type": "execute_result"
    }
   ],
   "source": [
    "segmentation.groupby('cluster_1').mean().T"
   ]
  },
  {
   "cell_type": "code",
   "execution_count": 43,
   "metadata": {},
   "outputs": [],
   "source": [
    "data = data.merge(segmentation[['user_id','cluster_1']], how = 'left', on = 'user_id')"
   ]
  },
  {
   "cell_type": "code",
   "execution_count": 44,
   "metadata": {},
   "outputs": [],
   "source": [
    "t = data.groupby('cluster_1').agg({'user_id': 'nunique', 'event_name':'count',  'session_id': 'nunique'}).reset_index()"
   ]
  },
  {
   "cell_type": "code",
   "execution_count": 45,
   "metadata": {},
   "outputs": [],
   "source": [
    "t.columns = ['cluster_1', 'num_users', 'event_number', 'session_number']"
   ]
  },
  {
   "cell_type": "code",
   "execution_count": 46,
   "metadata": {},
   "outputs": [],
   "source": [
    "t['event_per_user'] = t['event_number']/t['num_users']\n",
    "t['sessions_per_user'] = t['session_number']/t['num_users']"
   ]
  },
  {
   "cell_type": "code",
   "execution_count": 47,
   "metadata": {},
   "outputs": [
    {
     "data": {
      "text/html": [
       "<div>\n",
       "<style scoped>\n",
       "    .dataframe tbody tr th:only-of-type {\n",
       "        vertical-align: middle;\n",
       "    }\n",
       "\n",
       "    .dataframe tbody tr th {\n",
       "        vertical-align: top;\n",
       "    }\n",
       "\n",
       "    .dataframe thead th {\n",
       "        text-align: right;\n",
       "    }\n",
       "</style>\n",
       "<table border=\"1\" class=\"dataframe\">\n",
       "  <thead>\n",
       "    <tr style=\"text-align: right;\">\n",
       "      <th></th>\n",
       "      <th>cluster_1</th>\n",
       "      <th>num_users</th>\n",
       "      <th>event_number</th>\n",
       "      <th>session_number</th>\n",
       "      <th>event_per_user</th>\n",
       "      <th>sessions_per_user</th>\n",
       "    </tr>\n",
       "  </thead>\n",
       "  <tbody>\n",
       "    <tr>\n",
       "      <th>0</th>\n",
       "      <td>0</td>\n",
       "      <td>4169</td>\n",
       "      <td>63600</td>\n",
       "      <td>9935</td>\n",
       "      <td>15.26</td>\n",
       "      <td>2.38</td>\n",
       "    </tr>\n",
       "    <tr>\n",
       "      <th>1</th>\n",
       "      <td>1</td>\n",
       "      <td>124</td>\n",
       "      <td>10597</td>\n",
       "      <td>1040</td>\n",
       "      <td>85.46</td>\n",
       "      <td>8.39</td>\n",
       "    </tr>\n",
       "  </tbody>\n",
       "</table>\n",
       "</div>"
      ],
      "text/plain": [
       "   cluster_1  num_users  event_number  session_number  event_per_user  \\\n",
       "0          0       4169         63600            9935           15.26   \n",
       "1          1        124         10597            1040           85.46   \n",
       "\n",
       "   sessions_per_user  \n",
       "0               2.38  \n",
       "1               8.39  "
      ]
     },
     "execution_count": 47,
     "metadata": {},
     "output_type": "execute_result"
    }
   ],
   "source": [
    "t"
   ]
  },
  {
   "cell_type": "markdown",
   "metadata": {},
   "source": [
    "- \"0\" самый многочисленный кластер с низкой активностью и плохой конвертацией в показ контактов, возможно зашли на сайт, ничего не зацепило и ушли, не пользуются поиском, не просматривают карту, \"надо работать\"\n",
    "- \"1\" наш фаворит, очень активный,  они чаще всех кликают по рекомендованному объявлению и лучше всех осуществляют целевое действие"
   ]
  },
  {
   "cell_type": "markdown",
   "metadata": {},
   "source": [
    "Сравним retention rate по каждому из кластеров"
   ]
  },
  {
   "cell_type": "code",
   "execution_count": 48,
   "metadata": {},
   "outputs": [],
   "source": [
    "#определим время начала сессии для каждого пользователя и самую первую сессию\n",
    "session_start_t = data.groupby(['user_id', 'session_id'])['event_date'].min().reset_index()\n",
    "first_date_table = data.groupby(['user_id'])['event_date'].min().reset_index()\n"
   ]
  },
  {
   "cell_type": "code",
   "execution_count": 49,
   "metadata": {},
   "outputs": [],
   "source": [
    "retention_calc = session_start_t .merge(first_date_table[['user_id', 'event_date']], how = 'left', \n",
    "                           on = ['user_id'])\n",
    "retention_calc.rename(columns = {'event_date_x': 'session_start','event_date_y' : 'first_ts'}, inplace = True) \n",
    "retention_calc['dt'] = pd.to_datetime(retention_calc['first_ts']).dt.date"
   ]
  },
  {
   "cell_type": "code",
   "execution_count": 50,
   "metadata": {},
   "outputs": [],
   "source": [
    "# задаём момент и горизонт анализа данных\n",
    "observation_date = datetime(2019, 11, 3).date()\n",
    "horizon_days = 6\n",
    "\n",
    "# создаём опцию «игнорировать горизонт»\n",
    "ignore_horizon = False"
   ]
  },
  {
   "cell_type": "code",
   "execution_count": 51,
   "metadata": {
    "scrolled": true
   },
   "outputs": [],
   "source": [
    "# рассчитываем максимально возможную дату привлечения\n",
    "last_suitable_acquisition_date = observation_date\n",
    "if not ignore_horizon:\n",
    "    last_suitable_acquisition_date = observation_date - timedelta(\n",
    "        days=horizon_days - 1\n",
    "    )\n",
    "\n",
    "# исключаем пользователей, пришедших после максимальной даты привлечения\n",
    "result_raw = retention_calc.query('dt <= @last_suitable_acquisition_date')\n",
    "\n",
    "result_raw = result_raw.merge(segmentation[['user_id', 'cluster_1']], how = 'left', on = 'user_id')"
   ]
  },
  {
   "cell_type": "code",
   "execution_count": 52,
   "metadata": {
    "scrolled": true
   },
   "outputs": [
    {
     "data": {
      "text/html": [
       "<div>\n",
       "<style scoped>\n",
       "    .dataframe tbody tr th:only-of-type {\n",
       "        vertical-align: middle;\n",
       "    }\n",
       "\n",
       "    .dataframe tbody tr th {\n",
       "        vertical-align: top;\n",
       "    }\n",
       "\n",
       "    .dataframe thead th {\n",
       "        text-align: right;\n",
       "    }\n",
       "</style>\n",
       "<table border=\"1\" class=\"dataframe\">\n",
       "  <thead>\n",
       "    <tr style=\"text-align: right;\">\n",
       "      <th></th>\n",
       "      <th>user_id</th>\n",
       "      <th>session_id</th>\n",
       "      <th>session_start</th>\n",
       "      <th>first_ts</th>\n",
       "      <th>dt</th>\n",
       "      <th>cluster_1</th>\n",
       "    </tr>\n",
       "  </thead>\n",
       "  <tbody>\n",
       "    <tr>\n",
       "      <th>0</th>\n",
       "      <td>0001b1d5-b74a-4cbf-aeb0-7df5947bf349</td>\n",
       "      <td>1</td>\n",
       "      <td>2019-10-07 13:39:45</td>\n",
       "      <td>2019-10-07 13:39:45</td>\n",
       "      <td>2019-10-07</td>\n",
       "      <td>0</td>\n",
       "    </tr>\n",
       "    <tr>\n",
       "      <th>1</th>\n",
       "      <td>0001b1d5-b74a-4cbf-aeb0-7df5947bf349</td>\n",
       "      <td>2</td>\n",
       "      <td>2019-10-09 18:33:55</td>\n",
       "      <td>2019-10-07 13:39:45</td>\n",
       "      <td>2019-10-07</td>\n",
       "      <td>0</td>\n",
       "    </tr>\n",
       "    <tr>\n",
       "      <th>2</th>\n",
       "      <td>0001b1d5-b74a-4cbf-aeb0-7df5947bf349</td>\n",
       "      <td>3</td>\n",
       "      <td>2019-10-21 19:52:30</td>\n",
       "      <td>2019-10-07 13:39:45</td>\n",
       "      <td>2019-10-07</td>\n",
       "      <td>0</td>\n",
       "    </tr>\n",
       "    <tr>\n",
       "      <th>3</th>\n",
       "      <td>0001b1d5-b74a-4cbf-aeb0-7df5947bf349</td>\n",
       "      <td>4</td>\n",
       "      <td>2019-10-22 11:18:14</td>\n",
       "      <td>2019-10-07 13:39:45</td>\n",
       "      <td>2019-10-07</td>\n",
       "      <td>0</td>\n",
       "    </tr>\n",
       "    <tr>\n",
       "      <th>4</th>\n",
       "      <td>00157779-810c-4498-9e05-a1e9e3cedf93</td>\n",
       "      <td>5</td>\n",
       "      <td>2019-10-19 21:34:33</td>\n",
       "      <td>2019-10-19 21:34:33</td>\n",
       "      <td>2019-10-19</td>\n",
       "      <td>0</td>\n",
       "    </tr>\n",
       "    <tr>\n",
       "      <th>...</th>\n",
       "      <td>...</td>\n",
       "      <td>...</td>\n",
       "      <td>...</td>\n",
       "      <td>...</td>\n",
       "      <td>...</td>\n",
       "      <td>...</td>\n",
       "    </tr>\n",
       "    <tr>\n",
       "      <th>9965</th>\n",
       "      <td>fffb9e79-b927-4dbb-9b48-7fd09b23a62b</td>\n",
       "      <td>10971</td>\n",
       "      <td>2019-11-02 01:16:48</td>\n",
       "      <td>2019-10-12 00:57:21</td>\n",
       "      <td>2019-10-12</td>\n",
       "      <td>0</td>\n",
       "    </tr>\n",
       "    <tr>\n",
       "      <th>9966</th>\n",
       "      <td>fffb9e79-b927-4dbb-9b48-7fd09b23a62b</td>\n",
       "      <td>10972</td>\n",
       "      <td>2019-11-02 18:01:27</td>\n",
       "      <td>2019-10-12 00:57:21</td>\n",
       "      <td>2019-10-12</td>\n",
       "      <td>0</td>\n",
       "    </tr>\n",
       "    <tr>\n",
       "      <th>9967</th>\n",
       "      <td>fffb9e79-b927-4dbb-9b48-7fd09b23a62b</td>\n",
       "      <td>10973</td>\n",
       "      <td>2019-11-02 19:25:53</td>\n",
       "      <td>2019-10-12 00:57:21</td>\n",
       "      <td>2019-10-12</td>\n",
       "      <td>0</td>\n",
       "    </tr>\n",
       "    <tr>\n",
       "      <th>9968</th>\n",
       "      <td>fffb9e79-b927-4dbb-9b48-7fd09b23a62b</td>\n",
       "      <td>10974</td>\n",
       "      <td>2019-11-03 14:32:55</td>\n",
       "      <td>2019-10-12 00:57:21</td>\n",
       "      <td>2019-10-12</td>\n",
       "      <td>0</td>\n",
       "    </tr>\n",
       "    <tr>\n",
       "      <th>9969</th>\n",
       "      <td>fffb9e79-b927-4dbb-9b48-7fd09b23a62b</td>\n",
       "      <td>10975</td>\n",
       "      <td>2019-11-03 15:36:01</td>\n",
       "      <td>2019-10-12 00:57:21</td>\n",
       "      <td>2019-10-12</td>\n",
       "      <td>0</td>\n",
       "    </tr>\n",
       "  </tbody>\n",
       "</table>\n",
       "<p>9970 rows × 6 columns</p>\n",
       "</div>"
      ],
      "text/plain": [
       "                                   user_id  session_id       session_start  \\\n",
       "0     0001b1d5-b74a-4cbf-aeb0-7df5947bf349           1 2019-10-07 13:39:45   \n",
       "1     0001b1d5-b74a-4cbf-aeb0-7df5947bf349           2 2019-10-09 18:33:55   \n",
       "2     0001b1d5-b74a-4cbf-aeb0-7df5947bf349           3 2019-10-21 19:52:30   \n",
       "3     0001b1d5-b74a-4cbf-aeb0-7df5947bf349           4 2019-10-22 11:18:14   \n",
       "4     00157779-810c-4498-9e05-a1e9e3cedf93           5 2019-10-19 21:34:33   \n",
       "...                                    ...         ...                 ...   \n",
       "9965  fffb9e79-b927-4dbb-9b48-7fd09b23a62b       10971 2019-11-02 01:16:48   \n",
       "9966  fffb9e79-b927-4dbb-9b48-7fd09b23a62b       10972 2019-11-02 18:01:27   \n",
       "9967  fffb9e79-b927-4dbb-9b48-7fd09b23a62b       10973 2019-11-02 19:25:53   \n",
       "9968  fffb9e79-b927-4dbb-9b48-7fd09b23a62b       10974 2019-11-03 14:32:55   \n",
       "9969  fffb9e79-b927-4dbb-9b48-7fd09b23a62b       10975 2019-11-03 15:36:01   \n",
       "\n",
       "                first_ts          dt  cluster_1  \n",
       "0    2019-10-07 13:39:45  2019-10-07          0  \n",
       "1    2019-10-07 13:39:45  2019-10-07          0  \n",
       "2    2019-10-07 13:39:45  2019-10-07          0  \n",
       "3    2019-10-07 13:39:45  2019-10-07          0  \n",
       "4    2019-10-19 21:34:33  2019-10-19          0  \n",
       "...                  ...         ...        ...  \n",
       "9965 2019-10-12 00:57:21  2019-10-12          0  \n",
       "9966 2019-10-12 00:57:21  2019-10-12          0  \n",
       "9967 2019-10-12 00:57:21  2019-10-12          0  \n",
       "9968 2019-10-12 00:57:21  2019-10-12          0  \n",
       "9969 2019-10-12 00:57:21  2019-10-12          0  \n",
       "\n",
       "[9970 rows x 6 columns]"
      ]
     },
     "execution_count": 52,
     "metadata": {},
     "output_type": "execute_result"
    }
   ],
   "source": [
    "result_raw"
   ]
  },
  {
   "cell_type": "code",
   "execution_count": 53,
   "metadata": {},
   "outputs": [],
   "source": [
    "def retention_by_cluster(cluster):\n",
    "    result_raw_c = result_raw.query('cluster_1 == @cluster')\n",
    "    result_raw_c['lifetime'] = (\n",
    "    result_raw_c['session_start'] - result_raw_c['first_ts']).dt.days  # вычисляем лайфтайм каждой сессии в днях\n",
    "\n",
    "    result_grouped = result_raw_c.pivot_table(\n",
    "    index=['dt'], columns='lifetime', values='user_id', aggfunc='nunique')  # строим таблицу удержания\n",
    "\n",
    "    cohort_sizes = (\n",
    "    result_raw_c.groupby('dt')\n",
    "    .agg({'user_id': 'nunique'})\n",
    "    .rename(columns={'user_id': 'cohort_size'})\n",
    "    )  # вычисляем размеры когорт\n",
    "\n",
    "    result_grouped = cohort_sizes.merge(\n",
    "    result_grouped, on='dt', how='left'\n",
    "    ).fillna(0)  # объединяем размеры когорт и таблицу удержания\n",
    "\n",
    "    # делим данные таблицы удержания на размеры когорт\n",
    "    result_grouped = result_grouped.div(result_grouped['cohort_size'], axis=0)\n",
    "\n",
    "    # исключаем из результата все лайфтаймы, превышающие горизонт анализа\n",
    "    result_grouped = result_grouped[['cohort_size'] + list(range(horizon_days))]\n",
    "\n",
    "    # во время деления все значения cohort_size превратились в единицу\n",
    "    # восстанавливаем — они понадобятся нам позже\n",
    "    result_grouped['cohort_size'] = cohort_sizes\n",
    "    return result_grouped\n"
   ]
  },
  {
   "cell_type": "code",
   "execution_count": 54,
   "metadata": {},
   "outputs": [
    {
     "name": "stdout",
     "output_type": "stream",
     "text": [
      "retention rate по кластеру 0\n"
     ]
    },
    {
     "data": {
      "image/png": "[encoded data removed]",
      "text/plain": [
       "<Figure size 1080x576 with 2 Axes>"
      ]
     },
     "metadata": {},
     "output_type": "display_data"
    },
    {
     "name": "stdout",
     "output_type": "stream",
     "text": [
      "retention rate по кластеру 1\n"
     ]
    },
    {
     "data": {
      "image/png": "[encoded data removed]",
      "text/plain": [
       "<Figure size 1080x576 with 2 Axes>"
      ]
     },
     "metadata": {},
     "output_type": "display_data"
    }
   ],
   "source": [
    "for i in range(2):\n",
    "    print(f'retention rate по кластеру {i}')\n",
    "    sns.set(rc = {'figure.figsize':(15,8)})\n",
    "    sns.heatmap(data = retention_by_cluster(i), vmin=0, vmax=1, annot = True, fmt='g')\n",
    "\n",
    "    plt.show()"
   ]
  },
  {
   "cell_type": "code",
   "execution_count": 55,
   "metadata": {
    "scrolled": true
   },
   "outputs": [
    {
     "name": "stdout",
     "output_type": "stream",
     "text": [
      "retention rate по кластеру 0\n"
     ]
    },
    {
     "data": {
      "text/html": [
       "<div>\n",
       "<style scoped>\n",
       "    .dataframe tbody tr th:only-of-type {\n",
       "        vertical-align: middle;\n",
       "    }\n",
       "\n",
       "    .dataframe tbody tr th {\n",
       "        vertical-align: top;\n",
       "    }\n",
       "\n",
       "    .dataframe thead th {\n",
       "        text-align: right;\n",
       "    }\n",
       "</style>\n",
       "<table border=\"1\" class=\"dataframe\">\n",
       "  <thead>\n",
       "    <tr style=\"text-align: right;\">\n",
       "      <th></th>\n",
       "      <th>cohort_size</th>\n",
       "      <th>0</th>\n",
       "      <th>1</th>\n",
       "      <th>2</th>\n",
       "      <th>3</th>\n",
       "      <th>4</th>\n",
       "      <th>5</th>\n",
       "    </tr>\n",
       "    <tr>\n",
       "      <th>dt</th>\n",
       "      <th></th>\n",
       "      <th></th>\n",
       "      <th></th>\n",
       "      <th></th>\n",
       "      <th></th>\n",
       "      <th></th>\n",
       "      <th></th>\n",
       "    </tr>\n",
       "  </thead>\n",
       "  <tbody>\n",
       "    <tr>\n",
       "      <th>2019-10-07</th>\n",
       "      <td>195</td>\n",
       "      <td>1.00</td>\n",
       "      <td>0.11</td>\n",
       "      <td>0.09</td>\n",
       "      <td>0.10</td>\n",
       "      <td>0.05</td>\n",
       "      <td>0.04</td>\n",
       "    </tr>\n",
       "    <tr>\n",
       "      <th>2019-10-08</th>\n",
       "      <td>154</td>\n",
       "      <td>1.00</td>\n",
       "      <td>0.14</td>\n",
       "      <td>0.11</td>\n",
       "      <td>0.03</td>\n",
       "      <td>0.03</td>\n",
       "      <td>0.06</td>\n",
       "    </tr>\n",
       "    <tr>\n",
       "      <th>2019-10-09</th>\n",
       "      <td>173</td>\n",
       "      <td>1.00</td>\n",
       "      <td>0.08</td>\n",
       "      <td>0.06</td>\n",
       "      <td>0.06</td>\n",
       "      <td>0.06</td>\n",
       "      <td>0.07</td>\n",
       "    </tr>\n",
       "    <tr>\n",
       "      <th>2019-10-10</th>\n",
       "      <td>168</td>\n",
       "      <td>1.00</td>\n",
       "      <td>0.08</td>\n",
       "      <td>0.09</td>\n",
       "      <td>0.07</td>\n",
       "      <td>0.08</td>\n",
       "      <td>0.07</td>\n",
       "    </tr>\n",
       "    <tr>\n",
       "      <th>2019-10-11</th>\n",
       "      <td>128</td>\n",
       "      <td>1.00</td>\n",
       "      <td>0.09</td>\n",
       "      <td>0.10</td>\n",
       "      <td>0.08</td>\n",
       "      <td>0.09</td>\n",
       "      <td>0.07</td>\n",
       "    </tr>\n",
       "    <tr>\n",
       "      <th>2019-10-12</th>\n",
       "      <td>119</td>\n",
       "      <td>1.00</td>\n",
       "      <td>0.12</td>\n",
       "      <td>0.14</td>\n",
       "      <td>0.05</td>\n",
       "      <td>0.06</td>\n",
       "      <td>0.08</td>\n",
       "    </tr>\n",
       "    <tr>\n",
       "      <th>2019-10-13</th>\n",
       "      <td>144</td>\n",
       "      <td>1.00</td>\n",
       "      <td>0.12</td>\n",
       "      <td>0.06</td>\n",
       "      <td>0.06</td>\n",
       "      <td>0.07</td>\n",
       "      <td>0.05</td>\n",
       "    </tr>\n",
       "    <tr>\n",
       "      <th>2019-10-14</th>\n",
       "      <td>178</td>\n",
       "      <td>1.00</td>\n",
       "      <td>0.11</td>\n",
       "      <td>0.09</td>\n",
       "      <td>0.10</td>\n",
       "      <td>0.07</td>\n",
       "      <td>0.06</td>\n",
       "    </tr>\n",
       "    <tr>\n",
       "      <th>2019-10-15</th>\n",
       "      <td>179</td>\n",
       "      <td>1.00</td>\n",
       "      <td>0.13</td>\n",
       "      <td>0.09</td>\n",
       "      <td>0.08</td>\n",
       "      <td>0.06</td>\n",
       "      <td>0.06</td>\n",
       "    </tr>\n",
       "    <tr>\n",
       "      <th>2019-10-16</th>\n",
       "      <td>161</td>\n",
       "      <td>1.00</td>\n",
       "      <td>0.12</td>\n",
       "      <td>0.07</td>\n",
       "      <td>0.03</td>\n",
       "      <td>0.04</td>\n",
       "      <td>0.06</td>\n",
       "    </tr>\n",
       "    <tr>\n",
       "      <th>2019-10-17</th>\n",
       "      <td>169</td>\n",
       "      <td>1.00</td>\n",
       "      <td>0.14</td>\n",
       "      <td>0.13</td>\n",
       "      <td>0.09</td>\n",
       "      <td>0.09</td>\n",
       "      <td>0.09</td>\n",
       "    </tr>\n",
       "    <tr>\n",
       "      <th>2019-10-18</th>\n",
       "      <td>148</td>\n",
       "      <td>1.00</td>\n",
       "      <td>0.08</td>\n",
       "      <td>0.09</td>\n",
       "      <td>0.09</td>\n",
       "      <td>0.04</td>\n",
       "      <td>0.03</td>\n",
       "    </tr>\n",
       "    <tr>\n",
       "      <th>2019-10-19</th>\n",
       "      <td>154</td>\n",
       "      <td>1.00</td>\n",
       "      <td>0.10</td>\n",
       "      <td>0.10</td>\n",
       "      <td>0.06</td>\n",
       "      <td>0.03</td>\n",
       "      <td>0.06</td>\n",
       "    </tr>\n",
       "    <tr>\n",
       "      <th>2019-10-20</th>\n",
       "      <td>143</td>\n",
       "      <td>1.00</td>\n",
       "      <td>0.10</td>\n",
       "      <td>0.08</td>\n",
       "      <td>0.05</td>\n",
       "      <td>0.07</td>\n",
       "      <td>0.06</td>\n",
       "    </tr>\n",
       "    <tr>\n",
       "      <th>2019-10-21</th>\n",
       "      <td>150</td>\n",
       "      <td>1.00</td>\n",
       "      <td>0.07</td>\n",
       "      <td>0.07</td>\n",
       "      <td>0.08</td>\n",
       "      <td>0.02</td>\n",
       "      <td>0.03</td>\n",
       "    </tr>\n",
       "    <tr>\n",
       "      <th>2019-10-22</th>\n",
       "      <td>153</td>\n",
       "      <td>1.00</td>\n",
       "      <td>0.10</td>\n",
       "      <td>0.07</td>\n",
       "      <td>0.04</td>\n",
       "      <td>0.03</td>\n",
       "      <td>0.05</td>\n",
       "    </tr>\n",
       "    <tr>\n",
       "      <th>2019-10-23</th>\n",
       "      <td>186</td>\n",
       "      <td>1.00</td>\n",
       "      <td>0.10</td>\n",
       "      <td>0.08</td>\n",
       "      <td>0.08</td>\n",
       "      <td>0.05</td>\n",
       "      <td>0.05</td>\n",
       "    </tr>\n",
       "    <tr>\n",
       "      <th>2019-10-24</th>\n",
       "      <td>161</td>\n",
       "      <td>1.00</td>\n",
       "      <td>0.09</td>\n",
       "      <td>0.07</td>\n",
       "      <td>0.04</td>\n",
       "      <td>0.06</td>\n",
       "      <td>0.06</td>\n",
       "    </tr>\n",
       "    <tr>\n",
       "      <th>2019-10-25</th>\n",
       "      <td>144</td>\n",
       "      <td>1.00</td>\n",
       "      <td>0.08</td>\n",
       "      <td>0.10</td>\n",
       "      <td>0.10</td>\n",
       "      <td>0.08</td>\n",
       "      <td>0.06</td>\n",
       "    </tr>\n",
       "    <tr>\n",
       "      <th>2019-10-26</th>\n",
       "      <td>137</td>\n",
       "      <td>1.00</td>\n",
       "      <td>0.13</td>\n",
       "      <td>0.06</td>\n",
       "      <td>0.07</td>\n",
       "      <td>0.09</td>\n",
       "      <td>0.06</td>\n",
       "    </tr>\n",
       "    <tr>\n",
       "      <th>2019-10-27</th>\n",
       "      <td>134</td>\n",
       "      <td>1.00</td>\n",
       "      <td>0.05</td>\n",
       "      <td>0.07</td>\n",
       "      <td>0.07</td>\n",
       "      <td>0.06</td>\n",
       "      <td>0.07</td>\n",
       "    </tr>\n",
       "    <tr>\n",
       "      <th>2019-10-28</th>\n",
       "      <td>155</td>\n",
       "      <td>1.00</td>\n",
       "      <td>0.10</td>\n",
       "      <td>0.10</td>\n",
       "      <td>0.06</td>\n",
       "      <td>0.06</td>\n",
       "      <td>0.01</td>\n",
       "    </tr>\n",
       "    <tr>\n",
       "      <th>2019-10-29</th>\n",
       "      <td>132</td>\n",
       "      <td>1.00</td>\n",
       "      <td>0.15</td>\n",
       "      <td>0.11</td>\n",
       "      <td>0.08</td>\n",
       "      <td>0.05</td>\n",
       "      <td>0.02</td>\n",
       "    </tr>\n",
       "  </tbody>\n",
       "</table>\n",
       "</div>"
      ],
      "text/plain": [
       "            cohort_size    0    1    2    3    4    5\n",
       "dt                                                   \n",
       "2019-10-07          195 1.00 0.11 0.09 0.10 0.05 0.04\n",
       "2019-10-08          154 1.00 0.14 0.11 0.03 0.03 0.06\n",
       "2019-10-09          173 1.00 0.08 0.06 0.06 0.06 0.07\n",
       "2019-10-10          168 1.00 0.08 0.09 0.07 0.08 0.07\n",
       "2019-10-11          128 1.00 0.09 0.10 0.08 0.09 0.07\n",
       "2019-10-12          119 1.00 0.12 0.14 0.05 0.06 0.08\n",
       "2019-10-13          144 1.00 0.12 0.06 0.06 0.07 0.05\n",
       "2019-10-14          178 1.00 0.11 0.09 0.10 0.07 0.06\n",
       "2019-10-15          179 1.00 0.13 0.09 0.08 0.06 0.06\n",
       "2019-10-16          161 1.00 0.12 0.07 0.03 0.04 0.06\n",
       "2019-10-17          169 1.00 0.14 0.13 0.09 0.09 0.09\n",
       "2019-10-18          148 1.00 0.08 0.09 0.09 0.04 0.03\n",
       "2019-10-19          154 1.00 0.10 0.10 0.06 0.03 0.06\n",
       "2019-10-20          143 1.00 0.10 0.08 0.05 0.07 0.06\n",
       "2019-10-21          150 1.00 0.07 0.07 0.08 0.02 0.03\n",
       "2019-10-22          153 1.00 0.10 0.07 0.04 0.03 0.05\n",
       "2019-10-23          186 1.00 0.10 0.08 0.08 0.05 0.05\n",
       "2019-10-24          161 1.00 0.09 0.07 0.04 0.06 0.06\n",
       "2019-10-25          144 1.00 0.08 0.10 0.10 0.08 0.06\n",
       "2019-10-26          137 1.00 0.13 0.06 0.07 0.09 0.06\n",
       "2019-10-27          134 1.00 0.05 0.07 0.07 0.06 0.07\n",
       "2019-10-28          155 1.00 0.10 0.10 0.06 0.06 0.01\n",
       "2019-10-29          132 1.00 0.15 0.11 0.08 0.05 0.02"
      ]
     },
     "metadata": {},
     "output_type": "display_data"
    },
    {
     "name": "stdout",
     "output_type": "stream",
     "text": [
      "retention rate по кластеру 1\n"
     ]
    },
    {
     "data": {
      "text/html": [
       "<div>\n",
       "<style scoped>\n",
       "    .dataframe tbody tr th:only-of-type {\n",
       "        vertical-align: middle;\n",
       "    }\n",
       "\n",
       "    .dataframe tbody tr th {\n",
       "        vertical-align: top;\n",
       "    }\n",
       "\n",
       "    .dataframe thead th {\n",
       "        text-align: right;\n",
       "    }\n",
       "</style>\n",
       "<table border=\"1\" class=\"dataframe\">\n",
       "  <thead>\n",
       "    <tr style=\"text-align: right;\">\n",
       "      <th></th>\n",
       "      <th>cohort_size</th>\n",
       "      <th>0</th>\n",
       "      <th>1</th>\n",
       "      <th>2</th>\n",
       "      <th>3</th>\n",
       "      <th>4</th>\n",
       "      <th>5</th>\n",
       "    </tr>\n",
       "    <tr>\n",
       "      <th>dt</th>\n",
       "      <th></th>\n",
       "      <th></th>\n",
       "      <th></th>\n",
       "      <th></th>\n",
       "      <th></th>\n",
       "      <th></th>\n",
       "      <th></th>\n",
       "    </tr>\n",
       "  </thead>\n",
       "  <tbody>\n",
       "    <tr>\n",
       "      <th>2019-10-07</th>\n",
       "      <td>9</td>\n",
       "      <td>1.00</td>\n",
       "      <td>0.33</td>\n",
       "      <td>0.22</td>\n",
       "      <td>0.22</td>\n",
       "      <td>0.11</td>\n",
       "      <td>0.00</td>\n",
       "    </tr>\n",
       "    <tr>\n",
       "      <th>2019-10-08</th>\n",
       "      <td>13</td>\n",
       "      <td>1.00</td>\n",
       "      <td>0.46</td>\n",
       "      <td>0.31</td>\n",
       "      <td>0.31</td>\n",
       "      <td>0.15</td>\n",
       "      <td>0.15</td>\n",
       "    </tr>\n",
       "    <tr>\n",
       "      <th>2019-10-09</th>\n",
       "      <td>3</td>\n",
       "      <td>1.00</td>\n",
       "      <td>0.00</td>\n",
       "      <td>0.00</td>\n",
       "      <td>0.00</td>\n",
       "      <td>0.33</td>\n",
       "      <td>0.00</td>\n",
       "    </tr>\n",
       "    <tr>\n",
       "      <th>2019-10-10</th>\n",
       "      <td>6</td>\n",
       "      <td>1.00</td>\n",
       "      <td>0.17</td>\n",
       "      <td>0.50</td>\n",
       "      <td>0.50</td>\n",
       "      <td>0.50</td>\n",
       "      <td>0.33</td>\n",
       "    </tr>\n",
       "    <tr>\n",
       "      <th>2019-10-11</th>\n",
       "      <td>8</td>\n",
       "      <td>1.00</td>\n",
       "      <td>0.12</td>\n",
       "      <td>0.38</td>\n",
       "      <td>0.38</td>\n",
       "      <td>0.12</td>\n",
       "      <td>0.12</td>\n",
       "    </tr>\n",
       "    <tr>\n",
       "      <th>2019-10-12</th>\n",
       "      <td>6</td>\n",
       "      <td>1.00</td>\n",
       "      <td>0.33</td>\n",
       "      <td>0.50</td>\n",
       "      <td>0.17</td>\n",
       "      <td>0.17</td>\n",
       "      <td>0.33</td>\n",
       "    </tr>\n",
       "    <tr>\n",
       "      <th>2019-10-13</th>\n",
       "      <td>4</td>\n",
       "      <td>1.00</td>\n",
       "      <td>0.25</td>\n",
       "      <td>0.25</td>\n",
       "      <td>0.00</td>\n",
       "      <td>0.00</td>\n",
       "      <td>0.25</td>\n",
       "    </tr>\n",
       "    <tr>\n",
       "      <th>2019-10-14</th>\n",
       "      <td>7</td>\n",
       "      <td>1.00</td>\n",
       "      <td>0.29</td>\n",
       "      <td>0.43</td>\n",
       "      <td>0.14</td>\n",
       "      <td>0.29</td>\n",
       "      <td>0.29</td>\n",
       "    </tr>\n",
       "    <tr>\n",
       "      <th>2019-10-15</th>\n",
       "      <td>7</td>\n",
       "      <td>1.00</td>\n",
       "      <td>0.14</td>\n",
       "      <td>0.00</td>\n",
       "      <td>0.00</td>\n",
       "      <td>0.00</td>\n",
       "      <td>0.00</td>\n",
       "    </tr>\n",
       "    <tr>\n",
       "      <th>2019-10-16</th>\n",
       "      <td>5</td>\n",
       "      <td>1.00</td>\n",
       "      <td>0.40</td>\n",
       "      <td>0.20</td>\n",
       "      <td>0.00</td>\n",
       "      <td>0.20</td>\n",
       "      <td>0.20</td>\n",
       "    </tr>\n",
       "    <tr>\n",
       "      <th>2019-10-17</th>\n",
       "      <td>1</td>\n",
       "      <td>1.00</td>\n",
       "      <td>0.00</td>\n",
       "      <td>0.00</td>\n",
       "      <td>0.00</td>\n",
       "      <td>0.00</td>\n",
       "      <td>1.00</td>\n",
       "    </tr>\n",
       "    <tr>\n",
       "      <th>2019-10-18</th>\n",
       "      <td>8</td>\n",
       "      <td>1.00</td>\n",
       "      <td>0.12</td>\n",
       "      <td>0.12</td>\n",
       "      <td>0.12</td>\n",
       "      <td>0.38</td>\n",
       "      <td>0.62</td>\n",
       "    </tr>\n",
       "    <tr>\n",
       "      <th>2019-10-19</th>\n",
       "      <td>5</td>\n",
       "      <td>1.00</td>\n",
       "      <td>0.00</td>\n",
       "      <td>0.60</td>\n",
       "      <td>0.20</td>\n",
       "      <td>0.00</td>\n",
       "      <td>0.00</td>\n",
       "    </tr>\n",
       "    <tr>\n",
       "      <th>2019-10-20</th>\n",
       "      <td>1</td>\n",
       "      <td>1.00</td>\n",
       "      <td>0.00</td>\n",
       "      <td>0.00</td>\n",
       "      <td>0.00</td>\n",
       "      <td>0.00</td>\n",
       "      <td>0.00</td>\n",
       "    </tr>\n",
       "    <tr>\n",
       "      <th>2019-10-21</th>\n",
       "      <td>11</td>\n",
       "      <td>1.00</td>\n",
       "      <td>0.36</td>\n",
       "      <td>0.27</td>\n",
       "      <td>0.36</td>\n",
       "      <td>0.27</td>\n",
       "      <td>0.18</td>\n",
       "    </tr>\n",
       "    <tr>\n",
       "      <th>2019-10-22</th>\n",
       "      <td>4</td>\n",
       "      <td>1.00</td>\n",
       "      <td>0.50</td>\n",
       "      <td>0.50</td>\n",
       "      <td>0.50</td>\n",
       "      <td>0.50</td>\n",
       "      <td>0.50</td>\n",
       "    </tr>\n",
       "    <tr>\n",
       "      <th>2019-10-23</th>\n",
       "      <td>3</td>\n",
       "      <td>1.00</td>\n",
       "      <td>0.00</td>\n",
       "      <td>0.00</td>\n",
       "      <td>0.00</td>\n",
       "      <td>0.00</td>\n",
       "      <td>0.00</td>\n",
       "    </tr>\n",
       "    <tr>\n",
       "      <th>2019-10-24</th>\n",
       "      <td>1</td>\n",
       "      <td>1.00</td>\n",
       "      <td>1.00</td>\n",
       "      <td>1.00</td>\n",
       "      <td>1.00</td>\n",
       "      <td>0.00</td>\n",
       "      <td>0.00</td>\n",
       "    </tr>\n",
       "    <tr>\n",
       "      <th>2019-10-25</th>\n",
       "      <td>3</td>\n",
       "      <td>1.00</td>\n",
       "      <td>0.33</td>\n",
       "      <td>0.00</td>\n",
       "      <td>0.00</td>\n",
       "      <td>0.67</td>\n",
       "      <td>0.33</td>\n",
       "    </tr>\n",
       "    <tr>\n",
       "      <th>2019-10-26</th>\n",
       "      <td>2</td>\n",
       "      <td>1.00</td>\n",
       "      <td>1.00</td>\n",
       "      <td>0.50</td>\n",
       "      <td>0.00</td>\n",
       "      <td>0.00</td>\n",
       "      <td>0.00</td>\n",
       "    </tr>\n",
       "    <tr>\n",
       "      <th>2019-10-27</th>\n",
       "      <td>5</td>\n",
       "      <td>1.00</td>\n",
       "      <td>0.60</td>\n",
       "      <td>0.20</td>\n",
       "      <td>0.20</td>\n",
       "      <td>0.60</td>\n",
       "      <td>0.40</td>\n",
       "    </tr>\n",
       "    <tr>\n",
       "      <th>2019-10-28</th>\n",
       "      <td>3</td>\n",
       "      <td>1.00</td>\n",
       "      <td>0.00</td>\n",
       "      <td>0.00</td>\n",
       "      <td>0.00</td>\n",
       "      <td>0.00</td>\n",
       "      <td>0.00</td>\n",
       "    </tr>\n",
       "    <tr>\n",
       "      <th>2019-10-29</th>\n",
       "      <td>3</td>\n",
       "      <td>1.00</td>\n",
       "      <td>1.00</td>\n",
       "      <td>0.33</td>\n",
       "      <td>0.67</td>\n",
       "      <td>0.33</td>\n",
       "      <td>0.00</td>\n",
       "    </tr>\n",
       "  </tbody>\n",
       "</table>\n",
       "</div>"
      ],
      "text/plain": [
       "            cohort_size    0    1    2    3    4    5\n",
       "dt                                                   \n",
       "2019-10-07            9 1.00 0.33 0.22 0.22 0.11 0.00\n",
       "2019-10-08           13 1.00 0.46 0.31 0.31 0.15 0.15\n",
       "2019-10-09            3 1.00 0.00 0.00 0.00 0.33 0.00\n",
       "2019-10-10            6 1.00 0.17 0.50 0.50 0.50 0.33\n",
       "2019-10-11            8 1.00 0.12 0.38 0.38 0.12 0.12\n",
       "2019-10-12            6 1.00 0.33 0.50 0.17 0.17 0.33\n",
       "2019-10-13            4 1.00 0.25 0.25 0.00 0.00 0.25\n",
       "2019-10-14            7 1.00 0.29 0.43 0.14 0.29 0.29\n",
       "2019-10-15            7 1.00 0.14 0.00 0.00 0.00 0.00\n",
       "2019-10-16            5 1.00 0.40 0.20 0.00 0.20 0.20\n",
       "2019-10-17            1 1.00 0.00 0.00 0.00 0.00 1.00\n",
       "2019-10-18            8 1.00 0.12 0.12 0.12 0.38 0.62\n",
       "2019-10-19            5 1.00 0.00 0.60 0.20 0.00 0.00\n",
       "2019-10-20            1 1.00 0.00 0.00 0.00 0.00 0.00\n",
       "2019-10-21           11 1.00 0.36 0.27 0.36 0.27 0.18\n",
       "2019-10-22            4 1.00 0.50 0.50 0.50 0.50 0.50\n",
       "2019-10-23            3 1.00 0.00 0.00 0.00 0.00 0.00\n",
       "2019-10-24            1 1.00 1.00 1.00 1.00 0.00 0.00\n",
       "2019-10-25            3 1.00 0.33 0.00 0.00 0.67 0.33\n",
       "2019-10-26            2 1.00 1.00 0.50 0.00 0.00 0.00\n",
       "2019-10-27            5 1.00 0.60 0.20 0.20 0.60 0.40\n",
       "2019-10-28            3 1.00 0.00 0.00 0.00 0.00 0.00\n",
       "2019-10-29            3 1.00 1.00 0.33 0.67 0.33 0.00"
      ]
     },
     "metadata": {},
     "output_type": "display_data"
    }
   ],
   "source": [
    "for i in range(2):\n",
    "    print(f'retention rate по кластеру {i}')\n",
    "    display(retention_by_cluster(i))"
   ]
  },
  {
   "cell_type": "markdown",
   "metadata": {},
   "source": [
    "Коэффициент удержания выше по пользвателям кластера \"1\", что логично, это более активные пользователи, по ним так же выше конвертация в целевое действие, однако их небольшое количество (максимальный размер когорты за период - 13 человек), не дает сделать однозначных выводов.\n",
    "Что можно сказать:\n",
    "- пользователи заходят в приложение не каждый день, что логично - это не инстаграмм, однако не появлясь несколько дней, вполне могут вернуться, так что если пользователи не появляются в приложении, это не значит что оно ему не нужно, возможно стоит направить письмо с рекомендациями на основе его поисков например\n",
    "- кластер 1 лучше и по удержанию и по конверсии в целевое действие, сравнивать конверсию по когортам у них трудно, ввиду малого числа пользоватлей но, например 62% пользоватлей когорты от 18.10.2019 что то заставило вернуться на 5 день, возможно какая то акция\n",
    "- По кластеру 1, с которым нам и нужно работать, удержание на 6й день в среднем составляет 5,5%, самые \"качественные\" пользователи пришли к нам 17.10.2019, и наоборот - 28-29.10.2019"
   ]
  },
  {
   "cell_type": "code",
   "execution_count": 56,
   "metadata": {
    "scrolled": true
   },
   "outputs": [],
   "source": [
    "data = data.merge(session_start_t[['user_id', 'session_id', 'event_date']], how = 'left', \n",
    "                           on = ['user_id', 'session_id'])"
   ]
  },
  {
   "cell_type": "code",
   "execution_count": 57,
   "metadata": {
    "scrolled": true
   },
   "outputs": [],
   "source": [
    "data = data.rename(columns = {'event_date_y': 'session_st'})"
   ]
  },
  {
   "cell_type": "code",
   "execution_count": 58,
   "metadata": {
    "scrolled": false
   },
   "outputs": [
    {
     "data": {
      "text/html": [
       "<div>\n",
       "<style scoped>\n",
       "    .dataframe tbody tr th:only-of-type {\n",
       "        vertical-align: middle;\n",
       "    }\n",
       "\n",
       "    .dataframe tbody tr th {\n",
       "        vertical-align: top;\n",
       "    }\n",
       "\n",
       "    .dataframe thead th {\n",
       "        text-align: right;\n",
       "    }\n",
       "</style>\n",
       "<table border=\"1\" class=\"dataframe\">\n",
       "  <thead>\n",
       "    <tr style=\"text-align: right;\">\n",
       "      <th></th>\n",
       "      <th>event_time</th>\n",
       "      <th>event_name</th>\n",
       "      <th>user_id</th>\n",
       "      <th>event_date_x</th>\n",
       "      <th>event_dt</th>\n",
       "      <th>diff</th>\n",
       "      <th>diff_sec</th>\n",
       "      <th>session_id</th>\n",
       "      <th>cluster_1</th>\n",
       "      <th>session_st</th>\n",
       "      <th>is_first_event_in_session</th>\n",
       "      <th>time_on_page</th>\n",
       "    </tr>\n",
       "  </thead>\n",
       "  <tbody>\n",
       "    <tr>\n",
       "      <th>0</th>\n",
       "      <td>2019-10-07 13:39:45.989359</td>\n",
       "      <td>tips_show</td>\n",
       "      <td>0001b1d5-b74a-4cbf-aeb0-7df5947bf349</td>\n",
       "      <td>2019-10-07 13:39:45</td>\n",
       "      <td>2019-10-07</td>\n",
       "      <td>NaT</td>\n",
       "      <td>NaN</td>\n",
       "      <td>1</td>\n",
       "      <td>0</td>\n",
       "      <td>2019-10-07 13:39:45</td>\n",
       "      <td>True</td>\n",
       "      <td>46.00</td>\n",
       "    </tr>\n",
       "    <tr>\n",
       "      <th>1</th>\n",
       "      <td>2019-10-07 13:40:31.052909</td>\n",
       "      <td>tips_show</td>\n",
       "      <td>0001b1d5-b74a-4cbf-aeb0-7df5947bf349</td>\n",
       "      <td>2019-10-07 13:40:31</td>\n",
       "      <td>2019-10-07</td>\n",
       "      <td>0 days 00:00:46</td>\n",
       "      <td>46.00</td>\n",
       "      <td>1</td>\n",
       "      <td>0</td>\n",
       "      <td>2019-10-07 13:39:45</td>\n",
       "      <td>False</td>\n",
       "      <td>34.00</td>\n",
       "    </tr>\n",
       "    <tr>\n",
       "      <th>2</th>\n",
       "      <td>2019-10-07 13:41:05.722489</td>\n",
       "      <td>tips_show</td>\n",
       "      <td>0001b1d5-b74a-4cbf-aeb0-7df5947bf349</td>\n",
       "      <td>2019-10-07 13:41:05</td>\n",
       "      <td>2019-10-07</td>\n",
       "      <td>0 days 00:00:34</td>\n",
       "      <td>34.00</td>\n",
       "      <td>1</td>\n",
       "      <td>0</td>\n",
       "      <td>2019-10-07 13:39:45</td>\n",
       "      <td>False</td>\n",
       "      <td>135.00</td>\n",
       "    </tr>\n",
       "    <tr>\n",
       "      <th>3</th>\n",
       "      <td>2019-10-07 13:43:20.735461</td>\n",
       "      <td>tips_show</td>\n",
       "      <td>0001b1d5-b74a-4cbf-aeb0-7df5947bf349</td>\n",
       "      <td>2019-10-07 13:43:20</td>\n",
       "      <td>2019-10-07</td>\n",
       "      <td>0 days 00:02:15</td>\n",
       "      <td>135.00</td>\n",
       "      <td>1</td>\n",
       "      <td>0</td>\n",
       "      <td>2019-10-07 13:39:45</td>\n",
       "      <td>False</td>\n",
       "      <td>130.00</td>\n",
       "    </tr>\n",
       "    <tr>\n",
       "      <th>4</th>\n",
       "      <td>2019-10-07 13:45:30.917502</td>\n",
       "      <td>tips_show</td>\n",
       "      <td>0001b1d5-b74a-4cbf-aeb0-7df5947bf349</td>\n",
       "      <td>2019-10-07 13:45:30</td>\n",
       "      <td>2019-10-07</td>\n",
       "      <td>0 days 00:02:10</td>\n",
       "      <td>130.00</td>\n",
       "      <td>1</td>\n",
       "      <td>0</td>\n",
       "      <td>2019-10-07 13:39:45</td>\n",
       "      <td>False</td>\n",
       "      <td>13.00</td>\n",
       "    </tr>\n",
       "    <tr>\n",
       "      <th>...</th>\n",
       "      <td>...</td>\n",
       "      <td>...</td>\n",
       "      <td>...</td>\n",
       "      <td>...</td>\n",
       "      <td>...</td>\n",
       "      <td>...</td>\n",
       "      <td>...</td>\n",
       "      <td>...</td>\n",
       "      <td>...</td>\n",
       "      <td>...</td>\n",
       "      <td>...</td>\n",
       "      <td>...</td>\n",
       "    </tr>\n",
       "    <tr>\n",
       "      <th>74192</th>\n",
       "      <td>2019-11-03 15:51:23.959572</td>\n",
       "      <td>tips_show</td>\n",
       "      <td>fffb9e79-b927-4dbb-9b48-7fd09b23a62b</td>\n",
       "      <td>2019-11-03 15:51:23</td>\n",
       "      <td>2019-11-03</td>\n",
       "      <td>0 days 00:00:27</td>\n",
       "      <td>27.00</td>\n",
       "      <td>10975</td>\n",
       "      <td>0</td>\n",
       "      <td>2019-11-03 15:36:01</td>\n",
       "      <td>False</td>\n",
       "      <td>34.00</td>\n",
       "    </tr>\n",
       "    <tr>\n",
       "      <th>74193</th>\n",
       "      <td>2019-11-03 15:51:57.899997</td>\n",
       "      <td>show_contacts</td>\n",
       "      <td>fffb9e79-b927-4dbb-9b48-7fd09b23a62b</td>\n",
       "      <td>2019-11-03 15:51:57</td>\n",
       "      <td>2019-11-03</td>\n",
       "      <td>0 days 00:00:34</td>\n",
       "      <td>34.00</td>\n",
       "      <td>10975</td>\n",
       "      <td>0</td>\n",
       "      <td>2019-11-03 15:36:01</td>\n",
       "      <td>False</td>\n",
       "      <td>943.00</td>\n",
       "    </tr>\n",
       "    <tr>\n",
       "      <th>74194</th>\n",
       "      <td>2019-11-03 16:07:40.932077</td>\n",
       "      <td>tips_show</td>\n",
       "      <td>fffb9e79-b927-4dbb-9b48-7fd09b23a62b</td>\n",
       "      <td>2019-11-03 16:07:40</td>\n",
       "      <td>2019-11-03</td>\n",
       "      <td>0 days 00:15:43</td>\n",
       "      <td>943.00</td>\n",
       "      <td>10975</td>\n",
       "      <td>0</td>\n",
       "      <td>2019-11-03 15:36:01</td>\n",
       "      <td>False</td>\n",
       "      <td>38.00</td>\n",
       "    </tr>\n",
       "    <tr>\n",
       "      <th>74195</th>\n",
       "      <td>2019-11-03 16:08:18.202734</td>\n",
       "      <td>tips_show</td>\n",
       "      <td>fffb9e79-b927-4dbb-9b48-7fd09b23a62b</td>\n",
       "      <td>2019-11-03 16:08:18</td>\n",
       "      <td>2019-11-03</td>\n",
       "      <td>0 days 00:00:38</td>\n",
       "      <td>38.00</td>\n",
       "      <td>10975</td>\n",
       "      <td>0</td>\n",
       "      <td>2019-11-03 15:36:01</td>\n",
       "      <td>False</td>\n",
       "      <td>7.00</td>\n",
       "    </tr>\n",
       "    <tr>\n",
       "      <th>74196</th>\n",
       "      <td>2019-11-03 16:08:25.388712</td>\n",
       "      <td>tips_show</td>\n",
       "      <td>fffb9e79-b927-4dbb-9b48-7fd09b23a62b</td>\n",
       "      <td>2019-11-03 16:08:25</td>\n",
       "      <td>2019-11-03</td>\n",
       "      <td>0 days 00:00:07</td>\n",
       "      <td>7.00</td>\n",
       "      <td>10975</td>\n",
       "      <td>0</td>\n",
       "      <td>2019-11-03 15:36:01</td>\n",
       "      <td>False</td>\n",
       "      <td>NaN</td>\n",
       "    </tr>\n",
       "  </tbody>\n",
       "</table>\n",
       "<p>74197 rows × 12 columns</p>\n",
       "</div>"
      ],
      "text/plain": [
       "                       event_time     event_name  \\\n",
       "0      2019-10-07 13:39:45.989359      tips_show   \n",
       "1      2019-10-07 13:40:31.052909      tips_show   \n",
       "2      2019-10-07 13:41:05.722489      tips_show   \n",
       "3      2019-10-07 13:43:20.735461      tips_show   \n",
       "4      2019-10-07 13:45:30.917502      tips_show   \n",
       "...                           ...            ...   \n",
       "74192  2019-11-03 15:51:23.959572      tips_show   \n",
       "74193  2019-11-03 15:51:57.899997  show_contacts   \n",
       "74194  2019-11-03 16:07:40.932077      tips_show   \n",
       "74195  2019-11-03 16:08:18.202734      tips_show   \n",
       "74196  2019-11-03 16:08:25.388712      tips_show   \n",
       "\n",
       "                                    user_id        event_date_x    event_dt  \\\n",
       "0      0001b1d5-b74a-4cbf-aeb0-7df5947bf349 2019-10-07 13:39:45  2019-10-07   \n",
       "1      0001b1d5-b74a-4cbf-aeb0-7df5947bf349 2019-10-07 13:40:31  2019-10-07   \n",
       "2      0001b1d5-b74a-4cbf-aeb0-7df5947bf349 2019-10-07 13:41:05  2019-10-07   \n",
       "3      0001b1d5-b74a-4cbf-aeb0-7df5947bf349 2019-10-07 13:43:20  2019-10-07   \n",
       "4      0001b1d5-b74a-4cbf-aeb0-7df5947bf349 2019-10-07 13:45:30  2019-10-07   \n",
       "...                                     ...                 ...         ...   \n",
       "74192  fffb9e79-b927-4dbb-9b48-7fd09b23a62b 2019-11-03 15:51:23  2019-11-03   \n",
       "74193  fffb9e79-b927-4dbb-9b48-7fd09b23a62b 2019-11-03 15:51:57  2019-11-03   \n",
       "74194  fffb9e79-b927-4dbb-9b48-7fd09b23a62b 2019-11-03 16:07:40  2019-11-03   \n",
       "74195  fffb9e79-b927-4dbb-9b48-7fd09b23a62b 2019-11-03 16:08:18  2019-11-03   \n",
       "74196  fffb9e79-b927-4dbb-9b48-7fd09b23a62b 2019-11-03 16:08:25  2019-11-03   \n",
       "\n",
       "                 diff  diff_sec  session_id  cluster_1          session_st  \\\n",
       "0                 NaT       NaN           1          0 2019-10-07 13:39:45   \n",
       "1     0 days 00:00:46     46.00           1          0 2019-10-07 13:39:45   \n",
       "2     0 days 00:00:34     34.00           1          0 2019-10-07 13:39:45   \n",
       "3     0 days 00:02:15    135.00           1          0 2019-10-07 13:39:45   \n",
       "4     0 days 00:02:10    130.00           1          0 2019-10-07 13:39:45   \n",
       "...               ...       ...         ...        ...                 ...   \n",
       "74192 0 days 00:00:27     27.00       10975          0 2019-11-03 15:36:01   \n",
       "74193 0 days 00:00:34     34.00       10975          0 2019-11-03 15:36:01   \n",
       "74194 0 days 00:15:43    943.00       10975          0 2019-11-03 15:36:01   \n",
       "74195 0 days 00:00:38     38.00       10975          0 2019-11-03 15:36:01   \n",
       "74196 0 days 00:00:07      7.00       10975          0 2019-11-03 15:36:01   \n",
       "\n",
       "       is_first_event_in_session  time_on_page  \n",
       "0                           True         46.00  \n",
       "1                          False         34.00  \n",
       "2                          False        135.00  \n",
       "3                          False        130.00  \n",
       "4                          False         13.00  \n",
       "...                          ...           ...  \n",
       "74192                      False         34.00  \n",
       "74193                      False        943.00  \n",
       "74194                      False         38.00  \n",
       "74195                      False          7.00  \n",
       "74196                      False           NaN  \n",
       "\n",
       "[74197 rows x 12 columns]"
      ]
     },
     "execution_count": 58,
     "metadata": {},
     "output_type": "execute_result"
    }
   ],
   "source": [
    "#найдем события, которые были первыми в сессиях\n",
    "data['is_first_event_in_session'] = data['event_date_x'] == data['session_st']\n",
    "data['time_on_page'] = data.groupby(['session_id'])['event_date_x'].diff(1)\n",
    "#найдем время просмотра 1 страницы\n",
    "data['time_on_page'] = data.groupby(['session_id'])['time_on_page'].shift(-1)/ np.timedelta64(1, 's')\n",
    "data"
   ]
  },
  {
   "cell_type": "code",
   "execution_count": 59,
   "metadata": {
    "scrolled": true
   },
   "outputs": [
    {
     "name": "stdout",
     "output_type": "stream",
     "text": [
      "Среднее время просмотра страниц 112.61\n"
     ]
    }
   ],
   "source": [
    "print('Среднее время просмотра страниц {:.2f}'.format(data['time_on_page'].mean()))"
   ]
  },
  {
   "cell_type": "code",
   "execution_count": 60,
   "metadata": {},
   "outputs": [
    {
     "name": "stdout",
     "output_type": "stream",
     "text": [
      "Среднее время просмотра страниц у пользователей совершивших целевое действие 118.59\n"
     ]
    }
   ],
   "source": [
    "print('Среднее время просмотра страниц у пользователей совершивших целевое действие {:.2f}'\n",
    "      .format(data.query('user_id == @filtered_users_list')['time_on_page'].mean()))"
   ]
  },
  {
   "cell_type": "code",
   "execution_count": 61,
   "metadata": {},
   "outputs": [
    {
     "name": "stdout",
     "output_type": "stream",
     "text": [
      "Среднее время просмотра страниц у пользователей не совершивших целевое действие 109.17\n"
     ]
    }
   ],
   "source": [
    "print('Среднее время просмотра страниц у пользователей не совершивших целевое действие {:.2f}'\n",
    "      .format(data.query('user_id != @filtered_users_list')['time_on_page'].mean()))"
   ]
  },
  {
   "cell_type": "markdown",
   "metadata": {},
   "source": [
    "Найдем события которые чаще всего предшествовали целевому событию"
   ]
  },
  {
   "cell_type": "code",
   "execution_count": 62,
   "metadata": {
    "scrolled": true
   },
   "outputs": [
    {
     "data": {
      "text/html": [
       "<div>\n",
       "<style scoped>\n",
       "    .dataframe tbody tr th:only-of-type {\n",
       "        vertical-align: middle;\n",
       "    }\n",
       "\n",
       "    .dataframe tbody tr th {\n",
       "        vertical-align: top;\n",
       "    }\n",
       "\n",
       "    .dataframe thead th {\n",
       "        text-align: right;\n",
       "    }\n",
       "</style>\n",
       "<table border=\"1\" class=\"dataframe\">\n",
       "  <thead>\n",
       "    <tr style=\"text-align: right;\">\n",
       "      <th></th>\n",
       "      <th>event_time</th>\n",
       "    </tr>\n",
       "    <tr>\n",
       "      <th>event_name</th>\n",
       "      <th></th>\n",
       "    </tr>\n",
       "  </thead>\n",
       "  <tbody>\n",
       "    <tr>\n",
       "      <th>advert_open</th>\n",
       "      <td>80</td>\n",
       "    </tr>\n",
       "    <tr>\n",
       "      <th>contacts_call</th>\n",
       "      <td>209</td>\n",
       "    </tr>\n",
       "    <tr>\n",
       "      <th>favorites_add</th>\n",
       "      <td>48</td>\n",
       "    </tr>\n",
       "    <tr>\n",
       "      <th>map</th>\n",
       "      <td>63</td>\n",
       "    </tr>\n",
       "    <tr>\n",
       "      <th>photos_show</th>\n",
       "      <td>445</td>\n",
       "    </tr>\n",
       "    <tr>\n",
       "      <th>search_1</th>\n",
       "      <td>211</td>\n",
       "    </tr>\n",
       "    <tr>\n",
       "      <th>search_3</th>\n",
       "      <td>2</td>\n",
       "    </tr>\n",
       "    <tr>\n",
       "      <th>search_5</th>\n",
       "      <td>34</td>\n",
       "    </tr>\n",
       "    <tr>\n",
       "      <th>show_contacts</th>\n",
       "      <td>1533</td>\n",
       "    </tr>\n",
       "    <tr>\n",
       "      <th>tips_click</th>\n",
       "      <td>13</td>\n",
       "    </tr>\n",
       "    <tr>\n",
       "      <th>tips_show</th>\n",
       "      <td>1891</td>\n",
       "    </tr>\n",
       "  </tbody>\n",
       "</table>\n",
       "</div>"
      ],
      "text/plain": [
       "               event_time\n",
       "event_name               \n",
       "advert_open            80\n",
       "contacts_call         209\n",
       "favorites_add          48\n",
       "map                    63\n",
       "photos_show           445\n",
       "search_1              211\n",
       "search_3                2\n",
       "search_5               34\n",
       "show_contacts        1533\n",
       "tips_click             13\n",
       "tips_show            1891"
      ]
     },
     "execution_count": 62,
     "metadata": {},
     "output_type": "execute_result"
    }
   ],
   "source": [
    "data[data['event_name'].shift(-1)=='show_contacts'].groupby('event_name')['event_time'].count().to_frame()"
   ]
  },
  {
   "cell_type": "markdown",
   "metadata": {},
   "source": [
    "Очень странно что чаще всего пользователь переходит к просмотру контактов после того как увидел рекомендованные объявления, но при этом не после клика по рекомендованному объявлению, т.е. нельзя утверждать что пользователь посмотрел именно контакт рекомендованного объявления\n",
    "\n",
    "Клик по рекомендованному объявлению очень редко сразу же конвертируется в просмотр контактов, опять возвращаемся к вопросу о качестве рекомендаций, самостоятельный поиск явно предпочтительнее для пользователя\n",
    "\n",
    "Просмотр фото чаще сподвигает на целевое действие чем поиск, значит фото в приложении важны"
   ]
  },
  {
   "cell_type": "markdown",
   "metadata": {},
   "source": [
    "На втором месте у нас событие photos_show, посмотрим сколько времени требуется пользователю для того что бы его совершить"
   ]
  },
  {
   "cell_type": "code",
   "execution_count": 63,
   "metadata": {
    "scrolled": true
   },
   "outputs": [],
   "source": [
    "t_photo = data.query('event_name ==\"photos_show\"').merge(first_date_table, how = 'left', on = 'user_id')"
   ]
  },
  {
   "cell_type": "code",
   "execution_count": 64,
   "metadata": {
    "scrolled": true
   },
   "outputs": [],
   "source": [
    "t_photo = t_photo.groupby(['user_id', 'event_date'])['event_date_x'].min().to_frame().reset_index()\n",
    "t_photo['time_before_photo'] = (t_photo['event_date_x']-t_photo['event_date'])/ np.timedelta64(1, 's')"
   ]
  },
  {
   "cell_type": "code",
   "execution_count": 65,
   "metadata": {},
   "outputs": [
    {
     "name": "stdout",
     "output_type": "stream",
     "text": [
      "Среднее время до просмотра фото 38234.05 секунд\n"
     ]
    }
   ],
   "source": [
    "print('Среднее время до просмотра фото {:.2f} секунд'.format(t_photo['time_before_photo'].mean()))"
   ]
  },
  {
   "cell_type": "code",
   "execution_count": 66,
   "metadata": {},
   "outputs": [
    {
     "name": "stdout",
     "output_type": "stream",
     "text": [
      "Среднее время до просмотра фото  у пользователей совершивших целевое действие 42494.72 секунд\n"
     ]
    }
   ],
   "source": [
    "print('Среднее время до просмотра фото  у пользователей совершивших целевое действие {:.2f} секунд'\n",
    "      .format(t_photo.query('user_id == @filtered_users_list')['time_before_photo'].mean()))"
   ]
  },
  {
   "cell_type": "code",
   "execution_count": 67,
   "metadata": {
    "scrolled": true
   },
   "outputs": [
    {
     "name": "stdout",
     "output_type": "stream",
     "text": [
      "Среднее время до просмотра фото  у пользователей не совершивших целевое действие 36323.52 секунд\n"
     ]
    }
   ],
   "source": [
    "print('Среднее время до просмотра фото  у пользователей не совершивших целевое действие {:.2f} секунд'\n",
    "      .format(t_photo.query('user_id != @filtered_users_list')['time_before_photo'].mean()))"
   ]
  },
  {
   "cell_type": "markdown",
   "metadata": {},
   "source": [
    "Среднее время до просмотра фото  у пользователей не совершивших целевое меньше чем, у пользователей просмотревших контакты, это может объясняться тем что такие пользователи более тщательно выбирают объявления, но в целом то что у пользователей занимает по 10 часов, что бы добраться до фото - настораживает.\n",
    "Посмотрим может это влияние выбросов"
   ]
  },
  {
   "cell_type": "code",
   "execution_count": 68,
   "metadata": {
    "scrolled": true
   },
   "outputs": [
    {
     "data": {
      "text/plain": [
       "count       1,095.00\n",
       "mean       38,234.05\n",
       "std       184,757.87\n",
       "min             0.00\n",
       "50%             0.00\n",
       "95%       170,192.00\n",
       "max     2,253,287.00\n",
       "Name: time_before_photo, dtype: float64"
      ]
     },
     "execution_count": 68,
     "metadata": {},
     "output_type": "execute_result"
    }
   ],
   "source": [
    "t_photo['time_before_photo'].describe(percentiles = [ 0.95 ])"
   ]
  },
  {
   "cell_type": "markdown",
   "metadata": {},
   "source": [
    "Действительно есть очень странные пользователи"
   ]
  },
  {
   "cell_type": "code",
   "execution_count": 69,
   "metadata": {
    "scrolled": true
   },
   "outputs": [
    {
     "data": {
      "text/html": [
       "<div>\n",
       "<style scoped>\n",
       "    .dataframe tbody tr th:only-of-type {\n",
       "        vertical-align: middle;\n",
       "    }\n",
       "\n",
       "    .dataframe tbody tr th {\n",
       "        vertical-align: top;\n",
       "    }\n",
       "\n",
       "    .dataframe thead th {\n",
       "        text-align: right;\n",
       "    }\n",
       "</style>\n",
       "<table border=\"1\" class=\"dataframe\">\n",
       "  <thead>\n",
       "    <tr style=\"text-align: right;\">\n",
       "      <th></th>\n",
       "      <th>user_id</th>\n",
       "      <th>event_date</th>\n",
       "      <th>event_date_x</th>\n",
       "      <th>time_before_photo</th>\n",
       "    </tr>\n",
       "  </thead>\n",
       "  <tbody>\n",
       "    <tr>\n",
       "      <th>198</th>\n",
       "      <td>2b39c650-c582-4195-ba16-ade26ee0a72f</td>\n",
       "      <td>2019-10-07 09:38:35</td>\n",
       "      <td>2019-11-02 11:33:22</td>\n",
       "      <td>2,253,287.00</td>\n",
       "    </tr>\n",
       "  </tbody>\n",
       "</table>\n",
       "</div>"
      ],
      "text/plain": [
       "                                  user_id          event_date  \\\n",
       "198  2b39c650-c582-4195-ba16-ade26ee0a72f 2019-10-07 09:38:35   \n",
       "\n",
       "           event_date_x  time_before_photo  \n",
       "198 2019-11-02 11:33:22       2,253,287.00  "
      ]
     },
     "execution_count": 69,
     "metadata": {},
     "output_type": "execute_result"
    }
   ],
   "source": [
    "t_photo.query('time_before_photo == 2253287.00')"
   ]
  },
  {
   "cell_type": "code",
   "execution_count": 70,
   "metadata": {
    "scrolled": true
   },
   "outputs": [
    {
     "data": {
      "text/html": [
       "<div>\n",
       "<style scoped>\n",
       "    .dataframe tbody tr th:only-of-type {\n",
       "        vertical-align: middle;\n",
       "    }\n",
       "\n",
       "    .dataframe tbody tr th {\n",
       "        vertical-align: top;\n",
       "    }\n",
       "\n",
       "    .dataframe thead th {\n",
       "        text-align: right;\n",
       "    }\n",
       "</style>\n",
       "<table border=\"1\" class=\"dataframe\">\n",
       "  <thead>\n",
       "    <tr style=\"text-align: right;\">\n",
       "      <th></th>\n",
       "      <th>event_time</th>\n",
       "      <th>event_name</th>\n",
       "      <th>user_id</th>\n",
       "      <th>event_date_x</th>\n",
       "      <th>event_dt</th>\n",
       "      <th>diff</th>\n",
       "      <th>diff_sec</th>\n",
       "      <th>session_id</th>\n",
       "      <th>cluster_1</th>\n",
       "      <th>session_st</th>\n",
       "      <th>is_first_event_in_session</th>\n",
       "      <th>time_on_page</th>\n",
       "    </tr>\n",
       "  </thead>\n",
       "  <tbody>\n",
       "    <tr>\n",
       "      <th>13655</th>\n",
       "      <td>2019-10-07 09:38:35.311491</td>\n",
       "      <td>search_1</td>\n",
       "      <td>2b39c650-c582-4195-ba16-ade26ee0a72f</td>\n",
       "      <td>2019-10-07 09:38:35</td>\n",
       "      <td>2019-10-07</td>\n",
       "      <td>NaT</td>\n",
       "      <td>NaN</td>\n",
       "      <td>2036</td>\n",
       "      <td>0</td>\n",
       "      <td>2019-10-07 09:38:35</td>\n",
       "      <td>True</td>\n",
       "      <td>42.00</td>\n",
       "    </tr>\n",
       "    <tr>\n",
       "      <th>13656</th>\n",
       "      <td>2019-10-07 09:39:17.534842</td>\n",
       "      <td>search_1</td>\n",
       "      <td>2b39c650-c582-4195-ba16-ade26ee0a72f</td>\n",
       "      <td>2019-10-07 09:39:17</td>\n",
       "      <td>2019-10-07</td>\n",
       "      <td>0 days 00:00:42</td>\n",
       "      <td>42.00</td>\n",
       "      <td>2036</td>\n",
       "      <td>0</td>\n",
       "      <td>2019-10-07 09:38:35</td>\n",
       "      <td>False</td>\n",
       "      <td>NaN</td>\n",
       "    </tr>\n",
       "    <tr>\n",
       "      <th>13657</th>\n",
       "      <td>2019-11-02 11:31:15.570827</td>\n",
       "      <td>search_1</td>\n",
       "      <td>2b39c650-c582-4195-ba16-ade26ee0a72f</td>\n",
       "      <td>2019-11-02 11:31:15</td>\n",
       "      <td>2019-11-02</td>\n",
       "      <td>26 days 01:51:58</td>\n",
       "      <td>2,253,118.00</td>\n",
       "      <td>2037</td>\n",
       "      <td>0</td>\n",
       "      <td>2019-11-02 11:31:15</td>\n",
       "      <td>True</td>\n",
       "      <td>127.00</td>\n",
       "    </tr>\n",
       "    <tr>\n",
       "      <th>13658</th>\n",
       "      <td>2019-11-02 11:33:22.374323</td>\n",
       "      <td>photos_show</td>\n",
       "      <td>2b39c650-c582-4195-ba16-ade26ee0a72f</td>\n",
       "      <td>2019-11-02 11:33:22</td>\n",
       "      <td>2019-11-02</td>\n",
       "      <td>0 days 00:02:07</td>\n",
       "      <td>127.00</td>\n",
       "      <td>2037</td>\n",
       "      <td>0</td>\n",
       "      <td>2019-11-02 11:31:15</td>\n",
       "      <td>False</td>\n",
       "      <td>NaN</td>\n",
       "    </tr>\n",
       "  </tbody>\n",
       "</table>\n",
       "</div>"
      ],
      "text/plain": [
       "                       event_time   event_name  \\\n",
       "13655  2019-10-07 09:38:35.311491     search_1   \n",
       "13656  2019-10-07 09:39:17.534842     search_1   \n",
       "13657  2019-11-02 11:31:15.570827     search_1   \n",
       "13658  2019-11-02 11:33:22.374323  photos_show   \n",
       "\n",
       "                                    user_id        event_date_x    event_dt  \\\n",
       "13655  2b39c650-c582-4195-ba16-ade26ee0a72f 2019-10-07 09:38:35  2019-10-07   \n",
       "13656  2b39c650-c582-4195-ba16-ade26ee0a72f 2019-10-07 09:39:17  2019-10-07   \n",
       "13657  2b39c650-c582-4195-ba16-ade26ee0a72f 2019-11-02 11:31:15  2019-11-02   \n",
       "13658  2b39c650-c582-4195-ba16-ade26ee0a72f 2019-11-02 11:33:22  2019-11-02   \n",
       "\n",
       "                  diff     diff_sec  session_id  cluster_1  \\\n",
       "13655              NaT          NaN        2036          0   \n",
       "13656  0 days 00:00:42        42.00        2036          0   \n",
       "13657 26 days 01:51:58 2,253,118.00        2037          0   \n",
       "13658  0 days 00:02:07       127.00        2037          0   \n",
       "\n",
       "               session_st  is_first_event_in_session  time_on_page  \n",
       "13655 2019-10-07 09:38:35                       True         42.00  \n",
       "13656 2019-10-07 09:38:35                      False           NaN  \n",
       "13657 2019-11-02 11:31:15                       True        127.00  \n",
       "13658 2019-11-02 11:31:15                      False           NaN  "
      ]
     },
     "execution_count": 70,
     "metadata": {},
     "output_type": "execute_result"
    }
   ],
   "source": [
    "data.query('user_id == \"2b39c650-c582-4195-ba16-ade26ee0a72f\"')"
   ]
  },
  {
   "cell_type": "markdown",
   "metadata": {},
   "source": [
    "Например этот пользователь только во вторую сессию дошел до просмотра фто, при этом между сеессиями прошел почти месяц"
   ]
  },
  {
   "cell_type": "code",
   "execution_count": 71,
   "metadata": {},
   "outputs": [
    {
     "name": "stdout",
     "output_type": "stream",
     "text": [
      "Среднее время до просмотра фото  у пользователей совершивших целевое действие 12.00 секунд\n"
     ]
    }
   ],
   "source": [
    "#пересчитаем на медиану\n",
    "print('Среднее время до просмотра фото  у пользователей совершивших целевое действие {:.2f} секунд'\n",
    "      .format(t_photo.query('user_id == @filtered_users_list')['time_before_photo'].median()))"
   ]
  },
  {
   "cell_type": "code",
   "execution_count": 72,
   "metadata": {},
   "outputs": [
    {
     "name": "stdout",
     "output_type": "stream",
     "text": [
      "Среднее время до просмотра фото  у пользователей не совершивших целевое действие 0.00 секунд\n"
     ]
    }
   ],
   "source": [
    "print('Среднее время до просмотра фото  у пользователей не совершивших целевое действие {:.2f} секунд'\n",
    "      .format(t_photo.query('user_id != @filtered_users_list')['time_before_photo'].median()))"
   ]
  },
  {
   "cell_type": "markdown",
   "metadata": {},
   "source": [
    "Посмотрим на все события"
   ]
  },
  {
   "cell_type": "code",
   "execution_count": 73,
   "metadata": {},
   "outputs": [],
   "source": [
    "t = data.merge(first_date_table, how = 'left', on = 'user_id')\n",
    "t = t.groupby(['user_id', 'event_name','event_date'])['event_date_x'].min().to_frame().reset_index()\n",
    "t['time_before_action'] = (t['event_date_x']-t['event_date'])/ np.timedelta64(1, 's')"
   ]
  },
  {
   "cell_type": "code",
   "execution_count": 74,
   "metadata": {},
   "outputs": [],
   "source": [
    "is_ta = t['user_id'].isin(filtered_users_list)"
   ]
  },
  {
   "cell_type": "code",
   "execution_count": 76,
   "metadata": {
    "scrolled": true
   },
   "outputs": [
    {
     "data": {
      "text/html": [
       "<div>\n",
       "<style scoped>\n",
       "    .dataframe tbody tr th:only-of-type {\n",
       "        vertical-align: middle;\n",
       "    }\n",
       "\n",
       "    .dataframe tbody tr th {\n",
       "        vertical-align: top;\n",
       "    }\n",
       "\n",
       "    .dataframe thead th {\n",
       "        text-align: right;\n",
       "    }\n",
       "</style>\n",
       "<table border=\"1\" class=\"dataframe\">\n",
       "  <thead>\n",
       "    <tr style=\"text-align: right;\">\n",
       "      <th>is_ta</th>\n",
       "      <th>False</th>\n",
       "      <th>True</th>\n",
       "    </tr>\n",
       "    <tr>\n",
       "      <th>event_name</th>\n",
       "      <th></th>\n",
       "      <th></th>\n",
       "    </tr>\n",
       "  </thead>\n",
       "  <tbody>\n",
       "    <tr>\n",
       "      <th>advert_open</th>\n",
       "      <td>121.00</td>\n",
       "      <td>5,167.00</td>\n",
       "    </tr>\n",
       "    <tr>\n",
       "      <th>contacts_call</th>\n",
       "      <td>NaN</td>\n",
       "      <td>2,701.00</td>\n",
       "    </tr>\n",
       "    <tr>\n",
       "      <th>favorites_add</th>\n",
       "      <td>863.00</td>\n",
       "      <td>4,799.50</td>\n",
       "    </tr>\n",
       "    <tr>\n",
       "      <th>map</th>\n",
       "      <td>0.00</td>\n",
       "      <td>18.00</td>\n",
       "    </tr>\n",
       "    <tr>\n",
       "      <th>photos_show</th>\n",
       "      <td>0.00</td>\n",
       "      <td>12.00</td>\n",
       "    </tr>\n",
       "    <tr>\n",
       "      <th>search_1</th>\n",
       "      <td>0.00</td>\n",
       "      <td>0.00</td>\n",
       "    </tr>\n",
       "    <tr>\n",
       "      <th>search_2</th>\n",
       "      <td>20.00</td>\n",
       "      <td>74.00</td>\n",
       "    </tr>\n",
       "    <tr>\n",
       "      <th>search_3</th>\n",
       "      <td>106.00</td>\n",
       "      <td>5,234.00</td>\n",
       "    </tr>\n",
       "    <tr>\n",
       "      <th>search_4</th>\n",
       "      <td>0.00</td>\n",
       "      <td>171.00</td>\n",
       "    </tr>\n",
       "    <tr>\n",
       "      <th>search_5</th>\n",
       "      <td>15.00</td>\n",
       "      <td>30.00</td>\n",
       "    </tr>\n",
       "    <tr>\n",
       "      <th>search_6</th>\n",
       "      <td>13.50</td>\n",
       "      <td>10,485.50</td>\n",
       "    </tr>\n",
       "    <tr>\n",
       "      <th>search_7</th>\n",
       "      <td>0.00</td>\n",
       "      <td>5,121.00</td>\n",
       "    </tr>\n",
       "    <tr>\n",
       "      <th>show_contacts</th>\n",
       "      <td>NaN</td>\n",
       "      <td>641.00</td>\n",
       "    </tr>\n",
       "    <tr>\n",
       "      <th>tips_click</th>\n",
       "      <td>1,025.00</td>\n",
       "      <td>3,030.00</td>\n",
       "    </tr>\n",
       "    <tr>\n",
       "      <th>tips_show</th>\n",
       "      <td>5.00</td>\n",
       "      <td>0.00</td>\n",
       "    </tr>\n",
       "  </tbody>\n",
       "</table>\n",
       "</div>"
      ],
      "text/plain": [
       "is_ta            False     True \n",
       "event_name                      \n",
       "advert_open     121.00  5,167.00\n",
       "contacts_call      NaN  2,701.00\n",
       "favorites_add   863.00  4,799.50\n",
       "map               0.00     18.00\n",
       "photos_show       0.00     12.00\n",
       "search_1          0.00      0.00\n",
       "search_2         20.00     74.00\n",
       "search_3        106.00  5,234.00\n",
       "search_4          0.00    171.00\n",
       "search_5         15.00     30.00\n",
       "search_6         13.50 10,485.50\n",
       "search_7          0.00  5,121.00\n",
       "show_contacts      NaN    641.00\n",
       "tips_click    1,025.00  3,030.00\n",
       "tips_show         5.00      0.00"
      ]
     },
     "execution_count": 76,
     "metadata": {},
     "output_type": "execute_result"
    }
   ],
   "source": [
    "t['is_ta']=is_ta        \n",
    "t.pivot_table(index = 'event_name', columns = 'is_ta', values = 'time_before_action', aggfunc = 'median')"
   ]
  },
  {
   "cell_type": "markdown",
   "metadata": {},
   "source": [
    "Похоже пользователи, которые в дальнейшем от нас уходят не посмотрев контакты, быстрее добавляют в целом совершают все действия в приложении в более короткий срок от начала его использования, единственное отличие это событие \"пользователь увидел рекомендованные объявления\". Почему то у пользователей не совершавших целовое действие по данному событию идет какой то лаг"
   ]
  },
  {
   "cell_type": "code",
   "execution_count": 77,
   "metadata": {
    "scrolled": true
   },
   "outputs": [
    {
     "data": {
      "text/html": [
       "<div>\n",
       "<style scoped>\n",
       "    .dataframe tbody tr th:only-of-type {\n",
       "        vertical-align: middle;\n",
       "    }\n",
       "\n",
       "    .dataframe tbody tr th {\n",
       "        vertical-align: top;\n",
       "    }\n",
       "\n",
       "    .dataframe thead th {\n",
       "        text-align: right;\n",
       "    }\n",
       "</style>\n",
       "<table border=\"1\" class=\"dataframe\">\n",
       "  <thead>\n",
       "    <tr style=\"text-align: right;\">\n",
       "      <th></th>\n",
       "      <th>event_name</th>\n",
       "    </tr>\n",
       "  </thead>\n",
       "  <tbody>\n",
       "    <tr>\n",
       "      <th>map</th>\n",
       "      <td>721</td>\n",
       "    </tr>\n",
       "    <tr>\n",
       "      <th>tips_show</th>\n",
       "      <td>707</td>\n",
       "    </tr>\n",
       "    <tr>\n",
       "      <th>photos_show</th>\n",
       "      <td>624</td>\n",
       "    </tr>\n",
       "    <tr>\n",
       "      <th>advert_open</th>\n",
       "      <td>613</td>\n",
       "    </tr>\n",
       "    <tr>\n",
       "      <th>favorites_add</th>\n",
       "      <td>153</td>\n",
       "    </tr>\n",
       "    <tr>\n",
       "      <th>search_5</th>\n",
       "      <td>107</td>\n",
       "    </tr>\n",
       "    <tr>\n",
       "      <th>search_4</th>\n",
       "      <td>105</td>\n",
       "    </tr>\n",
       "    <tr>\n",
       "      <th>tips_click</th>\n",
       "      <td>97</td>\n",
       "    </tr>\n",
       "    <tr>\n",
       "      <th>search_2</th>\n",
       "      <td>96</td>\n",
       "    </tr>\n",
       "    <tr>\n",
       "      <th>search_1</th>\n",
       "      <td>80</td>\n",
       "    </tr>\n",
       "    <tr>\n",
       "      <th>search_3</th>\n",
       "      <td>7</td>\n",
       "    </tr>\n",
       "    <tr>\n",
       "      <th>search_7</th>\n",
       "      <td>2</td>\n",
       "    </tr>\n",
       "  </tbody>\n",
       "</table>\n",
       "</div>"
      ],
      "text/plain": [
       "               event_name\n",
       "map                   721\n",
       "tips_show             707\n",
       "photos_show           624\n",
       "advert_open           613\n",
       "favorites_add         153\n",
       "search_5              107\n",
       "search_4              105\n",
       "tips_click             97\n",
       "search_2               96\n",
       "search_1               80\n",
       "search_3                7\n",
       "search_7                2"
      ]
     },
     "execution_count": 77,
     "metadata": {},
     "output_type": "execute_result"
    }
   ],
   "source": [
    "t.query('is_ta == False').groupby('user_id').agg({'event_name': 'first'})['event_name'].value_counts().to_frame()"
   ]
  },
  {
   "cell_type": "code",
   "execution_count": 78,
   "metadata": {},
   "outputs": [
    {
     "data": {
      "text/html": [
       "<div>\n",
       "<style scoped>\n",
       "    .dataframe tbody tr th:only-of-type {\n",
       "        vertical-align: middle;\n",
       "    }\n",
       "\n",
       "    .dataframe tbody tr th {\n",
       "        vertical-align: top;\n",
       "    }\n",
       "\n",
       "    .dataframe thead th {\n",
       "        text-align: right;\n",
       "    }\n",
       "</style>\n",
       "<table border=\"1\" class=\"dataframe\">\n",
       "  <thead>\n",
       "    <tr style=\"text-align: right;\">\n",
       "      <th></th>\n",
       "      <th>event_name</th>\n",
       "    </tr>\n",
       "  </thead>\n",
       "  <tbody>\n",
       "    <tr>\n",
       "      <th>show_contacts</th>\n",
       "      <td>211</td>\n",
       "    </tr>\n",
       "    <tr>\n",
       "      <th>contacts_call</th>\n",
       "      <td>192</td>\n",
       "    </tr>\n",
       "    <tr>\n",
       "      <th>map</th>\n",
       "      <td>188</td>\n",
       "    </tr>\n",
       "    <tr>\n",
       "      <th>advert_open</th>\n",
       "      <td>138</td>\n",
       "    </tr>\n",
       "    <tr>\n",
       "      <th>photos_show</th>\n",
       "      <td>138</td>\n",
       "    </tr>\n",
       "    <tr>\n",
       "      <th>favorites_add</th>\n",
       "      <td>57</td>\n",
       "    </tr>\n",
       "    <tr>\n",
       "      <th>search_2</th>\n",
       "      <td>17</td>\n",
       "    </tr>\n",
       "    <tr>\n",
       "      <th>search_4</th>\n",
       "      <td>14</td>\n",
       "    </tr>\n",
       "    <tr>\n",
       "      <th>search_1</th>\n",
       "      <td>14</td>\n",
       "    </tr>\n",
       "    <tr>\n",
       "      <th>search_5</th>\n",
       "      <td>11</td>\n",
       "    </tr>\n",
       "    <tr>\n",
       "      <th>search_3</th>\n",
       "      <td>1</td>\n",
       "    </tr>\n",
       "  </tbody>\n",
       "</table>\n",
       "</div>"
      ],
      "text/plain": [
       "               event_name\n",
       "show_contacts         211\n",
       "contacts_call         192\n",
       "map                   188\n",
       "advert_open           138\n",
       "photos_show           138\n",
       "favorites_add          57\n",
       "search_2               17\n",
       "search_4               14\n",
       "search_1               14\n",
       "search_5               11\n",
       "search_3                1"
      ]
     },
     "execution_count": 78,
     "metadata": {},
     "output_type": "execute_result"
    }
   ],
   "source": [
    "t.query('is_ta == True').groupby('user_id').agg({'event_name': 'first'})['event_name'].value_counts().to_frame()"
   ]
  },
  {
   "cell_type": "markdown",
   "metadata": {},
   "source": [
    "Найдем событие, которым чаще всего заканчивались сессии пользователей"
   ]
  },
  {
   "cell_type": "code",
   "execution_count": 79,
   "metadata": {},
   "outputs": [],
   "source": [
    "session_end_t = data.groupby(['user_id', 'session_id'])['event_date_x'].max().reset_index()"
   ]
  },
  {
   "cell_type": "code",
   "execution_count": 80,
   "metadata": {},
   "outputs": [],
   "source": [
    "data = data.merge(session_end_t, how = 'left', \n",
    "                           on = ['user_id', 'session_id'])"
   ]
  },
  {
   "cell_type": "code",
   "execution_count": 81,
   "metadata": {},
   "outputs": [],
   "source": [
    "data = data.rename(columns = {'event_date_x_y': 'session_end'})"
   ]
  },
  {
   "cell_type": "code",
   "execution_count": 82,
   "metadata": {
    "scrolled": true
   },
   "outputs": [
    {
     "data": {
      "text/plain": [
       "event_name\n",
       "advert_open       6164\n",
       "contacts_call      541\n",
       "favorites_add     1417\n",
       "map               3881\n",
       "photos_show      10012\n",
       "search_1          3506\n",
       "search_2           324\n",
       "search_3           522\n",
       "search_4           701\n",
       "search_5          1049\n",
       "search_6           460\n",
       "search_7           222\n",
       "show_contacts     4529\n",
       "tips_click         814\n",
       "tips_show        40055\n",
       "Name: is_last_event_in_session, dtype: int64"
      ]
     },
     "execution_count": 82,
     "metadata": {},
     "output_type": "execute_result"
    }
   ],
   "source": [
    "data['is_last_event_in_session'] = data['event_date_x_x'] == data['session_end']\n",
    "data.groupby('event_name')['is_last_event_in_session'].count()"
   ]
  },
  {
   "cell_type": "markdown",
   "metadata": {},
   "source": [
    "Чаще всего пользователи завершают сессию после события \"пользователь увидел рекомендованные объявления\". Возможно это так же в копилку к проблемам с рекомендациями, на втором месте \"contacts_call\" - здесь все логично, а вот на 3 месте - \"map\", почему то карта размещенных объявлений не сподвигает на их открытие"
   ]
  },
  {
   "cell_type": "markdown",
   "metadata": {},
   "source": [
    "<a id=\"hypothesis\"></a>\n",
    "## Проверка гипотез"
   ]
  },
  {
   "cell_type": "markdown",
   "metadata": {},
   "source": [
    "<a id=\"1hypothesis\"></a>\n",
    "### Две группы пользователей (одни - установили приложение по ссылке из yandex ,другие — из google) демонстрируют разную конверсию в просмотры контактов"
   ]
  },
  {
   "cell_type": "code",
   "execution_count": 83,
   "metadata": {
    "scrolled": true
   },
   "outputs": [
    {
     "data": {
      "text/plain": [
       "sourse\n",
       "google    1129\n",
       "other     1230\n",
       "yandex    1934\n",
       "Name: user_id, dtype: int64"
      ]
     },
     "execution_count": 83,
     "metadata": {},
     "output_type": "execute_result"
    }
   ],
   "source": [
    "# дополним данные информацией об источнике установки\n",
    "hyp_1 = data.merge(sources, how = 'left', on = 'user_id')\n",
    "# проверим количество пользователей в каждой из групп\n",
    "hyp_1.groupby('sourse')['user_id'].nunique()"
   ]
  },
  {
   "cell_type": "markdown",
   "metadata": {},
   "source": [
    "Сформулируем гипотезы:\n",
    "\n",
    "Нулевая гипотеза:  Доли пользователей, совершивших рассматриваеммое событие (просмотр контактов), равны.\n",
    "\n",
    "Альтернативная гипотеза: Доли пользователей, совершивших рассматриваеммое событие, различаются"
   ]
  },
  {
   "cell_type": "code",
   "execution_count": 84,
   "metadata": {},
   "outputs": [],
   "source": [
    "# разделим пользователей на группы в зависимости от источника\n",
    "group_a = hyp_1.query('sourse == \"google\"')\n",
    "group_b = hyp_1.query('sourse == \"yandex\"')\n",
    "# найдем число пользователей, совершивших событие contacts_show в каждой  групп\n",
    "group_a_event = group_a.query('event_name == \"show_contacts\"')['user_id'].nunique()\n",
    "group_b_event = group_b.query('event_name == \"show_contacts\"')['user_id'].nunique()\n",
    "#Посчитаем долю пользователей, совершивших это событие\n",
    "p1 = group_a_event/group_a['user_id'].nunique()\n",
    "p2 = group_b_event/group_b['user_id'].nunique()"
   ]
  },
  {
   "cell_type": "code",
   "execution_count": 85,
   "metadata": {},
   "outputs": [
    {
     "name": "stdout",
     "output_type": "stream",
     "text": [
      "p-значение:  0.8244316027993777\n",
      "Не получилось отвергнуть нулевую гипотезу, нет оснований считать доли разными\n"
     ]
    }
   ],
   "source": [
    "# Проверим гипотезу о равенстве долей\n",
    "\n",
    "p_combined = (group_a_event\n",
    "              + group_b_event) / (group_a['user_id'].nunique() + group_b['user_id'].nunique())\n",
    "difference = p1 - p2 \n",
    "z_value = difference / mth.sqrt(\n",
    "p_combined * (1 - p_combined) * (1 / group_a['user_id'].nunique() + 1 / group_b['user_id'].nunique())) \n",
    "distr = st.norm(0, 1)\n",
    "alpha = 0.05\n",
    "p_value = (1 - distr.cdf(abs(z_value))) * 2\n",
    "\n",
    "print('p-значение: ', p_value)\n",
    "\n",
    "if p_value < alpha:\n",
    "    print('Отвергаем нулевую гипотезу: между долями есть значимая разница')\n",
    "else:\n",
    "    print(\n",
    "        'Не получилось отвергнуть нулевую гипотезу, нет оснований считать доли разными')"
   ]
  },
  {
   "cell_type": "markdown",
   "metadata": {},
   "source": [
    "<a id=\"1hypothesis\"></a>\n",
    "### Две группы пользователей (одни - совершают в приложении ,больше действий(к примеру больше 15 ,другие — меньше) демонстрируют разную конверсию в просмотры контактов"
   ]
  },
  {
   "cell_type": "code",
   "execution_count": 86,
   "metadata": {
    "scrolled": true
   },
   "outputs": [],
   "source": [
    "# разделим пользоватлей на группы\n",
    "user_a = list(data.groupby('user_id')['event_name'].count().to_frame().query('event_name <=15').index)\n",
    "user_b = list(data.groupby('user_id')['event_name'].count().to_frame().query('event_name > 15').index)"
   ]
  },
  {
   "cell_type": "code",
   "execution_count": 87,
   "metadata": {},
   "outputs": [],
   "source": [
    "group_a = data.query('user_id ==@user_a')\n",
    "group_b = data.query('user_id ==@user_b')"
   ]
  },
  {
   "cell_type": "markdown",
   "metadata": {},
   "source": [
    "Сформулируем гипотезы:\n",
    "\n",
    "Нулевая гипотеза:  Доли пользователей, совершивших рассматриваеммое событие (просмотр контактов), равны.\n",
    "\n",
    "Альтернативная гипотеза: Доли пользователей, совершивших рассматриваеммое событие, различаются"
   ]
  },
  {
   "cell_type": "code",
   "execution_count": 88,
   "metadata": {},
   "outputs": [],
   "source": [
    "# найдем число пользователей, совершивших событие contacts_show в каждой  групп\n",
    "group_a_event = group_a.query('event_name == \"show_contacts\"')['user_id'].nunique()\n",
    "group_b_event = group_b.query('event_name == \"show_contacts\"')['user_id'].nunique()\n",
    "#Посчитаем долю пользователей, совершивших это событие\n",
    "p1 = group_a_event/group_a['user_id'].nunique()\n",
    "p2 = group_b_event/group_b['user_id'].nunique()"
   ]
  },
  {
   "cell_type": "code",
   "execution_count": 89,
   "metadata": {
    "scrolled": true
   },
   "outputs": [
    {
     "name": "stdout",
     "output_type": "stream",
     "text": [
      "p-значение:  0.0\n",
      "Отвергаем нулевую гипотезу: между долями есть значимая разница\n"
     ]
    }
   ],
   "source": [
    "# Проверим гипотезу о равенстве долей\n",
    "\n",
    "p_combined = (group_a_event\n",
    "              + group_b_event) / (group_a['user_id'].nunique() + group_b['user_id'].nunique())\n",
    "difference = p1 - p2 \n",
    "z_value = difference / mth.sqrt(\n",
    "p_combined * (1 - p_combined) * (1 / group_a['user_id'].nunique() + 1 / group_b['user_id'].nunique())) \n",
    "distr = st.norm(0, 1)\n",
    "alpha = 0.05\n",
    "p_value = (1 - distr.cdf(abs(z_value))) * 2\n",
    "\n",
    "print('p-значение: ', p_value)\n",
    "\n",
    "if p_value < alpha:\n",
    "    print('Отвергаем нулевую гипотезу: между долями есть значимая разница')\n",
    "else:\n",
    "    print(\n",
    "        'Не получилось отвергнуть нулевую гипотезу, нет оснований считать доли разными')"
   ]
  },
  {
   "cell_type": "markdown",
   "metadata": {},
   "source": [
    "<a id=\"conclusion\"></a>\n",
    "## Общий вывод"
   ]
  },
  {
   "cell_type": "markdown",
   "metadata": {},
   "source": [
    "В результате проведенной предобработки данных:\n",
    "- определено что пропуски и дубликаты в данных отсутствуют\n",
    "- названия колонок приведены в соответствии со snake case\n",
    "- изменен формат колонки event.time\n",
    "\n",
    "В результате исследовательского анализа данных:\n",
    "- объединены события contacts_show и show_contacts как идентичные\n",
    "- определено, что самое частое событие \"пользователь увидел рекомендованные объявления\", однако событие которое логично за ним бы следовало \"пользователь кликнул по рекомендованному объявлению\" только на 5 месте, возможно систему рекомендаций можно настроить лучше\n",
    "- определено количество пользователей совершивших целевое действие - 981 из 4293, это 22,8%\n",
    "- определено что распределение пользователей и событий по дням достаточно равномерное\n",
    "- выделены сессии пользователей\n",
    "- чаще всего первыми событиями в сессии становятся \"пользователь увидел рекомендованные объявления\", \"просмотр фотографий в объявлении\", \"разные события, связанные с поиском по сайту\" и \"пользователь открыл карту размещенных объявлений\"\n",
    "- рассчитаны количество уникальных пользователей в день 277, количество уникальных пользователей в неделю 1381, согласно графикам видно что после 12-10-2019, т.е. начиная с 42 недели количество уникальных пользовалей увеличилось\n",
    "\n",
    "Проведена сегментация пользователей на основе количества совершаемых ими действий:\n",
    "- Выделено 2 кластера\n",
    "- \"0\" самый многочисленный кластер с низкой активностью и плохой конвертацией в показ контактов, возможно зашли на сайт, ничего не зацепило и ушли, не пользуются поиском, не просматривают карту, \"надо работать\"\n",
    "- \"1\" наш фаворит, очень активный,  они чаще всех кликают по рекомендованному объявлению и лучше всех осуществляют целевое действие\n",
    "\n",
    "Коэффициент удержания выше по пользвателям кластера \"1\", что логично, это более активные пользователи, по ним так же выше конвертация в целевое действие, однако их небольшое количество (максимальный размер когорты за период - 13 человек), не дает сделать однозначных выводов.\n",
    "Что можно сказать:\n",
    "- пользователи заходят в приложение не каждый день, что логично - это не инстаграмм, однако не появлясь несколько дней, вполне могут вернуться\n",
    "- кластер 1 лучше и по удержанию и по конверсии в целевое действие, сравнивать конверсию по когортам у них трудно, ввиду малого числа пользоватлей но, например 62% пользоватлей когорты от 18.10.2019 что то заставило вернуться на 5 день, возможно какая то акция\n",
    "- По кластеру 1, с которым нам и нужно работать, удержание на 6й день в среднем составляет 5,5%, самые \"качественные\" пользователи пришли к нам 17.10.2019, и наоборот - 28-29.10.2019\n",
    "- среднее время просмотра страниц у пользоватлей, совершивших целевое действие выше\n",
    "- среднее время до просмотра фото  у пользователей не совершивших целевое меньше чем, у пользователей просмотревших контакты, это может объясняться тем что такие пользователи более тщательно выбирают объявления\n",
    "- чаще всего пользователи завершают сессию после события \"пользователь увидел рекомендованные объявления\". Возможно это так же в копилку к проблемам с рекомендациями, на втором месте \"contacts_call\" - здесь все логично, а вот на 3 месте - \"map\", почему то карта размещенных объявлений не сподвигает на их открытие\n",
    "- чаще всего пользователь переходит к просмотру контактов после того как увидел рекомендованные объявления, но при этом не после клика по рекомендованному объявлению, т.е. нельзя утверждать что пользователь посмотрел именно контакт рекомендованного объявления\n",
    "- клик по рекомендованному объявлению очень редко сразу же конвертируется в просмотр контактов, опять возвращаемся к вопросу о качестве рекомендаций, самостоятельный поиск явно предпочтительнее для пользователя\n",
    "- просмотр фото чаще сподвигает на целевое действие чем поиск, значит фото в приложении важны\n",
    "\n",
    "Проведена проверка гипотез:\n",
    "- Нет оснований считать доли пользователей совершивших целевое действие в группах, установивших приложение из yandex и google разными\n",
    "- Есть статистически значимая разница между долями пользователей совершивших целевое действие в группах, где пользователи совершают больше и меньше 15 действий в приложении\n"
   ]
  },
  {
   "cell_type": "markdown",
   "metadata": {},
   "source": [
    "**Проблемы в данных:**\n",
    "Основная проблема при анализе имеющихся данных отсутсвие ID объявлений, непонятно, например, какое объявление пользователю показали как рекомендованное, а какое он добавил в избранное, посмотрел ли он фото этого же объявления и т.д.\n",
    "\n",
    "search_1 — search_7 — разные события, связанные с поиском по сайту, это поиски по различным критериям, в различных разделах, по фильтрам? Например мы видим из анализа что за search_1 чаще следует целевое действие чем за остальными поисками, но дело ли здесь в виде поиска или просто пользователь находит то что нужно по первому запросу(что конечно хорошо, если так).\n"
   ]
  },
  {
   "cell_type": "markdown",
   "metadata": {},
   "source": [
    "**Рекомендации:**\n",
    "- Детализировать логи, возможно добавить id объявлений, для возможности более детального анализа, добавить данные по объявлениям, например наличие фото и т.д.\n",
    "- Поработать над улучшением системы рекомендаций (показ рекомендованного объявления плохо конвертируется в клик по нему, кроме того показ рекомендованных объявлений по логике должен быть первым событием для пользоватля, однако это не всегда так)\n",
    "- Мониторить пользователей,  которые долго не появляются в приложении и направить письмо с рекомендациями на основе их поисков (либо об изменениях  в просмотренных объявлениях и пр.)"
   ]
  }
 ],
 "metadata": {
  "ExecuteTimeLog": [
   {
    "duration": 1654,
    "start_time": "2022-05-04T19:48:42.477Z"
   },
   {
    "duration": 3,
    "start_time": "2022-05-04T20:16:46.916Z"
   },
   {
    "duration": 5,
    "start_time": "2022-05-04T20:16:56.422Z"
   },
   {
    "duration": 140,
    "start_time": "2022-05-04T20:23:25.591Z"
   },
   {
    "duration": 625,
    "start_time": "2022-05-04T20:28:47.605Z"
   },
   {
    "duration": 1429,
    "start_time": "2022-05-05T16:40:18.355Z"
   },
   {
    "duration": 170,
    "start_time": "2022-05-05T16:40:19.787Z"
   },
   {
    "duration": 0,
    "start_time": "2022-05-05T16:40:19.959Z"
   },
   {
    "duration": 0,
    "start_time": "2022-05-05T16:40:19.960Z"
   },
   {
    "duration": 0,
    "start_time": "2022-05-05T16:40:19.961Z"
   },
   {
    "duration": 0,
    "start_time": "2022-05-05T16:40:19.962Z"
   },
   {
    "duration": 0,
    "start_time": "2022-05-05T16:40:19.963Z"
   },
   {
    "duration": 0,
    "start_time": "2022-05-05T16:40:19.964Z"
   },
   {
    "duration": 0,
    "start_time": "2022-05-05T16:40:19.965Z"
   },
   {
    "duration": 0,
    "start_time": "2022-05-05T16:40:19.966Z"
   },
   {
    "duration": 0,
    "start_time": "2022-05-05T16:40:19.968Z"
   },
   {
    "duration": 0,
    "start_time": "2022-05-05T16:40:19.969Z"
   },
   {
    "duration": 55107,
    "start_time": "2022-05-11T08:18:14.531Z"
   },
   {
    "duration": 368,
    "start_time": "2022-05-11T08:19:09.640Z"
   },
   {
    "duration": 256,
    "start_time": "2022-05-11T08:19:10.011Z"
   },
   {
    "duration": 0,
    "start_time": "2022-05-11T08:19:10.273Z"
   },
   {
    "duration": 0,
    "start_time": "2022-05-11T08:19:10.274Z"
   },
   {
    "duration": 0,
    "start_time": "2022-05-11T08:19:10.275Z"
   },
   {
    "duration": 0,
    "start_time": "2022-05-11T08:19:10.277Z"
   },
   {
    "duration": 0,
    "start_time": "2022-05-11T08:19:10.278Z"
   },
   {
    "duration": 0,
    "start_time": "2022-05-11T08:19:10.280Z"
   },
   {
    "duration": 0,
    "start_time": "2022-05-11T08:19:10.292Z"
   },
   {
    "duration": 0,
    "start_time": "2022-05-11T08:19:10.294Z"
   },
   {
    "duration": 0,
    "start_time": "2022-05-11T08:19:10.296Z"
   },
   {
    "duration": 0,
    "start_time": "2022-05-11T08:19:10.297Z"
   },
   {
    "duration": 0,
    "start_time": "2022-05-11T08:19:10.298Z"
   },
   {
    "duration": 0,
    "start_time": "2022-05-11T08:19:10.300Z"
   },
   {
    "duration": 0,
    "start_time": "2022-05-11T08:19:10.302Z"
   },
   {
    "duration": 0,
    "start_time": "2022-05-11T08:19:10.303Z"
   },
   {
    "duration": 0,
    "start_time": "2022-05-11T08:19:10.305Z"
   },
   {
    "duration": 0,
    "start_time": "2022-05-11T08:19:10.306Z"
   },
   {
    "duration": 0,
    "start_time": "2022-05-11T08:19:10.308Z"
   },
   {
    "duration": 0,
    "start_time": "2022-05-11T08:19:10.309Z"
   },
   {
    "duration": 0,
    "start_time": "2022-05-11T08:19:10.310Z"
   },
   {
    "duration": 0,
    "start_time": "2022-05-11T08:19:10.312Z"
   },
   {
    "duration": 0,
    "start_time": "2022-05-11T08:19:10.313Z"
   },
   {
    "duration": 0,
    "start_time": "2022-05-11T08:19:10.314Z"
   },
   {
    "duration": 0,
    "start_time": "2022-05-11T08:19:10.316Z"
   },
   {
    "duration": 0,
    "start_time": "2022-05-11T08:19:10.317Z"
   },
   {
    "duration": 0,
    "start_time": "2022-05-11T08:19:10.318Z"
   },
   {
    "duration": 0,
    "start_time": "2022-05-11T08:19:10.320Z"
   },
   {
    "duration": 0,
    "start_time": "2022-05-11T08:19:10.321Z"
   },
   {
    "duration": 0,
    "start_time": "2022-05-11T08:19:10.323Z"
   },
   {
    "duration": 0,
    "start_time": "2022-05-11T08:19:10.324Z"
   },
   {
    "duration": 0,
    "start_time": "2022-05-11T08:19:10.326Z"
   },
   {
    "duration": 0,
    "start_time": "2022-05-11T08:19:10.327Z"
   },
   {
    "duration": 0,
    "start_time": "2022-05-11T08:19:10.328Z"
   },
   {
    "duration": 0,
    "start_time": "2022-05-11T08:19:10.394Z"
   },
   {
    "duration": 0,
    "start_time": "2022-05-11T08:19:10.395Z"
   },
   {
    "duration": 0,
    "start_time": "2022-05-11T08:19:10.396Z"
   },
   {
    "duration": 0,
    "start_time": "2022-05-11T08:19:10.398Z"
   },
   {
    "duration": 0,
    "start_time": "2022-05-11T08:19:10.399Z"
   },
   {
    "duration": 0,
    "start_time": "2022-05-11T08:19:10.401Z"
   },
   {
    "duration": 0,
    "start_time": "2022-05-11T08:19:10.402Z"
   },
   {
    "duration": 0,
    "start_time": "2022-05-11T08:19:10.404Z"
   },
   {
    "duration": 0,
    "start_time": "2022-05-11T08:19:10.405Z"
   },
   {
    "duration": 0,
    "start_time": "2022-05-11T08:19:10.407Z"
   },
   {
    "duration": 0,
    "start_time": "2022-05-11T08:19:10.408Z"
   },
   {
    "duration": 0,
    "start_time": "2022-05-11T08:19:10.410Z"
   },
   {
    "duration": 0,
    "start_time": "2022-05-11T08:19:10.411Z"
   },
   {
    "duration": 1,
    "start_time": "2022-05-11T08:19:10.412Z"
   },
   {
    "duration": 0,
    "start_time": "2022-05-11T08:19:10.414Z"
   },
   {
    "duration": 0,
    "start_time": "2022-05-11T08:19:10.415Z"
   },
   {
    "duration": 0,
    "start_time": "2022-05-11T08:19:10.417Z"
   },
   {
    "duration": 0,
    "start_time": "2022-05-11T08:19:10.418Z"
   },
   {
    "duration": 0,
    "start_time": "2022-05-11T08:19:10.420Z"
   },
   {
    "duration": 0,
    "start_time": "2022-05-11T08:19:10.421Z"
   },
   {
    "duration": 0,
    "start_time": "2022-05-11T08:19:10.422Z"
   },
   {
    "duration": 0,
    "start_time": "2022-05-11T08:19:10.424Z"
   },
   {
    "duration": 1057,
    "start_time": "2022-05-11T08:31:27.584Z"
   },
   {
    "duration": 5,
    "start_time": "2022-05-11T08:31:29.980Z"
   },
   {
    "duration": 85,
    "start_time": "2022-05-11T08:31:30.540Z"
   },
   {
    "duration": 28,
    "start_time": "2022-05-11T08:31:31.014Z"
   },
   {
    "duration": 9,
    "start_time": "2022-05-11T08:31:32.040Z"
   },
   {
    "duration": 31,
    "start_time": "2022-05-11T08:31:33.451Z"
   },
   {
    "duration": 25,
    "start_time": "2022-05-11T08:31:33.733Z"
   },
   {
    "duration": 6,
    "start_time": "2022-05-11T08:31:34.723Z"
   },
   {
    "duration": 57,
    "start_time": "2022-05-11T08:31:34.972Z"
   },
   {
    "duration": 11,
    "start_time": "2022-05-11T08:31:35.202Z"
   },
   {
    "duration": 8,
    "start_time": "2022-05-11T08:31:36.321Z"
   },
   {
    "duration": 11,
    "start_time": "2022-05-11T08:31:36.514Z"
   },
   {
    "duration": 18,
    "start_time": "2022-05-11T08:31:36.705Z"
   },
   {
    "duration": 20,
    "start_time": "2022-05-11T08:31:37.323Z"
   },
   {
    "duration": 17,
    "start_time": "2022-05-11T08:31:37.558Z"
   },
   {
    "duration": 26,
    "start_time": "2022-05-11T08:31:38.223Z"
   },
   {
    "duration": 31,
    "start_time": "2022-05-11T08:31:38.461Z"
   },
   {
    "duration": 87,
    "start_time": "2022-05-11T08:31:39.224Z"
   },
   {
    "duration": 1131,
    "start_time": "2022-05-11T08:31:39.404Z"
   },
   {
    "duration": 1306,
    "start_time": "2022-05-11T08:31:40.537Z"
   },
   {
    "duration": 16,
    "start_time": "2022-05-11T08:31:41.846Z"
   },
   {
    "duration": 1313,
    "start_time": "2022-05-11T08:31:41.980Z"
   },
   {
    "duration": 29,
    "start_time": "2022-05-11T08:31:43.295Z"
   },
   {
    "duration": 24,
    "start_time": "2022-05-11T08:31:43.326Z"
   },
   {
    "duration": 43,
    "start_time": "2022-05-11T08:31:43.962Z"
   },
   {
    "duration": 4,
    "start_time": "2022-05-11T08:31:44.220Z"
   },
   {
    "duration": 35,
    "start_time": "2022-05-11T08:31:44.468Z"
   },
   {
    "duration": 6,
    "start_time": "2022-05-11T08:31:44.713Z"
   },
   {
    "duration": 52,
    "start_time": "2022-05-11T08:31:45.301Z"
   },
   {
    "duration": 24,
    "start_time": "2022-05-11T08:31:45.533Z"
   },
   {
    "duration": 12,
    "start_time": "2022-05-11T08:31:46.044Z"
   },
   {
    "duration": 159444,
    "start_time": "2022-05-11T08:31:46.538Z"
   },
   {
    "duration": 18,
    "start_time": "2022-05-11T08:34:25.985Z"
   },
   {
    "duration": 0,
    "start_time": "2022-05-11T08:34:26.006Z"
   },
   {
    "duration": 0,
    "start_time": "2022-05-11T08:34:26.008Z"
   },
   {
    "duration": 0,
    "start_time": "2022-05-11T08:34:26.009Z"
   },
   {
    "duration": 0,
    "start_time": "2022-05-11T08:34:26.010Z"
   },
   {
    "duration": 0,
    "start_time": "2022-05-11T08:34:26.011Z"
   },
   {
    "duration": 0,
    "start_time": "2022-05-11T08:34:26.013Z"
   },
   {
    "duration": 0,
    "start_time": "2022-05-11T08:34:26.014Z"
   },
   {
    "duration": 0,
    "start_time": "2022-05-11T08:34:26.015Z"
   },
   {
    "duration": 0,
    "start_time": "2022-05-11T08:34:26.017Z"
   },
   {
    "duration": 0,
    "start_time": "2022-05-11T08:34:26.019Z"
   },
   {
    "duration": 0,
    "start_time": "2022-05-11T08:34:26.021Z"
   },
   {
    "duration": 0,
    "start_time": "2022-05-11T08:34:26.022Z"
   },
   {
    "duration": 0,
    "start_time": "2022-05-11T08:34:26.023Z"
   },
   {
    "duration": 0,
    "start_time": "2022-05-11T08:34:26.025Z"
   },
   {
    "duration": 0,
    "start_time": "2022-05-11T08:34:26.026Z"
   },
   {
    "duration": 0,
    "start_time": "2022-05-11T08:34:26.027Z"
   },
   {
    "duration": 0,
    "start_time": "2022-05-11T08:34:26.029Z"
   },
   {
    "duration": 0,
    "start_time": "2022-05-11T08:34:26.030Z"
   },
   {
    "duration": 0,
    "start_time": "2022-05-11T08:34:26.032Z"
   },
   {
    "duration": 0,
    "start_time": "2022-05-11T08:34:26.033Z"
   },
   {
    "duration": 0,
    "start_time": "2022-05-11T08:34:26.035Z"
   },
   {
    "duration": 0,
    "start_time": "2022-05-11T08:34:26.036Z"
   },
   {
    "duration": 24,
    "start_time": "2022-05-11T09:05:58.500Z"
   },
   {
    "duration": 16,
    "start_time": "2022-05-11T09:06:07.133Z"
   },
   {
    "duration": 20,
    "start_time": "2022-05-11T09:06:10.866Z"
   },
   {
    "duration": 1408,
    "start_time": "2022-05-11T09:08:17.194Z"
   },
   {
    "duration": 16,
    "start_time": "2022-05-11T09:08:19.261Z"
   },
   {
    "duration": 21,
    "start_time": "2022-05-11T09:08:20.634Z"
   },
   {
    "duration": 1693,
    "start_time": "2022-05-11T09:14:36.003Z"
   },
   {
    "duration": 7,
    "start_time": "2022-05-11T09:14:39.268Z"
   },
   {
    "duration": 12,
    "start_time": "2022-05-11T09:14:44.570Z"
   },
   {
    "duration": 1361,
    "start_time": "2022-05-11T09:15:07.142Z"
   },
   {
    "duration": 20,
    "start_time": "2022-05-11T09:15:37.242Z"
   },
   {
    "duration": 39,
    "start_time": "2022-05-11T09:15:50.461Z"
   },
   {
    "duration": 29,
    "start_time": "2022-05-11T09:15:50.765Z"
   },
   {
    "duration": 4,
    "start_time": "2022-05-11T09:15:51.023Z"
   },
   {
    "duration": 7,
    "start_time": "2022-05-11T09:15:51.284Z"
   },
   {
    "duration": 11,
    "start_time": "2022-05-11T09:15:51.565Z"
   },
   {
    "duration": 41,
    "start_time": "2022-05-11T09:15:52.397Z"
   },
   {
    "duration": 33,
    "start_time": "2022-05-11T09:15:52.687Z"
   },
   {
    "duration": 5,
    "start_time": "2022-05-11T09:15:52.950Z"
   },
   {
    "duration": 21,
    "start_time": "2022-05-11T09:15:53.211Z"
   },
   {
    "duration": 25,
    "start_time": "2022-05-11T09:15:53.497Z"
   },
   {
    "duration": 8,
    "start_time": "2022-05-11T09:15:53.769Z"
   },
   {
    "duration": 2384,
    "start_time": "2022-05-11T09:15:54.071Z"
   },
   {
    "duration": 75,
    "start_time": "2022-05-11T09:15:56.458Z"
   },
   {
    "duration": 69,
    "start_time": "2022-05-11T09:15:56.536Z"
   },
   {
    "duration": 33,
    "start_time": "2022-05-11T09:15:56.751Z"
   },
   {
    "duration": 44,
    "start_time": "2022-05-11T09:15:57.290Z"
   },
   {
    "duration": 37,
    "start_time": "2022-05-11T09:15:57.561Z"
   },
   {
    "duration": 33,
    "start_time": "2022-05-11T09:15:58.234Z"
   },
   {
    "duration": 39,
    "start_time": "2022-05-11T09:15:58.495Z"
   },
   {
    "duration": 6,
    "start_time": "2022-05-11T09:18:47.178Z"
   },
   {
    "duration": 5,
    "start_time": "2022-05-11T09:18:49.605Z"
   },
   {
    "duration": 26,
    "start_time": "2022-05-11T09:19:01.152Z"
   },
   {
    "duration": 14,
    "start_time": "2022-05-11T09:19:15.665Z"
   },
   {
    "duration": 15,
    "start_time": "2022-05-11T09:19:20.654Z"
   },
   {
    "duration": 47,
    "start_time": "2022-05-11T09:20:05.289Z"
   },
   {
    "duration": 27,
    "start_time": "2022-05-11T09:20:09.257Z"
   },
   {
    "duration": 10,
    "start_time": "2022-05-11T09:20:13.889Z"
   },
   {
    "duration": 30,
    "start_time": "2022-05-11T09:20:19.655Z"
   },
   {
    "duration": 1834,
    "start_time": "2022-05-11T09:33:31.160Z"
   },
   {
    "duration": 1160,
    "start_time": "2022-05-11T09:33:38.838Z"
   },
   {
    "duration": 3,
    "start_time": "2022-05-11T09:33:50.407Z"
   },
   {
    "duration": 3,
    "start_time": "2022-05-11T09:33:51.172Z"
   },
   {
    "duration": 4,
    "start_time": "2022-05-11T09:33:55.397Z"
   },
   {
    "duration": 63,
    "start_time": "2022-05-11T09:33:57.266Z"
   },
   {
    "duration": 17,
    "start_time": "2022-05-11T09:34:00.201Z"
   },
   {
    "duration": 9,
    "start_time": "2022-05-11T09:34:02.307Z"
   },
   {
    "duration": 20,
    "start_time": "2022-05-11T09:34:04.032Z"
   },
   {
    "duration": 20,
    "start_time": "2022-05-11T09:34:05.061Z"
   },
   {
    "duration": 4,
    "start_time": "2022-05-11T09:34:09.772Z"
   },
   {
    "duration": 44,
    "start_time": "2022-05-11T09:34:11.419Z"
   },
   {
    "duration": 6,
    "start_time": "2022-05-11T09:34:12.285Z"
   },
   {
    "duration": 7,
    "start_time": "2022-05-11T09:34:15.484Z"
   },
   {
    "duration": 7,
    "start_time": "2022-05-11T09:34:16.210Z"
   },
   {
    "duration": 14,
    "start_time": "2022-05-11T09:34:17.069Z"
   },
   {
    "duration": 16,
    "start_time": "2022-05-11T09:34:22.278Z"
   },
   {
    "duration": 12,
    "start_time": "2022-05-11T09:34:25.084Z"
   },
   {
    "duration": 19,
    "start_time": "2022-05-11T09:34:26.844Z"
   },
   {
    "duration": 24,
    "start_time": "2022-05-11T09:34:28.014Z"
   },
   {
    "duration": 70,
    "start_time": "2022-05-11T09:34:31.023Z"
   },
   {
    "duration": 708,
    "start_time": "2022-05-11T09:34:32.461Z"
   },
   {
    "duration": 823,
    "start_time": "2022-05-11T09:34:42.061Z"
   },
   {
    "duration": 13,
    "start_time": "2022-05-11T09:34:44.602Z"
   },
   {
    "duration": 187,
    "start_time": "2022-05-11T09:36:27.283Z"
   },
   {
    "duration": 128,
    "start_time": "2022-05-11T09:37:46.470Z"
   },
   {
    "duration": 775,
    "start_time": "2022-05-11T09:37:51.897Z"
   },
   {
    "duration": 20,
    "start_time": "2022-05-11T09:37:52.674Z"
   },
   {
    "duration": 1822,
    "start_time": "2022-05-11T09:37:55.831Z"
   },
   {
    "duration": 1971,
    "start_time": "2022-05-11T09:38:22.938Z"
   },
   {
    "duration": 1939,
    "start_time": "2022-05-11T09:38:42.389Z"
   },
   {
    "duration": 10,
    "start_time": "2022-05-11T09:41:21.244Z"
   },
   {
    "duration": 27,
    "start_time": "2022-05-11T09:41:31.724Z"
   },
   {
    "duration": 3,
    "start_time": "2022-05-11T09:41:32.553Z"
   },
   {
    "duration": 25,
    "start_time": "2022-05-11T09:41:33.693Z"
   },
   {
    "duration": 5,
    "start_time": "2022-05-11T09:41:36.353Z"
   },
   {
    "duration": 18,
    "start_time": "2022-05-11T09:42:08.371Z"
   },
   {
    "duration": 14,
    "start_time": "2022-05-11T09:42:52.583Z"
   },
   {
    "duration": 38,
    "start_time": "2022-05-11T09:44:15.385Z"
   },
   {
    "duration": 22,
    "start_time": "2022-05-11T09:44:41.700Z"
   },
   {
    "duration": 14,
    "start_time": "2022-05-11T09:45:00.719Z"
   },
   {
    "duration": 11,
    "start_time": "2022-05-11T09:45:23.419Z"
   },
   {
    "duration": 13,
    "start_time": "2022-05-11T09:45:41.837Z"
   },
   {
    "duration": 11,
    "start_time": "2022-05-11T09:45:57.154Z"
   },
   {
    "duration": 493,
    "start_time": "2022-05-11T09:46:07.251Z"
   },
   {
    "duration": 301,
    "start_time": "2022-05-11T09:46:18.783Z"
   },
   {
    "duration": 314,
    "start_time": "2022-05-11T09:47:04.380Z"
   },
   {
    "duration": 134,
    "start_time": "2022-05-11T09:49:52.842Z"
   },
   {
    "duration": 171,
    "start_time": "2022-05-11T09:51:21.664Z"
   },
   {
    "duration": 50,
    "start_time": "2022-05-11T09:52:28.352Z"
   },
   {
    "duration": 51,
    "start_time": "2022-05-11T09:52:30.978Z"
   },
   {
    "duration": 41,
    "start_time": "2022-05-11T09:52:53.247Z"
   },
   {
    "duration": 21,
    "start_time": "2022-05-11T09:52:57.330Z"
   },
   {
    "duration": 10,
    "start_time": "2022-05-11T09:53:07.778Z"
   },
   {
    "duration": 143735,
    "start_time": "2022-05-11T09:53:09.648Z"
   },
   {
    "duration": 835,
    "start_time": "2022-05-11T11:10:36.434Z"
   },
   {
    "duration": 8,
    "start_time": "2022-05-11T11:10:39.721Z"
   },
   {
    "duration": 507,
    "start_time": "2022-05-11T11:13:32.726Z"
   },
   {
    "duration": 7,
    "start_time": "2022-05-11T11:13:35.136Z"
   },
   {
    "duration": 182,
    "start_time": "2022-05-11T11:14:17.818Z"
   },
   {
    "duration": 15,
    "start_time": "2022-05-11T11:14:23.629Z"
   },
   {
    "duration": 40,
    "start_time": "2022-05-11T11:14:56.213Z"
   },
   {
    "duration": 33,
    "start_time": "2022-05-11T11:15:05.319Z"
   },
   {
    "duration": 13,
    "start_time": "2022-05-11T11:15:06.492Z"
   },
   {
    "duration": 5,
    "start_time": "2022-05-11T11:15:36.428Z"
   },
   {
    "duration": 44,
    "start_time": "2022-05-11T11:15:36.435Z"
   },
   {
    "duration": 30,
    "start_time": "2022-05-11T11:15:36.481Z"
   },
   {
    "duration": 2979,
    "start_time": "2022-05-11T11:15:36.513Z"
   },
   {
    "duration": 5,
    "start_time": "2022-05-11T11:15:39.495Z"
   },
   {
    "duration": 88,
    "start_time": "2022-05-11T11:15:39.501Z"
   },
   {
    "duration": 18,
    "start_time": "2022-05-11T11:15:39.591Z"
   },
   {
    "duration": 19,
    "start_time": "2022-05-11T11:15:39.611Z"
   },
   {
    "duration": 47,
    "start_time": "2022-05-11T11:15:39.632Z"
   },
   {
    "duration": 53,
    "start_time": "2022-05-11T11:15:39.681Z"
   },
   {
    "duration": 10,
    "start_time": "2022-05-11T11:15:39.738Z"
   },
   {
    "duration": 78,
    "start_time": "2022-05-11T11:15:39.750Z"
   },
   {
    "duration": 11,
    "start_time": "2022-05-11T11:15:39.831Z"
   },
   {
    "duration": 32,
    "start_time": "2022-05-11T11:15:39.844Z"
   },
   {
    "duration": 27,
    "start_time": "2022-05-11T11:15:39.877Z"
   },
   {
    "duration": 43,
    "start_time": "2022-05-11T11:15:39.906Z"
   },
   {
    "duration": 22,
    "start_time": "2022-05-11T11:15:39.952Z"
   },
   {
    "duration": 27,
    "start_time": "2022-05-11T11:15:39.976Z"
   },
   {
    "duration": 43,
    "start_time": "2022-05-11T11:15:40.006Z"
   },
   {
    "duration": 25,
    "start_time": "2022-05-11T11:15:40.051Z"
   },
   {
    "duration": 76,
    "start_time": "2022-05-11T11:15:40.078Z"
   },
   {
    "duration": 905,
    "start_time": "2022-05-11T11:15:40.156Z"
   },
   {
    "duration": 1104,
    "start_time": "2022-05-11T11:15:41.063Z"
   },
   {
    "duration": 13,
    "start_time": "2022-05-11T11:15:42.169Z"
   },
   {
    "duration": 13,
    "start_time": "2022-05-11T11:15:42.185Z"
   },
   {
    "duration": 970,
    "start_time": "2022-05-11T11:15:42.222Z"
   },
   {
    "duration": 20,
    "start_time": "2022-05-11T11:15:43.193Z"
   },
   {
    "duration": 2235,
    "start_time": "2022-05-11T11:15:43.224Z"
   },
   {
    "duration": 17,
    "start_time": "2022-05-11T11:15:45.463Z"
   },
   {
    "duration": 50,
    "start_time": "2022-05-11T11:15:45.482Z"
   },
   {
    "duration": 3,
    "start_time": "2022-05-11T11:15:45.534Z"
   },
   {
    "duration": 39,
    "start_time": "2022-05-11T11:15:45.541Z"
   },
   {
    "duration": 19,
    "start_time": "2022-05-11T11:15:45.582Z"
   },
   {
    "duration": 371,
    "start_time": "2022-05-11T11:15:45.603Z"
   },
   {
    "duration": 155,
    "start_time": "2022-05-11T11:15:45.976Z"
   },
   {
    "duration": 45,
    "start_time": "2022-05-11T11:15:46.134Z"
   },
   {
    "duration": 16,
    "start_time": "2022-05-11T11:15:46.180Z"
   },
   {
    "duration": 29,
    "start_time": "2022-05-11T11:15:46.197Z"
   },
   {
    "duration": 152280,
    "start_time": "2022-05-11T11:15:46.228Z"
   },
   {
    "duration": 3,
    "start_time": "2022-05-11T11:18:18.510Z"
   },
   {
    "duration": 815,
    "start_time": "2022-05-11T11:18:18.523Z"
   },
   {
    "duration": 82,
    "start_time": "2022-05-11T11:18:19.341Z"
   },
   {
    "duration": 13,
    "start_time": "2022-05-11T11:18:19.426Z"
   },
   {
    "duration": 41,
    "start_time": "2022-05-11T11:18:37.223Z"
   },
   {
    "duration": 21,
    "start_time": "2022-05-11T11:18:38.464Z"
   },
   {
    "duration": 3,
    "start_time": "2022-05-11T11:18:40.066Z"
   },
   {
    "duration": 5,
    "start_time": "2022-05-11T11:18:41.203Z"
   },
   {
    "duration": 7,
    "start_time": "2022-05-11T11:18:42.678Z"
   },
   {
    "duration": 47,
    "start_time": "2022-05-11T11:21:24.607Z"
   },
   {
    "duration": 32,
    "start_time": "2022-05-11T11:21:26.738Z"
   },
   {
    "duration": 3,
    "start_time": "2022-05-11T11:21:27.786Z"
   },
   {
    "duration": 23,
    "start_time": "2022-05-11T11:21:38.626Z"
   },
   {
    "duration": 15,
    "start_time": "2022-05-11T11:21:40.106Z"
   },
   {
    "duration": 5,
    "start_time": "2022-05-11T11:21:56.555Z"
   },
   {
    "duration": 804,
    "start_time": "2022-05-11T11:21:57.945Z"
   },
   {
    "duration": 748,
    "start_time": "2022-05-11T11:22:08.642Z"
   },
   {
    "duration": 11,
    "start_time": "2022-05-11T11:22:47.036Z"
   },
   {
    "duration": 17,
    "start_time": "2022-05-11T11:22:54.911Z"
   },
   {
    "duration": 1052,
    "start_time": "2022-05-11T11:23:17.509Z"
   },
   {
    "duration": 40,
    "start_time": "2022-05-11T11:23:32.342Z"
   },
   {
    "duration": 847,
    "start_time": "2022-05-11T11:26:16.228Z"
   },
   {
    "duration": 2450,
    "start_time": "2022-05-11T11:34:15.546Z"
   },
   {
    "duration": 2546,
    "start_time": "2022-05-11T11:34:57.869Z"
   },
   {
    "duration": 2566,
    "start_time": "2022-05-11T11:42:17.045Z"
   },
   {
    "duration": 2709,
    "start_time": "2022-05-11T11:46:32.632Z"
   },
   {
    "duration": 2290,
    "start_time": "2022-05-11T11:47:13.307Z"
   },
   {
    "duration": 70,
    "start_time": "2022-05-11T11:47:28.174Z"
   },
   {
    "duration": 2536,
    "start_time": "2022-05-11T11:47:40.367Z"
   },
   {
    "duration": 2258,
    "start_time": "2022-05-11T11:51:09.530Z"
   },
   {
    "duration": 2494,
    "start_time": "2022-05-11T11:51:24.540Z"
   },
   {
    "duration": 43,
    "start_time": "2022-05-11T11:52:18.346Z"
   },
   {
    "duration": 2179,
    "start_time": "2022-05-11T11:52:23.561Z"
   },
   {
    "duration": 2367,
    "start_time": "2022-05-11T11:52:51.793Z"
   },
   {
    "duration": 2505,
    "start_time": "2022-05-11T11:54:15.679Z"
   },
   {
    "duration": 2669,
    "start_time": "2022-05-11T11:54:23.127Z"
   },
   {
    "duration": 2313,
    "start_time": "2022-05-11T11:54:51.640Z"
   },
   {
    "duration": 622,
    "start_time": "2022-05-11T11:55:07.395Z"
   },
   {
    "duration": 2381,
    "start_time": "2022-05-11T11:55:18.091Z"
   },
   {
    "duration": 499,
    "start_time": "2022-05-11T11:55:26.077Z"
   },
   {
    "duration": 2598,
    "start_time": "2022-05-11T11:55:29.960Z"
   },
   {
    "duration": 18,
    "start_time": "2022-05-11T12:04:00.271Z"
   },
   {
    "duration": 16,
    "start_time": "2022-05-11T12:08:10.955Z"
   },
   {
    "duration": 19,
    "start_time": "2022-05-11T12:10:58.872Z"
   },
   {
    "duration": 16,
    "start_time": "2022-05-11T12:12:03.677Z"
   },
   {
    "duration": 30,
    "start_time": "2022-05-11T12:12:32.699Z"
   },
   {
    "duration": 20,
    "start_time": "2022-05-11T12:12:41.133Z"
   },
   {
    "duration": 22,
    "start_time": "2022-05-11T12:14:08.459Z"
   },
   {
    "duration": 3016,
    "start_time": "2022-05-11T12:14:48.926Z"
   },
   {
    "duration": 9,
    "start_time": "2022-05-11T12:17:48.646Z"
   },
   {
    "duration": 26,
    "start_time": "2022-05-11T12:17:51.228Z"
   },
   {
    "duration": 2009,
    "start_time": "2022-05-11T12:30:05.567Z"
   },
   {
    "duration": 3437,
    "start_time": "2022-05-11T12:30:43.046Z"
   },
   {
    "duration": 2027,
    "start_time": "2022-05-11T12:31:44.569Z"
   },
   {
    "duration": 2186,
    "start_time": "2022-05-11T12:32:41.025Z"
   },
   {
    "duration": 9,
    "start_time": "2022-05-11T12:33:08.531Z"
   },
   {
    "duration": 179,
    "start_time": "2022-05-11T12:33:42.579Z"
   },
   {
    "duration": 182,
    "start_time": "2022-05-11T12:33:45.243Z"
   },
   {
    "duration": 5,
    "start_time": "2022-05-11T12:34:43.962Z"
   },
   {
    "duration": 185,
    "start_time": "2022-05-11T12:35:00.394Z"
   },
   {
    "duration": 4,
    "start_time": "2022-05-11T12:35:06.786Z"
   },
   {
    "duration": 775,
    "start_time": "2022-05-11T12:35:40.080Z"
   },
   {
    "duration": 5,
    "start_time": "2022-05-11T12:35:45.666Z"
   },
   {
    "duration": 3403,
    "start_time": "2022-05-11T12:46:44.647Z"
   },
   {
    "duration": 35,
    "start_time": "2022-05-11T12:46:58.585Z"
   },
   {
    "duration": 16,
    "start_time": "2022-05-11T12:47:33.588Z"
   },
   {
    "duration": 26,
    "start_time": "2022-05-11T12:48:08.222Z"
   },
   {
    "duration": 19,
    "start_time": "2022-05-11T12:48:25.828Z"
   },
   {
    "duration": 21,
    "start_time": "2022-05-11T12:48:35.017Z"
   },
   {
    "duration": 14,
    "start_time": "2022-05-11T13:02:00.812Z"
   },
   {
    "duration": 14,
    "start_time": "2022-05-11T13:02:24.267Z"
   },
   {
    "duration": 14,
    "start_time": "2022-05-11T13:02:31.073Z"
   },
   {
    "duration": 165,
    "start_time": "2022-05-11T13:02:58.744Z"
   },
   {
    "duration": 16,
    "start_time": "2022-05-11T13:03:15.936Z"
   },
   {
    "duration": 17,
    "start_time": "2022-05-11T13:03:34.651Z"
   },
   {
    "duration": 17,
    "start_time": "2022-05-11T13:04:05.101Z"
   },
   {
    "duration": 15,
    "start_time": "2022-05-11T13:04:09.894Z"
   },
   {
    "duration": 12,
    "start_time": "2022-05-11T13:14:58.478Z"
   },
   {
    "duration": 920,
    "start_time": "2022-05-11T13:15:19.057Z"
   },
   {
    "duration": 15,
    "start_time": "2022-05-11T13:16:39.613Z"
   },
   {
    "duration": 31,
    "start_time": "2022-05-11T13:16:47.023Z"
   },
   {
    "duration": 12,
    "start_time": "2022-05-11T13:17:29.753Z"
   },
   {
    "duration": 152,
    "start_time": "2022-05-11T13:17:36.303Z"
   },
   {
    "duration": 12,
    "start_time": "2022-05-11T13:17:41.301Z"
   },
   {
    "duration": 30,
    "start_time": "2022-05-11T13:17:50.153Z"
   },
   {
    "duration": 18,
    "start_time": "2022-05-11T13:18:42.521Z"
   },
   {
    "duration": 39,
    "start_time": "2022-05-11T13:19:05.054Z"
   },
   {
    "duration": 24,
    "start_time": "2022-05-11T13:23:11.185Z"
   },
   {
    "duration": 8,
    "start_time": "2022-05-11T13:23:54.449Z"
   },
   {
    "duration": 3139,
    "start_time": "2022-05-11T13:25:58.619Z"
   },
   {
    "duration": 7,
    "start_time": "2022-05-11T13:26:16.580Z"
   },
   {
    "duration": 28,
    "start_time": "2022-05-11T13:26:23.169Z"
   },
   {
    "duration": 16,
    "start_time": "2022-05-11T13:26:37.523Z"
   },
   {
    "duration": 13,
    "start_time": "2022-05-11T13:27:01.683Z"
   },
   {
    "duration": 14,
    "start_time": "2022-05-11T13:27:08.404Z"
   },
   {
    "duration": 41,
    "start_time": "2022-05-11T13:44:37.335Z"
   },
   {
    "duration": 16,
    "start_time": "2022-05-11T13:44:44.351Z"
   },
   {
    "duration": 29,
    "start_time": "2022-05-11T13:45:11.606Z"
   },
   {
    "duration": 22,
    "start_time": "2022-05-11T13:45:16.218Z"
   },
   {
    "duration": 32,
    "start_time": "2022-05-11T13:53:05.757Z"
   },
   {
    "duration": 45,
    "start_time": "2022-05-11T13:54:24.575Z"
   },
   {
    "duration": 20,
    "start_time": "2022-05-11T13:54:53.831Z"
   },
   {
    "duration": 28,
    "start_time": "2022-05-11T13:54:58.870Z"
   },
   {
    "duration": 12,
    "start_time": "2022-05-11T13:55:52.120Z"
   },
   {
    "duration": 12,
    "start_time": "2022-05-11T13:56:01.841Z"
   },
   {
    "duration": 22,
    "start_time": "2022-05-11T13:56:06.142Z"
   },
   {
    "duration": 18,
    "start_time": "2022-05-11T13:56:16.940Z"
   },
   {
    "duration": 16,
    "start_time": "2022-05-11T13:56:26.562Z"
   },
   {
    "duration": 10,
    "start_time": "2022-05-11T13:57:35.597Z"
   },
   {
    "duration": 10,
    "start_time": "2022-05-11T13:58:02.140Z"
   },
   {
    "duration": 20,
    "start_time": "2022-05-11T13:58:06.042Z"
   },
   {
    "duration": 51,
    "start_time": "2022-05-11T15:45:21.565Z"
   },
   {
    "duration": 1950,
    "start_time": "2022-05-11T15:45:31.201Z"
   },
   {
    "duration": 3,
    "start_time": "2022-05-11T15:45:33.154Z"
   },
   {
    "duration": 11,
    "start_time": "2022-05-11T15:45:33.159Z"
   },
   {
    "duration": 584,
    "start_time": "2022-05-11T15:45:33.172Z"
   },
   {
    "duration": 5,
    "start_time": "2022-05-11T15:45:33.758Z"
   },
   {
    "duration": 80,
    "start_time": "2022-05-11T15:45:33.764Z"
   },
   {
    "duration": 23,
    "start_time": "2022-05-11T15:45:33.846Z"
   },
   {
    "duration": 10,
    "start_time": "2022-05-11T15:45:33.870Z"
   },
   {
    "duration": 28,
    "start_time": "2022-05-11T15:45:33.881Z"
   },
   {
    "duration": 41,
    "start_time": "2022-05-11T15:45:33.912Z"
   },
   {
    "duration": 19,
    "start_time": "2022-05-11T15:45:33.955Z"
   },
   {
    "duration": 51,
    "start_time": "2022-05-11T15:45:33.976Z"
   },
   {
    "duration": 9,
    "start_time": "2022-05-11T15:45:34.036Z"
   },
   {
    "duration": 23,
    "start_time": "2022-05-11T15:45:34.047Z"
   },
   {
    "duration": 12,
    "start_time": "2022-05-11T15:45:34.072Z"
   },
   {
    "duration": 15,
    "start_time": "2022-05-11T15:45:34.085Z"
   },
   {
    "duration": 38,
    "start_time": "2022-05-11T15:45:34.102Z"
   },
   {
    "duration": 28,
    "start_time": "2022-05-11T15:45:34.143Z"
   },
   {
    "duration": 20,
    "start_time": "2022-05-11T15:45:34.173Z"
   },
   {
    "duration": 24,
    "start_time": "2022-05-11T15:45:34.195Z"
   },
   {
    "duration": 88,
    "start_time": "2022-05-11T15:45:34.221Z"
   },
   {
    "duration": 950,
    "start_time": "2022-05-11T15:45:34.311Z"
   },
   {
    "duration": 930,
    "start_time": "2022-05-11T15:45:35.263Z"
   },
   {
    "duration": 13,
    "start_time": "2022-05-11T15:45:36.195Z"
   },
   {
    "duration": 28,
    "start_time": "2022-05-11T15:45:36.209Z"
   },
   {
    "duration": 921,
    "start_time": "2022-05-11T15:45:36.240Z"
   },
   {
    "duration": 21,
    "start_time": "2022-05-11T15:45:37.163Z"
   },
   {
    "duration": 19,
    "start_time": "2022-05-11T15:45:37.190Z"
   },
   {
    "duration": 61,
    "start_time": "2022-05-11T15:45:37.211Z"
   },
   {
    "duration": 4,
    "start_time": "2022-05-11T15:45:37.274Z"
   },
   {
    "duration": 29,
    "start_time": "2022-05-11T15:45:37.279Z"
   },
   {
    "duration": 30,
    "start_time": "2022-05-11T15:45:37.310Z"
   },
   {
    "duration": 389,
    "start_time": "2022-05-11T15:45:37.342Z"
   },
   {
    "duration": 180,
    "start_time": "2022-05-11T15:45:37.733Z"
   },
   {
    "duration": 54,
    "start_time": "2022-05-11T15:45:37.915Z"
   },
   {
    "duration": 16,
    "start_time": "2022-05-11T15:45:37.971Z"
   },
   {
    "duration": 14,
    "start_time": "2022-05-11T15:45:37.988Z"
   },
   {
    "duration": 143769,
    "start_time": "2022-05-11T15:45:38.004Z"
   },
   {
    "duration": 3,
    "start_time": "2022-05-11T15:48:01.775Z"
   },
   {
    "duration": 561,
    "start_time": "2022-05-11T15:48:01.780Z"
   },
   {
    "duration": 19,
    "start_time": "2022-05-11T15:48:02.352Z"
   },
   {
    "duration": 21,
    "start_time": "2022-05-11T15:48:02.439Z"
   },
   {
    "duration": 43,
    "start_time": "2022-05-11T15:48:02.465Z"
   },
   {
    "duration": 40,
    "start_time": "2022-05-11T15:48:02.511Z"
   },
   {
    "duration": 5,
    "start_time": "2022-05-11T15:48:02.553Z"
   },
   {
    "duration": 24,
    "start_time": "2022-05-11T15:48:02.560Z"
   },
   {
    "duration": 24,
    "start_time": "2022-05-11T15:48:02.587Z"
   },
   {
    "duration": 58,
    "start_time": "2022-05-11T15:48:02.613Z"
   },
   {
    "duration": 25,
    "start_time": "2022-05-11T15:48:02.674Z"
   },
   {
    "duration": 4,
    "start_time": "2022-05-11T15:48:02.701Z"
   },
   {
    "duration": 35,
    "start_time": "2022-05-11T15:48:02.707Z"
   },
   {
    "duration": 35,
    "start_time": "2022-05-11T15:48:02.744Z"
   },
   {
    "duration": 7,
    "start_time": "2022-05-11T15:48:02.781Z"
   },
   {
    "duration": 3103,
    "start_time": "2022-05-11T15:48:02.791Z"
   },
   {
    "duration": 88,
    "start_time": "2022-05-11T15:48:05.896Z"
   },
   {
    "duration": 33,
    "start_time": "2022-05-11T15:48:05.986Z"
   },
   {
    "duration": 25,
    "start_time": "2022-05-11T15:48:06.021Z"
   },
   {
    "duration": 2577,
    "start_time": "2022-05-11T15:48:06.048Z"
   },
   {
    "duration": 12,
    "start_time": "2022-05-11T15:48:08.627Z"
   },
   {
    "duration": 48,
    "start_time": "2022-05-11T15:48:08.642Z"
   },
   {
    "duration": 16,
    "start_time": "2022-05-11T15:48:08.691Z"
   },
   {
    "duration": 17,
    "start_time": "2022-05-11T15:48:08.709Z"
   },
   {
    "duration": 35,
    "start_time": "2022-05-11T15:48:08.728Z"
   },
   {
    "duration": 106,
    "start_time": "2022-05-11T15:48:08.766Z"
   },
   {
    "duration": 0,
    "start_time": "2022-05-11T15:48:08.874Z"
   },
   {
    "duration": 0,
    "start_time": "2022-05-11T15:48:08.875Z"
   },
   {
    "duration": 0,
    "start_time": "2022-05-11T15:48:08.876Z"
   },
   {
    "duration": 0,
    "start_time": "2022-05-11T15:48:08.877Z"
   },
   {
    "duration": 0,
    "start_time": "2022-05-11T15:48:08.878Z"
   },
   {
    "duration": 0,
    "start_time": "2022-05-11T15:48:08.880Z"
   },
   {
    "duration": 0,
    "start_time": "2022-05-11T15:48:08.881Z"
   },
   {
    "duration": 0,
    "start_time": "2022-05-11T15:48:08.882Z"
   },
   {
    "duration": 0,
    "start_time": "2022-05-11T15:48:08.883Z"
   },
   {
    "duration": 0,
    "start_time": "2022-05-11T15:48:08.884Z"
   },
   {
    "duration": 0,
    "start_time": "2022-05-11T15:48:08.885Z"
   },
   {
    "duration": 0,
    "start_time": "2022-05-11T15:48:08.886Z"
   },
   {
    "duration": 24,
    "start_time": "2022-05-11T15:54:47.246Z"
   },
   {
    "duration": 25,
    "start_time": "2022-05-11T15:55:16.523Z"
   },
   {
    "duration": 4,
    "start_time": "2022-05-11T15:55:36.491Z"
   },
   {
    "duration": 4,
    "start_time": "2022-05-11T15:56:30.658Z"
   },
   {
    "duration": 4,
    "start_time": "2022-05-11T15:56:43.162Z"
   },
   {
    "duration": 8,
    "start_time": "2022-05-11T15:58:12.512Z"
   },
   {
    "duration": 10,
    "start_time": "2022-05-11T15:58:32.742Z"
   },
   {
    "duration": 8,
    "start_time": "2022-05-11T15:59:00.722Z"
   },
   {
    "duration": 13,
    "start_time": "2022-05-11T16:01:15.792Z"
   },
   {
    "duration": 18,
    "start_time": "2022-05-11T16:05:11.596Z"
   },
   {
    "duration": 11,
    "start_time": "2022-05-11T16:05:12.261Z"
   },
   {
    "duration": 5,
    "start_time": "2022-05-11T16:05:12.853Z"
   },
   {
    "duration": 7,
    "start_time": "2022-05-11T16:05:13.766Z"
   },
   {
    "duration": 7,
    "start_time": "2022-05-11T16:05:14.694Z"
   },
   {
    "duration": 2390,
    "start_time": "2022-05-11T16:06:44.534Z"
   },
   {
    "duration": 25,
    "start_time": "2022-05-11T16:07:13.954Z"
   },
   {
    "duration": 14,
    "start_time": "2022-05-11T16:08:29.124Z"
   },
   {
    "duration": 17,
    "start_time": "2022-05-11T16:08:45.966Z"
   },
   {
    "duration": 24,
    "start_time": "2022-05-11T16:08:57.050Z"
   },
   {
    "duration": 34,
    "start_time": "2022-05-11T16:08:59.698Z"
   },
   {
    "duration": 2577,
    "start_time": "2022-05-11T16:09:13.755Z"
   },
   {
    "duration": 26,
    "start_time": "2022-05-11T16:09:48.120Z"
   },
   {
    "duration": 13,
    "start_time": "2022-05-11T16:10:35.164Z"
   },
   {
    "duration": 7,
    "start_time": "2022-05-11T16:10:38.063Z"
   },
   {
    "duration": 2298,
    "start_time": "2022-05-11T16:12:16.229Z"
   },
   {
    "duration": 12,
    "start_time": "2022-05-11T16:12:39.063Z"
   },
   {
    "duration": 12,
    "start_time": "2022-05-11T16:14:10.794Z"
   },
   {
    "duration": 9,
    "start_time": "2022-05-11T16:14:18.904Z"
   },
   {
    "duration": 9,
    "start_time": "2022-05-11T16:14:27.458Z"
   },
   {
    "duration": 24,
    "start_time": "2022-05-11T16:16:23.198Z"
   },
   {
    "duration": 15,
    "start_time": "2022-05-11T16:16:51.660Z"
   },
   {
    "duration": 1558,
    "start_time": "2022-05-11T16:18:26.157Z"
   },
   {
    "duration": 11,
    "start_time": "2022-05-11T16:18:34.310Z"
   },
   {
    "duration": 20,
    "start_time": "2022-05-11T16:19:00.309Z"
   },
   {
    "duration": 2572,
    "start_time": "2022-05-11T16:23:35.696Z"
   },
   {
    "duration": 8,
    "start_time": "2022-05-11T16:23:47.069Z"
   },
   {
    "duration": 10,
    "start_time": "2022-05-11T16:24:14.239Z"
   },
   {
    "duration": 7,
    "start_time": "2022-05-11T16:25:45.087Z"
   },
   {
    "duration": 8,
    "start_time": "2022-05-11T16:26:07.958Z"
   },
   {
    "duration": 10,
    "start_time": "2022-05-11T16:26:47.584Z"
   },
   {
    "duration": 9,
    "start_time": "2022-05-11T16:26:54.631Z"
   },
   {
    "duration": 24,
    "start_time": "2022-05-11T16:27:14.396Z"
   },
   {
    "duration": 77,
    "start_time": "2022-05-11T16:30:35.383Z"
   },
   {
    "duration": 72,
    "start_time": "2022-05-11T16:31:08.911Z"
   },
   {
    "duration": 91,
    "start_time": "2022-05-11T16:31:41.728Z"
   },
   {
    "duration": 18,
    "start_time": "2022-05-11T16:32:59.394Z"
   },
   {
    "duration": 72,
    "start_time": "2022-05-11T16:35:37.852Z"
   },
   {
    "duration": 71,
    "start_time": "2022-05-11T16:35:44.035Z"
   },
   {
    "duration": 80,
    "start_time": "2022-05-11T16:39:33.148Z"
   },
   {
    "duration": 107,
    "start_time": "2022-05-11T16:47:01.809Z"
   },
   {
    "duration": 5,
    "start_time": "2022-05-11T16:47:24.733Z"
   },
   {
    "duration": 63,
    "start_time": "2022-05-11T16:47:43.546Z"
   },
   {
    "duration": 5,
    "start_time": "2022-05-11T16:47:45.023Z"
   },
   {
    "duration": 3,
    "start_time": "2022-05-11T16:48:20.425Z"
   },
   {
    "duration": 17,
    "start_time": "2022-05-11T16:48:28.253Z"
   },
   {
    "duration": 22,
    "start_time": "2022-05-11T16:49:50.499Z"
   },
   {
    "duration": 75,
    "start_time": "2022-05-11T16:59:05.609Z"
   },
   {
    "duration": 20,
    "start_time": "2022-05-11T16:59:30.663Z"
   },
   {
    "duration": 14,
    "start_time": "2022-05-11T17:01:09.251Z"
   },
   {
    "duration": 15,
    "start_time": "2022-05-11T17:01:42.653Z"
   },
   {
    "duration": 15,
    "start_time": "2022-05-11T17:03:26.276Z"
   },
   {
    "duration": 18,
    "start_time": "2022-05-11T17:04:27.485Z"
   },
   {
    "duration": 16,
    "start_time": "2022-05-11T17:04:50.047Z"
   },
   {
    "duration": 28,
    "start_time": "2022-05-11T17:09:31.414Z"
   },
   {
    "duration": 2501,
    "start_time": "2022-05-11T17:10:51.646Z"
   },
   {
    "duration": 73,
    "start_time": "2022-05-11T17:11:01.610Z"
   },
   {
    "duration": 5,
    "start_time": "2022-05-11T17:11:03.051Z"
   },
   {
    "duration": 2320,
    "start_time": "2022-05-11T17:11:05.632Z"
   },
   {
    "duration": 16,
    "start_time": "2022-05-11T17:11:18.661Z"
   },
   {
    "duration": 23,
    "start_time": "2022-05-11T17:11:43.569Z"
   },
   {
    "duration": 2435,
    "start_time": "2022-05-11T17:11:43.707Z"
   },
   {
    "duration": 2370,
    "start_time": "2022-05-11T17:11:51.246Z"
   },
   {
    "duration": 2397,
    "start_time": "2022-05-11T17:12:09.547Z"
   },
   {
    "duration": 5,
    "start_time": "2022-05-11T17:13:40.334Z"
   },
   {
    "duration": 35,
    "start_time": "2022-05-11T17:13:40.342Z"
   },
   {
    "duration": 19,
    "start_time": "2022-05-11T17:13:40.378Z"
   },
   {
    "duration": 166,
    "start_time": "2022-05-11T17:13:40.400Z"
   },
   {
    "duration": 4,
    "start_time": "2022-05-11T17:13:40.568Z"
   },
   {
    "duration": 88,
    "start_time": "2022-05-11T17:13:40.574Z"
   },
   {
    "duration": 18,
    "start_time": "2022-05-11T17:13:40.664Z"
   },
   {
    "duration": 19,
    "start_time": "2022-05-11T17:13:40.684Z"
   },
   {
    "duration": 53,
    "start_time": "2022-05-11T17:13:40.705Z"
   },
   {
    "duration": 37,
    "start_time": "2022-05-11T17:13:40.761Z"
   },
   {
    "duration": 20,
    "start_time": "2022-05-11T17:13:40.800Z"
   },
   {
    "duration": 80,
    "start_time": "2022-05-11T17:13:40.822Z"
   },
   {
    "duration": 8,
    "start_time": "2022-05-11T17:13:40.905Z"
   },
   {
    "duration": 41,
    "start_time": "2022-05-11T17:13:40.915Z"
   },
   {
    "duration": 22,
    "start_time": "2022-05-11T17:13:40.958Z"
   },
   {
    "duration": 33,
    "start_time": "2022-05-11T17:13:40.982Z"
   },
   {
    "duration": 65,
    "start_time": "2022-05-11T17:13:41.017Z"
   },
   {
    "duration": 11,
    "start_time": "2022-05-11T17:13:41.085Z"
   },
   {
    "duration": 40,
    "start_time": "2022-05-11T17:13:41.098Z"
   },
   {
    "duration": 44,
    "start_time": "2022-05-11T17:13:41.140Z"
   },
   {
    "duration": 72,
    "start_time": "2022-05-11T17:13:41.185Z"
   },
   {
    "duration": 1086,
    "start_time": "2022-05-11T17:13:41.259Z"
   },
   {
    "duration": 863,
    "start_time": "2022-05-11T17:13:42.347Z"
   },
   {
    "duration": 12,
    "start_time": "2022-05-11T17:13:43.212Z"
   },
   {
    "duration": 23,
    "start_time": "2022-05-11T17:13:43.226Z"
   },
   {
    "duration": 723,
    "start_time": "2022-05-11T17:13:43.251Z"
   },
   {
    "duration": 21,
    "start_time": "2022-05-11T17:13:43.976Z"
   },
   {
    "duration": 110,
    "start_time": "2022-05-11T17:13:44.002Z"
   },
   {
    "duration": 38,
    "start_time": "2022-05-11T17:13:44.114Z"
   },
   {
    "duration": 3,
    "start_time": "2022-05-11T17:13:44.154Z"
   },
   {
    "duration": 33,
    "start_time": "2022-05-11T17:13:44.159Z"
   },
   {
    "duration": 5,
    "start_time": "2022-05-11T17:13:44.194Z"
   },
   {
    "duration": 477,
    "start_time": "2022-05-11T17:13:44.201Z"
   },
   {
    "duration": 223,
    "start_time": "2022-05-11T17:13:44.679Z"
   },
   {
    "duration": 54,
    "start_time": "2022-05-11T17:13:44.904Z"
   },
   {
    "duration": 17,
    "start_time": "2022-05-11T17:13:44.960Z"
   },
   {
    "duration": 13,
    "start_time": "2022-05-11T17:13:44.979Z"
   },
   {
    "duration": 139964,
    "start_time": "2022-05-11T17:13:44.993Z"
   },
   {
    "duration": 3,
    "start_time": "2022-05-11T17:16:04.958Z"
   },
   {
    "duration": 671,
    "start_time": "2022-05-11T17:16:04.963Z"
   },
   {
    "duration": 10,
    "start_time": "2022-05-11T17:16:05.636Z"
   },
   {
    "duration": 25,
    "start_time": "2022-05-11T17:16:05.649Z"
   },
   {
    "duration": 83,
    "start_time": "2022-05-11T17:16:05.675Z"
   },
   {
    "duration": 23,
    "start_time": "2022-05-11T17:16:05.760Z"
   },
   {
    "duration": 8,
    "start_time": "2022-05-11T17:16:05.784Z"
   },
   {
    "duration": 17,
    "start_time": "2022-05-11T17:16:05.793Z"
   },
   {
    "duration": 14,
    "start_time": "2022-05-11T17:16:05.812Z"
   },
   {
    "duration": 52,
    "start_time": "2022-05-11T17:16:05.828Z"
   },
   {
    "duration": 22,
    "start_time": "2022-05-11T17:16:05.883Z"
   },
   {
    "duration": 3,
    "start_time": "2022-05-11T17:16:05.906Z"
   },
   {
    "duration": 34,
    "start_time": "2022-05-11T17:16:05.911Z"
   },
   {
    "duration": 27,
    "start_time": "2022-05-11T17:16:05.947Z"
   },
   {
    "duration": 30,
    "start_time": "2022-05-11T17:16:05.975Z"
   },
   {
    "duration": 3001,
    "start_time": "2022-05-11T17:16:06.007Z"
   },
   {
    "duration": 79,
    "start_time": "2022-05-11T17:16:09.010Z"
   },
   {
    "duration": 47,
    "start_time": "2022-05-11T17:16:09.090Z"
   },
   {
    "duration": 10,
    "start_time": "2022-05-11T17:16:09.140Z"
   },
   {
    "duration": 2328,
    "start_time": "2022-05-11T17:16:09.152Z"
   },
   {
    "duration": 4,
    "start_time": "2022-05-11T17:16:11.482Z"
   },
   {
    "duration": 26,
    "start_time": "2022-05-11T17:16:11.488Z"
   },
   {
    "duration": 38,
    "start_time": "2022-05-11T17:16:11.516Z"
   },
   {
    "duration": 17,
    "start_time": "2022-05-11T17:16:11.556Z"
   },
   {
    "duration": 19,
    "start_time": "2022-05-11T17:16:11.575Z"
   },
   {
    "duration": 11,
    "start_time": "2022-05-11T17:16:11.596Z"
   },
   {
    "duration": 28,
    "start_time": "2022-05-11T17:16:11.609Z"
   },
   {
    "duration": 15,
    "start_time": "2022-05-11T17:16:11.641Z"
   },
   {
    "duration": 9,
    "start_time": "2022-05-11T17:16:11.658Z"
   },
   {
    "duration": 19,
    "start_time": "2022-05-11T17:16:11.668Z"
   },
   {
    "duration": 11,
    "start_time": "2022-05-11T17:16:11.689Z"
   },
   {
    "duration": 44,
    "start_time": "2022-05-11T17:16:11.702Z"
   },
   {
    "duration": 8,
    "start_time": "2022-05-11T17:16:11.748Z"
   },
   {
    "duration": 10,
    "start_time": "2022-05-11T17:16:11.758Z"
   },
   {
    "duration": 97,
    "start_time": "2022-05-11T17:16:11.769Z"
   },
   {
    "duration": 4,
    "start_time": "2022-05-11T17:16:11.868Z"
   },
   {
    "duration": 137,
    "start_time": "2022-05-11T17:16:11.873Z"
   },
   {
    "duration": 2579,
    "start_time": "2022-05-12T17:58:17.262Z"
   },
   {
    "duration": 2,
    "start_time": "2022-05-12T17:58:19.843Z"
   },
   {
    "duration": 6,
    "start_time": "2022-05-12T17:58:19.847Z"
   },
   {
    "duration": 169,
    "start_time": "2022-05-12T17:58:19.855Z"
   },
   {
    "duration": 4,
    "start_time": "2022-05-12T17:58:20.026Z"
   },
   {
    "duration": 65,
    "start_time": "2022-05-12T17:58:20.031Z"
   },
   {
    "duration": 15,
    "start_time": "2022-05-12T17:58:20.098Z"
   },
   {
    "duration": 8,
    "start_time": "2022-05-12T17:58:20.115Z"
   },
   {
    "duration": 21,
    "start_time": "2022-05-12T17:58:20.124Z"
   },
   {
    "duration": 39,
    "start_time": "2022-05-12T17:58:20.147Z"
   },
   {
    "duration": 4,
    "start_time": "2022-05-12T17:58:20.187Z"
   },
   {
    "duration": 40,
    "start_time": "2022-05-12T17:58:20.192Z"
   },
   {
    "duration": 6,
    "start_time": "2022-05-12T17:58:20.233Z"
   },
   {
    "duration": 32,
    "start_time": "2022-05-12T17:58:20.240Z"
   },
   {
    "duration": 6,
    "start_time": "2022-05-12T17:58:20.274Z"
   },
   {
    "duration": 12,
    "start_time": "2022-05-12T17:58:20.281Z"
   },
   {
    "duration": 22,
    "start_time": "2022-05-12T17:58:20.294Z"
   },
   {
    "duration": 9,
    "start_time": "2022-05-12T17:58:20.318Z"
   },
   {
    "duration": 18,
    "start_time": "2022-05-12T17:58:20.328Z"
   },
   {
    "duration": 24,
    "start_time": "2022-05-12T17:58:20.372Z"
   },
   {
    "duration": 75,
    "start_time": "2022-05-12T17:58:20.398Z"
   },
   {
    "duration": 678,
    "start_time": "2022-05-12T17:58:20.475Z"
   },
   {
    "duration": 705,
    "start_time": "2022-05-12T17:58:21.156Z"
   },
   {
    "duration": 15,
    "start_time": "2022-05-12T17:58:21.863Z"
   },
   {
    "duration": 13,
    "start_time": "2022-05-12T17:58:21.880Z"
   },
   {
    "duration": 691,
    "start_time": "2022-05-12T17:58:21.896Z"
   },
   {
    "duration": 19,
    "start_time": "2022-05-12T17:58:22.589Z"
   },
   {
    "duration": 16,
    "start_time": "2022-05-12T17:58:22.613Z"
   },
   {
    "duration": 58,
    "start_time": "2022-05-12T17:58:22.631Z"
   },
   {
    "duration": 4,
    "start_time": "2022-05-12T17:58:22.690Z"
   },
   {
    "duration": 23,
    "start_time": "2022-05-12T17:58:22.696Z"
   },
   {
    "duration": 4,
    "start_time": "2022-05-12T17:58:22.721Z"
   },
   {
    "duration": 285,
    "start_time": "2022-05-12T17:58:22.727Z"
   },
   {
    "duration": 133,
    "start_time": "2022-05-12T17:58:23.014Z"
   },
   {
    "duration": 40,
    "start_time": "2022-05-12T17:58:23.148Z"
   },
   {
    "duration": 13,
    "start_time": "2022-05-12T17:58:23.190Z"
   },
   {
    "duration": 8,
    "start_time": "2022-05-12T17:58:23.205Z"
   },
   {
    "duration": 97751,
    "start_time": "2022-05-12T17:58:23.215Z"
   },
   {
    "duration": 3,
    "start_time": "2022-05-12T18:00:00.971Z"
   },
   {
    "duration": 596,
    "start_time": "2022-05-12T18:00:00.975Z"
   },
   {
    "duration": 97,
    "start_time": "2022-05-12T18:00:01.574Z"
   },
   {
    "duration": 22,
    "start_time": "2022-05-12T18:00:01.673Z"
   },
   {
    "duration": 42,
    "start_time": "2022-05-12T18:00:01.697Z"
   },
   {
    "duration": 21,
    "start_time": "2022-05-12T18:00:01.741Z"
   },
   {
    "duration": 3,
    "start_time": "2022-05-12T18:00:01.763Z"
   },
   {
    "duration": 6,
    "start_time": "2022-05-12T18:00:01.770Z"
   },
   {
    "duration": 11,
    "start_time": "2022-05-12T18:00:01.777Z"
   },
   {
    "duration": 30,
    "start_time": "2022-05-12T18:00:01.790Z"
   },
   {
    "duration": 21,
    "start_time": "2022-05-12T18:00:01.822Z"
   },
   {
    "duration": 3,
    "start_time": "2022-05-12T18:00:01.845Z"
   },
   {
    "duration": 14,
    "start_time": "2022-05-12T18:00:01.870Z"
   },
   {
    "duration": 20,
    "start_time": "2022-05-12T18:00:01.886Z"
   },
   {
    "duration": 8,
    "start_time": "2022-05-12T18:00:01.908Z"
   },
   {
    "duration": 2266,
    "start_time": "2022-05-12T18:00:01.918Z"
   },
   {
    "duration": 60,
    "start_time": "2022-05-12T18:00:04.186Z"
   },
   {
    "duration": 48,
    "start_time": "2022-05-12T18:00:04.248Z"
   },
   {
    "duration": 8,
    "start_time": "2022-05-12T18:00:04.298Z"
   },
   {
    "duration": 1881,
    "start_time": "2022-05-12T18:00:04.307Z"
   },
   {
    "duration": 5,
    "start_time": "2022-05-12T18:00:06.189Z"
   },
   {
    "duration": 22,
    "start_time": "2022-05-12T18:00:06.195Z"
   },
   {
    "duration": 14,
    "start_time": "2022-05-12T18:00:06.219Z"
   },
   {
    "duration": 44,
    "start_time": "2022-05-12T18:00:06.234Z"
   },
   {
    "duration": 16,
    "start_time": "2022-05-12T18:00:06.279Z"
   },
   {
    "duration": 10,
    "start_time": "2022-05-12T18:00:06.296Z"
   },
   {
    "duration": 3,
    "start_time": "2022-05-12T18:00:06.308Z"
   },
   {
    "duration": 7,
    "start_time": "2022-05-12T18:00:06.313Z"
   },
   {
    "duration": 8,
    "start_time": "2022-05-12T18:00:06.321Z"
   },
   {
    "duration": 10,
    "start_time": "2022-05-12T18:00:06.330Z"
   },
   {
    "duration": 38,
    "start_time": "2022-05-12T18:00:06.341Z"
   },
   {
    "duration": 16,
    "start_time": "2022-05-12T18:00:06.381Z"
   },
   {
    "duration": 6,
    "start_time": "2022-05-12T18:00:06.399Z"
   },
   {
    "duration": 8,
    "start_time": "2022-05-12T18:00:06.406Z"
   },
   {
    "duration": 87,
    "start_time": "2022-05-12T18:00:06.415Z"
   },
   {
    "duration": 5,
    "start_time": "2022-05-12T18:00:06.503Z"
   },
   {
    "duration": 130,
    "start_time": "2022-05-12T18:00:06.509Z"
   },
   {
    "duration": 0,
    "start_time": "2022-05-12T18:00:06.641Z"
   },
   {
    "duration": 0,
    "start_time": "2022-05-12T18:00:06.642Z"
   },
   {
    "duration": 0,
    "start_time": "2022-05-12T18:00:06.644Z"
   },
   {
    "duration": 0,
    "start_time": "2022-05-12T18:00:06.645Z"
   },
   {
    "duration": 0,
    "start_time": "2022-05-12T18:00:06.647Z"
   },
   {
    "duration": 0,
    "start_time": "2022-05-12T18:00:06.648Z"
   },
   {
    "duration": 0,
    "start_time": "2022-05-12T18:00:06.649Z"
   },
   {
    "duration": 0,
    "start_time": "2022-05-12T18:00:06.651Z"
   },
   {
    "duration": 0,
    "start_time": "2022-05-12T18:00:06.652Z"
   },
   {
    "duration": 0,
    "start_time": "2022-05-12T18:00:06.653Z"
   },
   {
    "duration": 0,
    "start_time": "2022-05-12T18:00:06.654Z"
   },
   {
    "duration": 0,
    "start_time": "2022-05-12T18:00:06.656Z"
   },
   {
    "duration": 0,
    "start_time": "2022-05-12T18:00:06.657Z"
   },
   {
    "duration": 17,
    "start_time": "2022-05-12T18:02:38.858Z"
   },
   {
    "duration": 15,
    "start_time": "2022-05-12T18:02:42.386Z"
   },
   {
    "duration": 13,
    "start_time": "2022-05-12T18:02:42.568Z"
   },
   {
    "duration": 18,
    "start_time": "2022-05-12T18:02:42.890Z"
   },
   {
    "duration": 34,
    "start_time": "2022-05-12T18:02:43.076Z"
   },
   {
    "duration": 9,
    "start_time": "2022-05-12T18:02:43.253Z"
   },
   {
    "duration": 13,
    "start_time": "2022-05-12T18:02:43.433Z"
   },
   {
    "duration": 45,
    "start_time": "2022-05-12T18:03:49.841Z"
   },
   {
    "duration": 40,
    "start_time": "2022-05-12T18:03:50.373Z"
   },
   {
    "duration": 21,
    "start_time": "2022-05-12T18:03:50.590Z"
   },
   {
    "duration": 29,
    "start_time": "2022-05-12T18:03:51.206Z"
   },
   {
    "duration": 28,
    "start_time": "2022-05-12T18:03:51.421Z"
   },
   {
    "duration": 22,
    "start_time": "2022-05-12T18:03:51.803Z"
   },
   {
    "duration": 25,
    "start_time": "2022-05-12T18:03:52.009Z"
   }
  ],
  "kernelspec": {
   "display_name": "Python 3",
   "language": "python",
   "name": "python3"
  },
  "language_info": {
   "codemirror_mode": {
    "name": "ipython",
    "version": 3
   },
   "file_extension": ".py",
   "mimetype": "text/x-python",
   "name": "python",
   "nbconvert_exporter": "python",
   "pygments_lexer": "ipython3",
   "version": "3.8.8"
  },
  "toc": {
   "base_numbering": 1,
   "nav_menu": {},
   "number_sections": true,
   "sideBar": true,
   "skip_h1_title": true,
   "title_cell": "Table of Contents",
   "title_sidebar": "Contents",
   "toc_cell": false,
   "toc_position": {},
   "toc_section_display": true,
   "toc_window_display": false
  }
 },
 "nbformat": 4,
 "nbformat_minor": 2
}

{
 "cells": [
  {
   "cell_type": "markdown",
   "metadata": {},
   "source": [
    "# Исследование рынка общественного питания г. Москва"
   ]
  },
  {
   "cell_type": "markdown",
   "metadata": {},
   "source": [
    "# Оглавление\n",
    "1. [Описание проекта](#title)\n",
    "2. [Загрузка данных и подготовка их к анализу](#load)\n",
    "  * [Подключение библиотек](#import)\n",
    "  * [Загрузка данных и получение общей информации](#info)\n",
    "3. [Анализ данных](#analysis)\n",
    " - [Анализ соотношение типов объектов общественного питания по количеству](#analysis_type)\n",
    " - [Анализ соотношения сетевых и несетевых заведений по количеству](#analysis_chain)\n",
    " - [Изучение информации о количестве посадочных мест](#analysis_seats)\n",
    " - [Улицы и районы с наибольшим количеством объектов общественного питания](#analysis_streets1)\n",
    " - [Улицы с одним объектом общественного питания](#analysis_streets2)\n",
    " - [Распределение количества посадочных мест для улиц с большим количеством объектов общественного питания](#analysis_streets1_seats)\n",
    "4. [Общий вывод](#conclusion)"
   ]
  },
  {
   "cell_type": "markdown",
   "metadata": {},
   "source": [
    "<a id=\"title\"></a> \n",
    "## Описание проекта"
   ]
  },
  {
   "cell_type": "markdown",
   "metadata": {},
   "source": [
    "Цель проекта: определение возможного вида заведения общественного питания, количества посадочных мест, района расположения, для дальнейшего открытия и развития заведения в г.Москва"
   ]
  },
  {
   "cell_type": "markdown",
   "metadata": {},
   "source": [
    "**Описание данных**\n",
    "Таблица rest_data:\n",
    "- id — идентификатор объекта;\n",
    "- object_name — название объекта общественного питания;\n",
    "- chain — сетевой ресторан;\n",
    "- object_type — тип объекта общественного питания;\n",
    "- address — адрес;\n",
    "- number — количество посадочных мест."
   ]
  },
  {
   "cell_type": "markdown",
   "metadata": {},
   "source": [
    "<a id=\"load\"></a> \n",
    "## Загрузка данных и подготовка их к анализу"
   ]
  },
  {
   "cell_type": "markdown",
   "metadata": {},
   "source": [
    "<a id=\"import\"></a> \n",
    "### Подключение библиотек"
   ]
  },
  {
   "cell_type": "code",
   "execution_count": 120,
   "metadata": {},
   "outputs": [],
   "source": [
    "import pandas as pd\n",
    "import datetime as dt\n",
    "from datetime import date\n",
    "from matplotlib import pyplot as plt\n",
    "import matplotlib.ticker as ticker\n",
    "import plotly.express as px \n",
    "import seaborn as sns\n",
    "from scipy import stats as st\n",
    "from pandas.plotting import register_matplotlib_converters\n",
    "import numpy as np\n",
    "from io import BytesIO\n",
    "import requests\n",
    "import warnings\n",
    "warnings.filterwarnings('ignore')\n",
    "register_matplotlib_converters()"
   ]
  },
  {
   "cell_type": "markdown",
   "metadata": {},
   "source": [
    "<a id=\"info\"></a> \n",
    "### Загрузка данных и получение общей информации"
   ]
  },
  {
   "cell_type": "code",
   "execution_count": 68,
   "metadata": {},
   "outputs": [],
   "source": [
    "data = pd.read_csv('/datasets/rest_data.csv')"
   ]
  },
  {
   "cell_type": "code",
   "execution_count": 69,
   "metadata": {},
   "outputs": [],
   "source": [
    "def inspect (df):\n",
    "    display(df.sample(n = 5, random_state = 5)) #посмотрим случайные строки\n",
    "    df.info() \n",
    "    print ('Количество полных дубликатов - ' + str(df.duplicated().sum()))"
   ]
  },
  {
   "cell_type": "code",
   "execution_count": 70,
   "metadata": {
    "scrolled": false
   },
   "outputs": [
    {
     "data": {
      "text/html": [
       "<div>\n",
       "<style scoped>\n",
       "    .dataframe tbody tr th:only-of-type {\n",
       "        vertical-align: middle;\n",
       "    }\n",
       "\n",
       "    .dataframe tbody tr th {\n",
       "        vertical-align: top;\n",
       "    }\n",
       "\n",
       "    .dataframe thead th {\n",
       "        text-align: right;\n",
       "    }\n",
       "</style>\n",
       "<table border=\"1\" class=\"dataframe\">\n",
       "  <thead>\n",
       "    <tr style=\"text-align: right;\">\n",
       "      <th></th>\n",
       "      <th>id</th>\n",
       "      <th>object_name</th>\n",
       "      <th>chain</th>\n",
       "      <th>object_type</th>\n",
       "      <th>address</th>\n",
       "      <th>number</th>\n",
       "    </tr>\n",
       "  </thead>\n",
       "  <tbody>\n",
       "    <tr>\n",
       "      <td>7628</td>\n",
       "      <td>84358</td>\n",
       "      <td>Шоколадница</td>\n",
       "      <td>да</td>\n",
       "      <td>кафе</td>\n",
       "      <td>город Москва, проспект Андропова, дом 8</td>\n",
       "      <td>25</td>\n",
       "    </tr>\n",
       "    <tr>\n",
       "      <td>13524</td>\n",
       "      <td>214230</td>\n",
       "      <td>Выпечка</td>\n",
       "      <td>нет</td>\n",
       "      <td>магазин (отдел кулинарии)</td>\n",
       "      <td>город Москва, 1-я Владимирская улица, дом 43</td>\n",
       "      <td>0</td>\n",
       "    </tr>\n",
       "    <tr>\n",
       "      <td>33</td>\n",
       "      <td>69243</td>\n",
       "      <td>Суши Wok</td>\n",
       "      <td>да</td>\n",
       "      <td>кафе</td>\n",
       "      <td>город Москва, проспект Андропова, дом 30</td>\n",
       "      <td>4</td>\n",
       "    </tr>\n",
       "    <tr>\n",
       "      <td>1101</td>\n",
       "      <td>156704</td>\n",
       "      <td>KFC</td>\n",
       "      <td>да</td>\n",
       "      <td>ресторан</td>\n",
       "      <td>город Москва, Страстной бульвар, дом 4, строен...</td>\n",
       "      <td>160</td>\n",
       "    </tr>\n",
       "    <tr>\n",
       "      <td>1397</td>\n",
       "      <td>149825</td>\n",
       "      <td>Домино'с Пицца</td>\n",
       "      <td>да</td>\n",
       "      <td>кафе</td>\n",
       "      <td>город Москва, Ярославское шоссе, дом 55, корпус 1</td>\n",
       "      <td>10</td>\n",
       "    </tr>\n",
       "  </tbody>\n",
       "</table>\n",
       "</div>"
      ],
      "text/plain": [
       "           id     object_name chain                object_type  \\\n",
       "7628    84358     Шоколадница    да                       кафе   \n",
       "13524  214230         Выпечка   нет  магазин (отдел кулинарии)   \n",
       "33      69243        Суши Wok    да                       кафе   \n",
       "1101   156704             KFC    да                   ресторан   \n",
       "1397   149825  Домино'с Пицца    да                       кафе   \n",
       "\n",
       "                                                 address  number  \n",
       "7628             город Москва, проспект Андропова, дом 8      25  \n",
       "13524       город Москва, 1-я Владимирская улица, дом 43       0  \n",
       "33              город Москва, проспект Андропова, дом 30       4  \n",
       "1101   город Москва, Страстной бульвар, дом 4, строен...     160  \n",
       "1397   город Москва, Ярославское шоссе, дом 55, корпус 1      10  "
      ]
     },
     "metadata": {},
     "output_type": "display_data"
    },
    {
     "name": "stdout",
     "output_type": "stream",
     "text": [
      "<class 'pandas.core.frame.DataFrame'>\n",
      "RangeIndex: 15366 entries, 0 to 15365\n",
      "Data columns (total 6 columns):\n",
      "id             15366 non-null int64\n",
      "object_name    15366 non-null object\n",
      "chain          15366 non-null object\n",
      "object_type    15366 non-null object\n",
      "address        15366 non-null object\n",
      "number         15366 non-null int64\n",
      "dtypes: int64(2), object(4)\n",
      "memory usage: 720.4+ KB\n",
      "Количество полных дубликатов - 0\n"
     ]
    }
   ],
   "source": [
    "inspect(data)"
   ]
  },
  {
   "cell_type": "code",
   "execution_count": 71,
   "metadata": {},
   "outputs": [
    {
     "data": {
      "text/plain": [
       "82"
      ]
     },
     "execution_count": 71,
     "metadata": {},
     "output_type": "execute_result"
    }
   ],
   "source": [
    "# проверим на дубликаты без учета колонки id\n",
    "data.duplicated(subset = ['object_name', 'chain', 'object_type', 'address', 'number']).sum()"
   ]
  },
  {
   "cell_type": "code",
   "execution_count": 72,
   "metadata": {},
   "outputs": [],
   "source": [
    "# удалим 82 дубликата\n",
    "data.drop_duplicates(subset = ['object_name', 'chain', 'object_type', 'address', 'number'], inplace = True)"
   ]
  },
  {
   "cell_type": "markdown",
   "metadata": {},
   "source": [
    "Вывод:\n",
    "- пропуски и явные дубликаты в данных отсутствуют\n",
    "- названия колонок и типы данных корректны, тип данных в колонке chain можно привести к типу bool, при необходимости сделаем это по ходу анализа\n",
    "- удалено 82 дубликата с одиниковыми параметрами (кроме id), если бы в адресе отсутствовал номер дома, то можно было бы предположить что это действительно одинаковые объекты на одной улице, но при такой детализации это действительно дубликаты"
   ]
  },
  {
   "cell_type": "markdown",
   "metadata": {},
   "source": [
    "<a id=\"analysis\"></a>\n",
    "## Анализ данных"
   ]
  },
  {
   "cell_type": "markdown",
   "metadata": {},
   "source": [
    "<a id=\"analysis_type\"></a>\n",
    "### Анализ соотношение типов объектов общественного питания по количеству"
   ]
  },
  {
   "cell_type": "code",
   "execution_count": 73,
   "metadata": {
    "scrolled": true
   },
   "outputs": [
    {
     "data": {
      "text/html": [
       "<div>\n",
       "<style scoped>\n",
       "    .dataframe tbody tr th:only-of-type {\n",
       "        vertical-align: middle;\n",
       "    }\n",
       "\n",
       "    .dataframe tbody tr th {\n",
       "        vertical-align: top;\n",
       "    }\n",
       "\n",
       "    .dataframe thead th {\n",
       "        text-align: right;\n",
       "    }\n",
       "</style>\n",
       "<table border=\"1\" class=\"dataframe\">\n",
       "  <thead>\n",
       "    <tr style=\"text-align: right;\">\n",
       "      <th></th>\n",
       "      <th>object_type</th>\n",
       "      <th>id</th>\n",
       "    </tr>\n",
       "  </thead>\n",
       "  <tbody>\n",
       "    <tr>\n",
       "      <td>3</td>\n",
       "      <td>кафе</td>\n",
       "      <td>6071</td>\n",
       "    </tr>\n",
       "    <tr>\n",
       "      <td>8</td>\n",
       "      <td>столовая</td>\n",
       "      <td>2584</td>\n",
       "    </tr>\n",
       "    <tr>\n",
       "      <td>7</td>\n",
       "      <td>ресторан</td>\n",
       "      <td>2282</td>\n",
       "    </tr>\n",
       "    <tr>\n",
       "      <td>6</td>\n",
       "      <td>предприятие быстрого обслуживания</td>\n",
       "      <td>1898</td>\n",
       "    </tr>\n",
       "    <tr>\n",
       "      <td>0</td>\n",
       "      <td>бар</td>\n",
       "      <td>855</td>\n",
       "    </tr>\n",
       "    <tr>\n",
       "      <td>1</td>\n",
       "      <td>буфет</td>\n",
       "      <td>577</td>\n",
       "    </tr>\n",
       "    <tr>\n",
       "      <td>4</td>\n",
       "      <td>кафетерий</td>\n",
       "      <td>395</td>\n",
       "    </tr>\n",
       "    <tr>\n",
       "      <td>2</td>\n",
       "      <td>закусочная</td>\n",
       "      <td>349</td>\n",
       "    </tr>\n",
       "    <tr>\n",
       "      <td>5</td>\n",
       "      <td>магазин (отдел кулинарии)</td>\n",
       "      <td>273</td>\n",
       "    </tr>\n",
       "  </tbody>\n",
       "</table>\n",
       "</div>"
      ],
      "text/plain": [
       "                         object_type    id\n",
       "3                               кафе  6071\n",
       "8                           столовая  2584\n",
       "7                           ресторан  2282\n",
       "6  предприятие быстрого обслуживания  1898\n",
       "0                                бар   855\n",
       "1                              буфет   577\n",
       "4                          кафетерий   395\n",
       "2                         закусочная   349\n",
       "5          магазин (отдел кулинарии)   273"
      ]
     },
     "execution_count": 73,
     "metadata": {},
     "output_type": "execute_result"
    }
   ],
   "source": [
    "group_by_type = data.groupby('object_type').agg({'id': 'count'}).reset_index().sort_values('id', ascending = False)\n",
    "group_by_type"
   ]
  },
  {
   "cell_type": "code",
   "execution_count": 74,
   "metadata": {},
   "outputs": [
    {
     "data": {
      "text/html": [
       "<div>\n",
       "<style scoped>\n",
       "    .dataframe tbody tr th:only-of-type {\n",
       "        vertical-align: middle;\n",
       "    }\n",
       "\n",
       "    .dataframe tbody tr th {\n",
       "        vertical-align: top;\n",
       "    }\n",
       "\n",
       "    .dataframe thead th {\n",
       "        text-align: right;\n",
       "    }\n",
       "</style>\n",
       "<table border=\"1\" class=\"dataframe\">\n",
       "  <thead>\n",
       "    <tr style=\"text-align: right;\">\n",
       "      <th></th>\n",
       "      <th>object_type</th>\n",
       "      <th>id</th>\n",
       "      <th>part</th>\n",
       "    </tr>\n",
       "  </thead>\n",
       "  <tbody>\n",
       "    <tr>\n",
       "      <td>3</td>\n",
       "      <td>кафе</td>\n",
       "      <td>6071</td>\n",
       "      <td>0.40</td>\n",
       "    </tr>\n",
       "    <tr>\n",
       "      <td>7</td>\n",
       "      <td>столовая</td>\n",
       "      <td>2584</td>\n",
       "      <td>0.17</td>\n",
       "    </tr>\n",
       "    <tr>\n",
       "      <td>6</td>\n",
       "      <td>ресторан</td>\n",
       "      <td>2282</td>\n",
       "      <td>0.15</td>\n",
       "    </tr>\n",
       "    <tr>\n",
       "      <td>8</td>\n",
       "      <td>фастфуд</td>\n",
       "      <td>1898</td>\n",
       "      <td>0.12</td>\n",
       "    </tr>\n",
       "    <tr>\n",
       "      <td>0</td>\n",
       "      <td>бар</td>\n",
       "      <td>855</td>\n",
       "      <td>0.06</td>\n",
       "    </tr>\n",
       "    <tr>\n",
       "      <td>1</td>\n",
       "      <td>буфет</td>\n",
       "      <td>577</td>\n",
       "      <td>0.04</td>\n",
       "    </tr>\n",
       "    <tr>\n",
       "      <td>4</td>\n",
       "      <td>кафетерий</td>\n",
       "      <td>395</td>\n",
       "      <td>0.03</td>\n",
       "    </tr>\n",
       "    <tr>\n",
       "      <td>2</td>\n",
       "      <td>закусочная</td>\n",
       "      <td>349</td>\n",
       "      <td>0.02</td>\n",
       "    </tr>\n",
       "    <tr>\n",
       "      <td>5</td>\n",
       "      <td>отдел кулинарии</td>\n",
       "      <td>273</td>\n",
       "      <td>0.02</td>\n",
       "    </tr>\n",
       "  </tbody>\n",
       "</table>\n",
       "</div>"
      ],
      "text/plain": [
       "       object_type    id  part\n",
       "3             кафе  6071  0.40\n",
       "7         столовая  2584  0.17\n",
       "6         ресторан  2282  0.15\n",
       "8          фастфуд  1898  0.12\n",
       "0              бар   855  0.06\n",
       "1            буфет   577  0.04\n",
       "4        кафетерий   395  0.03\n",
       "2       закусочная   349  0.02\n",
       "5  отдел кулинарии   273  0.02"
      ]
     },
     "execution_count": 74,
     "metadata": {},
     "output_type": "execute_result"
    }
   ],
   "source": [
    "# имеется два очень длинных названия, которое будут нам мешать при постороении графиков\n",
    "data.loc[data['object_type']=='предприятие быстрого обслуживания', 'object_type'] = 'фастфуд'\n",
    "data.loc[data['object_type']=='магазин (отдел кулинарии)', 'object_type'] = 'отдел кулинарии'\n",
    "group_by_type = data.groupby('object_type').agg({'id': 'count'}).reset_index().sort_values('id', ascending = False)\n",
    "group_by_type['part'] = (group_by_type['id']/group_by_type['id'].sum()).round(2)\n",
    "group_by_type"
   ]
  },
  {
   "cell_type": "code",
   "execution_count": 75,
   "metadata": {},
   "outputs": [
    {
     "data": {
      "image/png": "[encoded data removed]",
      "text/plain": [
       "<Figure size 504x504 with 1 Axes>"
      ]
     },
     "metadata": {},
     "output_type": "display_data"
    }
   ],
   "source": [
    "fig, ax = plt.subplots()\n",
    "ax.pie(group_by_type['id'], labels=group_by_type['object_type'], autopct='%1.1f%%', explode = group_by_type['part'])\n",
    "ax.axis(\"equal\")\n",
    "fig.set_figheight(7)  \n",
    "fig.set_figwidth(7) \n",
    "plt.title('Распределение количества заведений по типам заведений', loc = 'left') \n",
    "plt.show()"
   ]
  },
  {
   "cell_type": "markdown",
   "metadata": {},
   "source": [
    "Вывод: больше всего у нас кафе, столовых и ресторанов"
   ]
  },
  {
   "cell_type": "markdown",
   "metadata": {},
   "source": [
    "<a id=\"analysis_chain\"></a>\n",
    "### Анализ соотношения сетевых и несетевых заведений по количеству"
   ]
  },
  {
   "cell_type": "code",
   "execution_count": 76,
   "metadata": {
    "scrolled": true
   },
   "outputs": [
    {
     "data": {
      "text/html": [
       "<div>\n",
       "<style scoped>\n",
       "    .dataframe tbody tr th:only-of-type {\n",
       "        vertical-align: middle;\n",
       "    }\n",
       "\n",
       "    .dataframe tbody tr th {\n",
       "        vertical-align: top;\n",
       "    }\n",
       "\n",
       "    .dataframe thead th {\n",
       "        text-align: right;\n",
       "    }\n",
       "</style>\n",
       "<table border=\"1\" class=\"dataframe\">\n",
       "  <thead>\n",
       "    <tr style=\"text-align: right;\">\n",
       "      <th></th>\n",
       "      <th>id</th>\n",
       "      <th>pct_total</th>\n",
       "    </tr>\n",
       "    <tr>\n",
       "      <th>chain</th>\n",
       "      <th></th>\n",
       "      <th></th>\n",
       "    </tr>\n",
       "  </thead>\n",
       "  <tbody>\n",
       "    <tr>\n",
       "      <td>нет</td>\n",
       "      <td>12320</td>\n",
       "      <td>0.81</td>\n",
       "    </tr>\n",
       "    <tr>\n",
       "      <td>да</td>\n",
       "      <td>2964</td>\n",
       "      <td>0.19</td>\n",
       "    </tr>\n",
       "  </tbody>\n",
       "</table>\n",
       "</div>"
      ],
      "text/plain": [
       "          id  pct_total\n",
       "chain                  \n",
       "нет    12320       0.81\n",
       "да      2964       0.19"
      ]
     },
     "execution_count": 76,
     "metadata": {},
     "output_type": "execute_result"
    }
   ],
   "source": [
    "group_by_chain = data.groupby('chain').agg({'id': 'count'}).sort_values('id', ascending=False).assign(pct_total=lambda x: x / x.sum()).round(2)\n",
    "group_by_chain"
   ]
  },
  {
   "cell_type": "code",
   "execution_count": 77,
   "metadata": {},
   "outputs": [
    {
     "data": {
      "image/png": "[encoded data removed]",
      "text/plain": [
       "<Figure size 504x504 with 1 Axes>"
      ]
     },
     "metadata": {},
     "output_type": "display_data"
    }
   ],
   "source": [
    "fig, ax = plt.subplots()\n",
    "ax.pie(group_by_chain['id'], labels=group_by_chain.index, autopct='%1.1f%%', explode = group_by_chain['pct_total'])\n",
    "ax.axis(\"equal\")\n",
    "fig.set_figheight(7)  \n",
    "fig.set_figwidth(7) \n",
    "plt.title('Распределение количества заведений по принадлежности к сети', loc = 'left') \n",
    "plt.show()"
   ]
  },
  {
   "cell_type": "code",
   "execution_count": 78,
   "metadata": {
    "scrolled": false
   },
   "outputs": [
    {
     "data": {
      "text/html": [
       "<div>\n",
       "<style scoped>\n",
       "    .dataframe tbody tr th:only-of-type {\n",
       "        vertical-align: middle;\n",
       "    }\n",
       "\n",
       "    .dataframe tbody tr th {\n",
       "        vertical-align: top;\n",
       "    }\n",
       "\n",
       "    .dataframe thead th {\n",
       "        text-align: right;\n",
       "    }\n",
       "</style>\n",
       "<table border=\"1\" class=\"dataframe\">\n",
       "  <thead>\n",
       "    <tr style=\"text-align: right;\">\n",
       "      <th></th>\n",
       "      <th>object_name</th>\n",
       "      <th>chain</th>\n",
       "      <th>id</th>\n",
       "    </tr>\n",
       "  </thead>\n",
       "  <tbody>\n",
       "    <tr>\n",
       "      <td>0</td>\n",
       "      <td>Beverly Hills Diner</td>\n",
       "      <td>да</td>\n",
       "      <td>1</td>\n",
       "    </tr>\n",
       "    <tr>\n",
       "      <td>1</td>\n",
       "      <td>Bierloga</td>\n",
       "      <td>да</td>\n",
       "      <td>1</td>\n",
       "    </tr>\n",
       "    <tr>\n",
       "      <td>2</td>\n",
       "      <td>Black &amp; White</td>\n",
       "      <td>да</td>\n",
       "      <td>1</td>\n",
       "    </tr>\n",
       "    <tr>\n",
       "      <td>4</td>\n",
       "      <td>BooBo</td>\n",
       "      <td>да</td>\n",
       "      <td>1</td>\n",
       "    </tr>\n",
       "    <tr>\n",
       "      <td>5</td>\n",
       "      <td>Bubbleology</td>\n",
       "      <td>да</td>\n",
       "      <td>1</td>\n",
       "    </tr>\n",
       "    <tr>\n",
       "      <td>...</td>\n",
       "      <td>...</td>\n",
       "      <td>...</td>\n",
       "      <td>...</td>\n",
       "    </tr>\n",
       "    <tr>\n",
       "      <td>718</td>\n",
       "      <td>кафе «Нияма»</td>\n",
       "      <td>да</td>\n",
       "      <td>1</td>\n",
       "    </tr>\n",
       "    <tr>\n",
       "      <td>719</td>\n",
       "      <td>кафе «Папа Джонс»</td>\n",
       "      <td>да</td>\n",
       "      <td>1</td>\n",
       "    </tr>\n",
       "    <tr>\n",
       "      <td>721</td>\n",
       "      <td>кафе «Шоколадница»</td>\n",
       "      <td>да</td>\n",
       "      <td>1</td>\n",
       "    </tr>\n",
       "    <tr>\n",
       "      <td>722</td>\n",
       "      <td>ресторан «Брудер»</td>\n",
       "      <td>да</td>\n",
       "      <td>1</td>\n",
       "    </tr>\n",
       "    <tr>\n",
       "      <td>723</td>\n",
       "      <td>ресторан «Якитория»</td>\n",
       "      <td>да</td>\n",
       "      <td>1</td>\n",
       "    </tr>\n",
       "  </tbody>\n",
       "</table>\n",
       "<p>450 rows × 3 columns</p>\n",
       "</div>"
      ],
      "text/plain": [
       "             object_name chain  id\n",
       "0    Beverly Hills Diner    да   1\n",
       "1               Bierloga    да   1\n",
       "2          Black & White    да   1\n",
       "4                  BooBo    да   1\n",
       "5            Bubbleology    да   1\n",
       "..                   ...   ...  ..\n",
       "718         кафе «Нияма»    да   1\n",
       "719    кафе «Папа Джонс»    да   1\n",
       "721   кафе «Шоколадница»    да   1\n",
       "722    ресторан «Брудер»    да   1\n",
       "723  ресторан «Якитория»    да   1\n",
       "\n",
       "[450 rows x 3 columns]"
      ]
     },
     "execution_count": 78,
     "metadata": {},
     "output_type": "execute_result"
    }
   ],
   "source": [
    "# проверим имеются ли у нас сетевые заведения имеющие пока только  1 заведение\n",
    "chain_with_one_object = data.query('chain == \"да\"').groupby(['object_name', 'chain']).agg({'id': 'count'}).reset_index()\n",
    "chain_with_one_object.query('id==1')"
   ]
  },
  {
   "cell_type": "markdown",
   "metadata": {},
   "source": [
    "Очень странно из 2 968 сетевых заведений, 450 имеют только 1 заведение, возможно они планируются как сетевые но еще не открыли дополнительные точки, возможно ошибка в принадлежности к сети, а возможно у заведений одной сети могут быть разные названия. Повод ли это переводить их в несетевые? Данных для принятия такого решения недостаточно."
   ]
  },
  {
   "cell_type": "code",
   "execution_count": 79,
   "metadata": {
    "scrolled": true
   },
   "outputs": [
    {
     "data": {
      "text/plain": [
       "Counter({'Крошка Картошка': 82,\n",
       "         'Предприятие быстрого обслуживания «Крошка Картошка»': 1,\n",
       "         'Закусочная «Крошка Картошка»': 1,\n",
       "         'Кафе «Крошка Картошка»': 2,\n",
       "         'Ресторан быстрого питания «Крошка Картошка»': 1,\n",
       "         'Предприятие быстрого питания «Крошка Картошка»': 1})"
      ]
     },
     "execution_count": 79,
     "metadata": {},
     "output_type": "execute_result"
    }
   ],
   "source": [
    "potato = []\n",
    "for i in data['object_name']:\n",
    "    if 'Крошка Картошка' in i:\n",
    "        potato.append(i)\n",
    "\n",
    "from collections import Counter\n",
    "Counter(potato)"
   ]
  },
  {
   "cell_type": "markdown",
   "metadata": {},
   "source": [
    "Мы видим что есть заведения которые в точности не совпадают, однако можно подозревать при этом их принадлежность к одной сети"
   ]
  },
  {
   "cell_type": "code",
   "execution_count": 80,
   "metadata": {
    "scrolled": true
   },
   "outputs": [
    {
     "data": {
      "text/html": [
       "<div>\n",
       "<style scoped>\n",
       "    .dataframe tbody tr th:only-of-type {\n",
       "        vertical-align: middle;\n",
       "    }\n",
       "\n",
       "    .dataframe tbody tr th {\n",
       "        vertical-align: top;\n",
       "    }\n",
       "\n",
       "    .dataframe thead th {\n",
       "        text-align: right;\n",
       "    }\n",
       "</style>\n",
       "<table border=\"1\" class=\"dataframe\">\n",
       "  <thead>\n",
       "    <tr style=\"text-align: right;\">\n",
       "      <th></th>\n",
       "      <th>chain</th>\n",
       "      <th>not_chain</th>\n",
       "      <th>part_chain_in total</th>\n",
       "    </tr>\n",
       "    <tr>\n",
       "      <th>object_type</th>\n",
       "      <th></th>\n",
       "      <th></th>\n",
       "      <th></th>\n",
       "    </tr>\n",
       "  </thead>\n",
       "  <tbody>\n",
       "    <tr>\n",
       "      <td>бар</td>\n",
       "      <td>37</td>\n",
       "      <td>818</td>\n",
       "      <td>0.04</td>\n",
       "    </tr>\n",
       "    <tr>\n",
       "      <td>буфет</td>\n",
       "      <td>11</td>\n",
       "      <td>566</td>\n",
       "      <td>0.02</td>\n",
       "    </tr>\n",
       "    <tr>\n",
       "      <td>закусочная</td>\n",
       "      <td>56</td>\n",
       "      <td>293</td>\n",
       "      <td>0.16</td>\n",
       "    </tr>\n",
       "    <tr>\n",
       "      <td>кафе</td>\n",
       "      <td>1396</td>\n",
       "      <td>4675</td>\n",
       "      <td>0.23</td>\n",
       "    </tr>\n",
       "    <tr>\n",
       "      <td>кафетерий</td>\n",
       "      <td>52</td>\n",
       "      <td>343</td>\n",
       "      <td>0.13</td>\n",
       "    </tr>\n",
       "    <tr>\n",
       "      <td>отдел кулинарии</td>\n",
       "      <td>78</td>\n",
       "      <td>195</td>\n",
       "      <td>0.29</td>\n",
       "    </tr>\n",
       "    <tr>\n",
       "      <td>ресторан</td>\n",
       "      <td>543</td>\n",
       "      <td>1739</td>\n",
       "      <td>0.24</td>\n",
       "    </tr>\n",
       "    <tr>\n",
       "      <td>столовая</td>\n",
       "      <td>3</td>\n",
       "      <td>2581</td>\n",
       "      <td>0.00</td>\n",
       "    </tr>\n",
       "    <tr>\n",
       "      <td>фастфуд</td>\n",
       "      <td>788</td>\n",
       "      <td>1110</td>\n",
       "      <td>0.42</td>\n",
       "    </tr>\n",
       "  </tbody>\n",
       "</table>\n",
       "</div>"
      ],
      "text/plain": [
       "                 chain  not_chain  part_chain_in total\n",
       "object_type                                           \n",
       "бар                 37        818                 0.04\n",
       "буфет               11        566                 0.02\n",
       "закусочная          56        293                 0.16\n",
       "кафе              1396       4675                 0.23\n",
       "кафетерий           52        343                 0.13\n",
       "отдел кулинарии     78        195                 0.29\n",
       "ресторан           543       1739                 0.24\n",
       "столовая             3       2581                 0.00\n",
       "фастфуд            788       1110                 0.42"
      ]
     },
     "execution_count": 80,
     "metadata": {},
     "output_type": "execute_result"
    }
   ],
   "source": [
    "group_by_type_chain = data.pivot_table(index = 'object_type', columns = 'chain', values = 'id', aggfunc='count')\n",
    "group_by_type_chain.columns = ['chain', 'not_chain']\n",
    "group_by_type_chain['part_chain_in total'] = (group_by_type_chain['chain']/\n",
    "                                              (group_by_type_chain['chain']+group_by_type_chain['not_chain'])).round(2)\n",
    "group_by_type_chain"
   ]
  },
  {
   "cell_type": "markdown",
   "metadata": {},
   "source": [
    "Завдений у нас больше не сетевых, а среди сетевых чаще всего встречаются кафе, предприятия быстрого обслуживания и рестораны"
   ]
  },
  {
   "cell_type": "code",
   "execution_count": 81,
   "metadata": {
    "scrolled": false
   },
   "outputs": [
    {
     "data": {
      "image/png": "[encoded data removed]",
      "text/plain": [
       "<Figure size 720x360 with 1 Axes>"
      ]
     },
     "metadata": {
      "needs_background": "light"
     },
     "output_type": "display_data"
    }
   ],
   "source": [
    "group_by_type_chain[['chain', 'not_chain']].plot(kind='bar', figsize=(10, 5), stacked = True)\n",
    "plt.title('Распределение количества заведений по типам и принадлежности к сети', loc = 'left') \n",
    "plt.xlabel('Количество заведений') \n",
    "plt.ylabel('Тип заведения')\n",
    "#plt.grid(True)\n",
    "plt.xticks(rotation= 65)\n",
    "plt.show()"
   ]
  },
  {
   "cell_type": "markdown",
   "metadata": {},
   "source": [
    "Вывод: в Москве наибольшее количество заведений приходится на кафе, столовые и рестораны, при этом среди сетевых завдений больше всего кафе, предприятия быстрого обслуживания и рестораны, среди столовых сетевых практически нет.\n",
    "Наибольшую долю сетевых среди всех типов имеют предприятия быстрого обслуживания, т.е. среди них такая форма наиболее распростаренена."
   ]
  },
  {
   "cell_type": "markdown",
   "metadata": {},
   "source": [
    "<a id=\"analysis_seats\"></a>\n",
    "### Изучение информации о количестве посадочных мест"
   ]
  },
  {
   "cell_type": "code",
   "execution_count": 82,
   "metadata": {
    "scrolled": true
   },
   "outputs": [
    {
     "data": {
      "text/plain": [
       "<matplotlib.collections.PathCollection at 0x7f74f0d38410>"
      ]
     },
     "execution_count": 82,
     "metadata": {},
     "output_type": "execute_result"
    },
    {
     "data": {
      "image/png": "[encoded data removed]",
      "text/plain": [
       "<Figure size 432x288 with 1 Axes>"
      ]
     },
     "metadata": {
      "needs_background": "light"
     },
     "output_type": "display_data"
    }
   ],
   "source": [
    "# проанализируем колонку с числом посадочных мест\n",
    "x_values = pd.Series(range(0,len(data['number'])))\n",
    "plt.title('График разброса количества посадочных мест')\n",
    "plt.ylabel('Количество мест')\n",
    "plt.scatter(x_values, data['number'], alpha = 0.5) "
   ]
  },
  {
   "cell_type": "code",
   "execution_count": 83,
   "metadata": {
    "scrolled": true
   },
   "outputs": [
    {
     "data": {
      "text/plain": [
       "count    15284.000000\n",
       "mean        59.784350\n",
       "std         74.838657\n",
       "min          0.000000\n",
       "25%         14.000000\n",
       "50%         40.000000\n",
       "75%         80.000000\n",
       "max       1700.000000\n",
       "Name: number, dtype: float64"
      ]
     },
     "execution_count": 83,
     "metadata": {},
     "output_type": "execute_result"
    }
   ],
   "source": [
    "data['number'].describe()"
   ]
  },
  {
   "cell_type": "markdown",
   "metadata": {},
   "source": [
    "Имеются как заведения без посадочных мест, скорее всего работающие \" на вынос\", так и возможно банкетные залы до 1700 посадочных мест"
   ]
  },
  {
   "cell_type": "code",
   "execution_count": 84,
   "metadata": {
    "scrolled": true
   },
   "outputs": [],
   "source": [
    "chain_objects = data.query('chain==\"да\"').pivot_table(index = 'object_name', values = ['id', 'number'], \n",
    "                                      aggfunc = {'id': 'count', 'number': 'mean'}).sort_values('number', ascending = False).reset_index()"
   ]
  },
  {
   "cell_type": "code",
   "execution_count": 85,
   "metadata": {
    "scrolled": false
   },
   "outputs": [
    {
     "data": {
      "image/png": "[encoded data removed]",
      "text/plain": [
       "<Figure size 432x432 with 3 Axes>"
      ]
     },
     "metadata": {
      "needs_background": "light"
     },
     "output_type": "display_data"
    }
   ],
   "source": [
    "fg = sns.jointplot(x='id', y='number', data=chain_objects, alpha = 0.5) \n",
    "fg.set_axis_labels(\"Количество заведений\", \"Количество посадочных мест\")\n",
    "fg.fig.suptitle('Зависимость среднего количества посадочных мест от размера сети')\n",
    "plt.show()"
   ]
  },
  {
   "cell_type": "markdown",
   "metadata": {},
   "source": [
    "Можно сказать, что для сетевого общепита Москвы более характерны сетевые завдения с небольшим количеством зведений (до 12 ти) и числом постадочных мест до 100."
   ]
  },
  {
   "cell_type": "code",
   "execution_count": 86,
   "metadata": {},
   "outputs": [],
   "source": [
    "# определим среднее количество посадочных мест для каждого вида объекта общественного питания\n",
    "data_grouped = data.pivot_table(index = 'object_type', values = 'number', aggfunc='mean').sort_values(\n",
    "    'number', ascending = False).round(0)"
   ]
  },
  {
   "cell_type": "code",
   "execution_count": 87,
   "metadata": {
    "scrolled": false
   },
   "outputs": [
    {
     "data": {
      "text/html": [
       "<div>\n",
       "<style scoped>\n",
       "    .dataframe tbody tr th:only-of-type {\n",
       "        vertical-align: middle;\n",
       "    }\n",
       "\n",
       "    .dataframe tbody tr th {\n",
       "        vertical-align: top;\n",
       "    }\n",
       "\n",
       "    .dataframe thead th {\n",
       "        text-align: right;\n",
       "    }\n",
       "</style>\n",
       "<table border=\"1\" class=\"dataframe\">\n",
       "  <thead>\n",
       "    <tr style=\"text-align: right;\">\n",
       "      <th></th>\n",
       "      <th>total_seats</th>\n",
       "      <th>chain</th>\n",
       "      <th>not_chain</th>\n",
       "    </tr>\n",
       "    <tr>\n",
       "      <th>object_type</th>\n",
       "      <th></th>\n",
       "      <th></th>\n",
       "      <th></th>\n",
       "    </tr>\n",
       "  </thead>\n",
       "  <tbody>\n",
       "    <tr>\n",
       "      <td>столовая</td>\n",
       "      <td>130.0</td>\n",
       "      <td>112.0</td>\n",
       "      <td>130.0</td>\n",
       "    </tr>\n",
       "    <tr>\n",
       "      <td>ресторан</td>\n",
       "      <td>97.0</td>\n",
       "      <td>100.0</td>\n",
       "      <td>96.0</td>\n",
       "    </tr>\n",
       "    <tr>\n",
       "      <td>буфет</td>\n",
       "      <td>52.0</td>\n",
       "      <td>13.0</td>\n",
       "      <td>52.0</td>\n",
       "    </tr>\n",
       "    <tr>\n",
       "      <td>бар</td>\n",
       "      <td>44.0</td>\n",
       "      <td>53.0</td>\n",
       "      <td>43.0</td>\n",
       "    </tr>\n",
       "    <tr>\n",
       "      <td>кафе</td>\n",
       "      <td>40.0</td>\n",
       "      <td>47.0</td>\n",
       "      <td>38.0</td>\n",
       "    </tr>\n",
       "    <tr>\n",
       "      <td>фастфуд</td>\n",
       "      <td>21.0</td>\n",
       "      <td>40.0</td>\n",
       "      <td>7.0</td>\n",
       "    </tr>\n",
       "    <tr>\n",
       "      <td>кафетерий</td>\n",
       "      <td>9.0</td>\n",
       "      <td>12.0</td>\n",
       "      <td>9.0</td>\n",
       "    </tr>\n",
       "    <tr>\n",
       "      <td>закусочная</td>\n",
       "      <td>8.0</td>\n",
       "      <td>14.0</td>\n",
       "      <td>7.0</td>\n",
       "    </tr>\n",
       "    <tr>\n",
       "      <td>отдел кулинарии</td>\n",
       "      <td>6.0</td>\n",
       "      <td>9.0</td>\n",
       "      <td>4.0</td>\n",
       "    </tr>\n",
       "  </tbody>\n",
       "</table>\n",
       "</div>"
      ],
      "text/plain": [
       "                 total_seats  chain  not_chain\n",
       "object_type                                   \n",
       "столовая               130.0  112.0      130.0\n",
       "ресторан                97.0  100.0       96.0\n",
       "буфет                   52.0   13.0       52.0\n",
       "бар                     44.0   53.0       43.0\n",
       "кафе                    40.0   47.0       38.0\n",
       "фастфуд                 21.0   40.0        7.0\n",
       "кафетерий                9.0   12.0        9.0\n",
       "закусочная               8.0   14.0        7.0\n",
       "отдел кулинарии          6.0    9.0        4.0"
      ]
     },
     "execution_count": 87,
     "metadata": {},
     "output_type": "execute_result"
    }
   ],
   "source": [
    "data_grouped = data_grouped.merge(data.pivot_table(index = 'object_type', columns = 'chain', values = 'number', aggfunc='mean').round(0), on = 'object_type')\n",
    "data_grouped.columns = ['total_seats', 'chain', 'not_chain']\n",
    "data_grouped"
   ]
  },
  {
   "cell_type": "code",
   "execution_count": 88,
   "metadata": {
    "scrolled": false
   },
   "outputs": [
    {
     "data": {
      "image/png": "[encoded data removed]",
      "text/plain": [
       "<Figure size 414.5x360 with 1 Axes>"
      ]
     },
     "metadata": {
      "needs_background": "light"
     },
     "output_type": "display_data"
    }
   ],
   "source": [
    "sns.catplot(data=data, x='object_type', y='number', hue='chain', alpha = 0.5)\n",
    "plt.xticks(rotation= 45)\n",
    "plt.title('График разброса количества посадочных мест по типу заведения')\n",
    "plt.xlabel('Тип заведения')\n",
    "plt.ylabel('Количество мест')\n",
    "plt.ylim(0, 600)\n",
    "plt.show()"
   ]
  },
  {
   "cell_type": "code",
   "execution_count": 89,
   "metadata": {},
   "outputs": [
    {
     "name": "stdout",
     "output_type": "stream",
     "text": [
      "p-значение: 3.489945479862341e-08\n",
      "Отвергаем нулевую гипотезу\n"
     ]
    }
   ],
   "source": [
    "# проверим гипотезу о равенстве средних\n",
    "# Нулевая гипотеза: среднее количество посадочных мест для сетевых и несетевых заведений совпадают. \n",
    "# Альтернативная гипотеза: среднее количество посадочных мест для сетевых и несетевых заведений разные.\n",
    "sample_1 = data.query('chain ==\"да\"')['number']\n",
    "sample_2 = data.query('chain ==\"нет\"')['number']\n",
    "results = st.ttest_ind(sample_1, sample_2)\n",
    "\n",
    "print('p-значение:', results.pvalue)\n",
    "\n",
    "if results.pvalue < 0.05:\n",
    "    print('Отвергаем нулевую гипотезу')\n",
    "else:\n",
    "    print('Не получилось отвергнуть нулевую гипотезу')"
   ]
  },
  {
   "cell_type": "markdown",
   "metadata": {},
   "source": [
    "Вывод: \n",
    "- для сетевого общепита Москвы более характерны сетевые заведения с небольшим количеством заведений (до 12 ти) и числом посадочных мест до 100.\n",
    "- наибольшее количество посадочных мест у столовых, далее идут рестораны и буфеты\n",
    "- среднее количество посадочных мест у сетевых и не сетевых заведений отличается, что касается наиболее распростараненного среди не сетевых - предприятий быстрого обслуживания, их среднее число посадочных мест больше чем у аналогичных не сетевых"
   ]
  },
  {
   "cell_type": "markdown",
   "metadata": {},
   "source": [
    "<a id=\"analysis_streets1\"></a>\n",
    "### Улицы и районы с наибольшим количеством объектов общественного питания"
   ]
  },
  {
   "cell_type": "code",
   "execution_count": 90,
   "metadata": {},
   "outputs": [
    {
     "data": {
      "text/plain": [
       "array(['город Москва, улица Егора Абакумова, дом 9',\n",
       "       'город Москва, улица Талалихина, дом 2/1, корпус 1',\n",
       "       'город Москва, Абельмановская улица, дом 6', ...,\n",
       "       'город Москва, Салтыковская улица, дом 7Г',\n",
       "       'город Москва, Осенний бульвар, дом 9',\n",
       "       'город Москва, улица Новый Арбат, дом 13'], dtype=object)"
      ]
     },
     "execution_count": 90,
     "metadata": {},
     "output_type": "execute_result"
    }
   ],
   "source": [
    "# Выделим в отдельный столбец информацию об улице из столбца address\n",
    "data['address'].unique()"
   ]
  },
  {
   "cell_type": "code",
   "execution_count": 91,
   "metadata": {
    "scrolled": true
   },
   "outputs": [
    {
     "data": {
      "text/html": [
       "<div>\n",
       "<style scoped>\n",
       "    .dataframe tbody tr th:only-of-type {\n",
       "        vertical-align: middle;\n",
       "    }\n",
       "\n",
       "    .dataframe tbody tr th {\n",
       "        vertical-align: top;\n",
       "    }\n",
       "\n",
       "    .dataframe thead th {\n",
       "        text-align: right;\n",
       "    }\n",
       "</style>\n",
       "<table border=\"1\" class=\"dataframe\">\n",
       "  <thead>\n",
       "    <tr style=\"text-align: right;\">\n",
       "      <th></th>\n",
       "      <th>id</th>\n",
       "      <th>object_name</th>\n",
       "      <th>chain</th>\n",
       "      <th>object_type</th>\n",
       "      <th>address</th>\n",
       "      <th>number</th>\n",
       "      <th>city</th>\n",
       "      <th>street</th>\n",
       "    </tr>\n",
       "  </thead>\n",
       "  <tbody>\n",
       "    <tr>\n",
       "      <td>0</td>\n",
       "      <td>151635</td>\n",
       "      <td>СМЕТАНА</td>\n",
       "      <td>нет</td>\n",
       "      <td>кафе</td>\n",
       "      <td>город Москва, улица Егора Абакумова, дом 9</td>\n",
       "      <td>48</td>\n",
       "      <td>город Москва</td>\n",
       "      <td>улица Егора Абакумова</td>\n",
       "    </tr>\n",
       "    <tr>\n",
       "      <td>1</td>\n",
       "      <td>77874</td>\n",
       "      <td>Родник</td>\n",
       "      <td>нет</td>\n",
       "      <td>кафе</td>\n",
       "      <td>город Москва, улица Талалихина, дом 2/1, корпус 1</td>\n",
       "      <td>35</td>\n",
       "      <td>город Москва</td>\n",
       "      <td>улица Талалихина</td>\n",
       "    </tr>\n",
       "    <tr>\n",
       "      <td>2</td>\n",
       "      <td>24309</td>\n",
       "      <td>Кафе «Академия»</td>\n",
       "      <td>нет</td>\n",
       "      <td>кафе</td>\n",
       "      <td>город Москва, Абельмановская улица, дом 6</td>\n",
       "      <td>95</td>\n",
       "      <td>город Москва</td>\n",
       "      <td>Абельмановская улица</td>\n",
       "    </tr>\n",
       "    <tr>\n",
       "      <td>3</td>\n",
       "      <td>21894</td>\n",
       "      <td>ПИЦЦЕТОРИЯ</td>\n",
       "      <td>да</td>\n",
       "      <td>кафе</td>\n",
       "      <td>город Москва, Абрамцевская улица, дом 1</td>\n",
       "      <td>40</td>\n",
       "      <td>город Москва</td>\n",
       "      <td>Абрамцевская улица</td>\n",
       "    </tr>\n",
       "    <tr>\n",
       "      <td>4</td>\n",
       "      <td>119365</td>\n",
       "      <td>Кафе «Вишневая метель»</td>\n",
       "      <td>нет</td>\n",
       "      <td>кафе</td>\n",
       "      <td>город Москва, Абрамцевская улица, дом 9, корпус 1</td>\n",
       "      <td>50</td>\n",
       "      <td>город Москва</td>\n",
       "      <td>Абрамцевская улица</td>\n",
       "    </tr>\n",
       "  </tbody>\n",
       "</table>\n",
       "</div>"
      ],
      "text/plain": [
       "       id             object_name chain object_type  \\\n",
       "0  151635                 СМЕТАНА   нет        кафе   \n",
       "1   77874                  Родник   нет        кафе   \n",
       "2   24309         Кафе «Академия»   нет        кафе   \n",
       "3   21894              ПИЦЦЕТОРИЯ    да        кафе   \n",
       "4  119365  Кафе «Вишневая метель»   нет        кафе   \n",
       "\n",
       "                                             address  number          city  \\\n",
       "0         город Москва, улица Егора Абакумова, дом 9      48  город Москва   \n",
       "1  город Москва, улица Талалихина, дом 2/1, корпус 1      35  город Москва   \n",
       "2          город Москва, Абельмановская улица, дом 6      95  город Москва   \n",
       "3            город Москва, Абрамцевская улица, дом 1      40  город Москва   \n",
       "4  город Москва, Абрамцевская улица, дом 9, корпус 1      50  город Москва   \n",
       "\n",
       "                  street  \n",
       "0  улица Егора Абакумова  \n",
       "1       улица Талалихина  \n",
       "2   Абельмановская улица  \n",
       "3     Абрамцевская улица  \n",
       "4     Абрамцевская улица  "
      ]
     },
     "execution_count": 91,
     "metadata": {},
     "output_type": "execute_result"
    }
   ],
   "source": [
    "data['city'] = data['address'].str.split(', ', expand=True)[0]\n",
    "data['street'] = data['address'].str.split(', ', expand=True)[1]\n",
    "data.head()"
   ]
  },
  {
   "cell_type": "code",
   "execution_count": 92,
   "metadata": {
    "scrolled": false
   },
   "outputs": [
    {
     "data": {
      "text/plain": [
       "город Москва                     15213\n",
       "улица Ленинская Слобода              4\n",
       "Николоямская улица                   4\n",
       "город Московский                     3\n",
       "улица Льва Толстого                  3\n",
       "Солянский тупик                      3\n",
       "Таганская площадь                    2\n",
       "2-я Брестская улица                  2\n",
       "Бауманская улица                     2\n",
       "Ленинградский проспект               2\n",
       "Партизанская улица                   2\n",
       "Вспольный переулок                   1\n",
       "Шарикоподшипниковская улица          1\n",
       "Поречная улица                       1\n",
       "Нижний Таганский тупик               1\n",
       "1-я Тверская-Ямская улица            1\n",
       "Алтуфьевское шоссе                   1\n",
       "Краснобогатырская улица              1\n",
       "Тушинская улица                      1\n",
       "Большая Бронная улица                1\n",
       "1-й Нагатинский проезд               1\n",
       "Профсоюзная улица                    1\n",
       "поселение Марушкинское               1\n",
       "поселение \"Мосрентген\"               1\n",
       "Погодинская улица                    1\n",
       "Большая Серпуховская улица           1\n",
       "5-й Котельнический переулок          1\n",
       "улица Каманина                       1\n",
       "Чертановская улица                   1\n",
       "Варшавское шоссе                     1\n",
       "Вознесенский переулок                1\n",
       "улица Земляной Вал                   1\n",
       "Ленинский проспект                   1\n",
       "Полевая улица                        1\n",
       "улица Сергея Макеева                 1\n",
       "проезд Добролюбова                   1\n",
       "Митинская улица                      1\n",
       "улица Обручева                       1\n",
       "Киевская улица                       1\n",
       "Суворовская площадь                  1\n",
       "поселение Михайлово-Ярцевское        1\n",
       "Новоданиловская набережная           1\n",
       "Софийская набережная                 1\n",
       "Таганская улица                      1\n",
       "улица Знаменка                       1\n",
       "улица Миклухо-Маклая                 1\n",
       "Медынская улица                      1\n",
       "Школьная улица                       1\n",
       "Калашный переулок                    1\n",
       "поселение Сосенское                  1\n",
       "Проектируемый проезд N 5231          1\n",
       "Коровинское шоссе                    1\n",
       "город Троицк                         1\n",
       "Садовая-Сухаревская улица            1\n",
       "Дербеневская улица                   1\n",
       "Name: city, dtype: int64"
      ]
     },
     "execution_count": 92,
     "metadata": {},
     "output_type": "execute_result"
    }
   ],
   "source": [
    "# проверим, что в данных присутствует только Москва\n",
    "data['city'].value_counts()"
   ]
  },
  {
   "cell_type": "code",
   "execution_count": 93,
   "metadata": {
    "scrolled": false
   },
   "outputs": [
    {
     "data": {
      "text/html": [
       "<div>\n",
       "<style scoped>\n",
       "    .dataframe tbody tr th:only-of-type {\n",
       "        vertical-align: middle;\n",
       "    }\n",
       "\n",
       "    .dataframe tbody tr th {\n",
       "        vertical-align: top;\n",
       "    }\n",
       "\n",
       "    .dataframe thead th {\n",
       "        text-align: right;\n",
       "    }\n",
       "</style>\n",
       "<table border=\"1\" class=\"dataframe\">\n",
       "  <thead>\n",
       "    <tr style=\"text-align: right;\">\n",
       "      <th></th>\n",
       "      <th>id</th>\n",
       "      <th>object_name</th>\n",
       "      <th>chain</th>\n",
       "      <th>object_type</th>\n",
       "      <th>address</th>\n",
       "      <th>number</th>\n",
       "      <th>city</th>\n",
       "      <th>street</th>\n",
       "    </tr>\n",
       "  </thead>\n",
       "  <tbody>\n",
       "    <tr>\n",
       "      <td>8759</td>\n",
       "      <td>21845</td>\n",
       "      <td>Шоколадница</td>\n",
       "      <td>да</td>\n",
       "      <td>кафе</td>\n",
       "      <td>Николоямская улица, дом 28/60, строение 1</td>\n",
       "      <td>56</td>\n",
       "      <td>Николоямская улица</td>\n",
       "      <td>дом 28/60</td>\n",
       "    </tr>\n",
       "    <tr>\n",
       "      <td>8760</td>\n",
       "      <td>25859</td>\n",
       "      <td>ДжонДжоли</td>\n",
       "      <td>нет</td>\n",
       "      <td>ресторан</td>\n",
       "      <td>Николоямская улица, дом 28/60, строение 1</td>\n",
       "      <td>90</td>\n",
       "      <td>Николоямская улица</td>\n",
       "      <td>дом 28/60</td>\n",
       "    </tr>\n",
       "    <tr>\n",
       "      <td>10505</td>\n",
       "      <td>179007</td>\n",
       "      <td>Караоке Song Vape BAR STEAK HOUSE</td>\n",
       "      <td>нет</td>\n",
       "      <td>ресторан</td>\n",
       "      <td>Николоямская улица, дом 28/60, строение 1</td>\n",
       "      <td>40</td>\n",
       "      <td>Николоямская улица</td>\n",
       "      <td>дом 28/60</td>\n",
       "    </tr>\n",
       "    <tr>\n",
       "      <td>12704</td>\n",
       "      <td>202752</td>\n",
       "      <td>The Rooms</td>\n",
       "      <td>нет</td>\n",
       "      <td>кафе</td>\n",
       "      <td>Николоямская улица, дом 38/14/23, строение 3</td>\n",
       "      <td>150</td>\n",
       "      <td>Николоямская улица</td>\n",
       "      <td>дом 38/14/23</td>\n",
       "    </tr>\n",
       "  </tbody>\n",
       "</table>\n",
       "</div>"
      ],
      "text/plain": [
       "           id                        object_name chain object_type  \\\n",
       "8759    21845                        Шоколадница    да        кафе   \n",
       "8760    25859                          ДжонДжоли   нет    ресторан   \n",
       "10505  179007  Караоке Song Vape BAR STEAK HOUSE   нет    ресторан   \n",
       "12704  202752                          The Rooms   нет        кафе   \n",
       "\n",
       "                                            address  number  \\\n",
       "8759      Николоямская улица, дом 28/60, строение 1      56   \n",
       "8760      Николоямская улица, дом 28/60, строение 1      90   \n",
       "10505     Николоямская улица, дом 28/60, строение 1      40   \n",
       "12704  Николоямская улица, дом 38/14/23, строение 3     150   \n",
       "\n",
       "                     city        street  \n",
       "8759   Николоямская улица     дом 28/60  \n",
       "8760   Николоямская улица     дом 28/60  \n",
       "10505  Николоямская улица     дом 28/60  \n",
       "12704  Николоямская улица  дом 38/14/23  "
      ]
     },
     "execution_count": 93,
     "metadata": {},
     "output_type": "execute_result"
    }
   ],
   "source": [
    "data.query('city==\"Николоямская улица\"')"
   ]
  },
  {
   "cell_type": "markdown",
   "metadata": {},
   "source": [
    "Формат данных столбца adress не везде был одинаков, поэтому колонка с городом и улицей заполнена корректно не по всем строкам, кроме того в данных есть, например,  город Троицк, данные по которому нам для анализа общепита Москвы не  нужны. Это вызывает вопросы к источнику данных. Попробуем по возможности исправить данные в колонках город и улица. Предположим , что там где город или поселение, не указаны, объект относится к городу Москва"
   ]
  },
  {
   "cell_type": "code",
   "execution_count": 94,
   "metadata": {
    "scrolled": true
   },
   "outputs": [],
   "source": [
    "['город', 'поселение']\n",
    "for city in data['city']:\n",
    "    if 'город' not in city: \n",
    "        if 'поселение' not in city:\n",
    "            data.loc[data['city']==city, 'street'] = data.loc[data['city']==city, 'city']\n",
    "            data.loc[data['city']==city, 'city'] = 'город Москва'"
   ]
  },
  {
   "cell_type": "code",
   "execution_count": 95,
   "metadata": {
    "scrolled": true
   },
   "outputs": [
    {
     "data": {
      "text/plain": [
       "город Москва                     15276\n",
       "город Московский                     3\n",
       "поселение Михайлово-Ярцевское        1\n",
       "поселение Сосенское                  1\n",
       "город Троицк                         1\n",
       "поселение Марушкинское               1\n",
       "поселение \"Мосрентген\"               1\n",
       "Name: city, dtype: int64"
      ]
     },
     "execution_count": 95,
     "metadata": {},
     "output_type": "execute_result"
    }
   ],
   "source": [
    "data['city'].value_counts()"
   ]
  },
  {
   "cell_type": "code",
   "execution_count": 96,
   "metadata": {},
   "outputs": [],
   "source": [
    "# оставим для анализа только объекты города Москва\n",
    "mos = data.query('city==\"город Москва\"')"
   ]
  },
  {
   "cell_type": "code",
   "execution_count": 97,
   "metadata": {
    "scrolled": true
   },
   "outputs": [
    {
     "data": {
      "text/html": [
       "<div>\n",
       "<style scoped>\n",
       "    .dataframe tbody tr th:only-of-type {\n",
       "        vertical-align: middle;\n",
       "    }\n",
       "\n",
       "    .dataframe tbody tr th {\n",
       "        vertical-align: top;\n",
       "    }\n",
       "\n",
       "    .dataframe thead th {\n",
       "        text-align: right;\n",
       "    }\n",
       "</style>\n",
       "<table border=\"1\" class=\"dataframe\">\n",
       "  <thead>\n",
       "    <tr style=\"text-align: right;\">\n",
       "      <th></th>\n",
       "      <th>street</th>\n",
       "      <th>number_of_objects</th>\n",
       "    </tr>\n",
       "  </thead>\n",
       "  <tbody>\n",
       "    <tr>\n",
       "      <td>1333</td>\n",
       "      <td>город Зеленоград</td>\n",
       "      <td>232</td>\n",
       "    </tr>\n",
       "    <tr>\n",
       "      <td>1406</td>\n",
       "      <td>проспект Мира</td>\n",
       "      <td>204</td>\n",
       "    </tr>\n",
       "    <tr>\n",
       "      <td>996</td>\n",
       "      <td>Профсоюзная улица</td>\n",
       "      <td>182</td>\n",
       "    </tr>\n",
       "    <tr>\n",
       "      <td>683</td>\n",
       "      <td>Ленинградский проспект</td>\n",
       "      <td>172</td>\n",
       "    </tr>\n",
       "    <tr>\n",
       "      <td>981</td>\n",
       "      <td>Пресненская набережная</td>\n",
       "      <td>167</td>\n",
       "    </tr>\n",
       "    <tr>\n",
       "      <td>406</td>\n",
       "      <td>Варшавское шоссе</td>\n",
       "      <td>162</td>\n",
       "    </tr>\n",
       "    <tr>\n",
       "      <td>686</td>\n",
       "      <td>Ленинский проспект</td>\n",
       "      <td>148</td>\n",
       "    </tr>\n",
       "    <tr>\n",
       "      <td>1373</td>\n",
       "      <td>поселение Сосенское</td>\n",
       "      <td>137</td>\n",
       "    </tr>\n",
       "    <tr>\n",
       "      <td>1403</td>\n",
       "      <td>проспект Вернадского</td>\n",
       "      <td>128</td>\n",
       "    </tr>\n",
       "    <tr>\n",
       "      <td>674</td>\n",
       "      <td>Кутузовский проспект</td>\n",
       "      <td>114</td>\n",
       "    </tr>\n",
       "  </tbody>\n",
       "</table>\n",
       "</div>"
      ],
      "text/plain": [
       "                      street  number_of_objects\n",
       "1333        город Зеленоград                232\n",
       "1406           проспект Мира                204\n",
       "996        Профсоюзная улица                182\n",
       "683   Ленинградский проспект                172\n",
       "981   Пресненская набережная                167\n",
       "406         Варшавское шоссе                162\n",
       "686       Ленинский проспект                148\n",
       "1373     поселение Сосенское                137\n",
       "1403    проспект Вернадского                128\n",
       "674     Кутузовский проспект                114"
      ]
     },
     "execution_count": 97,
     "metadata": {},
     "output_type": "execute_result"
    }
   ],
   "source": [
    "# найдем топ-10 улиц по количеству объектов общественного питания\n",
    "top_streets = mos.pivot_table(index = 'street', values = 'id', aggfunc = 'count').reset_index().sort_values('id', ascending = False).head(10)\n",
    "top_streets.columns = ['street', 'number_of_objects']\n",
    "top_streets"
   ]
  },
  {
   "cell_type": "code",
   "execution_count": 114,
   "metadata": {
    "scrolled": true
   },
   "outputs": [
    {
     "data": {
      "text/html": [
       "<div>\n",
       "<style scoped>\n",
       "    .dataframe tbody tr th:only-of-type {\n",
       "        vertical-align: middle;\n",
       "    }\n",
       "\n",
       "    .dataframe tbody tr th {\n",
       "        vertical-align: top;\n",
       "    }\n",
       "\n",
       "    .dataframe thead th {\n",
       "        text-align: right;\n",
       "    }\n",
       "</style>\n",
       "<table border=\"1\" class=\"dataframe\">\n",
       "  <thead>\n",
       "    <tr style=\"text-align: right;\">\n",
       "      <th></th>\n",
       "      <th>id</th>\n",
       "      <th>object_name</th>\n",
       "      <th>chain</th>\n",
       "      <th>object_type</th>\n",
       "      <th>address</th>\n",
       "      <th>number</th>\n",
       "      <th>city</th>\n",
       "      <th>street</th>\n",
       "    </tr>\n",
       "  </thead>\n",
       "  <tbody>\n",
       "    <tr>\n",
       "      <td>1386</td>\n",
       "      <td>22331</td>\n",
       "      <td>СТОЛОВАЯ МИЭТ</td>\n",
       "      <td>нет</td>\n",
       "      <td>столовая</td>\n",
       "      <td>город Москва, город Зеленоград, улица Юности, ...</td>\n",
       "      <td>56</td>\n",
       "      <td>город Москва</td>\n",
       "      <td>город Зеленоград</td>\n",
       "    </tr>\n",
       "    <tr>\n",
       "      <td>1405</td>\n",
       "      <td>20199</td>\n",
       "      <td>ЭТО</td>\n",
       "      <td>нет</td>\n",
       "      <td>кафе</td>\n",
       "      <td>город Москва, город Зеленоград, корпус 401</td>\n",
       "      <td>35</td>\n",
       "      <td>город Москва</td>\n",
       "      <td>город Зеленоград</td>\n",
       "    </tr>\n",
       "    <tr>\n",
       "      <td>1406</td>\n",
       "      <td>68113</td>\n",
       "      <td>Френдс</td>\n",
       "      <td>нет</td>\n",
       "      <td>кафе</td>\n",
       "      <td>город Москва, город Зеленоград, корпус 435</td>\n",
       "      <td>34</td>\n",
       "      <td>город Москва</td>\n",
       "      <td>город Зеленоград</td>\n",
       "    </tr>\n",
       "    <tr>\n",
       "      <td>1407</td>\n",
       "      <td>20105</td>\n",
       "      <td>Кафе «Граф Монте-Кристо»</td>\n",
       "      <td>нет</td>\n",
       "      <td>кафе</td>\n",
       "      <td>город Москва, город Зеленоград, корпус 436</td>\n",
       "      <td>40</td>\n",
       "      <td>город Москва</td>\n",
       "      <td>город Зеленоград</td>\n",
       "    </tr>\n",
       "    <tr>\n",
       "      <td>1408</td>\n",
       "      <td>22982</td>\n",
       "      <td>Альфорно</td>\n",
       "      <td>нет</td>\n",
       "      <td>кафе</td>\n",
       "      <td>город Москва, город Зеленоград, корпус 438</td>\n",
       "      <td>49</td>\n",
       "      <td>город Москва</td>\n",
       "      <td>город Зеленоград</td>\n",
       "    </tr>\n",
       "    <tr>\n",
       "      <td>...</td>\n",
       "      <td>...</td>\n",
       "      <td>...</td>\n",
       "      <td>...</td>\n",
       "      <td>...</td>\n",
       "      <td>...</td>\n",
       "      <td>...</td>\n",
       "      <td>...</td>\n",
       "      <td>...</td>\n",
       "    </tr>\n",
       "    <tr>\n",
       "      <td>15137</td>\n",
       "      <td>209920</td>\n",
       "      <td>Дюшес</td>\n",
       "      <td>да</td>\n",
       "      <td>ресторан</td>\n",
       "      <td>город Москва, город Зеленоград, Проезд № 4806,...</td>\n",
       "      <td>100</td>\n",
       "      <td>город Москва</td>\n",
       "      <td>город Зеленоград</td>\n",
       "    </tr>\n",
       "    <tr>\n",
       "      <td>15169</td>\n",
       "      <td>213387</td>\n",
       "      <td>Cofix</td>\n",
       "      <td>да</td>\n",
       "      <td>кафе</td>\n",
       "      <td>город Москва, поселение Сосенское, Калужское ш...</td>\n",
       "      <td>15</td>\n",
       "      <td>город Москва</td>\n",
       "      <td>поселение Сосенское</td>\n",
       "    </tr>\n",
       "    <tr>\n",
       "      <td>15183</td>\n",
       "      <td>205739</td>\n",
       "      <td>Пицца Паоло и Бенто WOK</td>\n",
       "      <td>да</td>\n",
       "      <td>кафе</td>\n",
       "      <td>город Москва, город Зеленоград, Панфиловский п...</td>\n",
       "      <td>30</td>\n",
       "      <td>город Москва</td>\n",
       "      <td>город Зеленоград</td>\n",
       "    </tr>\n",
       "    <tr>\n",
       "      <td>15184</td>\n",
       "      <td>220587</td>\n",
       "      <td>Пицца Паоло</td>\n",
       "      <td>да</td>\n",
       "      <td>кафетерий</td>\n",
       "      <td>город Москва, город Зеленоград, корпус 1627</td>\n",
       "      <td>0</td>\n",
       "      <td>город Москва</td>\n",
       "      <td>город Зеленоград</td>\n",
       "    </tr>\n",
       "    <tr>\n",
       "      <td>15201</td>\n",
       "      <td>212776</td>\n",
       "      <td>Теремок</td>\n",
       "      <td>да</td>\n",
       "      <td>кафе</td>\n",
       "      <td>город Москва, поселение Сосенское, Калужское ш...</td>\n",
       "      <td>0</td>\n",
       "      <td>город Москва</td>\n",
       "      <td>поселение Сосенское</td>\n",
       "    </tr>\n",
       "  </tbody>\n",
       "</table>\n",
       "<p>369 rows × 8 columns</p>\n",
       "</div>"
      ],
      "text/plain": [
       "           id               object_name chain object_type  \\\n",
       "1386    22331             СТОЛОВАЯ МИЭТ   нет    столовая   \n",
       "1405    20199                       ЭТО   нет        кафе   \n",
       "1406    68113                    Френдс   нет        кафе   \n",
       "1407    20105  Кафе «Граф Монте-Кристо»   нет        кафе   \n",
       "1408    22982                  Альфорно   нет        кафе   \n",
       "...       ...                       ...   ...         ...   \n",
       "15137  209920                     Дюшес    да    ресторан   \n",
       "15169  213387                     Cofix    да        кафе   \n",
       "15183  205739   Пицца Паоло и Бенто WOK    да        кафе   \n",
       "15184  220587               Пицца Паоло    да   кафетерий   \n",
       "15201  212776                   Теремок    да        кафе   \n",
       "\n",
       "                                                 address  number  \\\n",
       "1386   город Москва, город Зеленоград, улица Юности, ...      56   \n",
       "1405          город Москва, город Зеленоград, корпус 401      35   \n",
       "1406          город Москва, город Зеленоград, корпус 435      34   \n",
       "1407          город Москва, город Зеленоград, корпус 436      40   \n",
       "1408          город Москва, город Зеленоград, корпус 438      49   \n",
       "...                                                  ...     ...   \n",
       "15137  город Москва, город Зеленоград, Проезд № 4806,...     100   \n",
       "15169  город Москва, поселение Сосенское, Калужское ш...      15   \n",
       "15183  город Москва, город Зеленоград, Панфиловский п...      30   \n",
       "15184        город Москва, город Зеленоград, корпус 1627       0   \n",
       "15201  город Москва, поселение Сосенское, Калужское ш...       0   \n",
       "\n",
       "               city               street  \n",
       "1386   город Москва     город Зеленоград  \n",
       "1405   город Москва     город Зеленоград  \n",
       "1406   город Москва     город Зеленоград  \n",
       "1407   город Москва     город Зеленоград  \n",
       "1408   город Москва     город Зеленоград  \n",
       "...             ...                  ...  \n",
       "15137  город Москва     город Зеленоград  \n",
       "15169  город Москва  поселение Сосенское  \n",
       "15183  город Москва     город Зеленоград  \n",
       "15184  город Москва     город Зеленоград  \n",
       "15201  город Москва  поселение Сосенское  \n",
       "\n",
       "[369 rows x 8 columns]"
      ]
     },
     "execution_count": 114,
     "metadata": {},
     "output_type": "execute_result"
    }
   ],
   "source": [
    "# как то в топ улиц москвы у нас все равно прорвался город и поселение Сосенское, проверим почему\n",
    "data.query('street ==\"город Зеленоград\" or street ==\"поселение Сосенское\"')"
   ]
  },
  {
   "cell_type": "markdown",
   "metadata": {},
   "source": [
    "Понятно, указан город Москва"
   ]
  },
  {
   "cell_type": "code",
   "execution_count": 118,
   "metadata": {},
   "outputs": [
    {
     "data": {
      "text/html": [
       "<div>\n",
       "<style scoped>\n",
       "    .dataframe tbody tr th:only-of-type {\n",
       "        vertical-align: middle;\n",
       "    }\n",
       "\n",
       "    .dataframe tbody tr th {\n",
       "        vertical-align: top;\n",
       "    }\n",
       "\n",
       "    .dataframe thead th {\n",
       "        text-align: right;\n",
       "    }\n",
       "</style>\n",
       "<table border=\"1\" class=\"dataframe\">\n",
       "  <thead>\n",
       "    <tr style=\"text-align: right;\">\n",
       "      <th></th>\n",
       "      <th>street</th>\n",
       "      <th>number_of_objects</th>\n",
       "    </tr>\n",
       "  </thead>\n",
       "  <tbody>\n",
       "    <tr>\n",
       "      <td>1404</td>\n",
       "      <td>проспект Мира</td>\n",
       "      <td>204</td>\n",
       "    </tr>\n",
       "    <tr>\n",
       "      <td>996</td>\n",
       "      <td>Профсоюзная улица</td>\n",
       "      <td>182</td>\n",
       "    </tr>\n",
       "    <tr>\n",
       "      <td>683</td>\n",
       "      <td>Ленинградский проспект</td>\n",
       "      <td>172</td>\n",
       "    </tr>\n",
       "    <tr>\n",
       "      <td>981</td>\n",
       "      <td>Пресненская набережная</td>\n",
       "      <td>167</td>\n",
       "    </tr>\n",
       "    <tr>\n",
       "      <td>406</td>\n",
       "      <td>Варшавское шоссе</td>\n",
       "      <td>162</td>\n",
       "    </tr>\n",
       "    <tr>\n",
       "      <td>686</td>\n",
       "      <td>Ленинский проспект</td>\n",
       "      <td>148</td>\n",
       "    </tr>\n",
       "    <tr>\n",
       "      <td>1401</td>\n",
       "      <td>проспект Вернадского</td>\n",
       "      <td>128</td>\n",
       "    </tr>\n",
       "    <tr>\n",
       "      <td>674</td>\n",
       "      <td>Кутузовский проспект</td>\n",
       "      <td>114</td>\n",
       "    </tr>\n",
       "    <tr>\n",
       "      <td>600</td>\n",
       "      <td>Каширское шоссе</td>\n",
       "      <td>111</td>\n",
       "    </tr>\n",
       "    <tr>\n",
       "      <td>605</td>\n",
       "      <td>Кировоградская улица</td>\n",
       "      <td>108</td>\n",
       "    </tr>\n",
       "  </tbody>\n",
       "</table>\n",
       "</div>"
      ],
      "text/plain": [
       "                      street  number_of_objects\n",
       "1404           проспект Мира                204\n",
       "996        Профсоюзная улица                182\n",
       "683   Ленинградский проспект                172\n",
       "981   Пресненская набережная                167\n",
       "406         Варшавское шоссе                162\n",
       "686       Ленинский проспект                148\n",
       "1401    проспект Вернадского                128\n",
       "674     Кутузовский проспект                114\n",
       "600          Каширское шоссе                111\n",
       "605     Кировоградская улица                108"
      ]
     },
     "execution_count": 118,
     "metadata": {},
     "output_type": "execute_result"
    }
   ],
   "source": [
    "# очень странно, но все таки Зеленоград это отдельный город, который асположен в 37 км к северо-западу от центра Москвы\n",
    "# исключим и данные по нему\n",
    "mos = mos.query('street !=\"город Зеленоград\" and street !=\"поселение Сосенское\"')\n",
    "# найдем топ-10 улиц по количеству объектов общественного питания еще раз\n",
    "top_streets = mos.pivot_table(index = 'street', values = 'id', aggfunc = 'count').reset_index().sort_values('id', ascending = False).head(10)\n",
    "top_streets.columns = ['street', 'number_of_objects']\n",
    "top_streets"
   ]
  },
  {
   "cell_type": "code",
   "execution_count": 119,
   "metadata": {},
   "outputs": [
    {
     "data": {
      "image/png": "[encoded data removed]",
      "text/plain": [
       "<Figure size 432x288 with 1 Axes>"
      ]
     },
     "metadata": {
      "needs_background": "light"
     },
     "output_type": "display_data"
    }
   ],
   "source": [
    "sns.barplot(x='number_of_objects', y='street', data=top_streets) \n",
    "plt.title('Распределение количества заведений по адресам', loc = 'left') \n",
    "plt.xlabel('Количество заведений') \n",
    "plt.show()"
   ]
  },
  {
   "cell_type": "code",
   "execution_count": 121,
   "metadata": {},
   "outputs": [],
   "source": [
    "# добавим таблицу с данными о районах\n",
    "\n",
    "spreadsheet_id = '1SAIybsv7tb-No5KXRnkka1Pr2I1Q5Uk7ZuANaQjkI_I'\n",
    "file_name = 'https://docs.google.com/spreadsheets/d/{}/export?format=csv'.format(spreadsheet_id)\n",
    "r = requests.get(file_name)\n",
    "df = pd.read_csv(BytesIO(r.content))"
   ]
  },
  {
   "cell_type": "code",
   "execution_count": 122,
   "metadata": {},
   "outputs": [],
   "source": [
    "# дополним таблицу с топ-10 улиц по количеству объектов общественного питания данными о районах\n",
    "top_areas = top_streets.merge(df.drop(['areaid', 'okrug'], 1), left_on = 'street', right_on = 'streetname')"
   ]
  },
  {
   "cell_type": "code",
   "execution_count": 123,
   "metadata": {},
   "outputs": [],
   "source": [
    "# получим список районов с наибольшим количеством заведений\n",
    "top_areas_list = top_areas[['area', 'lat', 'lon']].drop_duplicates().reset_index(drop=True).merge(\n",
    "    top_areas.groupby('area')['number_of_objects'].sum(), on = 'area')"
   ]
  },
  {
   "cell_type": "code",
   "execution_count": 126,
   "metadata": {},
   "outputs": [
    {
     "data": {
      "text/html": [
       "<div>\n",
       "<style scoped>\n",
       "    .dataframe tbody tr th:only-of-type {\n",
       "        vertical-align: middle;\n",
       "    }\n",
       "\n",
       "    .dataframe tbody tr th {\n",
       "        vertical-align: top;\n",
       "    }\n",
       "\n",
       "    .dataframe thead th {\n",
       "        text-align: right;\n",
       "    }\n",
       "</style>\n",
       "<table border=\"1\" class=\"dataframe\">\n",
       "  <thead>\n",
       "    <tr style=\"text-align: right;\">\n",
       "      <th></th>\n",
       "      <th>area</th>\n",
       "      <th>lat</th>\n",
       "      <th>lon</th>\n",
       "      <th>number_of_objects</th>\n",
       "    </tr>\n",
       "  </thead>\n",
       "  <tbody>\n",
       "    <tr>\n",
       "      <td>12</td>\n",
       "      <td>Район Теплый Стан</td>\n",
       "      <td>55.629548</td>\n",
       "      <td>37.483494</td>\n",
       "      <td>330</td>\n",
       "    </tr>\n",
       "    <tr>\n",
       "      <td>11</td>\n",
       "      <td>Обручевский район</td>\n",
       "      <td>55.660876</td>\n",
       "      <td>37.518370</td>\n",
       "      <td>330</td>\n",
       "    </tr>\n",
       "    <tr>\n",
       "      <td>21</td>\n",
       "      <td>Донской район</td>\n",
       "      <td>55.699895</td>\n",
       "      <td>37.607040</td>\n",
       "      <td>310</td>\n",
       "    </tr>\n",
       "    <tr>\n",
       "      <td>29</td>\n",
       "      <td>Ломоносовский район</td>\n",
       "      <td>55.679163</td>\n",
       "      <td>37.533962</td>\n",
       "      <td>276</td>\n",
       "    </tr>\n",
       "    <tr>\n",
       "      <td>28</td>\n",
       "      <td>Район Гагаринский</td>\n",
       "      <td>55.691242</td>\n",
       "      <td>37.546741</td>\n",
       "      <td>276</td>\n",
       "    </tr>\n",
       "  </tbody>\n",
       "</table>\n",
       "</div>"
      ],
      "text/plain": [
       "                   area        lat        lon  number_of_objects\n",
       "12    Район Теплый Стан  55.629548  37.483494                330\n",
       "11    Обручевский район  55.660876  37.518370                330\n",
       "21        Донской район  55.699895  37.607040                310\n",
       "29  Ломоносовский район  55.679163  37.533962                276\n",
       "28    Район Гагаринский  55.691242  37.546741                276"
      ]
     },
     "execution_count": 126,
     "metadata": {},
     "output_type": "execute_result"
    }
   ],
   "source": [
    "top_areas_list.sort_values('number_of_objects', ascending=False).head()"
   ]
  },
  {
   "cell_type": "code",
   "execution_count": 127,
   "metadata": {
    "scrolled": false
   },
   "outputs": [
    {
     "data": {
      "application/vnd.plotly.v1+json": {
       "config": {
        "plotlyServerURL": "https://plot.ly"
       },
       "data": [
        {
         "lat": [
          55.82214313,
          55.867686,
          55.7994,
          55.834154000000005,
          55.838193999999994,
          55.85302393,
          55.776363,
          55.691728000000005,
          55.665085999999995,
          55.609326,
          55.643783,
          55.660876,
          55.62954833,
          55.803718,
          55.78433455,
          55.77869638,
          55.80513782,
          55.76495245,
          55.61333796,
          55.63509511,
          55.59652785,
          55.69989537,
          55.67601141,
          55.67176305,
          55.5696904,
          55.54156213,
          55.67639337,
          55.66191359,
          55.6912416,
          55.679163,
          55.735379,
          55.70796309,
          55.741578000000004,
          55.73090799999999,
          55.648202000000005,
          55.603542000000004,
          55.619314
         ],
         "lon": [
          37.65119837,
          37.698595000000005,
          37.610712,
          37.620413,
          37.652797,
          37.64783547,
          37.625675,
          37.579809999999995,
          37.563103999999996,
          37.532314,
          37.528779,
          37.518370000000004,
          37.48349439,
          37.53715,
          37.56187959,
          37.52008818,
          37.50476808,
          37.56223597,
          37.6023535,
          37.61073033,
          37.60038468,
          37.60703993,
          37.64080594,
          37.61620218,
          37.57810158,
          37.54879082,
          37.4981397,
          37.46719261,
          37.54674074,
          37.533962,
          37.617016,
          37.52004164,
          37.531259999999996,
          37.469479,
          37.649609000000005,
          37.725962,
          37.702727
         ],
         "marker": {
          "size": [
           10.200000000000001,
           10.200000000000001,
           10.200000000000001,
           10.200000000000001,
           10.200000000000001,
           10.200000000000001,
           10.200000000000001,
           9.1,
           9.1,
           9.1,
           9.1,
           16.5,
           16.5,
           8.6,
           8.6,
           8.6,
           8.6,
           8.35,
           13.5,
           13.5,
           13.5,
           15.5,
           13.65,
           8.1,
           8.1,
           8.1,
           13.8,
           13.8,
           13.8,
           13.8,
           7.4,
           6.4,
           5.7,
           5.7,
           5.550000000000001,
           5.550000000000001,
           5.550000000000001
          ]
         },
         "text": [
          "Алексеевский район",
          "Ярославский Район",
          "Район Марьина роща",
          "Останкинский район",
          "Район Ростокино",
          "Район Свиблово",
          "Мещанский район",
          "Академический район",
          "Район Черемушки",
          "Район Ясенево",
          "Район Коньково",
          "Обручевский район",
          "Район Теплый Стан",
          "Район Аэропорт",
          "Район Беговой",
          "Хорошевский район",
          "Район Сокол",
          "Пресненский район",
          "Район Чертаново Центральное",
          "Район Чертаново Северное",
          "Район Чертаново Южное",
          "Донской район",
          "Район Нагатино-Садовники",
          "Нагорный район",
          "Район Северное Бутово",
          "Район Южное Бутово",
          "Район Проспект Вернадского",
          "Район Тропарево-Никулино",
          "Район Гагаринский",
          "Ломоносовский район",
          "Район Якиманка",
          "Район Раменки",
          "Район Дорогомилово",
          "Район Фили-Давыдково",
          "Район Москворечье-Сабурово",
          "Район Орехово-Борисово Южное",
          "Район Орехово-Борисово Северное"
         ],
         "type": "scattermapbox"
        }
       ],
       "layout": {
        "mapbox": {
         "center": {
          "lat": 55.75256588177121,
          "lon": 37.617283307098255
         },
         "style": "open-street-map",
         "zoom": 9
        },
        "template": {
         "data": {
          "bar": [
           {
            "error_x": {
             "color": "#2a3f5f"
            },
            "error_y": {
             "color": "#2a3f5f"
            },
            "marker": {
             "line": {
              "color": "#E5ECF6",
              "width": 0.5
             }
            },
            "type": "bar"
           }
          ],
          "barpolar": [
           {
            "marker": {
             "line": {
              "color": "#E5ECF6",
              "width": 0.5
             }
            },
            "type": "barpolar"
           }
          ],
          "carpet": [
           {
            "aaxis": {
             "endlinecolor": "#2a3f5f",
             "gridcolor": "white",
             "linecolor": "white",
             "minorgridcolor": "white",
             "startlinecolor": "#2a3f5f"
            },
            "baxis": {
             "endlinecolor": "#2a3f5f",
             "gridcolor": "white",
             "linecolor": "white",
             "minorgridcolor": "white",
             "startlinecolor": "#2a3f5f"
            },
            "type": "carpet"
           }
          ],
          "choropleth": [
           {
            "colorbar": {
             "outlinewidth": 0,
             "ticks": ""
            },
            "type": "choropleth"
           }
          ],
          "contour": [
           {
            "colorbar": {
             "outlinewidth": 0,
             "ticks": ""
            },
            "colorscale": [
             [
              0,
              "#0d0887"
             ],
             [
              0.1111111111111111,
              "#46039f"
             ],
             [
              0.2222222222222222,
              "#7201a8"
             ],
             [
              0.3333333333333333,
              "#9c179e"
             ],
             [
              0.4444444444444444,
              "#bd3786"
             ],
             [
              0.5555555555555556,
              "#d8576b"
             ],
             [
              0.6666666666666666,
              "#ed7953"
             ],
             [
              0.7777777777777778,
              "#fb9f3a"
             ],
             [
              0.8888888888888888,
              "#fdca26"
             ],
             [
              1,
              "#f0f921"
             ]
            ],
            "type": "contour"
           }
          ],
          "contourcarpet": [
           {
            "colorbar": {
             "outlinewidth": 0,
             "ticks": ""
            },
            "type": "contourcarpet"
           }
          ],
          "heatmap": [
           {
            "colorbar": {
             "outlinewidth": 0,
             "ticks": ""
            },
            "colorscale": [
             [
              0,
              "#0d0887"
             ],
             [
              0.1111111111111111,
              "#46039f"
             ],
             [
              0.2222222222222222,
              "#7201a8"
             ],
             [
              0.3333333333333333,
              "#9c179e"
             ],
             [
              0.4444444444444444,
              "#bd3786"
             ],
             [
              0.5555555555555556,
              "#d8576b"
             ],
             [
              0.6666666666666666,
              "#ed7953"
             ],
             [
              0.7777777777777778,
              "#fb9f3a"
             ],
             [
              0.8888888888888888,
              "#fdca26"
             ],
             [
              1,
              "#f0f921"
             ]
            ],
            "type": "heatmap"
           }
          ],
          "heatmapgl": [
           {
            "colorbar": {
             "outlinewidth": 0,
             "ticks": ""
            },
            "colorscale": [
             [
              0,
              "#0d0887"
             ],
             [
              0.1111111111111111,
              "#46039f"
             ],
             [
              0.2222222222222222,
              "#7201a8"
             ],
             [
              0.3333333333333333,
              "#9c179e"
             ],
             [
              0.4444444444444444,
              "#bd3786"
             ],
             [
              0.5555555555555556,
              "#d8576b"
             ],
             [
              0.6666666666666666,
              "#ed7953"
             ],
             [
              0.7777777777777778,
              "#fb9f3a"
             ],
             [
              0.8888888888888888,
              "#fdca26"
             ],
             [
              1,
              "#f0f921"
             ]
            ],
            "type": "heatmapgl"
           }
          ],
          "histogram": [
           {
            "marker": {
             "colorbar": {
              "outlinewidth": 0,
              "ticks": ""
             }
            },
            "type": "histogram"
           }
          ],
          "histogram2d": [
           {
            "colorbar": {
             "outlinewidth": 0,
             "ticks": ""
            },
            "colorscale": [
             [
              0,
              "#0d0887"
             ],
             [
              0.1111111111111111,
              "#46039f"
             ],
             [
              0.2222222222222222,
              "#7201a8"
             ],
             [
              0.3333333333333333,
              "#9c179e"
             ],
             [
              0.4444444444444444,
              "#bd3786"
             ],
             [
              0.5555555555555556,
              "#d8576b"
             ],
             [
              0.6666666666666666,
              "#ed7953"
             ],
             [
              0.7777777777777778,
              "#fb9f3a"
             ],
             [
              0.8888888888888888,
              "#fdca26"
             ],
             [
              1,
              "#f0f921"
             ]
            ],
            "type": "histogram2d"
           }
          ],
          "histogram2dcontour": [
           {
            "colorbar": {
             "outlinewidth": 0,
             "ticks": ""
            },
            "colorscale": [
             [
              0,
              "#0d0887"
             ],
             [
              0.1111111111111111,
              "#46039f"
             ],
             [
              0.2222222222222222,
              "#7201a8"
             ],
             [
              0.3333333333333333,
              "#9c179e"
             ],
             [
              0.4444444444444444,
              "#bd3786"
             ],
             [
              0.5555555555555556,
              "#d8576b"
             ],
             [
              0.6666666666666666,
              "#ed7953"
             ],
             [
              0.7777777777777778,
              "#fb9f3a"
             ],
             [
              0.8888888888888888,
              "#fdca26"
             ],
             [
              1,
              "#f0f921"
             ]
            ],
            "type": "histogram2dcontour"
           }
          ],
          "mesh3d": [
           {
            "colorbar": {
             "outlinewidth": 0,
             "ticks": ""
            },
            "type": "mesh3d"
           }
          ],
          "parcoords": [
           {
            "line": {
             "colorbar": {
              "outlinewidth": 0,
              "ticks": ""
             }
            },
            "type": "parcoords"
           }
          ],
          "scatter": [
           {
            "marker": {
             "colorbar": {
              "outlinewidth": 0,
              "ticks": ""
             }
            },
            "type": "scatter"
           }
          ],
          "scatter3d": [
           {
            "line": {
             "colorbar": {
              "outlinewidth": 0,
              "ticks": ""
             }
            },
            "marker": {
             "colorbar": {
              "outlinewidth": 0,
              "ticks": ""
             }
            },
            "type": "scatter3d"
           }
          ],
          "scattercarpet": [
           {
            "marker": {
             "colorbar": {
              "outlinewidth": 0,
              "ticks": ""
             }
            },
            "type": "scattercarpet"
           }
          ],
          "scattergeo": [
           {
            "marker": {
             "colorbar": {
              "outlinewidth": 0,
              "ticks": ""
             }
            },
            "type": "scattergeo"
           }
          ],
          "scattergl": [
           {
            "marker": {
             "colorbar": {
              "outlinewidth": 0,
              "ticks": ""
             }
            },
            "type": "scattergl"
           }
          ],
          "scattermapbox": [
           {
            "marker": {
             "colorbar": {
              "outlinewidth": 0,
              "ticks": ""
             }
            },
            "type": "scattermapbox"
           }
          ],
          "scatterpolar": [
           {
            "marker": {
             "colorbar": {
              "outlinewidth": 0,
              "ticks": ""
             }
            },
            "type": "scatterpolar"
           }
          ],
          "scatterpolargl": [
           {
            "marker": {
             "colorbar": {
              "outlinewidth": 0,
              "ticks": ""
             }
            },
            "type": "scatterpolargl"
           }
          ],
          "scatterternary": [
           {
            "marker": {
             "colorbar": {
              "outlinewidth": 0,
              "ticks": ""
             }
            },
            "type": "scatterternary"
           }
          ],
          "surface": [
           {
            "colorbar": {
             "outlinewidth": 0,
             "ticks": ""
            },
            "colorscale": [
             [
              0,
              "#0d0887"
             ],
             [
              0.1111111111111111,
              "#46039f"
             ],
             [
              0.2222222222222222,
              "#7201a8"
             ],
             [
              0.3333333333333333,
              "#9c179e"
             ],
             [
              0.4444444444444444,
              "#bd3786"
             ],
             [
              0.5555555555555556,
              "#d8576b"
             ],
             [
              0.6666666666666666,
              "#ed7953"
             ],
             [
              0.7777777777777778,
              "#fb9f3a"
             ],
             [
              0.8888888888888888,
              "#fdca26"
             ],
             [
              1,
              "#f0f921"
             ]
            ],
            "type": "surface"
           }
          ],
          "table": [
           {
            "cells": {
             "fill": {
              "color": "#EBF0F8"
             },
             "line": {
              "color": "white"
             }
            },
            "header": {
             "fill": {
              "color": "#C8D4E3"
             },
             "line": {
              "color": "white"
             }
            },
            "type": "table"
           }
          ]
         },
         "layout": {
          "annotationdefaults": {
           "arrowcolor": "#2a3f5f",
           "arrowhead": 0,
           "arrowwidth": 1
          },
          "colorscale": {
           "diverging": [
            [
             0,
             "#8e0152"
            ],
            [
             0.1,
             "#c51b7d"
            ],
            [
             0.2,
             "#de77ae"
            ],
            [
             0.3,
             "#f1b6da"
            ],
            [
             0.4,
             "#fde0ef"
            ],
            [
             0.5,
             "#f7f7f7"
            ],
            [
             0.6,
             "#e6f5d0"
            ],
            [
             0.7,
             "#b8e186"
            ],
            [
             0.8,
             "#7fbc41"
            ],
            [
             0.9,
             "#4d9221"
            ],
            [
             1,
             "#276419"
            ]
           ],
           "sequential": [
            [
             0,
             "#0d0887"
            ],
            [
             0.1111111111111111,
             "#46039f"
            ],
            [
             0.2222222222222222,
             "#7201a8"
            ],
            [
             0.3333333333333333,
             "#9c179e"
            ],
            [
             0.4444444444444444,
             "#bd3786"
            ],
            [
             0.5555555555555556,
             "#d8576b"
            ],
            [
             0.6666666666666666,
             "#ed7953"
            ],
            [
             0.7777777777777778,
             "#fb9f3a"
            ],
            [
             0.8888888888888888,
             "#fdca26"
            ],
            [
             1,
             "#f0f921"
            ]
           ],
           "sequentialminus": [
            [
             0,
             "#0d0887"
            ],
            [
             0.1111111111111111,
             "#46039f"
            ],
            [
             0.2222222222222222,
             "#7201a8"
            ],
            [
             0.3333333333333333,
             "#9c179e"
            ],
            [
             0.4444444444444444,
             "#bd3786"
            ],
            [
             0.5555555555555556,
             "#d8576b"
            ],
            [
             0.6666666666666666,
             "#ed7953"
            ],
            [
             0.7777777777777778,
             "#fb9f3a"
            ],
            [
             0.8888888888888888,
             "#fdca26"
            ],
            [
             1,
             "#f0f921"
            ]
           ]
          },
          "colorway": [
           "#636efa",
           "#EF553B",
           "#00cc96",
           "#ab63fa",
           "#FFA15A",
           "#19d3f3",
           "#FF6692",
           "#B6E880",
           "#FF97FF",
           "#FECB52"
          ],
          "font": {
           "color": "#2a3f5f"
          },
          "geo": {
           "bgcolor": "white",
           "lakecolor": "white",
           "landcolor": "#E5ECF6",
           "showlakes": true,
           "showland": true,
           "subunitcolor": "white"
          },
          "hoverlabel": {
           "align": "left"
          },
          "hovermode": "closest",
          "mapbox": {
           "style": "light"
          },
          "paper_bgcolor": "white",
          "plot_bgcolor": "#E5ECF6",
          "polar": {
           "angularaxis": {
            "gridcolor": "white",
            "linecolor": "white",
            "ticks": ""
           },
           "bgcolor": "#E5ECF6",
           "radialaxis": {
            "gridcolor": "white",
            "linecolor": "white",
            "ticks": ""
           }
          },
          "scene": {
           "xaxis": {
            "backgroundcolor": "#E5ECF6",
            "gridcolor": "white",
            "gridwidth": 2,
            "linecolor": "white",
            "showbackground": true,
            "ticks": "",
            "zerolinecolor": "white"
           },
           "yaxis": {
            "backgroundcolor": "#E5ECF6",
            "gridcolor": "white",
            "gridwidth": 2,
            "linecolor": "white",
            "showbackground": true,
            "ticks": "",
            "zerolinecolor": "white"
           },
           "zaxis": {
            "backgroundcolor": "#E5ECF6",
            "gridcolor": "white",
            "gridwidth": 2,
            "linecolor": "white",
            "showbackground": true,
            "ticks": "",
            "zerolinecolor": "white"
           }
          },
          "shapedefaults": {
           "line": {
            "color": "#2a3f5f"
           }
          },
          "ternary": {
           "aaxis": {
            "gridcolor": "white",
            "linecolor": "white",
            "ticks": ""
           },
           "baxis": {
            "gridcolor": "white",
            "linecolor": "white",
            "ticks": ""
           },
           "bgcolor": "#E5ECF6",
           "caxis": {
            "gridcolor": "white",
            "linecolor": "white",
            "ticks": ""
           }
          },
          "title": {
           "x": 0.05
          },
          "xaxis": {
           "automargin": true,
           "gridcolor": "white",
           "linecolor": "white",
           "ticks": "",
           "zerolinecolor": "white",
           "zerolinewidth": 2
          },
          "yaxis": {
           "automargin": true,
           "gridcolor": "white",
           "linecolor": "white",
           "ticks": "",
           "zerolinecolor": "white",
           "zerolinewidth": 2
          }
         }
        }
       }
      },
      "text/html": [
       "<div>\n",
       "        \n",
       "        \n",
       "            <div id=\"647ddae2-2be6-4974-a745-73b3be9ee567\" class=\"plotly-graph-div\" style=\"height:525px; width:100%;\"></div>\n",
       "            <script type=\"text/javascript\">\n",
       "                require([\"plotly\"], function(Plotly) {\n",
       "                    window.PLOTLYENV=window.PLOTLYENV || {};\n",
       "                    \n",
       "                if (document.getElementById(\"647ddae2-2be6-4974-a745-73b3be9ee567\")) {\n",
       "                    Plotly.newPlot(\n",
       "                        '647ddae2-2be6-4974-a745-73b3be9ee567',\n",
       "                        [{\"lat\": [55.82214313, 55.867686, 55.7994, 55.834154000000005, 55.838193999999994, 55.85302393, 55.776363, 55.691728000000005, 55.665085999999995, 55.609326, 55.643783, 55.660876, 55.62954833, 55.803718, 55.78433455, 55.77869638, 55.80513782, 55.76495245, 55.61333796, 55.63509511, 55.59652785, 55.69989537, 55.67601141, 55.67176305, 55.5696904, 55.54156213, 55.67639337, 55.66191359, 55.6912416, 55.679163, 55.735379, 55.70796309, 55.741578000000004, 55.73090799999999, 55.648202000000005, 55.603542000000004, 55.619314], \"lon\": [37.65119837, 37.698595000000005, 37.610712, 37.620413, 37.652797, 37.64783547, 37.625675, 37.579809999999995, 37.563103999999996, 37.532314, 37.528779, 37.518370000000004, 37.48349439, 37.53715, 37.56187959, 37.52008818, 37.50476808, 37.56223597, 37.6023535, 37.61073033, 37.60038468, 37.60703993, 37.64080594, 37.61620218, 37.57810158, 37.54879082, 37.4981397, 37.46719261, 37.54674074, 37.533962, 37.617016, 37.52004164, 37.531259999999996, 37.469479, 37.649609000000005, 37.725962, 37.702727], \"marker\": {\"size\": [10.200000000000001, 10.200000000000001, 10.200000000000001, 10.200000000000001, 10.200000000000001, 10.200000000000001, 10.200000000000001, 9.1, 9.1, 9.1, 9.1, 16.5, 16.5, 8.6, 8.6, 8.6, 8.6, 8.35, 13.5, 13.5, 13.5, 15.5, 13.65, 8.1, 8.1, 8.1, 13.8, 13.8, 13.8, 13.8, 7.4, 6.4, 5.7, 5.7, 5.550000000000001, 5.550000000000001, 5.550000000000001]}, \"text\": [\"\\u0410\\u043b\\u0435\\u043a\\u0441\\u0435\\u0435\\u0432\\u0441\\u043a\\u0438\\u0439 \\u0440\\u0430\\u0439\\u043e\\u043d\", \"\\u042f\\u0440\\u043e\\u0441\\u043b\\u0430\\u0432\\u0441\\u043a\\u0438\\u0439 \\u0420\\u0430\\u0439\\u043e\\u043d\", \"\\u0420\\u0430\\u0439\\u043e\\u043d \\u041c\\u0430\\u0440\\u044c\\u0438\\u043d\\u0430 \\u0440\\u043e\\u0449\\u0430\", \"\\u041e\\u0441\\u0442\\u0430\\u043d\\u043a\\u0438\\u043d\\u0441\\u043a\\u0438\\u0439 \\u0440\\u0430\\u0439\\u043e\\u043d\", \"\\u0420\\u0430\\u0439\\u043e\\u043d \\u0420\\u043e\\u0441\\u0442\\u043e\\u043a\\u0438\\u043d\\u043e\", \"\\u0420\\u0430\\u0439\\u043e\\u043d \\u0421\\u0432\\u0438\\u0431\\u043b\\u043e\\u0432\\u043e\", \"\\u041c\\u0435\\u0449\\u0430\\u043d\\u0441\\u043a\\u0438\\u0439 \\u0440\\u0430\\u0439\\u043e\\u043d\", \"\\u0410\\u043a\\u0430\\u0434\\u0435\\u043c\\u0438\\u0447\\u0435\\u0441\\u043a\\u0438\\u0439 \\u0440\\u0430\\u0439\\u043e\\u043d\", \"\\u0420\\u0430\\u0439\\u043e\\u043d \\u0427\\u0435\\u0440\\u0435\\u043c\\u0443\\u0448\\u043a\\u0438\", \"\\u0420\\u0430\\u0439\\u043e\\u043d \\u042f\\u0441\\u0435\\u043d\\u0435\\u0432\\u043e\", \"\\u0420\\u0430\\u0439\\u043e\\u043d \\u041a\\u043e\\u043d\\u044c\\u043a\\u043e\\u0432\\u043e\", \"\\u041e\\u0431\\u0440\\u0443\\u0447\\u0435\\u0432\\u0441\\u043a\\u0438\\u0439 \\u0440\\u0430\\u0439\\u043e\\u043d\", \"\\u0420\\u0430\\u0439\\u043e\\u043d \\u0422\\u0435\\u043f\\u043b\\u044b\\u0439 \\u0421\\u0442\\u0430\\u043d\", \"\\u0420\\u0430\\u0439\\u043e\\u043d \\u0410\\u044d\\u0440\\u043e\\u043f\\u043e\\u0440\\u0442\", \"\\u0420\\u0430\\u0439\\u043e\\u043d \\u0411\\u0435\\u0433\\u043e\\u0432\\u043e\\u0439\", \"\\u0425\\u043e\\u0440\\u043e\\u0448\\u0435\\u0432\\u0441\\u043a\\u0438\\u0439 \\u0440\\u0430\\u0439\\u043e\\u043d\", \"\\u0420\\u0430\\u0439\\u043e\\u043d \\u0421\\u043e\\u043a\\u043e\\u043b\", \"\\u041f\\u0440\\u0435\\u0441\\u043d\\u0435\\u043d\\u0441\\u043a\\u0438\\u0439 \\u0440\\u0430\\u0439\\u043e\\u043d\", \"\\u0420\\u0430\\u0439\\u043e\\u043d \\u0427\\u0435\\u0440\\u0442\\u0430\\u043d\\u043e\\u0432\\u043e \\u0426\\u0435\\u043d\\u0442\\u0440\\u0430\\u043b\\u044c\\u043d\\u043e\\u0435\", \"\\u0420\\u0430\\u0439\\u043e\\u043d \\u0427\\u0435\\u0440\\u0442\\u0430\\u043d\\u043e\\u0432\\u043e \\u0421\\u0435\\u0432\\u0435\\u0440\\u043d\\u043e\\u0435\", \"\\u0420\\u0430\\u0439\\u043e\\u043d \\u0427\\u0435\\u0440\\u0442\\u0430\\u043d\\u043e\\u0432\\u043e \\u042e\\u0436\\u043d\\u043e\\u0435\", \"\\u0414\\u043e\\u043d\\u0441\\u043a\\u043e\\u0439 \\u0440\\u0430\\u0439\\u043e\\u043d\", \"\\u0420\\u0430\\u0439\\u043e\\u043d \\u041d\\u0430\\u0433\\u0430\\u0442\\u0438\\u043d\\u043e-\\u0421\\u0430\\u0434\\u043e\\u0432\\u043d\\u0438\\u043a\\u0438\", \"\\u041d\\u0430\\u0433\\u043e\\u0440\\u043d\\u044b\\u0439 \\u0440\\u0430\\u0439\\u043e\\u043d\", \"\\u0420\\u0430\\u0439\\u043e\\u043d \\u0421\\u0435\\u0432\\u0435\\u0440\\u043d\\u043e\\u0435 \\u0411\\u0443\\u0442\\u043e\\u0432\\u043e\", \"\\u0420\\u0430\\u0439\\u043e\\u043d \\u042e\\u0436\\u043d\\u043e\\u0435 \\u0411\\u0443\\u0442\\u043e\\u0432\\u043e\", \"\\u0420\\u0430\\u0439\\u043e\\u043d \\u041f\\u0440\\u043e\\u0441\\u043f\\u0435\\u043a\\u0442 \\u0412\\u0435\\u0440\\u043d\\u0430\\u0434\\u0441\\u043a\\u043e\\u0433\\u043e\", \"\\u0420\\u0430\\u0439\\u043e\\u043d \\u0422\\u0440\\u043e\\u043f\\u0430\\u0440\\u0435\\u0432\\u043e-\\u041d\\u0438\\u043a\\u0443\\u043b\\u0438\\u043d\\u043e\", \"\\u0420\\u0430\\u0439\\u043e\\u043d \\u0413\\u0430\\u0433\\u0430\\u0440\\u0438\\u043d\\u0441\\u043a\\u0438\\u0439\", \"\\u041b\\u043e\\u043c\\u043e\\u043d\\u043e\\u0441\\u043e\\u0432\\u0441\\u043a\\u0438\\u0439 \\u0440\\u0430\\u0439\\u043e\\u043d\", \"\\u0420\\u0430\\u0439\\u043e\\u043d \\u042f\\u043a\\u0438\\u043c\\u0430\\u043d\\u043a\\u0430\", \"\\u0420\\u0430\\u0439\\u043e\\u043d \\u0420\\u0430\\u043c\\u0435\\u043d\\u043a\\u0438\", \"\\u0420\\u0430\\u0439\\u043e\\u043d \\u0414\\u043e\\u0440\\u043e\\u0433\\u043e\\u043c\\u0438\\u043b\\u043e\\u0432\\u043e\", \"\\u0420\\u0430\\u0439\\u043e\\u043d \\u0424\\u0438\\u043b\\u0438-\\u0414\\u0430\\u0432\\u044b\\u0434\\u043a\\u043e\\u0432\\u043e\", \"\\u0420\\u0430\\u0439\\u043e\\u043d \\u041c\\u043e\\u0441\\u043a\\u0432\\u043e\\u0440\\u0435\\u0447\\u044c\\u0435-\\u0421\\u0430\\u0431\\u0443\\u0440\\u043e\\u0432\\u043e\", \"\\u0420\\u0430\\u0439\\u043e\\u043d \\u041e\\u0440\\u0435\\u0445\\u043e\\u0432\\u043e-\\u0411\\u043e\\u0440\\u0438\\u0441\\u043e\\u0432\\u043e \\u042e\\u0436\\u043d\\u043e\\u0435\", \"\\u0420\\u0430\\u0439\\u043e\\u043d \\u041e\\u0440\\u0435\\u0445\\u043e\\u0432\\u043e-\\u0411\\u043e\\u0440\\u0438\\u0441\\u043e\\u0432\\u043e \\u0421\\u0435\\u0432\\u0435\\u0440\\u043d\\u043e\\u0435\"], \"type\": \"scattermapbox\"}],\n",
       "                        {\"mapbox\": {\"center\": {\"lat\": 55.75256588177121, \"lon\": 37.617283307098255}, \"style\": \"open-street-map\", \"zoom\": 9}, \"template\": {\"data\": {\"bar\": [{\"error_x\": {\"color\": \"#2a3f5f\"}, \"error_y\": {\"color\": \"#2a3f5f\"}, \"marker\": {\"line\": {\"color\": \"#E5ECF6\", \"width\": 0.5}}, \"type\": \"bar\"}], \"barpolar\": [{\"marker\": {\"line\": {\"color\": \"#E5ECF6\", \"width\": 0.5}}, \"type\": \"barpolar\"}], \"carpet\": [{\"aaxis\": {\"endlinecolor\": \"#2a3f5f\", \"gridcolor\": \"white\", \"linecolor\": \"white\", \"minorgridcolor\": \"white\", \"startlinecolor\": \"#2a3f5f\"}, \"baxis\": {\"endlinecolor\": \"#2a3f5f\", \"gridcolor\": \"white\", \"linecolor\": \"white\", \"minorgridcolor\": \"white\", \"startlinecolor\": \"#2a3f5f\"}, \"type\": \"carpet\"}], \"choropleth\": [{\"colorbar\": {\"outlinewidth\": 0, \"ticks\": \"\"}, \"type\": \"choropleth\"}], \"contour\": [{\"colorbar\": {\"outlinewidth\": 0, \"ticks\": \"\"}, \"colorscale\": [[0.0, \"#0d0887\"], [0.1111111111111111, \"#46039f\"], [0.2222222222222222, \"#7201a8\"], [0.3333333333333333, \"#9c179e\"], [0.4444444444444444, \"#bd3786\"], [0.5555555555555556, \"#d8576b\"], [0.6666666666666666, \"#ed7953\"], [0.7777777777777778, \"#fb9f3a\"], [0.8888888888888888, \"#fdca26\"], [1.0, \"#f0f921\"]], \"type\": \"contour\"}], \"contourcarpet\": [{\"colorbar\": {\"outlinewidth\": 0, \"ticks\": \"\"}, \"type\": \"contourcarpet\"}], \"heatmap\": [{\"colorbar\": {\"outlinewidth\": 0, \"ticks\": \"\"}, \"colorscale\": [[0.0, \"#0d0887\"], [0.1111111111111111, \"#46039f\"], [0.2222222222222222, \"#7201a8\"], [0.3333333333333333, \"#9c179e\"], [0.4444444444444444, \"#bd3786\"], [0.5555555555555556, \"#d8576b\"], [0.6666666666666666, \"#ed7953\"], [0.7777777777777778, \"#fb9f3a\"], [0.8888888888888888, \"#fdca26\"], [1.0, \"#f0f921\"]], \"type\": \"heatmap\"}], \"heatmapgl\": [{\"colorbar\": {\"outlinewidth\": 0, \"ticks\": \"\"}, \"colorscale\": [[0.0, \"#0d0887\"], [0.1111111111111111, \"#46039f\"], [0.2222222222222222, \"#7201a8\"], [0.3333333333333333, \"#9c179e\"], [0.4444444444444444, \"#bd3786\"], [0.5555555555555556, \"#d8576b\"], [0.6666666666666666, \"#ed7953\"], [0.7777777777777778, \"#fb9f3a\"], [0.8888888888888888, \"#fdca26\"], [1.0, \"#f0f921\"]], \"type\": \"heatmapgl\"}], \"histogram\": [{\"marker\": {\"colorbar\": {\"outlinewidth\": 0, \"ticks\": \"\"}}, \"type\": \"histogram\"}], \"histogram2d\": [{\"colorbar\": {\"outlinewidth\": 0, \"ticks\": \"\"}, \"colorscale\": [[0.0, \"#0d0887\"], [0.1111111111111111, \"#46039f\"], [0.2222222222222222, \"#7201a8\"], [0.3333333333333333, \"#9c179e\"], [0.4444444444444444, \"#bd3786\"], [0.5555555555555556, \"#d8576b\"], [0.6666666666666666, \"#ed7953\"], [0.7777777777777778, \"#fb9f3a\"], [0.8888888888888888, \"#fdca26\"], [1.0, \"#f0f921\"]], \"type\": \"histogram2d\"}], \"histogram2dcontour\": [{\"colorbar\": {\"outlinewidth\": 0, \"ticks\": \"\"}, \"colorscale\": [[0.0, \"#0d0887\"], [0.1111111111111111, \"#46039f\"], [0.2222222222222222, \"#7201a8\"], [0.3333333333333333, \"#9c179e\"], [0.4444444444444444, \"#bd3786\"], [0.5555555555555556, \"#d8576b\"], [0.6666666666666666, \"#ed7953\"], [0.7777777777777778, \"#fb9f3a\"], [0.8888888888888888, \"#fdca26\"], [1.0, \"#f0f921\"]], \"type\": \"histogram2dcontour\"}], \"mesh3d\": [{\"colorbar\": {\"outlinewidth\": 0, \"ticks\": \"\"}, \"type\": \"mesh3d\"}], \"parcoords\": [{\"line\": {\"colorbar\": {\"outlinewidth\": 0, \"ticks\": \"\"}}, \"type\": \"parcoords\"}], \"scatter\": [{\"marker\": {\"colorbar\": {\"outlinewidth\": 0, \"ticks\": \"\"}}, \"type\": \"scatter\"}], \"scatter3d\": [{\"line\": {\"colorbar\": {\"outlinewidth\": 0, \"ticks\": \"\"}}, \"marker\": {\"colorbar\": {\"outlinewidth\": 0, \"ticks\": \"\"}}, \"type\": \"scatter3d\"}], \"scattercarpet\": [{\"marker\": {\"colorbar\": {\"outlinewidth\": 0, \"ticks\": \"\"}}, \"type\": \"scattercarpet\"}], \"scattergeo\": [{\"marker\": {\"colorbar\": {\"outlinewidth\": 0, \"ticks\": \"\"}}, \"type\": \"scattergeo\"}], \"scattergl\": [{\"marker\": {\"colorbar\": {\"outlinewidth\": 0, \"ticks\": \"\"}}, \"type\": \"scattergl\"}], \"scattermapbox\": [{\"marker\": {\"colorbar\": {\"outlinewidth\": 0, \"ticks\": \"\"}}, \"type\": \"scattermapbox\"}], \"scatterpolar\": [{\"marker\": {\"colorbar\": {\"outlinewidth\": 0, \"ticks\": \"\"}}, \"type\": \"scatterpolar\"}], \"scatterpolargl\": [{\"marker\": {\"colorbar\": {\"outlinewidth\": 0, \"ticks\": \"\"}}, \"type\": \"scatterpolargl\"}], \"scatterternary\": [{\"marker\": {\"colorbar\": {\"outlinewidth\": 0, \"ticks\": \"\"}}, \"type\": \"scatterternary\"}], \"surface\": [{\"colorbar\": {\"outlinewidth\": 0, \"ticks\": \"\"}, \"colorscale\": [[0.0, \"#0d0887\"], [0.1111111111111111, \"#46039f\"], [0.2222222222222222, \"#7201a8\"], [0.3333333333333333, \"#9c179e\"], [0.4444444444444444, \"#bd3786\"], [0.5555555555555556, \"#d8576b\"], [0.6666666666666666, \"#ed7953\"], [0.7777777777777778, \"#fb9f3a\"], [0.8888888888888888, \"#fdca26\"], [1.0, \"#f0f921\"]], \"type\": \"surface\"}], \"table\": [{\"cells\": {\"fill\": {\"color\": \"#EBF0F8\"}, \"line\": {\"color\": \"white\"}}, \"header\": {\"fill\": {\"color\": \"#C8D4E3\"}, \"line\": {\"color\": \"white\"}}, \"type\": \"table\"}]}, \"layout\": {\"annotationdefaults\": {\"arrowcolor\": \"#2a3f5f\", \"arrowhead\": 0, \"arrowwidth\": 1}, \"colorscale\": {\"diverging\": [[0, \"#8e0152\"], [0.1, \"#c51b7d\"], [0.2, \"#de77ae\"], [0.3, \"#f1b6da\"], [0.4, \"#fde0ef\"], [0.5, \"#f7f7f7\"], [0.6, \"#e6f5d0\"], [0.7, \"#b8e186\"], [0.8, \"#7fbc41\"], [0.9, \"#4d9221\"], [1, \"#276419\"]], \"sequential\": [[0.0, \"#0d0887\"], [0.1111111111111111, \"#46039f\"], [0.2222222222222222, \"#7201a8\"], [0.3333333333333333, \"#9c179e\"], [0.4444444444444444, \"#bd3786\"], [0.5555555555555556, \"#d8576b\"], [0.6666666666666666, \"#ed7953\"], [0.7777777777777778, \"#fb9f3a\"], [0.8888888888888888, \"#fdca26\"], [1.0, \"#f0f921\"]], \"sequentialminus\": [[0.0, \"#0d0887\"], [0.1111111111111111, \"#46039f\"], [0.2222222222222222, \"#7201a8\"], [0.3333333333333333, \"#9c179e\"], [0.4444444444444444, \"#bd3786\"], [0.5555555555555556, \"#d8576b\"], [0.6666666666666666, \"#ed7953\"], [0.7777777777777778, \"#fb9f3a\"], [0.8888888888888888, \"#fdca26\"], [1.0, \"#f0f921\"]]}, \"colorway\": [\"#636efa\", \"#EF553B\", \"#00cc96\", \"#ab63fa\", \"#FFA15A\", \"#19d3f3\", \"#FF6692\", \"#B6E880\", \"#FF97FF\", \"#FECB52\"], \"font\": {\"color\": \"#2a3f5f\"}, \"geo\": {\"bgcolor\": \"white\", \"lakecolor\": \"white\", \"landcolor\": \"#E5ECF6\", \"showlakes\": true, \"showland\": true, \"subunitcolor\": \"white\"}, \"hoverlabel\": {\"align\": \"left\"}, \"hovermode\": \"closest\", \"mapbox\": {\"style\": \"light\"}, \"paper_bgcolor\": \"white\", \"plot_bgcolor\": \"#E5ECF6\", \"polar\": {\"angularaxis\": {\"gridcolor\": \"white\", \"linecolor\": \"white\", \"ticks\": \"\"}, \"bgcolor\": \"#E5ECF6\", \"radialaxis\": {\"gridcolor\": \"white\", \"linecolor\": \"white\", \"ticks\": \"\"}}, \"scene\": {\"xaxis\": {\"backgroundcolor\": \"#E5ECF6\", \"gridcolor\": \"white\", \"gridwidth\": 2, \"linecolor\": \"white\", \"showbackground\": true, \"ticks\": \"\", \"zerolinecolor\": \"white\"}, \"yaxis\": {\"backgroundcolor\": \"#E5ECF6\", \"gridcolor\": \"white\", \"gridwidth\": 2, \"linecolor\": \"white\", \"showbackground\": true, \"ticks\": \"\", \"zerolinecolor\": \"white\"}, \"zaxis\": {\"backgroundcolor\": \"#E5ECF6\", \"gridcolor\": \"white\", \"gridwidth\": 2, \"linecolor\": \"white\", \"showbackground\": true, \"ticks\": \"\", \"zerolinecolor\": \"white\"}}, \"shapedefaults\": {\"line\": {\"color\": \"#2a3f5f\"}}, \"ternary\": {\"aaxis\": {\"gridcolor\": \"white\", \"linecolor\": \"white\", \"ticks\": \"\"}, \"baxis\": {\"gridcolor\": \"white\", \"linecolor\": \"white\", \"ticks\": \"\"}, \"bgcolor\": \"#E5ECF6\", \"caxis\": {\"gridcolor\": \"white\", \"linecolor\": \"white\", \"ticks\": \"\"}}, \"title\": {\"x\": 0.05}, \"xaxis\": {\"automargin\": true, \"gridcolor\": \"white\", \"linecolor\": \"white\", \"ticks\": \"\", \"zerolinecolor\": \"white\", \"zerolinewidth\": 2}, \"yaxis\": {\"automargin\": true, \"gridcolor\": \"white\", \"linecolor\": \"white\", \"ticks\": \"\", \"zerolinecolor\": \"white\", \"zerolinewidth\": 2}}}},\n",
       "                        {\"responsive\": true}\n",
       "                    ).then(function(){\n",
       "                            \n",
       "var gd = document.getElementById('647ddae2-2be6-4974-a745-73b3be9ee567');\n",
       "var x = new MutationObserver(function (mutations, observer) {{\n",
       "        var display = window.getComputedStyle(gd).display;\n",
       "        if (!display || display === 'none') {{\n",
       "            console.log([gd, 'removed!']);\n",
       "            Plotly.purge(gd);\n",
       "            observer.disconnect();\n",
       "        }}\n",
       "}});\n",
       "\n",
       "// Listen for the removal of the full notebook cells\n",
       "var notebookContainer = gd.closest('#notebook-container');\n",
       "if (notebookContainer) {{\n",
       "    x.observe(notebookContainer, {childList: true});\n",
       "}}\n",
       "\n",
       "// Listen for the clearing of the current output cell\n",
       "var outputEl = gd.closest('.output');\n",
       "if (outputEl) {{\n",
       "    x.observe(outputEl, {childList: true});\n",
       "}}\n",
       "\n",
       "                        })\n",
       "                };\n",
       "                });\n",
       "            </script>\n",
       "        </div>"
      ]
     },
     "metadata": {},
     "output_type": "display_data"
    }
   ],
   "source": [
    "# нанесем полученные районы на карту\n",
    "import plotly.graph_objs as go\n",
    "#55.75256588177121, 37.61728330709825\n",
    "\n",
    "fig = go.Figure(go.Scattermapbox(lat=top_areas_list['lat'], lon=top_areas_list['lon'], text=top_areas_list['area']\n",
    "                                ,marker=dict(size=top_areas_list['number_of_objects']*0.05)))\n",
    "fig.update_layout(mapbox_style=\"open-street-map\")\n",
    "map_center = go.layout.mapbox.Center(lat=55.75256588177121, lon=37.617283307098255)\n",
    "fig.update_layout(mapbox_style=\"open-street-map\",\n",
    "                  mapbox=dict(center=map_center, zoom=9\n",
    "                             ))\n",
    "fig.show()"
   ]
  },
  {
   "cell_type": "markdown",
   "metadata": {},
   "source": [
    "Вывод: районы с наибольшим количеством заведений: Район Теплый Стан, Обручевский район, Донской район, Ломоносовский район, Район Гагаринский"
   ]
  },
  {
   "cell_type": "markdown",
   "metadata": {},
   "source": [
    "<a id=\"analysis_streets2\"></a>\n",
    "### Улицы с одним объектом общественного питания"
   ]
  },
  {
   "cell_type": "code",
   "execution_count": 128,
   "metadata": {},
   "outputs": [
    {
     "data": {
      "text/html": [
       "<div>\n",
       "<style scoped>\n",
       "    .dataframe tbody tr th:only-of-type {\n",
       "        vertical-align: middle;\n",
       "    }\n",
       "\n",
       "    .dataframe tbody tr th {\n",
       "        vertical-align: top;\n",
       "    }\n",
       "\n",
       "    .dataframe thead th {\n",
       "        text-align: right;\n",
       "    }\n",
       "</style>\n",
       "<table border=\"1\" class=\"dataframe\">\n",
       "  <thead>\n",
       "    <tr style=\"text-align: right;\">\n",
       "      <th></th>\n",
       "      <th>street</th>\n",
       "      <th>number_of_objects</th>\n",
       "    </tr>\n",
       "  </thead>\n",
       "  <tbody>\n",
       "    <tr>\n",
       "      <td>2</td>\n",
       "      <td>1-й Балтийский переулок</td>\n",
       "      <td>1</td>\n",
       "    </tr>\n",
       "    <tr>\n",
       "      <td>3</td>\n",
       "      <td>1-й Басманный переулок</td>\n",
       "      <td>1</td>\n",
       "    </tr>\n",
       "    <tr>\n",
       "      <td>4</td>\n",
       "      <td>1-й Ботанический проезд</td>\n",
       "      <td>1</td>\n",
       "    </tr>\n",
       "    <tr>\n",
       "      <td>7</td>\n",
       "      <td>1-й Вешняковский проезд</td>\n",
       "      <td>1</td>\n",
       "    </tr>\n",
       "    <tr>\n",
       "      <td>9</td>\n",
       "      <td>1-й Голутвинский переулок</td>\n",
       "      <td>1</td>\n",
       "    </tr>\n",
       "    <tr>\n",
       "      <td>...</td>\n",
       "      <td>...</td>\n",
       "      <td>...</td>\n",
       "    </tr>\n",
       "    <tr>\n",
       "      <td>1837</td>\n",
       "      <td>улица Шеногина</td>\n",
       "      <td>1</td>\n",
       "    </tr>\n",
       "    <tr>\n",
       "      <td>1840</td>\n",
       "      <td>улица Шумилова</td>\n",
       "      <td>1</td>\n",
       "    </tr>\n",
       "    <tr>\n",
       "      <td>1841</td>\n",
       "      <td>улица Шумкина</td>\n",
       "      <td>1</td>\n",
       "    </tr>\n",
       "    <tr>\n",
       "      <td>1845</td>\n",
       "      <td>улица Щорса</td>\n",
       "      <td>1</td>\n",
       "    </tr>\n",
       "    <tr>\n",
       "      <td>1850</td>\n",
       "      <td>шоссе Фрезер</td>\n",
       "      <td>1</td>\n",
       "    </tr>\n",
       "  </tbody>\n",
       "</table>\n",
       "<p>541 rows × 2 columns</p>\n",
       "</div>"
      ],
      "text/plain": [
       "                         street  number_of_objects\n",
       "2       1-й Балтийский переулок                  1\n",
       "3        1-й Басманный переулок                  1\n",
       "4       1-й Ботанический проезд                  1\n",
       "7       1-й Вешняковский проезд                  1\n",
       "9     1-й Голутвинский переулок                  1\n",
       "...                         ...                ...\n",
       "1837             улица Шеногина                  1\n",
       "1840             улица Шумилова                  1\n",
       "1841              улица Шумкина                  1\n",
       "1845                улица Щорса                  1\n",
       "1850               шоссе Фрезер                  1\n",
       "\n",
       "[541 rows x 2 columns]"
      ]
     },
     "execution_count": 128,
     "metadata": {},
     "output_type": "execute_result"
    }
   ],
   "source": [
    "streets = mos.pivot_table(index = 'street', values = 'id', aggfunc = 'count').reset_index()\n",
    "streets.columns = ['street', 'number_of_objects']\n",
    "streets_with_one_object = streets.query('number_of_objects==1')\n",
    "streets_with_one_object"
   ]
  },
  {
   "cell_type": "markdown",
   "metadata": {},
   "source": [
    "Имеется 541 улица с одним объектом общественного питания"
   ]
  },
  {
   "cell_type": "code",
   "execution_count": 135,
   "metadata": {},
   "outputs": [
    {
     "data": {
      "text/html": [
       "<div>\n",
       "<style scoped>\n",
       "    .dataframe tbody tr th:only-of-type {\n",
       "        vertical-align: middle;\n",
       "    }\n",
       "\n",
       "    .dataframe tbody tr th {\n",
       "        vertical-align: top;\n",
       "    }\n",
       "\n",
       "    .dataframe thead th {\n",
       "        text-align: right;\n",
       "    }\n",
       "</style>\n",
       "<table border=\"1\" class=\"dataframe\">\n",
       "  <thead>\n",
       "    <tr style=\"text-align: right;\">\n",
       "      <th></th>\n",
       "      <th>street</th>\n",
       "    </tr>\n",
       "    <tr>\n",
       "      <th>area</th>\n",
       "      <th></th>\n",
       "    </tr>\n",
       "  </thead>\n",
       "  <tbody>\n",
       "    <tr>\n",
       "      <td>Таганский район</td>\n",
       "      <td>27</td>\n",
       "    </tr>\n",
       "    <tr>\n",
       "      <td>Район Хамовники</td>\n",
       "      <td>26</td>\n",
       "    </tr>\n",
       "    <tr>\n",
       "      <td>Басманный район</td>\n",
       "      <td>25</td>\n",
       "    </tr>\n",
       "    <tr>\n",
       "      <td>Пресненский район</td>\n",
       "      <td>20</td>\n",
       "    </tr>\n",
       "    <tr>\n",
       "      <td>Тверской район</td>\n",
       "      <td>20</td>\n",
       "    </tr>\n",
       "  </tbody>\n",
       "</table>\n",
       "</div>"
      ],
      "text/plain": [
       "                   street\n",
       "area                     \n",
       "Таганский район        27\n",
       "Район Хамовники        26\n",
       "Басманный район        25\n",
       "Пресненский район      20\n",
       "Тверской район         20"
      ]
     },
     "execution_count": 135,
     "metadata": {},
     "output_type": "execute_result"
    }
   ],
   "source": [
    "# добавим данные о районах\n",
    "areas_with_one_object = streets_with_one_object.merge(df.drop(['areaid', 'okrug', 'lat', 'lon'], 1), \n",
    "                                                      left_on = 'street', right_on = 'streetname')\n",
    "#areas_with_one_object_list = pd.DataFrame(areas_with_one_object['area'].unique())\n",
    "#areas_with_one_object_list.columns = ['area_name']\n",
    "#areas_with_one_object_list\n",
    "areas_with_one_object.pivot_table(index = 'area', values = 'street', \n",
    "                                  aggfunc = 'count').sort_values('street', ascending = False).head(5)"
   ]
  },
  {
   "cell_type": "markdown",
   "metadata": {},
   "source": [
    "При этом часть районов может пересекаться, поскольку в одном районе могут быть как улицы с 1 заведением, так и улицы с большим количеством заведений"
   ]
  },
  {
   "cell_type": "markdown",
   "metadata": {},
   "source": [
    "Вывод: определены улицы, на которых расположен только один объект общественного питания, и соотвествующие им районы.\n",
    "\n",
    "Все районы с наибольшим количеством улиц с одним заведением расположены в Центральном административном округе, имеют большую протяженность от 7 до 11 Га, не удивительно что по ним проходит так много улиц.\n",
    "Возможно стоимость аренды не позволяет открывать там больше заведений, поскольку в этом районе расположены много театров, вокзалы, большинство министерств Российской Федерации, а также Кремль."
   ]
  },
  {
   "cell_type": "markdown",
   "metadata": {},
   "source": [
    "<a id=\"analysis_streets1_seats\"></a>\n",
    "### Распределение количества посадочных мест для улиц с большим количеством объектов общественного питания"
   ]
  },
  {
   "cell_type": "code",
   "execution_count": 107,
   "metadata": {},
   "outputs": [
    {
     "data": {
      "text/html": [
       "<div>\n",
       "<style scoped>\n",
       "    .dataframe tbody tr th:only-of-type {\n",
       "        vertical-align: middle;\n",
       "    }\n",
       "\n",
       "    .dataframe tbody tr th {\n",
       "        vertical-align: top;\n",
       "    }\n",
       "\n",
       "    .dataframe thead th {\n",
       "        text-align: right;\n",
       "    }\n",
       "</style>\n",
       "<table border=\"1\" class=\"dataframe\">\n",
       "  <thead>\n",
       "    <tr style=\"text-align: right;\">\n",
       "      <th></th>\n",
       "      <th>street</th>\n",
       "      <th>number_of_objects</th>\n",
       "    </tr>\n",
       "  </thead>\n",
       "  <tbody>\n",
       "    <tr>\n",
       "      <td>1405</td>\n",
       "      <td>проспект Мира</td>\n",
       "      <td>204</td>\n",
       "    </tr>\n",
       "    <tr>\n",
       "      <td>996</td>\n",
       "      <td>Профсоюзная улица</td>\n",
       "      <td>182</td>\n",
       "    </tr>\n",
       "    <tr>\n",
       "      <td>683</td>\n",
       "      <td>Ленинградский проспект</td>\n",
       "      <td>172</td>\n",
       "    </tr>\n",
       "    <tr>\n",
       "      <td>981</td>\n",
       "      <td>Пресненская набережная</td>\n",
       "      <td>167</td>\n",
       "    </tr>\n",
       "    <tr>\n",
       "      <td>406</td>\n",
       "      <td>Варшавское шоссе</td>\n",
       "      <td>162</td>\n",
       "    </tr>\n",
       "    <tr>\n",
       "      <td>686</td>\n",
       "      <td>Ленинский проспект</td>\n",
       "      <td>148</td>\n",
       "    </tr>\n",
       "    <tr>\n",
       "      <td>1372</td>\n",
       "      <td>поселение Сосенское</td>\n",
       "      <td>137</td>\n",
       "    </tr>\n",
       "    <tr>\n",
       "      <td>1402</td>\n",
       "      <td>проспект Вернадского</td>\n",
       "      <td>128</td>\n",
       "    </tr>\n",
       "    <tr>\n",
       "      <td>674</td>\n",
       "      <td>Кутузовский проспект</td>\n",
       "      <td>114</td>\n",
       "    </tr>\n",
       "    <tr>\n",
       "      <td>600</td>\n",
       "      <td>Каширское шоссе</td>\n",
       "      <td>111</td>\n",
       "    </tr>\n",
       "  </tbody>\n",
       "</table>\n",
       "</div>"
      ],
      "text/plain": [
       "                      street  number_of_objects\n",
       "1405           проспект Мира                204\n",
       "996        Профсоюзная улица                182\n",
       "683   Ленинградский проспект                172\n",
       "981   Пресненская набережная                167\n",
       "406         Варшавское шоссе                162\n",
       "686       Ленинский проспект                148\n",
       "1372     поселение Сосенское                137\n",
       "1402    проспект Вернадского                128\n",
       "674     Кутузовский проспект                114\n",
       "600          Каширское шоссе                111"
      ]
     },
     "execution_count": 107,
     "metadata": {},
     "output_type": "execute_result"
    }
   ],
   "source": [
    "#pivot = top_streets.pivot_table(index = 'street', values = 'id', aggfunc = 'count').reset_index().sort_values('id', ascending = False)\n",
    "top_streets"
   ]
  },
  {
   "cell_type": "code",
   "execution_count": 108,
   "metadata": {
    "scrolled": false
   },
   "outputs": [
    {
     "data": {
      "image/png": "[encoded data removed]",
      "text/plain": [
       "<Figure size 432x288 with 1 Axes>"
      ]
     },
     "metadata": {
      "needs_background": "light"
     },
     "output_type": "display_data"
    }
   ],
   "source": [
    "plot = top_streets.merge(data, on = 'street')\n",
    "x_values = pd.Series(range(0,len(plot['id'])))\n",
    "plt.title('График разброса количества посадочных мест')\n",
    "plt.ylabel('Количество мест')\n",
    "plt.scatter(x_values, plot['number'], alpha = 0.5) \n",
    "plt.show()"
   ]
  },
  {
   "cell_type": "markdown",
   "metadata": {},
   "source": [
    "Очевидных отличий от всех улиц не видно, с другой стороны, это улицы на которые приходятся основные посадочные места"
   ]
  },
  {
   "cell_type": "code",
   "execution_count": 109,
   "metadata": {
    "scrolled": true
   },
   "outputs": [
    {
     "data": {
      "text/html": [
       "<div>\n",
       "<style scoped>\n",
       "    .dataframe tbody tr th:only-of-type {\n",
       "        vertical-align: middle;\n",
       "    }\n",
       "\n",
       "    .dataframe tbody tr th {\n",
       "        vertical-align: top;\n",
       "    }\n",
       "\n",
       "    .dataframe thead th {\n",
       "        text-align: right;\n",
       "    }\n",
       "</style>\n",
       "<table border=\"1\" class=\"dataframe\">\n",
       "  <thead>\n",
       "    <tr style=\"text-align: right;\">\n",
       "      <th></th>\n",
       "      <th>number_of_objects</th>\n",
       "      <th>mean_number_of_seats</th>\n",
       "    </tr>\n",
       "    <tr>\n",
       "      <th>street</th>\n",
       "      <th></th>\n",
       "      <th></th>\n",
       "    </tr>\n",
       "  </thead>\n",
       "  <tbody>\n",
       "    <tr>\n",
       "      <td>проспект Мира</td>\n",
       "      <td>204</td>\n",
       "      <td>63.0</td>\n",
       "    </tr>\n",
       "    <tr>\n",
       "      <td>Профсоюзная улица</td>\n",
       "      <td>182</td>\n",
       "      <td>48.0</td>\n",
       "    </tr>\n",
       "    <tr>\n",
       "      <td>Ленинградский проспект</td>\n",
       "      <td>172</td>\n",
       "      <td>52.0</td>\n",
       "    </tr>\n",
       "    <tr>\n",
       "      <td>Пресненская набережная</td>\n",
       "      <td>167</td>\n",
       "      <td>46.0</td>\n",
       "    </tr>\n",
       "    <tr>\n",
       "      <td>Варшавское шоссе</td>\n",
       "      <td>162</td>\n",
       "      <td>53.0</td>\n",
       "    </tr>\n",
       "    <tr>\n",
       "      <td>Ленинский проспект</td>\n",
       "      <td>148</td>\n",
       "      <td>63.0</td>\n",
       "    </tr>\n",
       "    <tr>\n",
       "      <td>поселение Сосенское</td>\n",
       "      <td>137</td>\n",
       "      <td>23.0</td>\n",
       "    </tr>\n",
       "    <tr>\n",
       "      <td>проспект Вернадского</td>\n",
       "      <td>128</td>\n",
       "      <td>69.0</td>\n",
       "    </tr>\n",
       "    <tr>\n",
       "      <td>Кутузовский проспект</td>\n",
       "      <td>114</td>\n",
       "      <td>85.0</td>\n",
       "    </tr>\n",
       "    <tr>\n",
       "      <td>Каширское шоссе</td>\n",
       "      <td>111</td>\n",
       "      <td>56.0</td>\n",
       "    </tr>\n",
       "  </tbody>\n",
       "</table>\n",
       "</div>"
      ],
      "text/plain": [
       "                        number_of_objects  mean_number_of_seats\n",
       "street                                                         \n",
       "проспект Мира                         204                  63.0\n",
       "Профсоюзная улица                     182                  48.0\n",
       "Ленинградский проспект                172                  52.0\n",
       "Пресненская набережная                167                  46.0\n",
       "Варшавское шоссе                      162                  53.0\n",
       "Ленинский проспект                    148                  63.0\n",
       "поселение Сосенское                   137                  23.0\n",
       "проспект Вернадского                  128                  69.0\n",
       "Кутузовский проспект                  114                  85.0\n",
       "Каширское шоссе                       111                  56.0"
      ]
     },
     "execution_count": 109,
     "metadata": {},
     "output_type": "execute_result"
    }
   ],
   "source": [
    "pivot = plot.pivot_table(index = 'street', values= ['id', 'number'], \n",
    "                 aggfunc = {'id': 'count', 'number': 'mean'}).sort_values('id', ascending = False).round(0)\n",
    "pivot.columns = ['number_of_objects', 'mean_number_of_seats']\n",
    "pivot"
   ]
  },
  {
   "cell_type": "code",
   "execution_count": 110,
   "metadata": {
    "scrolled": false
   },
   "outputs": [
    {
     "data": {
      "image/png": "[encoded data removed]",
      "text/plain": [
       "<Figure size 414.5x360 with 1 Axes>"
      ]
     },
     "metadata": {
      "needs_background": "light"
     },
     "output_type": "display_data"
    }
   ],
   "source": [
    "sns.catplot(data=plot, x='street', y='number', hue='chain', alpha = 0.5)\n",
    "plt.xticks(rotation= 90)\n",
    "plt.title('График разброса количества посадочных мест по улицам')\n",
    "plt.xlabel('Улица')\n",
    "plt.ylabel('Количество мест')\n",
    "plt.ylim(0, 600)\n",
    "plt.show()"
   ]
  },
  {
   "cell_type": "markdown",
   "metadata": {},
   "source": [
    "Вывод: среднее количество посадочных мест для улиц с большим количеством заведений не превышает 100, наименьшее количество посадочных мест в отделах кулинарии, закусочных и кафетериях, наибольшее встречается у столовых и ресторанах. Очень мало посадочных мест более 500, возможно это обусловлено высокой арендой, либо невозможностью заполнить такие площади ввиду большой конкуренции"
   ]
  },
  {
   "cell_type": "markdown",
   "metadata": {},
   "source": [
    "<a id=\"conclusion\"></a>\n",
    "## Общий вывод"
   ]
  },
  {
   "cell_type": "markdown",
   "metadata": {},
   "source": [
    "Для целей проведенного анализа данных предварительно были:\n",
    "- проверено наличие пропусков и явных дубликатов\n",
    "- прверены названия колонок и типы данных\n",
    "\n",
    "В результате исследовательского анализа данных определено что:\n",
    "- наибольшее количество заведений представляют  кафе (39,7%) , столовые (16,9%) и рестораны (14,9%)\n",
    "- к сетевым принадлежит только 19% заведений, кроме того из них 450 имеют только 1 заведение, возможно они планируются как сетевые но еще не открыли дополнительные точки, возможно ошибка в принадлежности к сети, а возможно у заведений одной сети могут быть разные названия\n",
    "- имеются как заведения без посадочных мест, скорее всего работающие \" на вынос\", так и возможно банкетные залы до 1700 посадочных мест\n",
    "- для сетевого общепита Москвы более характерны сетевые заведения с небольшим количеством зведений (до 12 ти) и числом посадочных мест до 100.\n",
    "- наибольшее количество посадочных мест у столовых, далее идут рестораны и буфеты\n",
    "- среднее количество посадочных мест у сетевых и не сетевых заведений отличается, что касается наиболее распространенного среди не сетевых - предприятий быстрого обслуживания, их среднее число посадочных мест больше чем у аналогичных не сетевых\n",
    "- районы с наибольшим количеством заведений: Район Теплый Стан, Обручевский район, Донской район, Ломоносовский, Район Гагаринский - это сереро-запад Москвы\n",
    "- определены улицы, на которых расположен только один объект общественного питания, и соотвествующие им районы.\n",
    "Ввиду отсутствия данных о посещаемости и  доходах этих завдений, нельзя сделать вывод о том, имеет ли смысл открывать новое завдение в этих районах, но можно предположить что маленькое количество заведений обусловлено либо низкой проходимостьв в этих местах, либо низкой востребованностью услуг общепита"
   ]
  },
  {
   "cell_type": "markdown",
   "metadata": {},
   "source": [
    "**Рекомедации:**\n",
    "Если исходить из предположения, что наиболее типичные для Москвы закономерности и есть те, что мы ищем для применения к своему заведению, то можно предложить следующее:\n",
    "- начать с одного несетевого заведения, далее по результатам можно будет развить сеть\n",
    "- отдел кулинарии, закусочная, столовая, кафетерий и буфет нам не подойду, там скорее всего низкий средний чек , при этом вложений в наше высокотехнологичное кафе должно будет необходимо много.\n",
    "- рестораны ценятся именно качеством индивидуального обслуживания, сервисом - не подходит\n",
    "- скорее всего наш формат это бар, кафе, фастфуд либо кафе\n",
    "- количество посадочных мест примерно 40\n",
    "- район можно взять исходя из наиболее популярных районов, определенных в пункте 3.4. (Район Теплый Стан, Обручевский район, Донской район, Район Тропарево-Никулино, Район Гагаринский), но возможно рассмотреть в них улицы 1-2 заведениями, либо вообще без оных, но все же близкие к скоплению остальных заведений\n"
   ]
  },
  {
   "cell_type": "markdown",
   "metadata": {},
   "source": [
    "Презентация\n",
    "https://drive.google.com/file/d/11zd2OiOKjiPHAG_XhCiaelqJi4slQ2Bm/view?usp=sharing"
   ]
  },
  {
   "cell_type": "code",
   "execution_count": null,
   "metadata": {},
   "outputs": [],
   "source": []
  }
 ],
 "metadata": {
  "ExecuteTimeLog": [
   {
    "duration": 58,
    "start_time": "2022-03-02T13:16:01.044Z"
   },
   {
    "duration": 3,
    "start_time": "2022-03-02T13:16:39.515Z"
   },
   {
    "duration": 2,
    "start_time": "2022-03-02T13:16:47.444Z"
   },
   {
    "duration": 49,
    "start_time": "2022-03-02T13:18:12.164Z"
   },
   {
    "duration": 112,
    "start_time": "2022-03-02T13:18:17.755Z"
   },
   {
    "duration": 83,
    "start_time": "2022-03-02T13:18:42.526Z"
   },
   {
    "duration": 2,
    "start_time": "2022-03-02T14:11:45.466Z"
   },
   {
    "duration": 54,
    "start_time": "2022-03-02T14:12:21.721Z"
   },
   {
    "duration": 415,
    "start_time": "2022-03-03T09:42:34.924Z"
   },
   {
    "duration": 991,
    "start_time": "2022-03-03T09:42:44.241Z"
   },
   {
    "duration": 41,
    "start_time": "2022-03-03T09:42:47.591Z"
   },
   {
    "duration": 14,
    "start_time": "2022-03-03T09:42:52.082Z"
   },
   {
    "duration": 291,
    "start_time": "2022-03-03T09:43:45.607Z"
   },
   {
    "duration": 2,
    "start_time": "2022-03-03T09:43:48.344Z"
   },
   {
    "duration": 26,
    "start_time": "2022-03-03T09:43:50.851Z"
   },
   {
    "duration": 41,
    "start_time": "2022-03-03T09:45:22.410Z"
   },
   {
    "duration": 3,
    "start_time": "2022-03-03T09:45:25.481Z"
   },
   {
    "duration": 24,
    "start_time": "2022-03-03T09:45:27.215Z"
   },
   {
    "duration": 41,
    "start_time": "2022-03-03T09:45:34.941Z"
   },
   {
    "duration": 3,
    "start_time": "2022-03-03T09:45:36.621Z"
   },
   {
    "duration": 25,
    "start_time": "2022-03-03T09:45:38.147Z"
   },
   {
    "duration": 405,
    "start_time": "2022-03-03T09:49:07.166Z"
   },
   {
    "duration": 402,
    "start_time": "2022-03-03T09:50:33.491Z"
   },
   {
    "duration": 7,
    "start_time": "2022-03-03T09:50:42.305Z"
   },
   {
    "duration": 399,
    "start_time": "2022-03-03T09:51:48.396Z"
   },
   {
    "duration": 341,
    "start_time": "2022-03-03T09:56:20.338Z"
   },
   {
    "duration": 25975,
    "start_time": "2022-03-03T09:58:24.373Z"
   },
   {
    "duration": 29194,
    "start_time": "2022-03-03T09:59:57.202Z"
   },
   {
    "duration": 359,
    "start_time": "2022-03-03T10:01:54.546Z"
   },
   {
    "duration": 565,
    "start_time": "2022-03-03T10:03:42.127Z"
   },
   {
    "duration": 3,
    "start_time": "2022-03-03T10:12:58.941Z"
   },
   {
    "duration": 6,
    "start_time": "2022-03-03T10:40:13.473Z"
   },
   {
    "duration": 6,
    "start_time": "2022-03-03T10:40:57.647Z"
   },
   {
    "duration": 175,
    "start_time": "2022-03-03T10:46:03.987Z"
   },
   {
    "duration": 179,
    "start_time": "2022-03-03T10:46:25.210Z"
   },
   {
    "duration": 179,
    "start_time": "2022-03-03T10:47:56.705Z"
   },
   {
    "duration": 84,
    "start_time": "2022-03-03T10:48:48.707Z"
   },
   {
    "duration": 179,
    "start_time": "2022-03-03T10:48:53.726Z"
   },
   {
    "duration": 180,
    "start_time": "2022-03-03T10:49:20.601Z"
   },
   {
    "duration": 303,
    "start_time": "2022-03-03T11:03:14.944Z"
   },
   {
    "duration": 5,
    "start_time": "2022-03-03T11:04:48.533Z"
   },
   {
    "duration": 7,
    "start_time": "2022-03-03T11:04:58.326Z"
   },
   {
    "duration": 178,
    "start_time": "2022-03-03T11:05:05.294Z"
   },
   {
    "duration": 6,
    "start_time": "2022-03-03T11:07:40.330Z"
   },
   {
    "duration": 263,
    "start_time": "2022-03-03T11:10:17.515Z"
   },
   {
    "duration": 15,
    "start_time": "2022-03-03T11:10:31.562Z"
   },
   {
    "duration": 5,
    "start_time": "2022-03-03T11:15:17.644Z"
   },
   {
    "duration": 732,
    "start_time": "2022-03-03T11:15:56.176Z"
   },
   {
    "duration": 7375,
    "start_time": "2022-03-03T11:18:33.583Z"
   },
   {
    "duration": 18,
    "start_time": "2022-03-03T11:24:39.460Z"
   },
   {
    "duration": 222,
    "start_time": "2022-03-03T11:25:00.024Z"
   },
   {
    "duration": 280,
    "start_time": "2022-03-03T11:25:28.609Z"
   },
   {
    "duration": 207,
    "start_time": "2022-03-03T11:25:51.623Z"
   },
   {
    "duration": 227,
    "start_time": "2022-03-03T11:26:53.547Z"
   },
   {
    "duration": 227,
    "start_time": "2022-03-03T11:27:06.614Z"
   },
   {
    "duration": 230,
    "start_time": "2022-03-03T11:27:13.837Z"
   },
   {
    "duration": 244,
    "start_time": "2022-03-03T11:27:25.721Z"
   },
   {
    "duration": 221,
    "start_time": "2022-03-03T11:27:44.064Z"
   },
   {
    "duration": 257,
    "start_time": "2022-03-03T11:27:53.744Z"
   },
   {
    "duration": 235,
    "start_time": "2022-03-03T11:28:02.985Z"
   },
   {
    "duration": 244,
    "start_time": "2022-03-03T11:31:49.378Z"
   },
   {
    "duration": 5,
    "start_time": "2022-03-03T11:32:02.437Z"
   },
   {
    "duration": 156,
    "start_time": "2022-03-03T11:32:05.923Z"
   },
   {
    "duration": 4,
    "start_time": "2022-03-03T11:32:50.392Z"
   },
   {
    "duration": 16,
    "start_time": "2022-03-03T11:33:27.994Z"
   },
   {
    "duration": 6,
    "start_time": "2022-03-03T11:36:08.035Z"
   },
   {
    "duration": 7,
    "start_time": "2022-03-03T11:36:33.021Z"
   },
   {
    "duration": 8,
    "start_time": "2022-03-03T11:37:27.113Z"
   },
   {
    "duration": 16,
    "start_time": "2022-03-03T11:37:29.367Z"
   },
   {
    "duration": 224,
    "start_time": "2022-03-03T11:37:33.828Z"
   },
   {
    "duration": 223,
    "start_time": "2022-03-03T11:37:43.228Z"
   },
   {
    "duration": 225,
    "start_time": "2022-03-03T11:37:48.722Z"
   },
   {
    "duration": 221,
    "start_time": "2022-03-03T11:37:54.458Z"
   },
   {
    "duration": 10,
    "start_time": "2022-03-03T11:42:55.871Z"
   },
   {
    "duration": 7,
    "start_time": "2022-03-03T11:42:59.838Z"
   },
   {
    "duration": 19,
    "start_time": "2022-03-03T11:43:02.304Z"
   },
   {
    "duration": 250,
    "start_time": "2022-03-03T11:43:05.410Z"
   },
   {
    "duration": 16,
    "start_time": "2022-03-03T11:49:26.597Z"
   },
   {
    "duration": 18,
    "start_time": "2022-03-03T11:50:34.099Z"
   },
   {
    "duration": 19,
    "start_time": "2022-03-03T11:50:47.656Z"
   },
   {
    "duration": 9,
    "start_time": "2022-03-03T11:51:19.695Z"
   },
   {
    "duration": 291,
    "start_time": "2022-03-03T11:51:50.924Z"
   },
   {
    "duration": 260,
    "start_time": "2022-03-03T11:51:56.933Z"
   },
   {
    "duration": 11,
    "start_time": "2022-03-03T11:52:03.269Z"
   },
   {
    "duration": 12,
    "start_time": "2022-03-03T11:52:13.265Z"
   },
   {
    "duration": 9,
    "start_time": "2022-03-03T11:52:40.832Z"
   },
   {
    "duration": 273,
    "start_time": "2022-03-03T11:53:00.904Z"
   },
   {
    "duration": 15,
    "start_time": "2022-03-03T11:53:07.937Z"
   },
   {
    "duration": 17,
    "start_time": "2022-03-03T11:53:40.325Z"
   },
   {
    "duration": 6051,
    "start_time": "2022-03-03T11:58:32.546Z"
   },
   {
    "duration": 6,
    "start_time": "2022-03-03T11:58:41.258Z"
   },
   {
    "duration": 5,
    "start_time": "2022-03-03T11:59:04.054Z"
   },
   {
    "duration": 6,
    "start_time": "2022-03-03T11:59:12.400Z"
   },
   {
    "duration": 5,
    "start_time": "2022-03-03T12:01:33.991Z"
   },
   {
    "duration": 102,
    "start_time": "2022-03-03T12:02:29.457Z"
   },
   {
    "duration": 14,
    "start_time": "2022-03-03T12:05:02.934Z"
   },
   {
    "duration": 13,
    "start_time": "2022-03-03T12:06:35.265Z"
   },
   {
    "duration": 12,
    "start_time": "2022-03-03T12:08:12.774Z"
   },
   {
    "duration": 7,
    "start_time": "2022-03-03T12:09:15.338Z"
   },
   {
    "duration": 243,
    "start_time": "2022-03-03T12:09:32.685Z"
   },
   {
    "duration": 249,
    "start_time": "2022-03-03T12:10:32.313Z"
   },
   {
    "duration": 6,
    "start_time": "2022-03-03T12:11:30.824Z"
   },
   {
    "duration": 15,
    "start_time": "2022-03-03T13:01:24.585Z"
   },
   {
    "duration": 16,
    "start_time": "2022-03-03T13:01:29.761Z"
   },
   {
    "duration": 18,
    "start_time": "2022-03-03T13:06:30.855Z"
   },
   {
    "duration": 20,
    "start_time": "2022-03-03T13:07:30.065Z"
   },
   {
    "duration": 18,
    "start_time": "2022-03-03T13:07:42.755Z"
   },
   {
    "duration": 1059,
    "start_time": "2022-03-03T13:08:54.477Z"
   },
   {
    "duration": 17,
    "start_time": "2022-03-03T13:09:05.015Z"
   },
   {
    "duration": 19,
    "start_time": "2022-03-03T13:09:29.842Z"
   },
   {
    "duration": 19,
    "start_time": "2022-03-03T13:13:55.190Z"
   },
   {
    "duration": 282,
    "start_time": "2022-03-03T13:19:16.942Z"
   },
   {
    "duration": 148,
    "start_time": "2022-03-03T13:19:31.744Z"
   },
   {
    "duration": 383,
    "start_time": "2022-03-03T13:20:43.267Z"
   },
   {
    "duration": 627,
    "start_time": "2022-03-03T13:21:25.042Z"
   },
   {
    "duration": 92,
    "start_time": "2022-03-03T13:21:39.580Z"
   },
   {
    "duration": 135,
    "start_time": "2022-03-03T13:21:58.682Z"
   },
   {
    "duration": 270,
    "start_time": "2022-03-03T13:48:01.546Z"
   },
   {
    "duration": 244,
    "start_time": "2022-03-03T13:50:31.554Z"
   },
   {
    "duration": 245,
    "start_time": "2022-03-03T13:51:54.290Z"
   },
   {
    "duration": 212,
    "start_time": "2022-03-03T13:52:48.673Z"
   },
   {
    "duration": 259,
    "start_time": "2022-03-03T13:53:04.600Z"
   },
   {
    "duration": 242,
    "start_time": "2022-03-03T13:53:33.347Z"
   },
   {
    "duration": 124,
    "start_time": "2022-03-03T13:57:51.246Z"
   },
   {
    "duration": 126,
    "start_time": "2022-03-03T13:57:59.615Z"
   },
   {
    "duration": 4509,
    "start_time": "2022-03-03T14:02:07.293Z"
   },
   {
    "duration": 18,
    "start_time": "2022-03-03T14:04:55.718Z"
   },
   {
    "duration": 19,
    "start_time": "2022-03-03T14:05:07.554Z"
   },
   {
    "duration": 257,
    "start_time": "2022-03-03T14:06:21.352Z"
   },
   {
    "duration": 13,
    "start_time": "2022-03-03T14:06:34.304Z"
   },
   {
    "duration": 894,
    "start_time": "2022-03-03T14:06:38.667Z"
   },
   {
    "duration": 19,
    "start_time": "2022-03-03T14:07:37.862Z"
   },
   {
    "duration": 994,
    "start_time": "2022-03-03T14:09:35.357Z"
   },
   {
    "duration": 1311,
    "start_time": "2022-03-03T17:37:40.649Z"
   },
   {
    "duration": 40,
    "start_time": "2022-03-03T17:37:41.962Z"
   },
   {
    "duration": 3,
    "start_time": "2022-03-03T17:37:42.003Z"
   },
   {
    "duration": 37,
    "start_time": "2022-03-03T17:37:42.008Z"
   },
   {
    "duration": 9,
    "start_time": "2022-03-03T17:37:42.047Z"
   },
   {
    "duration": 10,
    "start_time": "2022-03-03T17:37:42.057Z"
   },
   {
    "duration": 12,
    "start_time": "2022-03-03T17:37:42.068Z"
   },
   {
    "duration": 18,
    "start_time": "2022-03-03T17:37:42.082Z"
   },
   {
    "duration": 7,
    "start_time": "2022-03-03T17:37:42.102Z"
   },
   {
    "duration": 42,
    "start_time": "2022-03-03T17:37:42.110Z"
   },
   {
    "duration": 253,
    "start_time": "2022-03-03T17:37:42.154Z"
   },
   {
    "duration": 430,
    "start_time": "2022-03-03T17:37:42.408Z"
   },
   {
    "duration": 8,
    "start_time": "2022-03-03T17:37:42.840Z"
   },
   {
    "duration": 19,
    "start_time": "2022-03-03T17:37:42.849Z"
   },
   {
    "duration": 934,
    "start_time": "2022-03-03T17:37:42.870Z"
   },
   {
    "duration": 23,
    "start_time": "2022-03-03T17:38:10.232Z"
   },
   {
    "duration": 20,
    "start_time": "2022-03-03T17:38:36.949Z"
   },
   {
    "duration": 3449,
    "start_time": "2022-03-03T17:41:42.729Z"
   },
   {
    "duration": 213,
    "start_time": "2022-03-03T17:42:49.439Z"
   },
   {
    "duration": 520,
    "start_time": "2022-03-03T17:43:20.939Z"
   },
   {
    "duration": 20,
    "start_time": "2022-03-03T17:43:33.875Z"
   },
   {
    "duration": 307,
    "start_time": "2022-03-03T17:43:39.491Z"
   },
   {
    "duration": 231,
    "start_time": "2022-03-03T17:44:11.773Z"
   },
   {
    "duration": 247,
    "start_time": "2022-03-03T17:44:32.526Z"
   },
   {
    "duration": 242,
    "start_time": "2022-03-03T17:45:14.194Z"
   },
   {
    "duration": 241,
    "start_time": "2022-03-03T17:45:19.547Z"
   },
   {
    "duration": 1076,
    "start_time": "2022-03-03T17:49:51.690Z"
   },
   {
    "duration": 940,
    "start_time": "2022-03-03T17:50:09.425Z"
   },
   {
    "duration": 1157,
    "start_time": "2022-03-03T17:52:56.192Z"
   },
   {
    "duration": 999,
    "start_time": "2022-03-03T17:53:13.646Z"
   },
   {
    "duration": 896,
    "start_time": "2022-03-03T17:54:00.159Z"
   },
   {
    "duration": 1043,
    "start_time": "2022-03-03T17:54:07.127Z"
   },
   {
    "duration": 1175,
    "start_time": "2022-03-03T17:55:14.081Z"
   },
   {
    "duration": 868,
    "start_time": "2022-03-03T17:56:44.026Z"
   },
   {
    "duration": 904,
    "start_time": "2022-03-03T17:57:18.212Z"
   },
   {
    "duration": 1019,
    "start_time": "2022-03-03T17:57:29.891Z"
   },
   {
    "duration": 1099,
    "start_time": "2022-03-03T18:14:59.691Z"
   },
   {
    "duration": 984,
    "start_time": "2022-03-03T18:15:31.551Z"
   },
   {
    "duration": 940,
    "start_time": "2022-03-03T18:16:00.412Z"
   },
   {
    "duration": 1054,
    "start_time": "2022-03-03T18:19:24.304Z"
   },
   {
    "duration": 1074,
    "start_time": "2022-03-03T18:19:37.283Z"
   },
   {
    "duration": 1055,
    "start_time": "2022-03-03T18:19:50.292Z"
   },
   {
    "duration": 289,
    "start_time": "2022-03-04T08:30:49.936Z"
   },
   {
    "duration": 1323,
    "start_time": "2022-03-04T08:30:57.962Z"
   },
   {
    "duration": 43,
    "start_time": "2022-03-04T08:30:59.287Z"
   },
   {
    "duration": 3,
    "start_time": "2022-03-04T08:30:59.332Z"
   },
   {
    "duration": 30,
    "start_time": "2022-03-04T08:30:59.336Z"
   },
   {
    "duration": 8,
    "start_time": "2022-03-04T08:30:59.368Z"
   },
   {
    "duration": 24,
    "start_time": "2022-03-04T08:30:59.378Z"
   },
   {
    "duration": 6,
    "start_time": "2022-03-04T08:30:59.403Z"
   },
   {
    "duration": 19,
    "start_time": "2022-03-04T08:30:59.411Z"
   },
   {
    "duration": 10,
    "start_time": "2022-03-04T08:30:59.432Z"
   },
   {
    "duration": 22,
    "start_time": "2022-03-04T08:30:59.444Z"
   },
   {
    "duration": 280,
    "start_time": "2022-03-04T08:30:59.467Z"
   },
   {
    "duration": 454,
    "start_time": "2022-03-04T08:30:59.749Z"
   },
   {
    "duration": 7,
    "start_time": "2022-03-04T08:31:00.204Z"
   },
   {
    "duration": 21,
    "start_time": "2022-03-04T08:31:00.213Z"
   },
   {
    "duration": 947,
    "start_time": "2022-03-04T08:31:00.236Z"
   },
   {
    "duration": 279,
    "start_time": "2022-03-04T08:31:01.185Z"
   },
   {
    "duration": 500,
    "start_time": "2022-03-04T08:31:01.466Z"
   },
   {
    "duration": 5,
    "start_time": "2022-03-04T08:31:41.138Z"
   },
   {
    "duration": 4,
    "start_time": "2022-03-04T08:33:41.528Z"
   },
   {
    "duration": 940,
    "start_time": "2022-03-04T08:34:51.741Z"
   },
   {
    "duration": 77,
    "start_time": "2022-03-04T08:37:55.717Z"
   },
   {
    "duration": 6,
    "start_time": "2022-03-04T08:38:04.913Z"
   },
   {
    "duration": 5,
    "start_time": "2022-03-04T08:38:24.497Z"
   },
   {
    "duration": 5,
    "start_time": "2022-03-04T08:38:32.272Z"
   },
   {
    "duration": 4,
    "start_time": "2022-03-04T08:38:42.331Z"
   },
   {
    "duration": 5,
    "start_time": "2022-03-04T08:42:42.583Z"
   },
   {
    "duration": 385,
    "start_time": "2022-03-04T08:42:53.955Z"
   },
   {
    "duration": 4,
    "start_time": "2022-03-04T08:43:31.607Z"
   },
   {
    "duration": 13,
    "start_time": "2022-03-04T08:45:58.926Z"
   },
   {
    "duration": 332,
    "start_time": "2022-03-04T08:46:24.115Z"
   },
   {
    "duration": 13,
    "start_time": "2022-03-04T08:46:42.396Z"
   },
   {
    "duration": 387,
    "start_time": "2022-03-04T08:47:43.114Z"
   },
   {
    "duration": 404,
    "start_time": "2022-03-04T08:48:29.819Z"
   },
   {
    "duration": 378,
    "start_time": "2022-03-04T08:48:45.632Z"
   },
   {
    "duration": 17,
    "start_time": "2022-03-04T08:49:43.034Z"
   },
   {
    "duration": 20,
    "start_time": "2022-03-04T08:49:52.884Z"
   },
   {
    "duration": 13,
    "start_time": "2022-03-04T08:50:15.608Z"
   },
   {
    "duration": 20,
    "start_time": "2022-03-04T08:52:03.051Z"
   },
   {
    "duration": 17,
    "start_time": "2022-03-04T08:52:35.079Z"
   },
   {
    "duration": 23,
    "start_time": "2022-03-04T08:53:36.670Z"
   },
   {
    "duration": 13,
    "start_time": "2022-03-04T08:53:47.734Z"
   },
   {
    "duration": 20,
    "start_time": "2022-03-04T08:53:50.793Z"
   },
   {
    "duration": 853,
    "start_time": "2022-03-04T09:03:27.143Z"
   },
   {
    "duration": 910,
    "start_time": "2022-03-04T09:03:49.582Z"
   },
   {
    "duration": 889,
    "start_time": "2022-03-04T09:04:16.407Z"
   },
   {
    "duration": 1074,
    "start_time": "2022-03-04T09:04:40.172Z"
   },
   {
    "duration": 1036,
    "start_time": "2022-03-04T09:05:17.893Z"
   },
   {
    "duration": 867,
    "start_time": "2022-03-04T09:08:11.643Z"
   },
   {
    "duration": 963,
    "start_time": "2022-03-04T09:08:34.433Z"
   },
   {
    "duration": 446,
    "start_time": "2022-03-04T09:12:28.126Z"
   },
   {
    "duration": 439,
    "start_time": "2022-03-04T09:17:04.462Z"
   },
   {
    "duration": 893,
    "start_time": "2022-03-04T09:17:13.924Z"
   },
   {
    "duration": 938,
    "start_time": "2022-03-04T09:19:18.177Z"
   },
   {
    "duration": 3,
    "start_time": "2022-03-04T09:20:03.739Z"
   },
   {
    "duration": 98,
    "start_time": "2022-03-04T09:22:37.125Z"
   },
   {
    "duration": 6516,
    "start_time": "2022-03-04T09:22:42.324Z"
   },
   {
    "duration": 7,
    "start_time": "2022-03-04T09:23:04.776Z"
   },
   {
    "duration": 21,
    "start_time": "2022-03-04T09:37:46.978Z"
   },
   {
    "duration": 20,
    "start_time": "2022-03-04T09:37:54.142Z"
   },
   {
    "duration": 23,
    "start_time": "2022-03-04T09:38:19.648Z"
   },
   {
    "duration": 363,
    "start_time": "2022-03-04T09:38:43.666Z"
   },
   {
    "duration": 3,
    "start_time": "2022-03-04T09:39:15.018Z"
   },
   {
    "duration": 55,
    "start_time": "2022-03-04T09:39:15.023Z"
   },
   {
    "duration": 3,
    "start_time": "2022-03-04T09:39:15.080Z"
   },
   {
    "duration": 37,
    "start_time": "2022-03-04T09:39:15.085Z"
   },
   {
    "duration": 12,
    "start_time": "2022-03-04T09:39:15.124Z"
   },
   {
    "duration": 13,
    "start_time": "2022-03-04T09:39:15.138Z"
   },
   {
    "duration": 10,
    "start_time": "2022-03-04T09:39:15.153Z"
   },
   {
    "duration": 27,
    "start_time": "2022-03-04T09:39:15.164Z"
   },
   {
    "duration": 8,
    "start_time": "2022-03-04T09:39:15.193Z"
   },
   {
    "duration": 29,
    "start_time": "2022-03-04T09:39:15.202Z"
   },
   {
    "duration": 228,
    "start_time": "2022-03-04T09:39:15.232Z"
   },
   {
    "duration": 453,
    "start_time": "2022-03-04T09:39:15.462Z"
   },
   {
    "duration": 7,
    "start_time": "2022-03-04T09:39:15.917Z"
   },
   {
    "duration": 13,
    "start_time": "2022-03-04T09:39:15.926Z"
   },
   {
    "duration": 921,
    "start_time": "2022-03-04T09:39:15.940Z"
   },
   {
    "duration": 10,
    "start_time": "2022-03-04T09:39:16.862Z"
   },
   {
    "duration": 32,
    "start_time": "2022-03-04T09:39:16.874Z"
   },
   {
    "duration": 914,
    "start_time": "2022-03-04T09:39:16.907Z"
   },
   {
    "duration": 7,
    "start_time": "2022-03-04T09:39:17.823Z"
   },
   {
    "duration": 304,
    "start_time": "2022-03-04T09:39:36.163Z"
   },
   {
    "duration": 22,
    "start_time": "2022-03-04T09:39:59.840Z"
   },
   {
    "duration": 117,
    "start_time": "2022-03-04T09:40:18.434Z"
   },
   {
    "duration": 338,
    "start_time": "2022-03-04T09:41:59.333Z"
   },
   {
    "duration": 3418,
    "start_time": "2022-03-04T09:42:13.801Z"
   },
   {
    "duration": 21,
    "start_time": "2022-03-04T09:42:26.980Z"
   },
   {
    "duration": 34,
    "start_time": "2022-03-04T09:43:38.076Z"
   },
   {
    "duration": 43,
    "start_time": "2022-03-04T09:43:46.374Z"
   },
   {
    "duration": 33,
    "start_time": "2022-03-04T09:44:25.559Z"
   },
   {
    "duration": 140,
    "start_time": "2022-03-04T09:44:54.980Z"
   },
   {
    "duration": 7642,
    "start_time": "2022-03-04T10:21:27.885Z"
   },
   {
    "duration": 6501,
    "start_time": "2022-03-04T10:23:38.286Z"
   },
   {
    "duration": 5869,
    "start_time": "2022-03-04T10:25:49.522Z"
   },
   {
    "duration": 600,
    "start_time": "2022-03-04T10:29:30.545Z"
   },
   {
    "duration": 29750,
    "start_time": "2022-03-04T10:35:13.713Z"
   },
   {
    "duration": 4,
    "start_time": "2022-03-04T10:44:08.076Z"
   },
   {
    "duration": 47,
    "start_time": "2022-03-04T10:44:08.083Z"
   },
   {
    "duration": 3,
    "start_time": "2022-03-04T10:44:08.131Z"
   },
   {
    "duration": 29,
    "start_time": "2022-03-04T10:44:08.136Z"
   },
   {
    "duration": 9,
    "start_time": "2022-03-04T10:44:08.167Z"
   },
   {
    "duration": 30,
    "start_time": "2022-03-04T10:44:08.177Z"
   },
   {
    "duration": 8,
    "start_time": "2022-03-04T10:44:08.209Z"
   },
   {
    "duration": 18,
    "start_time": "2022-03-04T10:44:08.218Z"
   },
   {
    "duration": 6,
    "start_time": "2022-03-04T10:44:08.238Z"
   },
   {
    "duration": 18,
    "start_time": "2022-03-04T10:44:08.247Z"
   },
   {
    "duration": 269,
    "start_time": "2022-03-04T10:44:08.267Z"
   },
   {
    "duration": 467,
    "start_time": "2022-03-04T10:44:08.538Z"
   },
   {
    "duration": 6,
    "start_time": "2022-03-04T10:44:09.007Z"
   },
   {
    "duration": 13,
    "start_time": "2022-03-04T10:44:09.015Z"
   },
   {
    "duration": 934,
    "start_time": "2022-03-04T10:44:09.030Z"
   },
   {
    "duration": 9,
    "start_time": "2022-03-04T10:44:09.966Z"
   },
   {
    "duration": 31,
    "start_time": "2022-03-04T10:44:09.977Z"
   },
   {
    "duration": 900,
    "start_time": "2022-03-04T10:44:10.009Z"
   },
   {
    "duration": 7,
    "start_time": "2022-03-04T10:44:10.911Z"
   },
   {
    "duration": 52,
    "start_time": "2022-03-04T10:44:10.919Z"
   },
   {
    "duration": 4707,
    "start_time": "2022-03-04T10:44:16.335Z"
   },
   {
    "duration": 760,
    "start_time": "2022-03-04T10:45:19.934Z"
   },
   {
    "duration": 14,
    "start_time": "2022-03-04T10:45:33.952Z"
   },
   {
    "duration": 6288,
    "start_time": "2022-03-04T10:49:47.424Z"
   },
   {
    "duration": 1794,
    "start_time": "2022-03-04T10:50:39.672Z"
   },
   {
    "duration": 12,
    "start_time": "2022-03-04T10:51:00.098Z"
   },
   {
    "duration": 8,
    "start_time": "2022-03-04T10:51:52.055Z"
   },
   {
    "duration": 43,
    "start_time": "2022-03-04T10:51:58.526Z"
   },
   {
    "duration": 19,
    "start_time": "2022-03-04T10:54:54.944Z"
   },
   {
    "duration": 19,
    "start_time": "2022-03-04T10:55:42.381Z"
   },
   {
    "duration": 14,
    "start_time": "2022-03-04T10:56:00.528Z"
   },
   {
    "duration": 18,
    "start_time": "2022-03-04T10:56:35.491Z"
   },
   {
    "duration": 1024,
    "start_time": "2022-03-04T10:56:46.080Z"
   },
   {
    "duration": 18,
    "start_time": "2022-03-04T10:57:05.454Z"
   },
   {
    "duration": 21,
    "start_time": "2022-03-04T10:57:54.769Z"
   },
   {
    "duration": 181,
    "start_time": "2022-03-04T10:58:46.908Z"
   },
   {
    "duration": 230,
    "start_time": "2022-03-04T10:59:22.690Z"
   },
   {
    "duration": 7318,
    "start_time": "2022-03-04T11:00:08.888Z"
   },
   {
    "duration": 16,
    "start_time": "2022-03-04T11:00:20.911Z"
   },
   {
    "duration": 7602,
    "start_time": "2022-03-04T11:00:40.440Z"
   },
   {
    "duration": 17743,
    "start_time": "2022-03-04T11:01:03.161Z"
   },
   {
    "duration": 205,
    "start_time": "2022-03-04T11:01:32.101Z"
   },
   {
    "duration": 225,
    "start_time": "2022-03-04T11:02:00.882Z"
   },
   {
    "duration": 19,
    "start_time": "2022-03-04T11:04:55.639Z"
   },
   {
    "duration": 281,
    "start_time": "2022-03-04T11:05:06.514Z"
   },
   {
    "duration": 25,
    "start_time": "2022-03-04T11:06:22.674Z"
   },
   {
    "duration": 422,
    "start_time": "2022-03-04T11:06:26.458Z"
   },
   {
    "duration": 263,
    "start_time": "2022-03-04T11:06:55.280Z"
   },
   {
    "duration": 190,
    "start_time": "2022-03-04T11:07:08.910Z"
   },
   {
    "duration": 200,
    "start_time": "2022-03-04T11:07:39.727Z"
   },
   {
    "duration": 202,
    "start_time": "2022-03-04T11:07:46.292Z"
   },
   {
    "duration": 184,
    "start_time": "2022-03-04T11:09:13.026Z"
   },
   {
    "duration": 270,
    "start_time": "2022-03-04T11:09:32.619Z"
   },
   {
    "duration": 191,
    "start_time": "2022-03-04T11:09:52.528Z"
   },
   {
    "duration": 260,
    "start_time": "2022-03-04T11:10:29.350Z"
   },
   {
    "duration": 313,
    "start_time": "2022-03-04T11:10:55.534Z"
   },
   {
    "duration": 182,
    "start_time": "2022-03-04T11:11:29.174Z"
   },
   {
    "duration": 183,
    "start_time": "2022-03-04T11:12:19.410Z"
   },
   {
    "duration": 183,
    "start_time": "2022-03-04T11:13:12.392Z"
   },
   {
    "duration": 184,
    "start_time": "2022-03-04T11:13:19.222Z"
   },
   {
    "duration": 7,
    "start_time": "2022-03-04T11:14:09.501Z"
   },
   {
    "duration": 254,
    "start_time": "2022-03-04T11:14:26.806Z"
   },
   {
    "duration": 254,
    "start_time": "2022-03-04T11:14:44.903Z"
   },
   {
    "duration": 15,
    "start_time": "2022-03-04T11:14:59.541Z"
   },
   {
    "duration": 6,
    "start_time": "2022-03-04T11:15:40.431Z"
   },
   {
    "duration": 258,
    "start_time": "2022-03-04T11:15:57.287Z"
   },
   {
    "duration": 5,
    "start_time": "2022-03-04T11:16:08.543Z"
   },
   {
    "duration": 5,
    "start_time": "2022-03-04T11:16:21.912Z"
   },
   {
    "duration": 3,
    "start_time": "2022-03-04T11:17:35.090Z"
   },
   {
    "duration": 16,
    "start_time": "2022-03-04T11:19:21.053Z"
   },
   {
    "duration": 568,
    "start_time": "2022-03-04T11:28:58.971Z"
   },
   {
    "duration": 330,
    "start_time": "2022-03-04T11:29:40.601Z"
   },
   {
    "duration": 15,
    "start_time": "2022-03-04T11:30:01.030Z"
   },
   {
    "duration": 4660,
    "start_time": "2022-03-04T11:40:36.688Z"
   },
   {
    "duration": 426,
    "start_time": "2022-03-04T11:41:02.317Z"
   },
   {
    "duration": 280,
    "start_time": "2022-03-04T12:41:24.882Z"
   },
   {
    "duration": 263,
    "start_time": "2022-03-04T13:18:30.334Z"
   },
   {
    "duration": 810,
    "start_time": "2022-03-04T13:19:04.548Z"
   },
   {
    "duration": 1271,
    "start_time": "2022-03-04T13:21:38.173Z"
   },
   {
    "duration": 6,
    "start_time": "2022-03-04T13:22:21.743Z"
   },
   {
    "duration": 11,
    "start_time": "2022-03-04T13:23:45.978Z"
   },
   {
    "duration": 9,
    "start_time": "2022-03-04T13:24:23.368Z"
   },
   {
    "duration": 7,
    "start_time": "2022-03-04T13:26:13.772Z"
   },
   {
    "duration": 12,
    "start_time": "2022-03-04T13:26:22.566Z"
   },
   {
    "duration": 611,
    "start_time": "2022-03-04T13:29:38.097Z"
   },
   {
    "duration": 128,
    "start_time": "2022-03-04T14:08:02.374Z"
   },
   {
    "duration": 7,
    "start_time": "2022-03-04T14:08:43.250Z"
   },
   {
    "duration": 9,
    "start_time": "2022-03-04T14:09:08.892Z"
   },
   {
    "duration": 4,
    "start_time": "2022-03-04T14:09:52.105Z"
   },
   {
    "duration": 61,
    "start_time": "2022-03-04T14:09:52.111Z"
   },
   {
    "duration": 3,
    "start_time": "2022-03-04T14:09:52.174Z"
   },
   {
    "duration": 34,
    "start_time": "2022-03-04T14:09:52.179Z"
   },
   {
    "duration": 9,
    "start_time": "2022-03-04T14:09:52.214Z"
   },
   {
    "duration": 8,
    "start_time": "2022-03-04T14:09:52.224Z"
   },
   {
    "duration": 7,
    "start_time": "2022-03-04T14:09:52.234Z"
   },
   {
    "duration": 17,
    "start_time": "2022-03-04T14:09:52.243Z"
   },
   {
    "duration": 6,
    "start_time": "2022-03-04T14:09:52.263Z"
   },
   {
    "duration": 48,
    "start_time": "2022-03-04T14:09:52.271Z"
   },
   {
    "duration": 233,
    "start_time": "2022-03-04T14:09:52.321Z"
   },
   {
    "duration": 501,
    "start_time": "2022-03-04T14:09:52.556Z"
   },
   {
    "duration": 7,
    "start_time": "2022-03-04T14:09:53.059Z"
   },
   {
    "duration": 24,
    "start_time": "2022-03-04T14:09:53.067Z"
   },
   {
    "duration": 873,
    "start_time": "2022-03-04T14:09:53.093Z"
   },
   {
    "duration": 10,
    "start_time": "2022-03-04T14:09:53.968Z"
   },
   {
    "duration": 33,
    "start_time": "2022-03-04T14:09:53.979Z"
   },
   {
    "duration": 894,
    "start_time": "2022-03-04T14:09:54.013Z"
   },
   {
    "duration": 7,
    "start_time": "2022-03-04T14:09:54.909Z"
   },
   {
    "duration": 300,
    "start_time": "2022-03-04T14:09:54.918Z"
   },
   {
    "duration": 10,
    "start_time": "2022-03-04T14:09:55.209Z"
   },
   {
    "duration": 8,
    "start_time": "2022-03-04T14:09:55.212Z"
   },
   {
    "duration": 8,
    "start_time": "2022-03-04T14:09:55.213Z"
   },
   {
    "duration": 7,
    "start_time": "2022-03-04T14:09:55.215Z"
   },
   {
    "duration": 7,
    "start_time": "2022-03-04T14:09:55.216Z"
   },
   {
    "duration": 6,
    "start_time": "2022-03-04T14:09:55.218Z"
   },
   {
    "duration": 217,
    "start_time": "2022-03-04T14:10:33.232Z"
   },
   {
    "duration": 9,
    "start_time": "2022-03-04T14:10:38.289Z"
   },
   {
    "duration": 15,
    "start_time": "2022-03-04T14:11:17.770Z"
   },
   {
    "duration": 630,
    "start_time": "2022-03-04T14:22:33.606Z"
   },
   {
    "duration": 5,
    "start_time": "2022-03-04T14:23:34.544Z"
   },
   {
    "duration": 85,
    "start_time": "2022-03-04T14:28:24.986Z"
   },
   {
    "duration": 82006,
    "start_time": "2022-03-04T14:28:32.013Z"
   },
   {
    "duration": 3,
    "start_time": "2022-03-04T14:29:54.021Z"
   },
   {
    "duration": 57,
    "start_time": "2022-03-04T14:29:54.027Z"
   },
   {
    "duration": 3,
    "start_time": "2022-03-04T14:29:54.086Z"
   },
   {
    "duration": 28,
    "start_time": "2022-03-04T14:29:54.091Z"
   },
   {
    "duration": 10,
    "start_time": "2022-03-04T14:29:54.121Z"
   },
   {
    "duration": 9,
    "start_time": "2022-03-04T14:29:54.132Z"
   },
   {
    "duration": 7,
    "start_time": "2022-03-04T14:29:54.144Z"
   },
   {
    "duration": 19,
    "start_time": "2022-03-04T14:29:54.153Z"
   },
   {
    "duration": 34,
    "start_time": "2022-03-04T14:29:54.173Z"
   },
   {
    "duration": 21,
    "start_time": "2022-03-04T14:29:54.209Z"
   },
   {
    "duration": 243,
    "start_time": "2022-03-04T14:29:54.232Z"
   },
   {
    "duration": 475,
    "start_time": "2022-03-04T14:29:54.477Z"
   },
   {
    "duration": 8,
    "start_time": "2022-03-04T14:29:54.954Z"
   },
   {
    "duration": 18,
    "start_time": "2022-03-04T14:29:54.964Z"
   },
   {
    "duration": 878,
    "start_time": "2022-03-04T14:29:54.984Z"
   },
   {
    "duration": 12,
    "start_time": "2022-03-04T14:29:55.864Z"
   },
   {
    "duration": 36,
    "start_time": "2022-03-04T14:29:55.877Z"
   },
   {
    "duration": 1035,
    "start_time": "2022-03-04T14:29:55.914Z"
   },
   {
    "duration": 8,
    "start_time": "2022-03-04T14:29:56.951Z"
   },
   {
    "duration": 87,
    "start_time": "2022-03-04T14:29:56.961Z"
   },
   {
    "duration": 7,
    "start_time": "2022-03-04T14:29:57.050Z"
   },
   {
    "duration": 22,
    "start_time": "2022-03-04T14:29:57.060Z"
   },
   {
    "duration": 9,
    "start_time": "2022-03-04T14:30:03.629Z"
   },
   {
    "duration": 368,
    "start_time": "2022-03-04T14:31:14.878Z"
   },
   {
    "duration": 9,
    "start_time": "2022-03-04T14:31:18.227Z"
   },
   {
    "duration": 4,
    "start_time": "2022-03-04T14:31:51.622Z"
   },
   {
    "duration": 48,
    "start_time": "2022-03-04T14:31:51.627Z"
   },
   {
    "duration": 2,
    "start_time": "2022-03-04T14:31:51.677Z"
   },
   {
    "duration": 27,
    "start_time": "2022-03-04T14:31:51.681Z"
   },
   {
    "duration": 9,
    "start_time": "2022-03-04T14:31:51.710Z"
   },
   {
    "duration": 9,
    "start_time": "2022-03-04T14:31:51.720Z"
   },
   {
    "duration": 6,
    "start_time": "2022-03-04T14:31:51.730Z"
   },
   {
    "duration": 18,
    "start_time": "2022-03-04T14:31:51.738Z"
   },
   {
    "duration": 6,
    "start_time": "2022-03-04T14:31:51.758Z"
   },
   {
    "duration": 46,
    "start_time": "2022-03-04T14:31:51.766Z"
   },
   {
    "duration": 246,
    "start_time": "2022-03-04T14:31:51.813Z"
   },
   {
    "duration": 454,
    "start_time": "2022-03-04T14:31:52.061Z"
   },
   {
    "duration": 7,
    "start_time": "2022-03-04T14:31:52.517Z"
   },
   {
    "duration": 14,
    "start_time": "2022-03-04T14:31:52.525Z"
   },
   {
    "duration": 941,
    "start_time": "2022-03-04T14:31:52.540Z"
   },
   {
    "duration": 17,
    "start_time": "2022-03-04T14:31:53.483Z"
   },
   {
    "duration": 20,
    "start_time": "2022-03-04T14:31:53.502Z"
   },
   {
    "duration": 995,
    "start_time": "2022-03-04T14:31:53.523Z"
   },
   {
    "duration": 6,
    "start_time": "2022-03-04T14:31:54.519Z"
   },
   {
    "duration": 85,
    "start_time": "2022-03-04T14:31:54.527Z"
   },
   {
    "duration": 7,
    "start_time": "2022-03-04T14:31:54.614Z"
   },
   {
    "duration": 14,
    "start_time": "2022-03-04T14:31:54.622Z"
   },
   {
    "duration": 206,
    "start_time": "2022-03-04T14:33:21.650Z"
   },
   {
    "duration": 23,
    "start_time": "2022-03-04T14:33:21.835Z"
   },
   {
    "duration": 21,
    "start_time": "2022-03-04T14:33:21.838Z"
   },
   {
    "duration": 18,
    "start_time": "2022-03-04T14:33:21.841Z"
   },
   {
    "duration": 15,
    "start_time": "2022-03-04T14:33:21.845Z"
   },
   {
    "duration": 0,
    "start_time": "2022-03-04T14:33:21.861Z"
   },
   {
    "duration": -4,
    "start_time": "2022-03-04T14:33:21.866Z"
   },
   {
    "duration": -5,
    "start_time": "2022-03-04T14:33:21.867Z"
   },
   {
    "duration": -6,
    "start_time": "2022-03-04T14:33:21.869Z"
   },
   {
    "duration": -6,
    "start_time": "2022-03-04T14:33:21.870Z"
   },
   {
    "duration": -6,
    "start_time": "2022-03-04T14:33:21.871Z"
   },
   {
    "duration": -7,
    "start_time": "2022-03-04T14:33:21.873Z"
   },
   {
    "duration": -8,
    "start_time": "2022-03-04T14:33:21.874Z"
   },
   {
    "duration": -9,
    "start_time": "2022-03-04T14:33:21.876Z"
   },
   {
    "duration": -9,
    "start_time": "2022-03-04T14:33:21.877Z"
   },
   {
    "duration": -38,
    "start_time": "2022-03-04T14:33:21.907Z"
   },
   {
    "duration": -41,
    "start_time": "2022-03-04T14:33:21.911Z"
   },
   {
    "duration": -42,
    "start_time": "2022-03-04T14:33:21.913Z"
   },
   {
    "duration": -44,
    "start_time": "2022-03-04T14:33:21.915Z"
   },
   {
    "duration": -44,
    "start_time": "2022-03-04T14:33:21.916Z"
   },
   {
    "duration": -45,
    "start_time": "2022-03-04T14:33:21.918Z"
   },
   {
    "duration": -47,
    "start_time": "2022-03-04T14:33:21.922Z"
   },
   {
    "duration": -48,
    "start_time": "2022-03-04T14:33:21.923Z"
   },
   {
    "duration": 6,
    "start_time": "2022-03-04T14:33:34.822Z"
   },
   {
    "duration": 7,
    "start_time": "2022-03-04T14:33:37.086Z"
   },
   {
    "duration": 4,
    "start_time": "2022-03-04T14:33:59.679Z"
   },
   {
    "duration": 43,
    "start_time": "2022-03-04T14:33:59.685Z"
   },
   {
    "duration": 3,
    "start_time": "2022-03-04T14:33:59.730Z"
   },
   {
    "duration": 29,
    "start_time": "2022-03-04T14:33:59.734Z"
   },
   {
    "duration": 8,
    "start_time": "2022-03-04T14:33:59.766Z"
   },
   {
    "duration": 25,
    "start_time": "2022-03-04T14:33:59.776Z"
   },
   {
    "duration": 6,
    "start_time": "2022-03-04T14:33:59.802Z"
   },
   {
    "duration": 17,
    "start_time": "2022-03-04T14:33:59.810Z"
   },
   {
    "duration": 6,
    "start_time": "2022-03-04T14:33:59.830Z"
   },
   {
    "duration": 23,
    "start_time": "2022-03-04T14:33:59.838Z"
   },
   {
    "duration": 435,
    "start_time": "2022-03-04T14:33:59.863Z"
   },
   {
    "duration": 432,
    "start_time": "2022-03-04T14:34:00.301Z"
   },
   {
    "duration": 8,
    "start_time": "2022-03-04T14:34:00.734Z"
   },
   {
    "duration": 18,
    "start_time": "2022-03-04T14:34:00.743Z"
   },
   {
    "duration": 912,
    "start_time": "2022-03-04T14:34:00.763Z"
   },
   {
    "duration": 11,
    "start_time": "2022-03-04T14:34:01.676Z"
   },
   {
    "duration": 31,
    "start_time": "2022-03-04T14:34:01.689Z"
   },
   {
    "duration": 917,
    "start_time": "2022-03-04T14:34:01.722Z"
   },
   {
    "duration": 7,
    "start_time": "2022-03-04T14:34:02.640Z"
   },
   {
    "duration": 98,
    "start_time": "2022-03-04T14:34:02.649Z"
   },
   {
    "duration": 9,
    "start_time": "2022-03-04T14:34:02.749Z"
   },
   {
    "duration": 15,
    "start_time": "2022-03-04T14:34:02.760Z"
   },
   {
    "duration": 342,
    "start_time": "2022-03-04T14:34:06.017Z"
   },
   {
    "duration": 9,
    "start_time": "2022-03-04T14:34:09.038Z"
   },
   {
    "duration": 8,
    "start_time": "2022-03-04T14:35:35.152Z"
   },
   {
    "duration": 20,
    "start_time": "2022-03-04T14:35:52.113Z"
   },
   {
    "duration": 8,
    "start_time": "2022-03-04T14:37:25.570Z"
   },
   {
    "duration": 17,
    "start_time": "2022-03-04T14:37:39.952Z"
   },
   {
    "duration": 23,
    "start_time": "2022-03-04T14:41:22.251Z"
   },
   {
    "duration": 213,
    "start_time": "2022-03-04T14:41:29.729Z"
   },
   {
    "duration": 1013,
    "start_time": "2022-03-04T14:41:37.162Z"
   },
   {
    "duration": 9,
    "start_time": "2022-03-04T14:41:41.375Z"
   },
   {
    "duration": 8,
    "start_time": "2022-03-04T14:41:45.530Z"
   },
   {
    "duration": 13,
    "start_time": "2022-03-04T14:41:52.418Z"
   },
   {
    "duration": 669,
    "start_time": "2022-03-04T14:57:22.828Z"
   },
   {
    "duration": 6156,
    "start_time": "2022-03-04T15:00:05.858Z"
   },
   {
    "duration": 16,
    "start_time": "2022-03-04T15:00:22.517Z"
   },
   {
    "duration": 19,
    "start_time": "2022-03-04T15:03:02.483Z"
   },
   {
    "duration": 108,
    "start_time": "2022-03-04T15:05:45.821Z"
   },
   {
    "duration": 104,
    "start_time": "2022-03-04T15:06:31.677Z"
   },
   {
    "duration": 783,
    "start_time": "2022-03-04T15:08:11.226Z"
   },
   {
    "duration": 17,
    "start_time": "2022-03-04T15:08:14.552Z"
   },
   {
    "duration": 274,
    "start_time": "2022-03-04T15:08:18.809Z"
   },
   {
    "duration": 655,
    "start_time": "2022-03-04T15:10:55.799Z"
   },
   {
    "duration": 16,
    "start_time": "2022-03-04T15:10:58.667Z"
   },
   {
    "duration": 102,
    "start_time": "2022-03-04T15:11:02.353Z"
   },
   {
    "duration": 105,
    "start_time": "2022-03-04T15:13:20.615Z"
   },
   {
    "duration": 101,
    "start_time": "2022-03-04T15:13:26.083Z"
   },
   {
    "duration": 81,
    "start_time": "2022-03-04T15:13:38.339Z"
   },
   {
    "duration": 134,
    "start_time": "2022-03-04T15:13:44.531Z"
   },
   {
    "duration": 106,
    "start_time": "2022-03-04T15:13:58.811Z"
   },
   {
    "duration": 292,
    "start_time": "2022-03-04T15:14:06.567Z"
   },
   {
    "duration": 105,
    "start_time": "2022-03-04T15:14:54.795Z"
   },
   {
    "duration": 104,
    "start_time": "2022-03-04T15:15:03.552Z"
   },
   {
    "duration": 102,
    "start_time": "2022-03-04T15:15:16.603Z"
   },
   {
    "duration": 108,
    "start_time": "2022-03-04T15:15:28.119Z"
   },
   {
    "duration": 708,
    "start_time": "2022-03-04T15:17:41.448Z"
   },
   {
    "duration": 17,
    "start_time": "2022-03-04T15:17:45.462Z"
   },
   {
    "duration": 723,
    "start_time": "2022-03-04T15:19:40.585Z"
   },
   {
    "duration": 16,
    "start_time": "2022-03-04T15:19:42.884Z"
   },
   {
    "duration": 700,
    "start_time": "2022-03-04T15:20:58.445Z"
   },
   {
    "duration": 17,
    "start_time": "2022-03-04T15:20:59.415Z"
   },
   {
    "duration": 106,
    "start_time": "2022-03-04T15:21:01.817Z"
   },
   {
    "duration": 2994,
    "start_time": "2022-03-04T15:22:30.271Z"
   },
   {
    "duration": 117,
    "start_time": "2022-03-04T15:22:53.526Z"
   },
   {
    "duration": 270,
    "start_time": "2022-03-04T15:23:31.149Z"
   },
   {
    "duration": 334,
    "start_time": "2022-03-04T15:30:57.396Z"
   },
   {
    "duration": 693,
    "start_time": "2022-03-04T15:32:52.023Z"
   },
   {
    "duration": 17,
    "start_time": "2022-03-04T15:32:53.252Z"
   },
   {
    "duration": 702,
    "start_time": "2022-03-04T15:39:18.838Z"
   },
   {
    "duration": 17,
    "start_time": "2022-03-04T15:39:21.013Z"
   },
   {
    "duration": 715,
    "start_time": "2022-03-04T15:49:37.045Z"
   },
   {
    "duration": 16,
    "start_time": "2022-03-04T15:49:38.152Z"
   },
   {
    "duration": 103,
    "start_time": "2022-03-04T15:49:47.046Z"
   },
   {
    "duration": 943,
    "start_time": "2022-03-04T16:21:36.229Z"
   },
   {
    "duration": 17,
    "start_time": "2022-03-04T16:21:38.176Z"
   },
   {
    "duration": 708,
    "start_time": "2022-03-04T16:21:46.424Z"
   },
   {
    "duration": 16,
    "start_time": "2022-03-04T16:21:48.605Z"
   },
   {
    "duration": 770,
    "start_time": "2022-03-04T16:31:38.732Z"
   },
   {
    "duration": 16,
    "start_time": "2022-03-04T16:31:41.092Z"
   },
   {
    "duration": 106,
    "start_time": "2022-03-04T16:31:44.021Z"
   },
   {
    "duration": 263,
    "start_time": "2022-03-04T16:34:04.570Z"
   },
   {
    "duration": 10,
    "start_time": "2022-03-04T16:34:36.510Z"
   },
   {
    "duration": 16,
    "start_time": "2022-03-04T16:35:45.299Z"
   },
   {
    "duration": 104,
    "start_time": "2022-03-04T16:36:33.304Z"
   },
   {
    "duration": 251,
    "start_time": "2022-03-04T16:37:09.822Z"
   },
   {
    "duration": 109,
    "start_time": "2022-03-04T16:38:44.288Z"
   },
   {
    "duration": 286,
    "start_time": "2022-03-04T16:39:21.739Z"
   },
   {
    "duration": 81,
    "start_time": "2022-03-04T16:39:46.365Z"
   },
   {
    "duration": 107,
    "start_time": "2022-03-04T16:40:07.868Z"
   },
   {
    "duration": 108,
    "start_time": "2022-03-04T16:40:13.460Z"
   },
   {
    "duration": 112,
    "start_time": "2022-03-04T16:40:17.496Z"
   },
   {
    "duration": 115,
    "start_time": "2022-03-04T16:40:27.743Z"
   },
   {
    "duration": 105,
    "start_time": "2022-03-04T16:40:40.962Z"
   },
   {
    "duration": 303,
    "start_time": "2022-03-04T16:40:51.679Z"
   },
   {
    "duration": 18,
    "start_time": "2022-03-04T16:44:03.702Z"
   },
   {
    "duration": 6,
    "start_time": "2022-03-04T16:46:45.054Z"
   },
   {
    "duration": 9,
    "start_time": "2022-03-04T16:46:50.339Z"
   },
   {
    "duration": 107,
    "start_time": "2022-03-04T16:46:52.236Z"
   },
   {
    "duration": 1901,
    "start_time": "2022-03-05T08:18:55.323Z"
   },
   {
    "duration": 67,
    "start_time": "2022-03-05T08:18:57.227Z"
   },
   {
    "duration": 4,
    "start_time": "2022-03-05T08:18:57.296Z"
   },
   {
    "duration": 46,
    "start_time": "2022-03-05T08:18:57.303Z"
   },
   {
    "duration": 14,
    "start_time": "2022-03-05T08:18:57.351Z"
   },
   {
    "duration": 11,
    "start_time": "2022-03-05T08:18:57.368Z"
   },
   {
    "duration": 10,
    "start_time": "2022-03-05T08:18:57.382Z"
   },
   {
    "duration": 63,
    "start_time": "2022-03-05T08:18:57.395Z"
   },
   {
    "duration": 10,
    "start_time": "2022-03-05T08:18:57.462Z"
   },
   {
    "duration": 60,
    "start_time": "2022-03-05T08:18:57.477Z"
   },
   {
    "duration": 415,
    "start_time": "2022-03-05T08:18:57.540Z"
   },
   {
    "duration": 642,
    "start_time": "2022-03-05T08:18:57.957Z"
   },
   {
    "duration": 10,
    "start_time": "2022-03-05T08:18:58.601Z"
   },
   {
    "duration": 38,
    "start_time": "2022-03-05T08:18:58.613Z"
   },
   {
    "duration": 1482,
    "start_time": "2022-03-05T08:18:58.653Z"
   },
   {
    "duration": 18,
    "start_time": "2022-03-05T08:19:00.138Z"
   },
   {
    "duration": 38,
    "start_time": "2022-03-05T08:19:00.159Z"
   },
   {
    "duration": 1681,
    "start_time": "2022-03-05T08:19:00.199Z"
   },
   {
    "duration": 10,
    "start_time": "2022-03-05T08:19:01.882Z"
   },
   {
    "duration": 227,
    "start_time": "2022-03-05T08:19:01.895Z"
   },
   {
    "duration": 11,
    "start_time": "2022-03-05T08:19:02.132Z"
   },
   {
    "duration": 21,
    "start_time": "2022-03-05T08:19:02.145Z"
   },
   {
    "duration": 582,
    "start_time": "2022-03-05T08:19:02.169Z"
   },
   {
    "duration": 10,
    "start_time": "2022-03-05T08:19:02.753Z"
   },
   {
    "duration": 9,
    "start_time": "2022-03-05T08:19:02.765Z"
   },
   {
    "duration": 57,
    "start_time": "2022-03-05T08:19:02.777Z"
   },
   {
    "duration": 28,
    "start_time": "2022-03-05T08:19:02.838Z"
   },
   {
    "duration": 33,
    "start_time": "2022-03-05T08:19:02.869Z"
   },
   {
    "duration": 379,
    "start_time": "2022-03-05T08:19:02.904Z"
   },
   {
    "duration": 1433,
    "start_time": "2022-03-05T08:19:03.286Z"
   },
   {
    "duration": 9,
    "start_time": "2022-03-05T08:19:04.722Z"
   },
   {
    "duration": 14,
    "start_time": "2022-03-05T08:19:04.733Z"
   },
   {
    "duration": 841,
    "start_time": "2022-03-05T08:19:11.932Z"
   },
   {
    "duration": 191,
    "start_time": "2022-03-05T08:20:07.990Z"
   },
   {
    "duration": 88,
    "start_time": "2022-03-05T08:23:05.750Z"
   },
   {
    "duration": 11,
    "start_time": "2022-03-05T08:23:15.580Z"
   },
   {
    "duration": 99,
    "start_time": "2022-03-05T08:24:35.267Z"
   },
   {
    "duration": 32,
    "start_time": "2022-03-05T08:24:44.163Z"
   },
   {
    "duration": 3,
    "start_time": "2022-03-05T08:27:11.223Z"
   },
   {
    "duration": 30,
    "start_time": "2022-03-05T08:33:29.886Z"
   },
   {
    "duration": 10,
    "start_time": "2022-03-05T08:34:13.319Z"
   },
   {
    "duration": 23,
    "start_time": "2022-03-05T08:34:24.773Z"
   },
   {
    "duration": 702,
    "start_time": "2022-03-05T08:41:44.115Z"
   },
   {
    "duration": 28,
    "start_time": "2022-03-05T08:42:03.691Z"
   },
   {
    "duration": 11,
    "start_time": "2022-03-05T08:45:06.246Z"
   },
   {
    "duration": 11,
    "start_time": "2022-03-05T08:45:24.511Z"
   },
   {
    "duration": 18,
    "start_time": "2022-03-05T08:45:31.033Z"
   },
   {
    "duration": 19,
    "start_time": "2022-03-05T08:46:09.086Z"
   },
   {
    "duration": 31,
    "start_time": "2022-03-05T08:51:20.108Z"
   },
   {
    "duration": 28,
    "start_time": "2022-03-05T08:51:48.267Z"
   },
   {
    "duration": 29,
    "start_time": "2022-03-05T08:52:03.114Z"
   },
   {
    "duration": 555,
    "start_time": "2022-03-05T08:52:55.749Z"
   },
   {
    "duration": 5,
    "start_time": "2022-03-05T08:53:58.320Z"
   },
   {
    "duration": 60,
    "start_time": "2022-03-05T08:53:58.328Z"
   },
   {
    "duration": 4,
    "start_time": "2022-03-05T08:53:58.390Z"
   },
   {
    "duration": 47,
    "start_time": "2022-03-05T08:53:58.398Z"
   },
   {
    "duration": 14,
    "start_time": "2022-03-05T08:53:58.448Z"
   },
   {
    "duration": 13,
    "start_time": "2022-03-05T08:53:58.465Z"
   },
   {
    "duration": 16,
    "start_time": "2022-03-05T08:53:58.480Z"
   },
   {
    "duration": 61,
    "start_time": "2022-03-05T08:53:58.499Z"
   },
   {
    "duration": 11,
    "start_time": "2022-03-05T08:53:58.564Z"
   },
   {
    "duration": 59,
    "start_time": "2022-03-05T08:53:58.578Z"
   },
   {
    "duration": 416,
    "start_time": "2022-03-05T08:53:58.639Z"
   },
   {
    "duration": 656,
    "start_time": "2022-03-05T08:53:59.057Z"
   },
   {
    "duration": 20,
    "start_time": "2022-03-05T08:53:59.715Z"
   },
   {
    "duration": 23,
    "start_time": "2022-03-05T08:53:59.737Z"
   },
   {
    "duration": 1477,
    "start_time": "2022-03-05T08:53:59.762Z"
   },
   {
    "duration": 17,
    "start_time": "2022-03-05T08:54:01.242Z"
   },
   {
    "duration": 69,
    "start_time": "2022-03-05T08:54:01.262Z"
   },
   {
    "duration": 1511,
    "start_time": "2022-03-05T08:54:01.334Z"
   },
   {
    "duration": 10,
    "start_time": "2022-03-05T08:54:02.847Z"
   },
   {
    "duration": 290,
    "start_time": "2022-03-05T08:54:02.860Z"
   },
   {
    "duration": 11,
    "start_time": "2022-03-05T08:54:03.152Z"
   },
   {
    "duration": 23,
    "start_time": "2022-03-05T08:54:03.165Z"
   },
   {
    "duration": 479,
    "start_time": "2022-03-05T08:54:03.190Z"
   },
   {
    "duration": 10,
    "start_time": "2022-03-05T08:54:03.672Z"
   },
   {
    "duration": 14,
    "start_time": "2022-03-05T08:54:03.685Z"
   },
   {
    "duration": 49,
    "start_time": "2022-03-05T08:54:03.701Z"
   },
   {
    "duration": 26,
    "start_time": "2022-03-05T08:54:03.755Z"
   },
   {
    "duration": 66,
    "start_time": "2022-03-05T08:54:03.784Z"
   },
   {
    "duration": 362,
    "start_time": "2022-03-05T08:54:03.853Z"
   },
   {
    "duration": 1324,
    "start_time": "2022-03-05T08:54:04.218Z"
   },
   {
    "duration": 10,
    "start_time": "2022-03-05T08:54:05.544Z"
   },
   {
    "duration": 16,
    "start_time": "2022-03-05T08:54:05.556Z"
   },
   {
    "duration": 196,
    "start_time": "2022-03-05T08:54:05.574Z"
   },
   {
    "duration": 30,
    "start_time": "2022-03-05T08:54:05.773Z"
   },
   {
    "duration": 39,
    "start_time": "2022-03-05T08:54:05.805Z"
   },
   {
    "duration": 310,
    "start_time": "2022-03-05T08:54:12.344Z"
   },
   {
    "duration": 325,
    "start_time": "2022-03-05T08:54:30.992Z"
   },
   {
    "duration": 30,
    "start_time": "2022-03-05T08:54:45.624Z"
   },
   {
    "duration": 34,
    "start_time": "2022-03-05T08:55:41.125Z"
   },
   {
    "duration": 33,
    "start_time": "2022-03-05T08:55:46.655Z"
   },
   {
    "duration": 34,
    "start_time": "2022-03-05T08:55:55.461Z"
   },
   {
    "duration": 34,
    "start_time": "2022-03-05T08:55:59.454Z"
   },
   {
    "duration": 46,
    "start_time": "2022-03-05T08:58:45.957Z"
   },
   {
    "duration": 37,
    "start_time": "2022-03-05T09:02:10.052Z"
   },
   {
    "duration": 1331,
    "start_time": "2022-03-05T09:04:35.268Z"
   },
   {
    "duration": 386,
    "start_time": "2022-03-05T09:06:51.848Z"
   },
   {
    "duration": 735,
    "start_time": "2022-03-05T09:08:07.225Z"
   },
   {
    "duration": 422,
    "start_time": "2022-03-05T09:08:15.510Z"
   },
   {
    "duration": 579,
    "start_time": "2022-03-05T09:09:06.813Z"
   },
   {
    "duration": 396,
    "start_time": "2022-03-05T09:09:20.943Z"
   },
   {
    "duration": 602,
    "start_time": "2022-03-05T09:10:20.857Z"
   },
   {
    "duration": 406,
    "start_time": "2022-03-05T09:10:28.426Z"
   },
   {
    "duration": 27,
    "start_time": "2022-03-05T09:14:25.583Z"
   },
   {
    "duration": 797,
    "start_time": "2022-03-05T09:16:02.669Z"
   },
   {
    "duration": 812,
    "start_time": "2022-03-05T09:16:35.656Z"
   },
   {
    "duration": 369,
    "start_time": "2022-03-05T09:39:11.006Z"
   },
   {
    "duration": 5,
    "start_time": "2022-03-05T09:39:49.587Z"
   },
   {
    "duration": 17,
    "start_time": "2022-03-05T09:39:58.766Z"
   },
   {
    "duration": 16,
    "start_time": "2022-03-05T09:50:30.740Z"
   },
   {
    "duration": 137,
    "start_time": "2022-03-05T09:54:21.271Z"
   },
   {
    "duration": 132,
    "start_time": "2022-03-05T09:54:32.110Z"
   },
   {
    "duration": 15,
    "start_time": "2022-03-05T09:56:04.339Z"
   },
   {
    "duration": 22,
    "start_time": "2022-03-05T09:56:11.066Z"
   },
   {
    "duration": 296,
    "start_time": "2022-03-05T09:56:26.793Z"
   },
   {
    "duration": 316,
    "start_time": "2022-03-05T09:56:36.521Z"
   },
   {
    "duration": 22,
    "start_time": "2022-03-05T09:56:41.042Z"
   },
   {
    "duration": 688,
    "start_time": "2022-03-05T09:57:19.335Z"
   },
   {
    "duration": 129,
    "start_time": "2022-03-05T09:57:41.092Z"
   },
   {
    "duration": 128,
    "start_time": "2022-03-05T09:57:48.877Z"
   },
   {
    "duration": 155,
    "start_time": "2022-03-05T09:58:26.401Z"
   },
   {
    "duration": 450,
    "start_time": "2022-03-05T09:59:37.476Z"
   },
   {
    "duration": 225,
    "start_time": "2022-03-05T09:59:46.847Z"
   },
   {
    "duration": 14,
    "start_time": "2022-03-05T10:04:18.503Z"
   },
   {
    "duration": 303,
    "start_time": "2022-03-05T10:07:33.505Z"
   },
   {
    "duration": 14,
    "start_time": "2022-03-05T10:07:42.017Z"
   },
   {
    "duration": 496,
    "start_time": "2022-03-05T10:11:54.187Z"
   },
   {
    "duration": 290,
    "start_time": "2022-03-05T10:12:15.824Z"
   },
   {
    "duration": 300,
    "start_time": "2022-03-05T10:12:25.489Z"
   },
   {
    "duration": 309,
    "start_time": "2022-03-05T10:13:45.815Z"
   },
   {
    "duration": 304,
    "start_time": "2022-03-05T10:13:58.229Z"
   },
   {
    "duration": 15,
    "start_time": "2022-03-05T10:14:10.103Z"
   },
   {
    "duration": 108,
    "start_time": "2022-03-05T10:14:26.152Z"
   },
   {
    "duration": 18,
    "start_time": "2022-03-05T10:14:33.304Z"
   },
   {
    "duration": 19,
    "start_time": "2022-03-05T10:14:48.717Z"
   },
   {
    "duration": 12048,
    "start_time": "2022-03-05T10:36:05.266Z"
   },
   {
    "duration": 8979,
    "start_time": "2022-03-05T10:36:25.513Z"
   },
   {
    "duration": 6964,
    "start_time": "2022-03-05T10:37:18.872Z"
   },
   {
    "duration": 7613,
    "start_time": "2022-03-05T10:37:30.459Z"
   },
   {
    "duration": 23,
    "start_time": "2022-03-05T10:37:56.513Z"
   },
   {
    "duration": 21,
    "start_time": "2022-03-05T10:38:27.973Z"
   },
   {
    "duration": 16,
    "start_time": "2022-03-05T10:38:52.753Z"
   },
   {
    "duration": 22,
    "start_time": "2022-03-05T10:38:56.023Z"
   },
   {
    "duration": 209,
    "start_time": "2022-03-05T10:38:58.834Z"
   },
   {
    "duration": 218,
    "start_time": "2022-03-05T10:39:06.041Z"
   },
   {
    "duration": 227,
    "start_time": "2022-03-05T10:39:22.883Z"
   },
   {
    "duration": 18,
    "start_time": "2022-03-05T10:39:41.332Z"
   },
   {
    "duration": 10562,
    "start_time": "2022-03-05T10:40:29.455Z"
   },
   {
    "duration": 330,
    "start_time": "2022-03-05T10:41:14.559Z"
   },
   {
    "duration": 5,
    "start_time": "2022-03-05T10:41:20.393Z"
   },
   {
    "duration": 8147,
    "start_time": "2022-03-05T10:41:37.166Z"
   },
   {
    "duration": 305,
    "start_time": "2022-03-05T10:42:04.891Z"
   },
   {
    "duration": 7058,
    "start_time": "2022-03-05T10:42:38.366Z"
   },
   {
    "duration": 307,
    "start_time": "2022-03-05T10:42:52.717Z"
   },
   {
    "duration": 7265,
    "start_time": "2022-03-05T10:43:11.862Z"
   },
   {
    "duration": 304,
    "start_time": "2022-03-05T10:43:27.884Z"
   },
   {
    "duration": 8,
    "start_time": "2022-03-05T10:43:41.060Z"
   },
   {
    "duration": 8,
    "start_time": "2022-03-05T10:43:49.664Z"
   },
   {
    "duration": 10,
    "start_time": "2022-03-05T10:43:58.060Z"
   },
   {
    "duration": 9,
    "start_time": "2022-03-05T10:44:06.661Z"
   },
   {
    "duration": 8,
    "start_time": "2022-03-05T10:44:19.606Z"
   },
   {
    "duration": 5,
    "start_time": "2022-03-05T10:44:32.967Z"
   },
   {
    "duration": 160,
    "start_time": "2022-03-05T10:44:46.921Z"
   },
   {
    "duration": 159,
    "start_time": "2022-03-05T10:45:17.363Z"
   },
   {
    "duration": 28,
    "start_time": "2022-03-05T10:56:46.480Z"
   },
   {
    "duration": 2130,
    "start_time": "2022-03-06T13:24:42.086Z"
   },
   {
    "duration": 78,
    "start_time": "2022-03-06T13:24:44.221Z"
   },
   {
    "duration": 6,
    "start_time": "2022-03-06T13:24:44.303Z"
   },
   {
    "duration": 76,
    "start_time": "2022-03-06T13:24:44.311Z"
   },
   {
    "duration": 16,
    "start_time": "2022-03-06T13:24:44.389Z"
   },
   {
    "duration": 23,
    "start_time": "2022-03-06T13:24:44.407Z"
   },
   {
    "duration": 55,
    "start_time": "2022-03-06T13:24:44.432Z"
   },
   {
    "duration": 256,
    "start_time": "2022-03-06T13:24:44.491Z"
   },
   {
    "duration": 32,
    "start_time": "2022-03-06T13:24:44.752Z"
   },
   {
    "duration": 193,
    "start_time": "2022-03-06T13:24:44.787Z"
   },
   {
    "duration": 38,
    "start_time": "2022-03-06T13:24:44.983Z"
   },
   {
    "duration": 13,
    "start_time": "2022-03-06T13:24:45.024Z"
   },
   {
    "duration": 63,
    "start_time": "2022-03-06T13:24:45.040Z"
   },
   {
    "duration": 451,
    "start_time": "2022-03-06T13:24:45.105Z"
   },
   {
    "duration": 634,
    "start_time": "2022-03-06T13:24:45.559Z"
   },
   {
    "duration": 11,
    "start_time": "2022-03-06T13:24:46.195Z"
   },
   {
    "duration": 33,
    "start_time": "2022-03-06T13:24:46.209Z"
   },
   {
    "duration": 1580,
    "start_time": "2022-03-06T13:24:46.245Z"
   },
   {
    "duration": 19,
    "start_time": "2022-03-06T13:24:47.829Z"
   },
   {
    "duration": 56,
    "start_time": "2022-03-06T13:24:47.852Z"
   },
   {
    "duration": 1534,
    "start_time": "2022-03-06T13:24:47.911Z"
   },
   {
    "duration": 35,
    "start_time": "2022-03-06T13:24:49.448Z"
   },
   {
    "duration": 12,
    "start_time": "2022-03-06T13:24:49.490Z"
   },
   {
    "duration": 154,
    "start_time": "2022-03-06T13:24:49.505Z"
   },
   {
    "duration": 16,
    "start_time": "2022-03-06T13:24:49.662Z"
   },
   {
    "duration": 22,
    "start_time": "2022-03-06T13:24:49.681Z"
   },
   {
    "duration": 520,
    "start_time": "2022-03-06T13:24:49.706Z"
   },
   {
    "duration": 9,
    "start_time": "2022-03-06T13:24:50.229Z"
   },
   {
    "duration": 15,
    "start_time": "2022-03-06T13:24:50.241Z"
   },
   {
    "duration": 43,
    "start_time": "2022-03-06T13:24:50.259Z"
   },
   {
    "duration": 28,
    "start_time": "2022-03-06T13:24:50.304Z"
   },
   {
    "duration": 64,
    "start_time": "2022-03-06T13:24:50.334Z"
   },
   {
    "duration": 479,
    "start_time": "2022-03-06T13:24:50.401Z"
   },
   {
    "duration": 1274,
    "start_time": "2022-03-06T13:24:50.882Z"
   },
   {
    "duration": 10,
    "start_time": "2022-03-06T13:24:52.159Z"
   },
   {
    "duration": 35,
    "start_time": "2022-03-06T13:24:52.171Z"
   },
   {
    "duration": 891,
    "start_time": "2022-03-06T13:24:52.209Z"
   },
   {
    "duration": 79,
    "start_time": "2022-03-06T13:24:53.102Z"
   },
   {
    "duration": 20,
    "start_time": "2022-03-06T13:24:53.183Z"
   },
   {
    "duration": 89,
    "start_time": "2022-03-06T13:24:53.206Z"
   },
   {
    "duration": 540,
    "start_time": "2022-03-06T13:24:53.297Z"
   },
   {
    "duration": 44,
    "start_time": "2022-03-06T13:24:53.840Z"
   },
   {
    "duration": 830,
    "start_time": "2022-03-06T13:24:53.886Z"
   },
   {
    "duration": 189,
    "start_time": "2022-03-06T13:28:03.806Z"
   },
   {
    "duration": 783,
    "start_time": "2022-03-06T13:30:31.837Z"
   },
   {
    "duration": 6,
    "start_time": "2022-03-06T13:31:12.968Z"
   },
   {
    "duration": 99,
    "start_time": "2022-03-06T13:31:12.977Z"
   },
   {
    "duration": 4,
    "start_time": "2022-03-06T13:31:13.080Z"
   },
   {
    "duration": 48,
    "start_time": "2022-03-06T13:31:13.087Z"
   },
   {
    "duration": 54,
    "start_time": "2022-03-06T13:31:13.139Z"
   },
   {
    "duration": 33,
    "start_time": "2022-03-06T13:31:13.196Z"
   },
   {
    "duration": 49,
    "start_time": "2022-03-06T13:31:13.231Z"
   },
   {
    "duration": 269,
    "start_time": "2022-03-06T13:31:13.284Z"
   },
   {
    "duration": 29,
    "start_time": "2022-03-06T13:31:13.556Z"
   },
   {
    "duration": 184,
    "start_time": "2022-03-06T13:31:13.588Z"
   },
   {
    "duration": 30,
    "start_time": "2022-03-06T13:31:13.776Z"
   },
   {
    "duration": 12,
    "start_time": "2022-03-06T13:31:13.808Z"
   },
   {
    "duration": 65,
    "start_time": "2022-03-06T13:31:13.822Z"
   },
   {
    "duration": 432,
    "start_time": "2022-03-06T13:31:13.889Z"
   },
   {
    "duration": 670,
    "start_time": "2022-03-06T13:31:14.323Z"
   },
   {
    "duration": 13,
    "start_time": "2022-03-06T13:31:14.995Z"
   },
   {
    "duration": 30,
    "start_time": "2022-03-06T13:31:15.010Z"
   },
   {
    "duration": 1685,
    "start_time": "2022-03-06T13:31:15.042Z"
   },
   {
    "duration": 24,
    "start_time": "2022-03-06T13:31:16.729Z"
   },
   {
    "duration": 50,
    "start_time": "2022-03-06T13:31:16.756Z"
   },
   {
    "duration": 1524,
    "start_time": "2022-03-06T13:31:16.808Z"
   },
   {
    "duration": 18,
    "start_time": "2022-03-06T13:31:18.334Z"
   },
   {
    "duration": 11,
    "start_time": "2022-03-06T13:31:18.377Z"
   },
   {
    "duration": 160,
    "start_time": "2022-03-06T13:31:18.393Z"
   },
   {
    "duration": 25,
    "start_time": "2022-03-06T13:31:18.556Z"
   },
   {
    "duration": 36,
    "start_time": "2022-03-06T13:31:18.583Z"
   },
   {
    "duration": 538,
    "start_time": "2022-03-06T13:31:18.621Z"
   },
   {
    "duration": 18,
    "start_time": "2022-03-06T13:31:19.162Z"
   },
   {
    "duration": 14,
    "start_time": "2022-03-06T13:31:19.183Z"
   },
   {
    "duration": 31,
    "start_time": "2022-03-06T13:31:19.200Z"
   },
   {
    "duration": 64,
    "start_time": "2022-03-06T13:31:19.233Z"
   },
   {
    "duration": 57,
    "start_time": "2022-03-06T13:31:19.300Z"
   },
   {
    "duration": 377,
    "start_time": "2022-03-06T13:31:19.360Z"
   },
   {
    "duration": 1348,
    "start_time": "2022-03-06T13:31:19.739Z"
   },
   {
    "duration": 13,
    "start_time": "2022-03-06T13:31:21.089Z"
   },
   {
    "duration": 25,
    "start_time": "2022-03-06T13:31:21.104Z"
   },
   {
    "duration": 205,
    "start_time": "2022-03-06T13:31:21.132Z"
   },
   {
    "duration": 47,
    "start_time": "2022-03-06T13:31:21.340Z"
   },
   {
    "duration": 20,
    "start_time": "2022-03-06T13:31:21.390Z"
   },
   {
    "duration": 63,
    "start_time": "2022-03-06T13:31:21.413Z"
   },
   {
    "duration": 433,
    "start_time": "2022-03-06T13:31:21.479Z"
   },
   {
    "duration": 32,
    "start_time": "2022-03-06T13:31:21.914Z"
   },
   {
    "duration": 850,
    "start_time": "2022-03-06T13:31:21.948Z"
   },
   {
    "duration": 102,
    "start_time": "2022-03-06T13:32:29.201Z"
   },
   {
    "duration": 91,
    "start_time": "2022-03-06T13:32:33.193Z"
   },
   {
    "duration": 9,
    "start_time": "2022-03-06T13:32:37.456Z"
   },
   {
    "duration": 837,
    "start_time": "2022-03-06T13:37:34.570Z"
   },
   {
    "duration": 822,
    "start_time": "2022-03-06T13:37:43.707Z"
   },
   {
    "duration": 620,
    "start_time": "2022-03-06T13:43:05.397Z"
   },
   {
    "duration": 344,
    "start_time": "2022-03-06T13:43:15.990Z"
   },
   {
    "duration": 32,
    "start_time": "2022-03-06T13:43:21.704Z"
   },
   {
    "duration": 34,
    "start_time": "2022-03-06T13:46:18.645Z"
   },
   {
    "duration": 35,
    "start_time": "2022-03-06T13:46:33.688Z"
   },
   {
    "duration": 16,
    "start_time": "2022-03-06T13:52:04.970Z"
   },
   {
    "duration": 5,
    "start_time": "2022-03-06T13:53:08.053Z"
   },
   {
    "duration": 66,
    "start_time": "2022-03-06T13:53:08.061Z"
   },
   {
    "duration": 4,
    "start_time": "2022-03-06T13:53:08.130Z"
   },
   {
    "duration": 80,
    "start_time": "2022-03-06T13:53:08.138Z"
   },
   {
    "duration": 17,
    "start_time": "2022-03-06T13:53:08.221Z"
   },
   {
    "duration": 46,
    "start_time": "2022-03-06T13:53:08.274Z"
   },
   {
    "duration": 23,
    "start_time": "2022-03-06T13:53:08.323Z"
   },
   {
    "duration": 259,
    "start_time": "2022-03-06T13:53:08.349Z"
   },
   {
    "duration": 21,
    "start_time": "2022-03-06T13:53:08.614Z"
   },
   {
    "duration": 368,
    "start_time": "2022-03-06T13:53:08.639Z"
   },
   {
    "duration": 31,
    "start_time": "2022-03-06T13:53:09.010Z"
   },
   {
    "duration": 12,
    "start_time": "2022-03-06T13:53:09.043Z"
   },
   {
    "duration": 54,
    "start_time": "2022-03-06T13:53:09.057Z"
   },
   {
    "duration": 437,
    "start_time": "2022-03-06T13:53:09.114Z"
   },
   {
    "duration": 1148,
    "start_time": "2022-03-06T13:53:09.554Z"
   },
   {
    "duration": 12,
    "start_time": "2022-03-06T13:53:10.705Z"
   },
   {
    "duration": 23,
    "start_time": "2022-03-06T13:53:10.720Z"
   },
   {
    "duration": 1546,
    "start_time": "2022-03-06T13:53:10.775Z"
   },
   {
    "duration": 25,
    "start_time": "2022-03-06T13:53:12.324Z"
   },
   {
    "duration": 52,
    "start_time": "2022-03-06T13:53:12.352Z"
   },
   {
    "duration": 1953,
    "start_time": "2022-03-06T13:53:12.408Z"
   },
   {
    "duration": 24,
    "start_time": "2022-03-06T13:53:14.364Z"
   },
   {
    "duration": 12,
    "start_time": "2022-03-06T13:53:14.390Z"
   },
   {
    "duration": 275,
    "start_time": "2022-03-06T13:53:14.404Z"
   },
   {
    "duration": 18,
    "start_time": "2022-03-06T13:53:14.682Z"
   },
   {
    "duration": 29,
    "start_time": "2022-03-06T13:53:14.703Z"
   },
   {
    "duration": 560,
    "start_time": "2022-03-06T13:53:14.739Z"
   },
   {
    "duration": 13,
    "start_time": "2022-03-06T13:53:15.304Z"
   },
   {
    "duration": 18,
    "start_time": "2022-03-06T13:53:15.321Z"
   },
   {
    "duration": 67,
    "start_time": "2022-03-06T13:53:15.341Z"
   },
   {
    "duration": 40,
    "start_time": "2022-03-06T13:53:15.411Z"
   },
   {
    "duration": 52,
    "start_time": "2022-03-06T13:53:15.475Z"
   },
   {
    "duration": 584,
    "start_time": "2022-03-06T13:53:15.530Z"
   },
   {
    "duration": 1317,
    "start_time": "2022-03-06T13:53:16.118Z"
   },
   {
    "duration": 13,
    "start_time": "2022-03-06T13:53:17.438Z"
   },
   {
    "duration": 21,
    "start_time": "2022-03-06T13:53:17.455Z"
   },
   {
    "duration": 249,
    "start_time": "2022-03-06T13:53:17.480Z"
   },
   {
    "duration": 45,
    "start_time": "2022-03-06T13:53:17.732Z"
   },
   {
    "duration": 26,
    "start_time": "2022-03-06T13:53:17.780Z"
   },
   {
    "duration": 11,
    "start_time": "2022-03-06T13:53:17.808Z"
   },
   {
    "duration": 633,
    "start_time": "2022-03-06T13:53:17.822Z"
   },
   {
    "duration": 21,
    "start_time": "2022-03-06T13:53:18.458Z"
   },
   {
    "duration": 526,
    "start_time": "2022-03-06T13:53:44.889Z"
   },
   {
    "duration": 8,
    "start_time": "2022-03-06T13:53:54.016Z"
   },
   {
    "duration": 851,
    "start_time": "2022-03-06T13:53:56.604Z"
   },
   {
    "duration": 91,
    "start_time": "2022-03-06T13:57:08.824Z"
   },
   {
    "duration": 473,
    "start_time": "2022-03-06T13:57:14.984Z"
   },
   {
    "duration": 69,
    "start_time": "2022-03-06T13:58:02.791Z"
   },
   {
    "duration": 23,
    "start_time": "2022-03-06T13:58:10.084Z"
   },
   {
    "duration": 279,
    "start_time": "2022-03-06T13:59:01.391Z"
   },
   {
    "duration": 24,
    "start_time": "2022-03-06T13:59:10.590Z"
   },
   {
    "duration": 26,
    "start_time": "2022-03-06T13:59:29.284Z"
   },
   {
    "duration": 130,
    "start_time": "2022-03-06T13:59:38.551Z"
   },
   {
    "duration": 25,
    "start_time": "2022-03-06T13:59:54.990Z"
   },
   {
    "duration": 1162,
    "start_time": "2022-03-06T14:00:22.760Z"
   },
   {
    "duration": 40,
    "start_time": "2022-03-06T14:00:38.594Z"
   },
   {
    "duration": 27,
    "start_time": "2022-03-06T14:00:47.636Z"
   },
   {
    "duration": 1177,
    "start_time": "2022-03-06T14:01:10.919Z"
   },
   {
    "duration": 26,
    "start_time": "2022-03-06T14:01:19.771Z"
   },
   {
    "duration": 430,
    "start_time": "2022-03-06T14:01:42.002Z"
   },
   {
    "duration": 28,
    "start_time": "2022-03-06T14:01:45.442Z"
   },
   {
    "duration": 914,
    "start_time": "2022-03-06T14:02:04.899Z"
   },
   {
    "duration": 922,
    "start_time": "2022-03-06T14:02:28.458Z"
   },
   {
    "duration": 914,
    "start_time": "2022-03-06T14:02:57.213Z"
   },
   {
    "duration": 110,
    "start_time": "2022-03-06T14:03:10.609Z"
   },
   {
    "duration": 862,
    "start_time": "2022-03-06T14:03:16.665Z"
   },
   {
    "duration": 896,
    "start_time": "2022-03-06T14:03:25.445Z"
   },
   {
    "duration": 946,
    "start_time": "2022-03-06T14:04:52.216Z"
   },
   {
    "duration": 1163,
    "start_time": "2022-03-06T14:05:01.093Z"
   },
   {
    "duration": 1011,
    "start_time": "2022-03-06T14:05:41.464Z"
   },
   {
    "duration": 854,
    "start_time": "2022-03-06T14:05:49.308Z"
   },
   {
    "duration": 1765,
    "start_time": "2022-03-06T14:06:00.990Z"
   },
   {
    "duration": 850,
    "start_time": "2022-03-06T14:08:34.798Z"
   },
   {
    "duration": 1137,
    "start_time": "2022-03-06T14:08:42.439Z"
   },
   {
    "duration": 1117,
    "start_time": "2022-03-06T14:09:11.395Z"
   },
   {
    "duration": 465,
    "start_time": "2022-03-06T14:22:00.829Z"
   },
   {
    "duration": 1483,
    "start_time": "2022-03-06T14:23:47.710Z"
   },
   {
    "duration": 1121,
    "start_time": "2022-03-06T14:23:53.359Z"
   },
   {
    "duration": 1202,
    "start_time": "2022-03-06T14:24:01.048Z"
   },
   {
    "duration": 1161,
    "start_time": "2022-03-06T14:24:16.697Z"
   },
   {
    "duration": 1976,
    "start_time": "2022-03-06T14:24:48.821Z"
   },
   {
    "duration": 1316,
    "start_time": "2022-03-06T14:25:22.457Z"
   },
   {
    "duration": 1102,
    "start_time": "2022-03-06T14:25:40.388Z"
   },
   {
    "duration": 1393,
    "start_time": "2022-03-06T14:26:22.467Z"
   },
   {
    "duration": 1332,
    "start_time": "2022-03-06T14:26:28.674Z"
   },
   {
    "duration": 1089,
    "start_time": "2022-03-06T14:26:50.890Z"
   },
   {
    "duration": 1199,
    "start_time": "2022-03-06T14:26:55.910Z"
   },
   {
    "duration": 1048,
    "start_time": "2022-03-06T14:27:14.439Z"
   },
   {
    "duration": 1162,
    "start_time": "2022-03-06T14:27:26.108Z"
   },
   {
    "duration": 1539,
    "start_time": "2022-03-06T18:51:42.394Z"
   },
   {
    "duration": 38,
    "start_time": "2022-03-06T18:51:43.935Z"
   },
   {
    "duration": 3,
    "start_time": "2022-03-06T18:51:43.977Z"
   },
   {
    "duration": 33,
    "start_time": "2022-03-06T18:51:43.982Z"
   },
   {
    "duration": 24,
    "start_time": "2022-03-06T18:51:44.016Z"
   },
   {
    "duration": 14,
    "start_time": "2022-03-06T18:51:44.041Z"
   },
   {
    "duration": 14,
    "start_time": "2022-03-06T18:51:44.057Z"
   },
   {
    "duration": 161,
    "start_time": "2022-03-06T18:51:44.073Z"
   },
   {
    "duration": 11,
    "start_time": "2022-03-06T18:51:44.236Z"
   },
   {
    "duration": 107,
    "start_time": "2022-03-06T18:51:44.248Z"
   },
   {
    "duration": 19,
    "start_time": "2022-03-06T18:51:44.356Z"
   },
   {
    "duration": 6,
    "start_time": "2022-03-06T18:51:44.376Z"
   },
   {
    "duration": 21,
    "start_time": "2022-03-06T18:51:44.384Z"
   },
   {
    "duration": 261,
    "start_time": "2022-03-06T18:51:44.406Z"
   },
   {
    "duration": 416,
    "start_time": "2022-03-06T18:51:44.668Z"
   },
   {
    "duration": 7,
    "start_time": "2022-03-06T18:51:45.086Z"
   },
   {
    "duration": 18,
    "start_time": "2022-03-06T18:51:45.094Z"
   },
   {
    "duration": 1002,
    "start_time": "2022-03-06T18:51:45.114Z"
   },
   {
    "duration": 19,
    "start_time": "2022-03-06T18:51:46.118Z"
   },
   {
    "duration": 22,
    "start_time": "2022-03-06T18:51:46.139Z"
   },
   {
    "duration": 1134,
    "start_time": "2022-03-06T18:51:46.163Z"
   },
   {
    "duration": 11,
    "start_time": "2022-03-06T18:51:47.300Z"
   },
   {
    "duration": 20,
    "start_time": "2022-03-06T18:51:47.313Z"
   },
   {
    "duration": 77,
    "start_time": "2022-03-06T18:51:47.335Z"
   },
   {
    "duration": 22,
    "start_time": "2022-03-06T18:51:47.414Z"
   },
   {
    "duration": 15,
    "start_time": "2022-03-06T18:51:47.437Z"
   },
   {
    "duration": 382,
    "start_time": "2022-03-06T18:51:47.453Z"
   },
   {
    "duration": 6,
    "start_time": "2022-03-06T18:51:47.837Z"
   },
   {
    "duration": 9,
    "start_time": "2022-03-06T18:51:47.845Z"
   },
   {
    "duration": 19,
    "start_time": "2022-03-06T18:51:47.856Z"
   },
   {
    "duration": 18,
    "start_time": "2022-03-06T18:51:47.877Z"
   },
   {
    "duration": 53,
    "start_time": "2022-03-06T18:51:47.897Z"
   },
   {
    "duration": 235,
    "start_time": "2022-03-06T18:51:47.951Z"
   },
   {
    "duration": 1196,
    "start_time": "2022-03-06T18:51:48.188Z"
   },
   {
    "duration": 8,
    "start_time": "2022-03-06T18:51:49.385Z"
   },
   {
    "duration": 13,
    "start_time": "2022-03-06T18:51:49.394Z"
   },
   {
    "duration": 590,
    "start_time": "2022-03-06T18:51:49.409Z"
   },
   {
    "duration": 48,
    "start_time": "2022-03-06T18:51:50.000Z"
   },
   {
    "duration": 12,
    "start_time": "2022-03-06T18:51:50.050Z"
   },
   {
    "duration": 6,
    "start_time": "2022-03-06T18:51:50.063Z"
   },
   {
    "duration": 393,
    "start_time": "2022-03-06T18:51:50.071Z"
   },
   {
    "duration": 17,
    "start_time": "2022-03-06T18:51:50.465Z"
   },
   {
    "duration": 612,
    "start_time": "2022-03-06T18:51:50.483Z"
   },
   {
    "duration": 58,
    "start_time": "2022-03-06T18:54:46.706Z"
   },
   {
    "duration": 1374,
    "start_time": "2022-03-07T07:40:39.831Z"
   },
   {
    "duration": 3,
    "start_time": "2022-03-07T07:44:57.088Z"
   },
   {
    "duration": 5,
    "start_time": "2022-03-07T11:01:44.633Z"
   },
   {
    "duration": 369,
    "start_time": "2022-03-07T11:01:50.647Z"
   },
   {
    "duration": 1811,
    "start_time": "2022-03-07T11:01:55.556Z"
   },
   {
    "duration": 54,
    "start_time": "2022-03-07T11:02:05.499Z"
   },
   {
    "duration": 5,
    "start_time": "2022-03-07T11:02:07.616Z"
   },
   {
    "duration": 47,
    "start_time": "2022-03-07T11:02:14.951Z"
   },
   {
    "duration": 7,
    "start_time": "2022-03-07T11:03:33.902Z"
   },
   {
    "duration": 102,
    "start_time": "2022-03-07T11:03:44.946Z"
   },
   {
    "duration": 23,
    "start_time": "2022-03-07T11:03:52.213Z"
   },
   {
    "duration": 20,
    "start_time": "2022-03-07T11:04:35.032Z"
   },
   {
    "duration": 119,
    "start_time": "2022-03-07T11:09:06.828Z"
   },
   {
    "duration": 32,
    "start_time": "2022-03-07T11:10:18.811Z"
   },
   {
    "duration": 83,
    "start_time": "2022-03-07T11:10:40.186Z"
   },
   {
    "duration": 20,
    "start_time": "2022-03-07T11:10:45.292Z"
   },
   {
    "duration": 35,
    "start_time": "2022-03-07T11:10:50.380Z"
   },
   {
    "duration": 19,
    "start_time": "2022-03-07T11:10:57.613Z"
   },
   {
    "duration": 6,
    "start_time": "2022-03-07T11:11:31.475Z"
   },
   {
    "duration": 60,
    "start_time": "2022-03-07T11:11:31.484Z"
   },
   {
    "duration": 5,
    "start_time": "2022-03-07T11:11:31.547Z"
   },
   {
    "duration": 47,
    "start_time": "2022-03-07T11:11:31.554Z"
   },
   {
    "duration": 18,
    "start_time": "2022-03-07T11:11:31.604Z"
   },
   {
    "duration": 41,
    "start_time": "2022-03-07T11:11:31.625Z"
   },
   {
    "duration": 16,
    "start_time": "2022-03-07T11:11:31.669Z"
   },
   {
    "duration": 22,
    "start_time": "2022-03-07T11:11:31.687Z"
   },
   {
    "duration": 55,
    "start_time": "2022-03-07T11:11:31.713Z"
   },
   {
    "duration": 243,
    "start_time": "2022-03-07T11:11:31.770Z"
   },
   {
    "duration": 37,
    "start_time": "2022-03-07T11:11:32.016Z"
   },
   {
    "duration": 172,
    "start_time": "2022-03-07T11:11:32.056Z"
   },
   {
    "duration": 41,
    "start_time": "2022-03-07T11:11:32.231Z"
   },
   {
    "duration": 10,
    "start_time": "2022-03-07T11:11:32.274Z"
   },
   {
    "duration": 34,
    "start_time": "2022-03-07T11:11:32.286Z"
   },
   {
    "duration": 424,
    "start_time": "2022-03-07T11:11:32.323Z"
   },
   {
    "duration": 592,
    "start_time": "2022-03-07T11:11:32.752Z"
   },
   {
    "duration": 12,
    "start_time": "2022-03-07T11:11:33.346Z"
   },
   {
    "duration": 21,
    "start_time": "2022-03-07T11:11:33.361Z"
   },
   {
    "duration": 1453,
    "start_time": "2022-03-07T11:11:33.384Z"
   },
   {
    "duration": 25,
    "start_time": "2022-03-07T11:11:34.840Z"
   },
   {
    "duration": 40,
    "start_time": "2022-03-07T11:11:34.867Z"
   },
   {
    "duration": 1504,
    "start_time": "2022-03-07T11:11:34.909Z"
   },
   {
    "duration": 15,
    "start_time": "2022-03-07T11:11:36.415Z"
   },
   {
    "duration": 21,
    "start_time": "2022-03-07T11:11:36.433Z"
   },
   {
    "duration": 132,
    "start_time": "2022-03-07T11:11:36.456Z"
   },
   {
    "duration": 10,
    "start_time": "2022-03-07T11:11:36.594Z"
   },
   {
    "duration": 23,
    "start_time": "2022-03-07T11:11:36.607Z"
   },
   {
    "duration": 601,
    "start_time": "2022-03-07T11:11:36.632Z"
   },
   {
    "duration": 17,
    "start_time": "2022-03-07T11:11:37.235Z"
   },
   {
    "duration": 10,
    "start_time": "2022-03-07T11:11:37.255Z"
   },
   {
    "duration": 28,
    "start_time": "2022-03-07T11:11:37.267Z"
   },
   {
    "duration": 56,
    "start_time": "2022-03-07T11:11:37.298Z"
   },
   {
    "duration": 32,
    "start_time": "2022-03-07T11:11:37.357Z"
   },
   {
    "duration": 366,
    "start_time": "2022-03-07T11:11:37.391Z"
   },
   {
    "duration": 1239,
    "start_time": "2022-03-07T11:11:37.760Z"
   },
   {
    "duration": 10,
    "start_time": "2022-03-07T11:11:39.001Z"
   },
   {
    "duration": 14,
    "start_time": "2022-03-07T11:11:39.014Z"
   },
   {
    "duration": 887,
    "start_time": "2022-03-07T11:11:39.030Z"
   },
   {
    "duration": 66,
    "start_time": "2022-03-07T11:11:39.919Z"
   },
   {
    "duration": 76,
    "start_time": "2022-03-07T11:11:39.987Z"
   },
   {
    "duration": 11,
    "start_time": "2022-03-07T11:11:40.066Z"
   },
   {
    "duration": 497,
    "start_time": "2022-03-07T11:11:40.080Z"
   },
   {
    "duration": 26,
    "start_time": "2022-03-07T11:11:40.580Z"
   },
   {
    "duration": 1083,
    "start_time": "2022-03-07T11:11:40.608Z"
   },
   {
    "duration": 22,
    "start_time": "2022-03-07T11:12:48.772Z"
   },
   {
    "duration": 31,
    "start_time": "2022-03-07T11:14:23.605Z"
   },
   {
    "duration": 213,
    "start_time": "2022-03-07T11:14:28.295Z"
   },
   {
    "duration": 18,
    "start_time": "2022-03-07T11:15:15.102Z"
   },
   {
    "duration": 161,
    "start_time": "2022-03-07T11:15:17.967Z"
   },
   {
    "duration": 5,
    "start_time": "2022-03-07T11:15:40.898Z"
   },
   {
    "duration": 57,
    "start_time": "2022-03-07T11:15:40.905Z"
   },
   {
    "duration": 5,
    "start_time": "2022-03-07T11:15:40.965Z"
   },
   {
    "duration": 46,
    "start_time": "2022-03-07T11:15:40.973Z"
   },
   {
    "duration": 47,
    "start_time": "2022-03-07T11:15:41.022Z"
   },
   {
    "duration": 18,
    "start_time": "2022-03-07T11:15:41.072Z"
   },
   {
    "duration": 15,
    "start_time": "2022-03-07T11:15:41.092Z"
   },
   {
    "duration": 62,
    "start_time": "2022-03-07T11:15:41.109Z"
   },
   {
    "duration": 249,
    "start_time": "2022-03-07T11:15:41.175Z"
   },
   {
    "duration": 32,
    "start_time": "2022-03-07T11:15:41.428Z"
   },
   {
    "duration": 192,
    "start_time": "2022-03-07T11:15:41.462Z"
   },
   {
    "duration": 27,
    "start_time": "2022-03-07T11:15:41.657Z"
   },
   {
    "duration": 10,
    "start_time": "2022-03-07T11:15:41.687Z"
   },
   {
    "duration": 59,
    "start_time": "2022-03-07T11:15:41.699Z"
   },
   {
    "duration": 418,
    "start_time": "2022-03-07T11:15:41.761Z"
   },
   {
    "duration": 642,
    "start_time": "2022-03-07T11:15:42.182Z"
   },
   {
    "duration": 28,
    "start_time": "2022-03-07T11:15:42.828Z"
   },
   {
    "duration": 25,
    "start_time": "2022-03-07T11:15:42.859Z"
   },
   {
    "duration": 1460,
    "start_time": "2022-03-07T11:15:42.886Z"
   },
   {
    "duration": 21,
    "start_time": "2022-03-07T11:15:44.352Z"
   },
   {
    "duration": 37,
    "start_time": "2022-03-07T11:15:44.376Z"
   },
   {
    "duration": 1535,
    "start_time": "2022-03-07T11:15:44.416Z"
   },
   {
    "duration": 19,
    "start_time": "2022-03-07T11:15:45.954Z"
   },
   {
    "duration": 12,
    "start_time": "2022-03-07T11:15:45.976Z"
   },
   {
    "duration": 316,
    "start_time": "2022-03-07T11:15:45.990Z"
   },
   {
    "duration": 12,
    "start_time": "2022-03-07T11:15:46.310Z"
   },
   {
    "duration": 39,
    "start_time": "2022-03-07T11:15:46.330Z"
   },
   {
    "duration": 517,
    "start_time": "2022-03-07T11:15:46.373Z"
   },
   {
    "duration": 9,
    "start_time": "2022-03-07T11:15:46.893Z"
   },
   {
    "duration": 25,
    "start_time": "2022-03-07T11:15:46.904Z"
   },
   {
    "duration": 44,
    "start_time": "2022-03-07T11:15:46.932Z"
   },
   {
    "duration": 27,
    "start_time": "2022-03-07T11:15:46.979Z"
   },
   {
    "duration": 58,
    "start_time": "2022-03-07T11:15:47.009Z"
   },
   {
    "duration": 387,
    "start_time": "2022-03-07T11:15:47.070Z"
   },
   {
    "duration": 681,
    "start_time": "2022-03-07T11:15:47.460Z"
   },
   {
    "duration": 10,
    "start_time": "2022-03-07T11:15:48.144Z"
   },
   {
    "duration": 18,
    "start_time": "2022-03-07T11:15:48.156Z"
   },
   {
    "duration": 187,
    "start_time": "2022-03-07T11:15:48.177Z"
   },
   {
    "duration": 30,
    "start_time": "2022-03-07T11:15:48.366Z"
   },
   {
    "duration": 19,
    "start_time": "2022-03-07T11:15:48.399Z"
   },
   {
    "duration": 38,
    "start_time": "2022-03-07T11:15:48.420Z"
   },
   {
    "duration": 419,
    "start_time": "2022-03-07T11:15:48.460Z"
   },
   {
    "duration": 28,
    "start_time": "2022-03-07T11:15:48.881Z"
   },
   {
    "duration": 1030,
    "start_time": "2022-03-07T11:15:48.911Z"
   },
   {
    "duration": 15,
    "start_time": "2022-03-07T11:43:37.134Z"
   },
   {
    "duration": 28,
    "start_time": "2022-03-07T11:43:42.579Z"
   },
   {
    "duration": 33,
    "start_time": "2022-03-07T11:44:25.297Z"
   },
   {
    "duration": 29,
    "start_time": "2022-03-07T11:44:40.698Z"
   },
   {
    "duration": 36,
    "start_time": "2022-03-07T11:48:26.722Z"
   },
   {
    "duration": 34,
    "start_time": "2022-03-07T11:49:13.009Z"
   },
   {
    "duration": 37,
    "start_time": "2022-03-07T11:49:30.864Z"
   },
   {
    "duration": 36,
    "start_time": "2022-03-07T11:49:41.344Z"
   },
   {
    "duration": 349,
    "start_time": "2022-03-07T11:52:22.976Z"
   },
   {
    "duration": 5,
    "start_time": "2022-03-07T11:52:42.456Z"
   },
   {
    "duration": 832,
    "start_time": "2022-03-07T11:53:10.037Z"
   },
   {
    "duration": 11,
    "start_time": "2022-03-07T11:53:16.386Z"
   },
   {
    "duration": 15,
    "start_time": "2022-03-07T11:53:19.375Z"
   },
   {
    "duration": 16,
    "start_time": "2022-03-07T11:53:46.984Z"
   },
   {
    "duration": 17,
    "start_time": "2022-03-07T11:55:06.814Z"
   },
   {
    "duration": 14,
    "start_time": "2022-03-07T11:55:12.119Z"
   },
   {
    "duration": 176,
    "start_time": "2022-03-07T11:57:10.857Z"
   },
   {
    "duration": 32,
    "start_time": "2022-03-07T11:57:19.226Z"
   },
   {
    "duration": 20,
    "start_time": "2022-03-07T11:57:22.392Z"
   },
   {
    "duration": 25,
    "start_time": "2022-03-07T12:06:32.391Z"
   },
   {
    "duration": 17,
    "start_time": "2022-03-07T12:07:52.231Z"
   },
   {
    "duration": 28,
    "start_time": "2022-03-07T12:08:57.211Z"
   },
   {
    "duration": 27,
    "start_time": "2022-03-07T12:09:27.553Z"
   },
   {
    "duration": 28,
    "start_time": "2022-03-07T12:09:42.725Z"
   },
   {
    "duration": 25,
    "start_time": "2022-03-07T12:13:50.460Z"
   }
  ],
  "kernelspec": {
   "display_name": "Python 3",
   "language": "python",
   "name": "python3"
  },
  "language_info": {
   "codemirror_mode": {
    "name": "ipython",
    "version": 3
   },
   "file_extension": ".py",
   "mimetype": "text/x-python",
   "name": "python",
   "nbconvert_exporter": "python",
   "pygments_lexer": "ipython3",
   "version": "3.8.8"
  },
  "toc": {
   "base_numbering": 1,
   "nav_menu": {},
   "number_sections": true,
   "sideBar": true,
   "skip_h1_title": true,
   "title_cell": "Table of Contents",
   "title_sidebar": "Contents",
   "toc_cell": false,
   "toc_position": {
    "height": "calc(100% - 180px)",
    "left": "10px",
    "top": "150px",
    "width": "366.375px"
   },
   "toc_section_display": true,
   "toc_window_display": false
  }
 },
 "nbformat": 4,
 "nbformat_minor": 2
}
